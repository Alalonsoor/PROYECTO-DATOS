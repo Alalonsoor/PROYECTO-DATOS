{
 "cells": [
  {
   "cell_type": "code",
   "execution_count": 21,
   "id": "initial_id",
   "metadata": {
    "collapsed": true,
    "ExecuteTime": {
     "end_time": "2024-04-30T20:42:37.967442400Z",
     "start_time": "2024-04-30T20:42:37.917998100Z"
    }
   },
   "outputs": [
    {
     "data": {
      "text/plain": "         id              Player  Mins  Goals  Assists  Yel  Red  SpG   PS%  \\\n0    581678     Jude Bellingham  2120     17        4    5    1  2.3  89.3   \n1    991268      Samu Omorodion    81      1        0    0    0  3.0  66.7   \n2    371998     Vinicius Junior  1678     13        5    6    0  3.0  77.7   \n3     85288                Isco  2211      7        4   10    0  2.3  86.4   \n4    743591               Sávio  2619      8        8    5    0  1.1  82.4   \n..      ...                 ...   ...    ...      ...  ...  ...  ...   ...   \n444  118997     Aitor Fernández   371      0        0    2    0  0.0  65.5   \n445  251896       Jesús Vallejo   106      0        0    1    0  0.0  91.4   \n446  625014  Julen Agirrezabala    90      0        0    0    0  0.0  63.3   \n447   81997   Fernando Martínez   180      0        0    0    0  0.0  58.0   \n448  284430     Aarón Escandell   153      0        0    0    1  0.0  72.0   \n\n     AerialsWon  ...       Anio  Año_natural  Titularidades  Suplencias  \\\n0           1.0  ...  2023-2024         2023             25           0   \n1           2.0  ...  2023-2024         2023              1           0   \n2           0.0  ...  2023-2024         2023             20           3   \n3           0.6  ...  2023-2024         2023             26           1   \n4           0.1  ...  2023-2024         2023             31           1   \n..          ...  ...        ...          ...            ...         ...   \n444         0.0  ...  2023-2024         2023              5           1   \n445         0.0  ...  2023-2024         2023              1           2   \n446         0.0  ...  2023-2024         2023              1           0   \n447         0.0  ...  2023-2024         2023              2           0   \n448         0.0  ...  2023-2024         2023              2           1   \n\n     Equipo_pos  1_año_anterior  2_año_anterior  3_año_anterior  \\\n0             1     120000000.0      80000000.0      55000000.0   \n1            19        200000.0         50000.0             0.0   \n2             1     150000000.0     100000000.0      40000000.0   \n3             7       5000000.0       7500000.0      18000000.0   \n4             3       5000000.0       6000000.0       5000000.0   \n..          ...             ...             ...             ...   \n444          11       3000000.0       2500000.0       6000000.0   \n445          19       2000000.0       3000000.0       5000000.0   \n446           5       5000000.0       5000000.0        500000.0   \n447          20       2000000.0        800000.0        400000.0   \n448          14       1000000.0       1000000.0       1000000.0   \n\n     4_año_anterior  5_año_anterior  \n0        11000000.0       2500000.0  \n1               0.0             0.0  \n2        45000000.0      70000000.0  \n3        40000000.0      60000000.0  \n4               0.0             0.0  \n..              ...             ...  \n444      10000000.0       2500000.0  \n445       6000000.0      10000000.0  \n446         50000.0             0.0  \n447        325000.0        300000.0  \n448       1000000.0        300000.0  \n\n[449 rows x 45 columns]",
      "text/html": "<div>\n<style scoped>\n    .dataframe tbody tr th:only-of-type {\n        vertical-align: middle;\n    }\n\n    .dataframe tbody tr th {\n        vertical-align: top;\n    }\n\n    .dataframe thead th {\n        text-align: right;\n    }\n</style>\n<table border=\"1\" class=\"dataframe\">\n  <thead>\n    <tr style=\"text-align: right;\">\n      <th></th>\n      <th>id</th>\n      <th>Player</th>\n      <th>Mins</th>\n      <th>Goals</th>\n      <th>Assists</th>\n      <th>Yel</th>\n      <th>Red</th>\n      <th>SpG</th>\n      <th>PS%</th>\n      <th>AerialsWon</th>\n      <th>...</th>\n      <th>Anio</th>\n      <th>Año_natural</th>\n      <th>Titularidades</th>\n      <th>Suplencias</th>\n      <th>Equipo_pos</th>\n      <th>1_año_anterior</th>\n      <th>2_año_anterior</th>\n      <th>3_año_anterior</th>\n      <th>4_año_anterior</th>\n      <th>5_año_anterior</th>\n    </tr>\n  </thead>\n  <tbody>\n    <tr>\n      <th>0</th>\n      <td>581678</td>\n      <td>Jude Bellingham</td>\n      <td>2120</td>\n      <td>17</td>\n      <td>4</td>\n      <td>5</td>\n      <td>1</td>\n      <td>2.3</td>\n      <td>89.3</td>\n      <td>1.0</td>\n      <td>...</td>\n      <td>2023-2024</td>\n      <td>2023</td>\n      <td>25</td>\n      <td>0</td>\n      <td>1</td>\n      <td>120000000.0</td>\n      <td>80000000.0</td>\n      <td>55000000.0</td>\n      <td>11000000.0</td>\n      <td>2500000.0</td>\n    </tr>\n    <tr>\n      <th>1</th>\n      <td>991268</td>\n      <td>Samu Omorodion</td>\n      <td>81</td>\n      <td>1</td>\n      <td>0</td>\n      <td>0</td>\n      <td>0</td>\n      <td>3.0</td>\n      <td>66.7</td>\n      <td>2.0</td>\n      <td>...</td>\n      <td>2023-2024</td>\n      <td>2023</td>\n      <td>1</td>\n      <td>0</td>\n      <td>19</td>\n      <td>200000.0</td>\n      <td>50000.0</td>\n      <td>0.0</td>\n      <td>0.0</td>\n      <td>0.0</td>\n    </tr>\n    <tr>\n      <th>2</th>\n      <td>371998</td>\n      <td>Vinicius Junior</td>\n      <td>1678</td>\n      <td>13</td>\n      <td>5</td>\n      <td>6</td>\n      <td>0</td>\n      <td>3.0</td>\n      <td>77.7</td>\n      <td>0.0</td>\n      <td>...</td>\n      <td>2023-2024</td>\n      <td>2023</td>\n      <td>20</td>\n      <td>3</td>\n      <td>1</td>\n      <td>150000000.0</td>\n      <td>100000000.0</td>\n      <td>40000000.0</td>\n      <td>45000000.0</td>\n      <td>70000000.0</td>\n    </tr>\n    <tr>\n      <th>3</th>\n      <td>85288</td>\n      <td>Isco</td>\n      <td>2211</td>\n      <td>7</td>\n      <td>4</td>\n      <td>10</td>\n      <td>0</td>\n      <td>2.3</td>\n      <td>86.4</td>\n      <td>0.6</td>\n      <td>...</td>\n      <td>2023-2024</td>\n      <td>2023</td>\n      <td>26</td>\n      <td>1</td>\n      <td>7</td>\n      <td>5000000.0</td>\n      <td>7500000.0</td>\n      <td>18000000.0</td>\n      <td>40000000.0</td>\n      <td>60000000.0</td>\n    </tr>\n    <tr>\n      <th>4</th>\n      <td>743591</td>\n      <td>Sávio</td>\n      <td>2619</td>\n      <td>8</td>\n      <td>8</td>\n      <td>5</td>\n      <td>0</td>\n      <td>1.1</td>\n      <td>82.4</td>\n      <td>0.1</td>\n      <td>...</td>\n      <td>2023-2024</td>\n      <td>2023</td>\n      <td>31</td>\n      <td>1</td>\n      <td>3</td>\n      <td>5000000.0</td>\n      <td>6000000.0</td>\n      <td>5000000.0</td>\n      <td>0.0</td>\n      <td>0.0</td>\n    </tr>\n    <tr>\n      <th>...</th>\n      <td>...</td>\n      <td>...</td>\n      <td>...</td>\n      <td>...</td>\n      <td>...</td>\n      <td>...</td>\n      <td>...</td>\n      <td>...</td>\n      <td>...</td>\n      <td>...</td>\n      <td>...</td>\n      <td>...</td>\n      <td>...</td>\n      <td>...</td>\n      <td>...</td>\n      <td>...</td>\n      <td>...</td>\n      <td>...</td>\n      <td>...</td>\n      <td>...</td>\n      <td>...</td>\n    </tr>\n    <tr>\n      <th>444</th>\n      <td>118997</td>\n      <td>Aitor Fernández</td>\n      <td>371</td>\n      <td>0</td>\n      <td>0</td>\n      <td>2</td>\n      <td>0</td>\n      <td>0.0</td>\n      <td>65.5</td>\n      <td>0.0</td>\n      <td>...</td>\n      <td>2023-2024</td>\n      <td>2023</td>\n      <td>5</td>\n      <td>1</td>\n      <td>11</td>\n      <td>3000000.0</td>\n      <td>2500000.0</td>\n      <td>6000000.0</td>\n      <td>10000000.0</td>\n      <td>2500000.0</td>\n    </tr>\n    <tr>\n      <th>445</th>\n      <td>251896</td>\n      <td>Jesús Vallejo</td>\n      <td>106</td>\n      <td>0</td>\n      <td>0</td>\n      <td>1</td>\n      <td>0</td>\n      <td>0.0</td>\n      <td>91.4</td>\n      <td>0.0</td>\n      <td>...</td>\n      <td>2023-2024</td>\n      <td>2023</td>\n      <td>1</td>\n      <td>2</td>\n      <td>19</td>\n      <td>2000000.0</td>\n      <td>3000000.0</td>\n      <td>5000000.0</td>\n      <td>6000000.0</td>\n      <td>10000000.0</td>\n    </tr>\n    <tr>\n      <th>446</th>\n      <td>625014</td>\n      <td>Julen Agirrezabala</td>\n      <td>90</td>\n      <td>0</td>\n      <td>0</td>\n      <td>0</td>\n      <td>0</td>\n      <td>0.0</td>\n      <td>63.3</td>\n      <td>0.0</td>\n      <td>...</td>\n      <td>2023-2024</td>\n      <td>2023</td>\n      <td>1</td>\n      <td>0</td>\n      <td>5</td>\n      <td>5000000.0</td>\n      <td>5000000.0</td>\n      <td>500000.0</td>\n      <td>50000.0</td>\n      <td>0.0</td>\n    </tr>\n    <tr>\n      <th>447</th>\n      <td>81997</td>\n      <td>Fernando Martínez</td>\n      <td>180</td>\n      <td>0</td>\n      <td>0</td>\n      <td>0</td>\n      <td>0</td>\n      <td>0.0</td>\n      <td>58.0</td>\n      <td>0.0</td>\n      <td>...</td>\n      <td>2023-2024</td>\n      <td>2023</td>\n      <td>2</td>\n      <td>0</td>\n      <td>20</td>\n      <td>2000000.0</td>\n      <td>800000.0</td>\n      <td>400000.0</td>\n      <td>325000.0</td>\n      <td>300000.0</td>\n    </tr>\n    <tr>\n      <th>448</th>\n      <td>284430</td>\n      <td>Aarón Escandell</td>\n      <td>153</td>\n      <td>0</td>\n      <td>0</td>\n      <td>0</td>\n      <td>1</td>\n      <td>0.0</td>\n      <td>72.0</td>\n      <td>0.0</td>\n      <td>...</td>\n      <td>2023-2024</td>\n      <td>2023</td>\n      <td>2</td>\n      <td>1</td>\n      <td>14</td>\n      <td>1000000.0</td>\n      <td>1000000.0</td>\n      <td>1000000.0</td>\n      <td>1000000.0</td>\n      <td>300000.0</td>\n    </tr>\n  </tbody>\n</table>\n<p>449 rows × 45 columns</p>\n</div>"
     },
     "execution_count": 21,
     "metadata": {},
     "output_type": "execute_result"
    }
   ],
   "source": [
    " import pandas as pd\n",
    "\n",
    "\n",
    " df = pd.read_csv(r\"C:\\Users\\Usuario\\Documents\\Alvaro\\Carrera\\2-Segundo\\Segundo Cuatrimestre\\Proyecto de Datos 1\\PROYECTO-DATOS\\Datos_la_liga_2023_preprocesados.csv\")\n",
    " df"
   ]
  },
  {
   "cell_type": "code",
   "execution_count": 22,
   "outputs": [
    {
     "data": {
      "text/plain": "         id              Player         Mins      Goals    Assists        Yel  \\\n0    581678     Jude Bellingham  2441.212121  19.575758   5.212121   5.757576   \n1    991268      Samu Omorodion    93.272727   1.151515   0.000000   0.000000   \n2    371998     Vinicius Junior  1932.242424  14.969697   6.515152   6.909091   \n3     85288                Isco  2546.000000   8.060606   5.212121  11.515152   \n4    743591               Sávio  3015.818182   9.212121  10.424242   5.757576   \n..      ...                 ...          ...        ...        ...        ...   \n444  118997     Aitor Fernández   427.212121   0.000000   0.000000   2.303030   \n445  251896       Jesús Vallejo   122.060606   0.000000   0.000000   1.151515   \n446  625014  Julen Agirrezabala   103.636364   0.000000   0.000000   0.000000   \n447   81997   Fernando Martínez   207.272727   0.000000   0.000000   0.000000   \n448  284430     Aarón Escandell   176.181818   0.000000   0.000000   0.000000   \n\n          Red  SpG   PS%  AerialsWon  ...       Anio  Año_natural  \\\n0    1.151515  2.3  89.3         1.0  ...  2023-2024         2023   \n1    0.000000  3.0  66.7         2.0  ...  2023-2024         2023   \n2    0.000000  3.0  77.7         0.0  ...  2023-2024         2023   \n3    0.000000  2.3  86.4         0.6  ...  2023-2024         2023   \n4    0.000000  1.1  82.4         0.1  ...  2023-2024         2023   \n..        ...  ...   ...         ...  ...        ...          ...   \n444  0.000000  0.0  65.5         0.0  ...  2023-2024         2023   \n445  0.000000  0.0  91.4         0.0  ...  2023-2024         2023   \n446  0.000000  0.0  63.3         0.0  ...  2023-2024         2023   \n447  0.000000  0.0  58.0         0.0  ...  2023-2024         2023   \n448  1.151515  0.0  72.0         0.0  ...  2023-2024         2023   \n\n     Titularidades  Suplencias  Equipo_pos  1_año_anterior  2_año_anterior  \\\n0               25           0           1     120000000.0      80000000.0   \n1                1           0          19        200000.0         50000.0   \n2               20           3           1     150000000.0     100000000.0   \n3               26           1           7       5000000.0       7500000.0   \n4               31           1           3       5000000.0       6000000.0   \n..             ...         ...         ...             ...             ...   \n444              5           1          11       3000000.0       2500000.0   \n445              1           2          19       2000000.0       3000000.0   \n446              1           0           5       5000000.0       5000000.0   \n447              2           0          20       2000000.0        800000.0   \n448              2           1          14       1000000.0       1000000.0   \n\n     3_año_anterior  4_año_anterior  5_año_anterior  \n0        55000000.0      11000000.0       2500000.0  \n1               0.0             0.0             0.0  \n2        40000000.0      45000000.0      70000000.0  \n3        18000000.0      40000000.0      60000000.0  \n4         5000000.0             0.0             0.0  \n..              ...             ...             ...  \n444       6000000.0      10000000.0       2500000.0  \n445       5000000.0       6000000.0      10000000.0  \n446        500000.0         50000.0             0.0  \n447        400000.0        325000.0        300000.0  \n448       1000000.0       1000000.0        300000.0  \n\n[449 rows x 45 columns]",
      "text/html": "<div>\n<style scoped>\n    .dataframe tbody tr th:only-of-type {\n        vertical-align: middle;\n    }\n\n    .dataframe tbody tr th {\n        vertical-align: top;\n    }\n\n    .dataframe thead th {\n        text-align: right;\n    }\n</style>\n<table border=\"1\" class=\"dataframe\">\n  <thead>\n    <tr style=\"text-align: right;\">\n      <th></th>\n      <th>id</th>\n      <th>Player</th>\n      <th>Mins</th>\n      <th>Goals</th>\n      <th>Assists</th>\n      <th>Yel</th>\n      <th>Red</th>\n      <th>SpG</th>\n      <th>PS%</th>\n      <th>AerialsWon</th>\n      <th>...</th>\n      <th>Anio</th>\n      <th>Año_natural</th>\n      <th>Titularidades</th>\n      <th>Suplencias</th>\n      <th>Equipo_pos</th>\n      <th>1_año_anterior</th>\n      <th>2_año_anterior</th>\n      <th>3_año_anterior</th>\n      <th>4_año_anterior</th>\n      <th>5_año_anterior</th>\n    </tr>\n  </thead>\n  <tbody>\n    <tr>\n      <th>0</th>\n      <td>581678</td>\n      <td>Jude Bellingham</td>\n      <td>2441.212121</td>\n      <td>19.575758</td>\n      <td>5.212121</td>\n      <td>5.757576</td>\n      <td>1.151515</td>\n      <td>2.3</td>\n      <td>89.3</td>\n      <td>1.0</td>\n      <td>...</td>\n      <td>2023-2024</td>\n      <td>2023</td>\n      <td>25</td>\n      <td>0</td>\n      <td>1</td>\n      <td>120000000.0</td>\n      <td>80000000.0</td>\n      <td>55000000.0</td>\n      <td>11000000.0</td>\n      <td>2500000.0</td>\n    </tr>\n    <tr>\n      <th>1</th>\n      <td>991268</td>\n      <td>Samu Omorodion</td>\n      <td>93.272727</td>\n      <td>1.151515</td>\n      <td>0.000000</td>\n      <td>0.000000</td>\n      <td>0.000000</td>\n      <td>3.0</td>\n      <td>66.7</td>\n      <td>2.0</td>\n      <td>...</td>\n      <td>2023-2024</td>\n      <td>2023</td>\n      <td>1</td>\n      <td>0</td>\n      <td>19</td>\n      <td>200000.0</td>\n      <td>50000.0</td>\n      <td>0.0</td>\n      <td>0.0</td>\n      <td>0.0</td>\n    </tr>\n    <tr>\n      <th>2</th>\n      <td>371998</td>\n      <td>Vinicius Junior</td>\n      <td>1932.242424</td>\n      <td>14.969697</td>\n      <td>6.515152</td>\n      <td>6.909091</td>\n      <td>0.000000</td>\n      <td>3.0</td>\n      <td>77.7</td>\n      <td>0.0</td>\n      <td>...</td>\n      <td>2023-2024</td>\n      <td>2023</td>\n      <td>20</td>\n      <td>3</td>\n      <td>1</td>\n      <td>150000000.0</td>\n      <td>100000000.0</td>\n      <td>40000000.0</td>\n      <td>45000000.0</td>\n      <td>70000000.0</td>\n    </tr>\n    <tr>\n      <th>3</th>\n      <td>85288</td>\n      <td>Isco</td>\n      <td>2546.000000</td>\n      <td>8.060606</td>\n      <td>5.212121</td>\n      <td>11.515152</td>\n      <td>0.000000</td>\n      <td>2.3</td>\n      <td>86.4</td>\n      <td>0.6</td>\n      <td>...</td>\n      <td>2023-2024</td>\n      <td>2023</td>\n      <td>26</td>\n      <td>1</td>\n      <td>7</td>\n      <td>5000000.0</td>\n      <td>7500000.0</td>\n      <td>18000000.0</td>\n      <td>40000000.0</td>\n      <td>60000000.0</td>\n    </tr>\n    <tr>\n      <th>4</th>\n      <td>743591</td>\n      <td>Sávio</td>\n      <td>3015.818182</td>\n      <td>9.212121</td>\n      <td>10.424242</td>\n      <td>5.757576</td>\n      <td>0.000000</td>\n      <td>1.1</td>\n      <td>82.4</td>\n      <td>0.1</td>\n      <td>...</td>\n      <td>2023-2024</td>\n      <td>2023</td>\n      <td>31</td>\n      <td>1</td>\n      <td>3</td>\n      <td>5000000.0</td>\n      <td>6000000.0</td>\n      <td>5000000.0</td>\n      <td>0.0</td>\n      <td>0.0</td>\n    </tr>\n    <tr>\n      <th>...</th>\n      <td>...</td>\n      <td>...</td>\n      <td>...</td>\n      <td>...</td>\n      <td>...</td>\n      <td>...</td>\n      <td>...</td>\n      <td>...</td>\n      <td>...</td>\n      <td>...</td>\n      <td>...</td>\n      <td>...</td>\n      <td>...</td>\n      <td>...</td>\n      <td>...</td>\n      <td>...</td>\n      <td>...</td>\n      <td>...</td>\n      <td>...</td>\n      <td>...</td>\n      <td>...</td>\n    </tr>\n    <tr>\n      <th>444</th>\n      <td>118997</td>\n      <td>Aitor Fernández</td>\n      <td>427.212121</td>\n      <td>0.000000</td>\n      <td>0.000000</td>\n      <td>2.303030</td>\n      <td>0.000000</td>\n      <td>0.0</td>\n      <td>65.5</td>\n      <td>0.0</td>\n      <td>...</td>\n      <td>2023-2024</td>\n      <td>2023</td>\n      <td>5</td>\n      <td>1</td>\n      <td>11</td>\n      <td>3000000.0</td>\n      <td>2500000.0</td>\n      <td>6000000.0</td>\n      <td>10000000.0</td>\n      <td>2500000.0</td>\n    </tr>\n    <tr>\n      <th>445</th>\n      <td>251896</td>\n      <td>Jesús Vallejo</td>\n      <td>122.060606</td>\n      <td>0.000000</td>\n      <td>0.000000</td>\n      <td>1.151515</td>\n      <td>0.000000</td>\n      <td>0.0</td>\n      <td>91.4</td>\n      <td>0.0</td>\n      <td>...</td>\n      <td>2023-2024</td>\n      <td>2023</td>\n      <td>1</td>\n      <td>2</td>\n      <td>19</td>\n      <td>2000000.0</td>\n      <td>3000000.0</td>\n      <td>5000000.0</td>\n      <td>6000000.0</td>\n      <td>10000000.0</td>\n    </tr>\n    <tr>\n      <th>446</th>\n      <td>625014</td>\n      <td>Julen Agirrezabala</td>\n      <td>103.636364</td>\n      <td>0.000000</td>\n      <td>0.000000</td>\n      <td>0.000000</td>\n      <td>0.000000</td>\n      <td>0.0</td>\n      <td>63.3</td>\n      <td>0.0</td>\n      <td>...</td>\n      <td>2023-2024</td>\n      <td>2023</td>\n      <td>1</td>\n      <td>0</td>\n      <td>5</td>\n      <td>5000000.0</td>\n      <td>5000000.0</td>\n      <td>500000.0</td>\n      <td>50000.0</td>\n      <td>0.0</td>\n    </tr>\n    <tr>\n      <th>447</th>\n      <td>81997</td>\n      <td>Fernando Martínez</td>\n      <td>207.272727</td>\n      <td>0.000000</td>\n      <td>0.000000</td>\n      <td>0.000000</td>\n      <td>0.000000</td>\n      <td>0.0</td>\n      <td>58.0</td>\n      <td>0.0</td>\n      <td>...</td>\n      <td>2023-2024</td>\n      <td>2023</td>\n      <td>2</td>\n      <td>0</td>\n      <td>20</td>\n      <td>2000000.0</td>\n      <td>800000.0</td>\n      <td>400000.0</td>\n      <td>325000.0</td>\n      <td>300000.0</td>\n    </tr>\n    <tr>\n      <th>448</th>\n      <td>284430</td>\n      <td>Aarón Escandell</td>\n      <td>176.181818</td>\n      <td>0.000000</td>\n      <td>0.000000</td>\n      <td>0.000000</td>\n      <td>1.151515</td>\n      <td>0.0</td>\n      <td>72.0</td>\n      <td>0.0</td>\n      <td>...</td>\n      <td>2023-2024</td>\n      <td>2023</td>\n      <td>2</td>\n      <td>1</td>\n      <td>14</td>\n      <td>1000000.0</td>\n      <td>1000000.0</td>\n      <td>1000000.0</td>\n      <td>1000000.0</td>\n      <td>300000.0</td>\n    </tr>\n  </tbody>\n</table>\n<p>449 rows × 45 columns</p>\n</div>"
     },
     "execution_count": 22,
     "metadata": {},
     "output_type": "execute_result"
    }
   ],
   "source": [
    "# Seleccionamos las columnas deseadas\n",
    "columnas = [\"Mins\", \"Assists\", \"Red\", \"MotM\", \"Goals\", \"Assists\", \"Yel\", \"OwnG\"]\n",
    "\n",
    "# Calculamos las proyecciones para cada variable\n",
    "jornada_actual = 33\n",
    "jornadas_restantes = 38 - 33\n",
    "proyecciones = {}\n",
    "\n",
    "for columna in columnas:\n",
    "    proyecciones[columna] = df[columna] / jornada_actual * jornadas_restantes\n",
    "\n",
    "# Sumamos las proyecciones a cada columna del DataFrame original\n",
    "for columna in columnas:\n",
    "    df[columna] += proyecciones[columna]\n",
    "df"
   ],
   "metadata": {
    "collapsed": false,
    "ExecuteTime": {
     "end_time": "2024-04-30T20:42:38.814898800Z",
     "start_time": "2024-04-30T20:42:38.785207400Z"
    }
   },
   "id": "a1446d2319f3e80d"
  },
  {
   "cell_type": "code",
   "execution_count": 23,
   "outputs": [],
   "source": [
    "df.to_parquet(\"test.parquet\")"
   ],
   "metadata": {
    "collapsed": false,
    "ExecuteTime": {
     "end_time": "2024-04-30T20:42:40.025517500Z",
     "start_time": "2024-04-30T20:42:40.015355400Z"
    }
   },
   "id": "9f4a0824957850bf"
  },
  {
   "cell_type": "code",
   "execution_count": 24,
   "outputs": [],
   "source": [
    "df.to_csv(\"test.csv\")"
   ],
   "metadata": {
    "collapsed": false,
    "ExecuteTime": {
     "end_time": "2024-04-30T20:42:41.270108100Z",
     "start_time": "2024-04-30T20:42:41.253916Z"
    }
   },
   "id": "1eb43b230fd93dfa"
  },
  {
   "cell_type": "code",
   "execution_count": null,
   "outputs": [],
   "source": [],
   "metadata": {
    "collapsed": false
   },
   "id": "9a10d7f9407ae176"
  }
 ],
 "metadata": {
  "kernelspec": {
   "display_name": "Python 3",
   "language": "python",
   "name": "python3"
  },
  "language_info": {
   "codemirror_mode": {
    "name": "ipython",
    "version": 2
   },
   "file_extension": ".py",
   "mimetype": "text/x-python",
   "name": "python",
   "nbconvert_exporter": "python",
   "pygments_lexer": "ipython2",
   "version": "2.7.6"
  }
 },
 "nbformat": 4,
 "nbformat_minor": 5
}
