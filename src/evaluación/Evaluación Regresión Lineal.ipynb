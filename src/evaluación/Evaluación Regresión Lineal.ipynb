{
 "cells": [
  {
   "cell_type": "code",
   "execution_count": 1,
   "outputs": [],
   "source": [
    "import numpy as np\n",
    "import mlflow\n",
    "import os"
   ],
   "metadata": {
    "collapsed": false,
    "ExecuteTime": {
     "end_time": "2024-04-30T21:00:55.474378700Z",
     "start_time": "2024-04-30T21:00:53.740286700Z"
    }
   },
   "id": "c8061e3a0a0f188d"
  },
  {
   "cell_type": "code",
   "execution_count": 2,
   "outputs": [
    {
     "data": {
      "text/plain": "<Experiment: artifact_location='mlflow-artifacts:/4', creation_time=1714510286175, experiment_id='4', last_update_time=1714510286175, lifecycle_stage='active', name='despliegue', tags={}>"
     },
     "execution_count": 2,
     "metadata": {},
     "output_type": "execute_result"
    }
   ],
   "source": [
    "# Establecer la URI de la base de datos SQLite y configuración de MLflow\n",
    "os.environ['MLFLOW_TRACKING_URI'] = 'sqlite:///mlruns.db'\n",
    "mlflow.set_tracking_uri(\"http://127.0.0.1:5000\")\n",
    "mlflow.set_experiment(\"despliegue\")"
   ],
   "metadata": {
    "collapsed": false,
    "ExecuteTime": {
     "end_time": "2024-04-30T21:00:57.957727500Z",
     "start_time": "2024-04-30T21:00:56.612569700Z"
    }
   },
   "id": "7e71ee4e02e6e491"
  },
  {
   "cell_type": "markdown",
   "source": [
    "# Con 20 variables | Escalado"
   ],
   "metadata": {
    "collapsed": false
   },
   "id": "1925624cf8a296e9"
  },
  {
   "cell_type": "code",
   "execution_count": 8,
   "outputs": [
    {
     "name": "stdout",
     "output_type": "stream",
     "text": [
      "Index(['Unnamed: 0', 'Mins', 'Goals', 'Assists', 'Yel', 'Red', 'SpG', 'PS%',\n",
      "       'AerialsWon', 'MotM',\n",
      "       ...\n",
      "       'nationality_Spain', 'nationality_Suriname', 'nationality_Sweden',\n",
      "       'nationality_Switzerland', 'nationality_Syria', 'nationality_Türkiye',\n",
      "       'nationality_Ukraine', 'nationality_United States',\n",
      "       'nationality_Uruguay', 'nationality_Venezuela'],\n",
      "      dtype='object', length=128)\n",
      "['Mins', 'Goals', 'Assists', 'SpG', 'PS%', 'MotM', 'KeyP', 'OffDrb', 'AvgP', 'ThrB', 'Titularidades', 'Equipo_pos', '1_año_anterior', '2_año_anterior', '3_año_anterior', '4_año_anterior', '5_año_anterior', 'Equipo_FC Barcelona', 'Equipo_Real Madrid', 'nationality_Germany']\n",
      "['Mins', 'Goals', 'Assists', 'SpG', 'PS%', 'MotM', 'KeyP', 'OffDrb', 'AvgP', 'ThrB', 'Titularidades', 'Equipo_pos', '1_año_anterior', '2_año_anterior', '3_año_anterior', '4_año_anterior', '5_año_anterior', 'Equipo_FC Barcelona', 'Equipo_Real Madrid', 'nationality_Germany']\n",
      "Test MAE: 7455475.458995659\n"
     ]
    }
   ],
   "source": [
    "from sklearn.linear_model import LinearRegression\n",
    "from sklearn.metrics import mean_absolute_error\n",
    "import mlflow\n",
    "import preprocesamiento_datos_train\n",
    "import preprocesamiento_datos_test\n",
    "\n",
    "\n",
    "# Obtener los datos preprocesados\n",
    "X_test, y_test, RANDOM_STATE = preprocesamiento_datos_test.preprocesamiento(False,['Mins', 'Goals', 'Assists', 'SpG', 'PS%', 'MotM', 'KeyP', 'OffDrb', 'AvgP', 'ThrB', 'Titularidades', 'Equipo_pos', '1_año_anterior', '2_año_anterior', '3_año_anterior', '4_año_anterior', '5_año_anterior', 'Equipo_FC Barcelona', 'Equipo_Real Madrid', 'nationality_Germany'], True)\n",
    "\n",
    "X_train, y_train, RANDOM_STATE = preprocesamiento_datos_train.preprocesamiento(False,['Mins', 'Goals', 'Assists', 'SpG', 'PS%', 'MotM', 'KeyP', 'OffDrb', 'AvgP', 'ThrB', 'Titularidades', 'Equipo_pos', '1_año_anterior', '2_año_anterior', '3_año_anterior', '4_año_anterior', '5_año_anterior', 'Equipo_FC Barcelona', 'Equipo_Real Madrid', 'nationality_Germany'], True)\n",
    "\n",
    "\n",
    "# Crear el modelo de regresión lineal\n",
    "model = LinearRegression()\n",
    "\n",
    "# Entrenar el modelo con los datos de entrenamiento\n",
    "model.fit(X_train, y_train)\n",
    "\n",
    "# Iniciar el registro de la ejecución en MLflow\n",
    "with mlflow.start_run(run_name=\"MODELO FINAL ESCALADO\"):\n",
    "    # Registrar el error absoluto medio en el conjunto de validación en MLflow\n",
    "\n",
    "    # Realizar predicciones en el conjunto de prueba\n",
    "    y_test_pred = model.predict(X_test)\n",
    "    \n",
    "    # Calcular el error absoluto medio en el conjunto de prueba\n",
    "    test_mae = mean_absolute_error(y_test, y_test_pred)\n",
    "\n",
    "    # Registrar el error absoluto medio en el conjunto de prueba en MLflow\n",
    "    mlflow.log_metric(\"test_mae\", test_mae)\n",
    "    print(\"Test MAE:\", test_mae)"
   ],
   "metadata": {
    "collapsed": false,
    "ExecuteTime": {
     "end_time": "2024-04-30T21:02:51.890263100Z",
     "start_time": "2024-04-30T21:02:51.768741400Z"
    }
   },
   "id": "de48dbaa6a90c3e2"
  },
  {
   "cell_type": "code",
   "execution_count": null,
   "outputs": [],
   "source": [],
   "metadata": {
    "collapsed": false
   },
   "id": "f367840d7932cdb3"
  }
 ],
 "metadata": {
  "kernelspec": {
   "display_name": "Python 3",
   "language": "python",
   "name": "python3"
  },
  "language_info": {
   "codemirror_mode": {
    "name": "ipython",
    "version": 2
   },
   "file_extension": ".py",
   "mimetype": "text/x-python",
   "name": "python",
   "nbconvert_exporter": "python",
   "pygments_lexer": "ipython2",
   "version": "2.7.6"
  }
 },
 "nbformat": 4,
 "nbformat_minor": 5
}
