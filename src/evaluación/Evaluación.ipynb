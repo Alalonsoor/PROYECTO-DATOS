{
 "cells": [
  {
   "cell_type": "code",
   "execution_count": 13,
   "outputs": [],
   "source": [
    "import numpy as np\n",
    "import mlflow\n",
    "import os"
   ],
   "metadata": {
    "collapsed": false,
    "ExecuteTime": {
     "end_time": "2024-05-07T21:13:40.662960400Z",
     "start_time": "2024-05-07T21:13:40.660952200Z"
    }
   },
   "id": "c8061e3a0a0f188d"
  },
  {
   "cell_type": "code",
   "execution_count": 14,
   "outputs": [
    {
     "data": {
      "text/plain": "<Experiment: artifact_location='mlflow-artifacts:/4', creation_time=1714761245245, experiment_id='4', last_update_time=1714761245245, lifecycle_stage='active', name='despliegue', tags={}>"
     },
     "execution_count": 14,
     "metadata": {},
     "output_type": "execute_result"
    }
   ],
   "source": [
    "# Establecer la URI de la base de datos SQLite y configuración de MLflow\n",
    "os.environ['MLFLOW_TRACKING_URI'] = 'sqlite:///mlruns.db'\n",
    "mlflow.set_tracking_uri(\"http://127.0.0.1:5000\")\n",
    "mlflow.set_experiment(\"despliegue\")"
   ],
   "metadata": {
    "collapsed": false,
    "ExecuteTime": {
     "end_time": "2024-05-07T21:13:41.309098300Z",
     "start_time": "2024-05-07T21:13:41.244861600Z"
    }
   },
   "id": "7e71ee4e02e6e491"
  },
  {
   "cell_type": "markdown",
   "source": [
    "# Modelo Linal Con 19 variables | Escalado"
   ],
   "metadata": {
    "collapsed": false
   },
   "id": "1925624cf8a296e9"
  },
  {
   "cell_type": "code",
   "execution_count": 4,
   "outputs": [
    {
     "name": "stdout",
     "output_type": "stream",
     "text": [
      "Index(['Mins', 'Goals', 'Assists', 'Yel', 'Red', 'SpG', 'PS%', 'AerialsWon',\n",
      "       'MotM', 'Tackles', 'Inter', 'Fouls', 'Offsides', 'Clear', 'DeffDrb',\n",
      "       'Blocks', 'OwnG', 'KeyP', 'OffDrb', 'Fouled', 'Disp', 'UnsTch', 'AvgP',\n",
      "       'Crosses', 'LongB', 'ThrB', 'age', 'height', 'Titularidades',\n",
      "       'Suplencias', 'Equipo_pos', '1_año_anterior', '2_año_anterior',\n",
      "       '3_año_anterior', '4_año_anterior', '5_año_anterior'],\n",
      "      dtype='object')\n",
      "['Mins', 'Goals', 'Assists', 'SpG', 'PS%', 'MotM', 'KeyP', 'AvgP', 'ThrB', 'Titularidades', 'Equipo_pos', '1_año_anterior', '2_año_anterior', '3_año_anterior', '4_año_anterior', '5_año_anterior', 'Equipo_FC Barcelona', 'Equipo_Real Madrid', 'nationality_Germany']\n",
      "['Mins', 'Goals', 'Assists', 'SpG', 'PS%', 'MotM', 'KeyP', 'AvgP', 'ThrB', 'Titularidades', 'Equipo_pos', '1_año_anterior', '2_año_anterior', '3_año_anterior', '4_año_anterior', '5_año_anterior', 'Equipo_FC Barcelona', 'Equipo_Real Madrid', 'nationality_Germany']\n",
      "Test MAE: 3380915.714263812\n"
     ]
    }
   ],
   "source": [
    "from sklearn.linear_model import LinearRegression\n",
    "from sklearn.metrics import mean_absolute_error\n",
    "import mlflow\n",
    "import preprocesamiento_datos_train\n",
    "import preprocesamiento_datos_test\n",
    "\n",
    "X_train, y_train, RANDOM_STATE, scaler = preprocesamiento_datos_train.preprocesamiento(False,['Mins', 'Goals', 'Assists', 'SpG', 'PS%', 'MotM', 'KeyP', 'AvgP', 'ThrB', 'Titularidades', 'Equipo_pos', '1_año_anterior', '2_año_anterior', '3_año_anterior', '4_año_anterior', '5_año_anterior', 'Equipo_FC Barcelona', 'Equipo_Real Madrid', 'nationality_Germany'], True)\n",
    "\n",
    "# Obtener los datos preprocesados\n",
    "X_test, y_test, RANDOM_STATE = preprocesamiento_datos_test.preprocesamiento(False,['Mins', 'Goals', 'Assists', 'SpG', 'PS%', 'MotM', 'KeyP', 'AvgP', 'ThrB', 'Titularidades', 'Equipo_pos', '1_año_anterior', '2_año_anterior', '3_año_anterior', '4_año_anterior', '5_año_anterior', 'Equipo_FC Barcelona', 'Equipo_Real Madrid', 'nationality_Germany'], True, scaler)\n",
    "# Crear el modelo de regresión lineal\n",
    "model = LinearRegression()\n",
    "\n",
    "# Entrenar el modelo con los datos de entrenamiento\n",
    "model.fit(X_train, y_train)\n",
    "\n",
    "# Iniciar el registro de la ejecución en MLflow\n",
    "with mlflow.start_run(run_name=\"MODELO FINAL ESCALADO\"):\n",
    "    # Registrar el error absoluto medio en el conjunto de validación en MLflow\n",
    "\n",
    "    # Realizar predicciones en el conjunto de prueba\n",
    "    y_test_pred = model.predict(X_test)\n",
    "    \n",
    "    # Calcular el error absoluto medio en el conjunto de prueba\n",
    "    test_mae = mean_absolute_error(y_test, y_test_pred)\n",
    "\n",
    "    # Registrar el error absoluto medio en el conjunto de prueba en MLflow\n",
    "    mlflow.log_metric(\"test_mae\", test_mae)\n",
    "    print(\"Test MAE:\", test_mae)"
   ],
   "metadata": {
    "collapsed": false,
    "ExecuteTime": {
     "end_time": "2024-05-07T20:19:18.808470100Z",
     "start_time": "2024-05-07T20:19:18.689812100Z"
    }
   },
   "id": "de48dbaa6a90c3e2"
  },
  {
   "cell_type": "code",
   "execution_count": 12,
   "outputs": [
    {
     "name": "stdout",
     "output_type": "stream",
     "text": [
      "Index(['Mins', 'Goals', 'Assists', 'Yel', 'Red', 'SpG', 'PS%', 'AerialsWon',\n",
      "       'MotM', 'Tackles', 'Inter', 'Fouls', 'Offsides', 'Clear', 'DeffDrb',\n",
      "       'Blocks', 'OwnG', 'KeyP', 'OffDrb', 'Fouled', 'Disp', 'UnsTch', 'AvgP',\n",
      "       'Crosses', 'LongB', 'ThrB', 'age', 'height', 'Titularidades',\n",
      "       'Suplencias', 'Equipo_pos', '1_año_anterior', '2_año_anterior',\n",
      "       '3_año_anterior', '4_año_anterior', '5_año_anterior'],\n",
      "      dtype='object')\n",
      "Test MAE: 2638345.932285399\n"
     ]
    },
    {
     "name": "stderr",
     "output_type": "stream",
     "text": [
      "C:\\Users\\Usuario\\anaconda3\\Lib\\site-packages\\sklearn\\neural_network\\_multilayer_perceptron.py:686: ConvergenceWarning: Stochastic Optimizer: Maximum iterations (200) reached and the optimization hasn't converged yet.\n",
      "  warnings.warn(\n"
     ]
    }
   ],
   "source": [
    "from sklearn.neural_network import MLPRegressor\n",
    "from sklearn.metrics import mean_absolute_error\n",
    "import preprocesamiento_datos_train\n",
    "import preprocesamiento_datos_test\n",
    "\n",
    "X_train, y_train, RANDOM_STATE, scaler = preprocesamiento_datos_train.preprocesamiento(False,[], False)\n",
    "# Obtener los datos preprocesados\n",
    "X_test, y_test, RANDOM_STATE = preprocesamiento_datos_test.preprocesamiento(False,[], False, scaler)\n",
    "\n",
    "\n",
    "columns_to_remove_test = ['Equipo_UD Las Palmas', 'nationality_Burkina Faso', 'nationality_Mozambique', 'nationality_Suriname', 'nationality_Syria']\n",
    "# Remove the specified columns from X_test\n",
    "X_test = X_test.drop(columns=columns_to_remove_test, axis = 1)\n",
    "\n",
    "columns_to_remove_train = ['Equipo_CD Leganés', 'Equipo_Elche CF', 'Equipo_Levante UD', \n",
    "                           'Equipo_RCD Espanyol Barcelona', 'Equipo_Real Valladolid CF', 'Equipo_SD Eibar', \n",
    "                           'Equipo_SD Huesca', 'nationality_Angola', 'nationality_Armenia', \n",
    "                           'nationality_Australia', 'nationality_Bosnia-Herzegovina', \n",
    "                           'nationality_Central African Republic', 'nationality_Costa Rica', \n",
    "                           'nationality_Czech Republic', 'nationality_Ecuador', 'nationality_Gabon', \n",
    "                           'nationality_Guinea-Bissau', 'nationality_Ireland', 'nationality_Israel', \n",
    "                           'nationality_Italy', 'nationality_Martinique', 'nationality_Mauritania',\n",
    "                           'nationality_The Gambia', 'nationality_Wales', 'nationality_Zambia', \n",
    "                           'nationality_Zimbabwe', 'position_Left Midfield', 'position_Second Striker']\n",
    "X_train = X_train.drop(columns=columns_to_remove_train, axis = 1)\n",
    "\n",
    "X_test = X_test[X_train.columns]\n",
    "# Crear el modelo de regresión lineal\n",
    "model =  MLPRegressor(random_state = RANDOM_STATE, alpha = 0.1, batch_size = 64, hidden_layer_sizes = (100, 170, 10), learning_rate_init = 0.0001,solver='adam')\n",
    "\n",
    "\n",
    "# Entrenar el modelo con los datos de entrenamiento\n",
    "model.fit(X_train, y_train)\n",
    "\n",
    "# Iniciar el registro de la ejecución en MLflow\n",
    "with mlflow.start_run(run_name=\"MODELO FINAL ESCALADO\"):\n",
    "    # Registrar el error absoluto medio en el conjunto de validación en MLflow\n",
    "\n",
    "    # Realizar predicciones en el conjunto de prueba\n",
    "    y_test_pred = model.predict(X_test)\n",
    "    \n",
    "    # Calcular el error absoluto medio en el conjunto de prueba\n",
    "    test_mae = mean_absolute_error(y_test, y_test_pred)\n",
    "    mlflow.log_param(\"random_state\", RANDOM_STATE)\n",
    "    mlflow.log_param(\"alpha\", 0.1)\n",
    "    mlflow.log_param(\"batch_size\", 64)\n",
    "    mlflow.log_param(\"hidden_layer_sizes\", (100, 170, 10))\n",
    "    mlflow.log_param(\"learning_rate_init\", 0.0001)\n",
    "    mlflow.log_param(\"solver\", 'adam')\n",
    "    # Registrar el error absoluto medio en el conjunto de prueba en MLflow\n",
    "    mlflow.log_metric(\"test_mae\", test_mae)\n",
    "    print(\"Test MAE:\", test_mae)"
   ],
   "metadata": {
    "collapsed": false,
    "ExecuteTime": {
     "end_time": "2024-05-07T20:26:40.489809Z",
     "start_time": "2024-05-07T20:26:34.502218900Z"
    }
   },
   "id": "f367840d7932cdb3"
  },
  {
   "cell_type": "code",
   "execution_count": 11,
   "outputs": [
    {
     "name": "stdout",
     "output_type": "stream",
     "text": [
      "MAE en conjunto de entrenamiento: 8160328.749430088\n",
      "MAE en conjunto de prueba: 8703514.761334274\n"
     ]
    }
   ],
   "source": [
    "import numpy as np\n",
    "from sklearn.metrics import mean_absolute_error\n",
    "\n",
    "def aplicar_heuristica(df, valor_col, edad_col, F_apreciacion=1.1, F_depreciacion=0.90, edad_bajada_rendimiento=30):\n",
    "    \"\"\"\n",
    "    Aplica una heurística para ajustar el valor de los jugadores según su edad.\n",
    "    \n",
    "    Args:\n",
    "    df (DataFrame): DataFrame que contiene los datos de los jugadores.\n",
    "    valor_col (str): Nombre de la columna que contiene los valores originales.\n",
    "    edad_col (str): Nombre de la columna que contiene la edad de los jugadores.\n",
    "    F_apreciacion (float): Factor de apreciación para jugadores bajo la edad de bajada de rendimiento.\n",
    "    F_depreciacion (float): Factor de depreciación para jugadores sobre la edad de bajada de rendimiento.\n",
    "    edad_bajada_rendimiento (int): Edad a la que se considera que el rendimiento del jugador comienza a disminuir.\n",
    "    \n",
    "    Returns:\n",
    "    DataFrame: DataFrame con una columna adicional 'valor_ajustado'.\n",
    "    \"\"\"\n",
    "    conditions = [\n",
    "        df[edad_col] <= edad_bajada_rendimiento,\n",
    "        df[edad_col] > edad_bajada_rendimiento\n",
    "    ]\n",
    "    choices = [\n",
    "        df[valor_col] * (F_apreciacion ** (df[edad_col] - 18)),\n",
    "        df[valor_col] * (F_depreciacion ** (df[edad_col] - edad_bajada_rendimiento))\n",
    "    ]\n",
    "    df['valor_ajustado'] = np.select(conditions, choices)\n",
    "    return df\n",
    "\n",
    "import mlflow\n",
    "import mlflow.sklearn\n",
    "\n",
    "# Iniciar una nueva corrida de MLflow\n",
    "with mlflow.start_run(run_name=\"HEURÍSTICA\"):\n",
    "\n",
    "    # Aplicar la heurística a los conjuntos de entrenamiento y prueba\n",
    "    X_train_ajustado = aplicar_heuristica(X_train, \"1_año_anterior\", 'age')\n",
    "    X_test_ajustado = aplicar_heuristica(X_test, \"1_año_anterior\", 'age')\n",
    "\n",
    "    # Calcular el MAE entre los valores ajustados y los valores reales para cada conjunto\n",
    "    mae_train = mean_absolute_error(y_train, X_train_ajustado['valor_ajustado'])\n",
    "    mae_test = mean_absolute_error(y_test, X_test_ajustado['valor_ajustado'])\n",
    "\n",
    "    print(\"MAE en conjunto de entrenamiento:\", mae_train)\n",
    "    print(\"MAE en conjunto de prueba:\", mae_test)\n",
    "\n",
    "    # Registrar las métricas en MLflow\n",
    "    mlflow.log_metric(\"MAE_entrenamiento\", mae_train)\n",
    "    mlflow.log_metric(\"MAE_prueba\", mae_test)"
   ],
   "metadata": {
    "collapsed": false,
    "ExecuteTime": {
     "end_time": "2024-05-07T20:23:39.802046700Z",
     "start_time": "2024-05-07T20:23:39.723918800Z"
    }
   },
   "id": "f6923162c354d1ff"
  },
  {
   "cell_type": "code",
   "execution_count": null,
   "outputs": [],
   "source": [
    "# completo por posiciones\n",
    "\n",
    "from sklearn.neural_network import MLPRegressor\n",
    "from sklearn.metrics import mean_absolute_error\n",
    "import mlflow\n",
    "import pandas as pd\n",
    "import numpy as np\n",
    "\n",
    "X_train, X_train, RANDOM_STATE, scaler = preprocesamiento_datos_train.preprocesamiento(False,[], False)\n",
    "# Obtener los datos preprocesados\n",
    "X_test, y_test, RANDOM_STATE = preprocesamiento_datos_test.preprocesamiento(False,[], False, scaler)\n",
    "                                                                            \n",
    "# Crear el modelo de red neuronal\n",
    "model = MLPRegressor(random_state=RANDOM_STATE, alpha=0.1, batch_size=64, hidden_layer_sizes=(100, 170, 10), learning_rate_init=0.0001, solver='adam')\n",
    "\n",
    "# Entrenar el modelo con los datos de entrenamiento\n",
    "model.fit(X_train, y_train)\n",
    "\n",
    "# Iniciar el registro de la ejecución en MLflow\n",
    "with mlflow.start_run(run_name=\"COMPLETO EN POSICIONES\"):\n",
    "\n",
    "    # Realizar predicciones en el conjunto de prueba\n",
    "    y_test_pred = model.predict(X_test)\n",
    "    \n",
    "    # Calcular el error absoluto medio en el conjunto de prueba\n",
    "    test_mae = mean_absolute_error(y_test, y_test_pred)\n",
    "\n",
    "    # Registrar el error absoluto medio en el conjunto de prueba en MLflow\n",
    "    mlflow.log_metric(\"test_mae\", test_mae)\n",
    "    print(\"Test MAE:\", test_mae)\n",
    "    \n",
    "    # Calcular medias por grupos de posiciones\n",
    "    li = []\n",
    "    posiciones = ['Left-Back', 'Centre-Back', 'Defensive Midfield',\n",
    "       'Centre-Forward','Second Striker','Right Winger', 'Left Winger','Central Midfield', \n",
    "       'Attacking Midfield', 'Right-Back',\n",
    "       'Left Midfield', 'Goalkeeper']\n",
    "    \n",
    "    # Crear DataFrame para comparar predicciones vs. valores reales\n",
    "    pred_vs_real = pd.DataFrame({'y_test': y_test, 'y_pred_rf': y_test_pred, 'dif': abs(y_test-y_test_pred)})\n",
    "    \n",
    "    for p in posiciones:\n",
    "        # Filtrar datos por posición\n",
    "        solo_posicion = pred_vs_real[X_test['position_' + p] == 1]\n",
    "        # Calcular el error medio absoluto para esta posición\n",
    "        mean_dif = np.mean(solo_posicion['dif'])\n",
    "        li.append(mean_dif)\n",
    "    \n",
    "    # Calcular medias de errores para cada posición\n",
    "    mean_defenders = np.mean(li[0:3])\n",
    "    mean_strikers = np.mean(li[3:7])\n",
    "    mean_goalkeepers = li[11]\n",
    "    mean_midfielders = 4 * test_mae - (mean_defenders + mean_strikers + mean_goalkeepers)\n",
    "    \n",
    "    # Guardar las métricas específicas en MLflow\n",
    "    mlflow.log_metric(\"mean_error_defenders\", mean_defenders)\n",
    "    mlflow.log_metric(\"mean_error_strikers\", mean_strikers)\n",
    "    mlflow.log_metric(\"mean_error_midfielders\", mean_midfielders)\n",
    "    mlflow.log_metric(\"mean_error_goalkeepers\", mean_goalkeepers)\n"
   ],
   "metadata": {
    "collapsed": false
   },
   "id": "7e43befb33d19603"
  },
  {
   "cell_type": "code",
   "execution_count": null,
   "outputs": [],
   "source": [
    "#completo precios\n",
    "from sklearn.neural_network import MLPRegressor\n",
    "from sklearn.metrics import mean_absolute_error\n",
    "import mlflow\n",
    "import pandas as pd\n",
    "import numpy as np\n",
    "\n",
    "X_train, X_train, RANDOM_STATE, scaler = preprocesamiento_datos_train.preprocesamiento(False,[], False)\n",
    "# Obtener los datos preprocesados\n",
    "X_test, y_test, RANDOM_STATE = preprocesamiento_datos_test.preprocesamiento(False,[], False, scaler)\n",
    "                         \n",
    "# Crear el modelo de red neuronal\n",
    "model = MLPRegressor(random_state=RANDOM_STATE, alpha=0.1, batch_size=64, hidden_layer_sizes=(100, 170, 10), learning_rate_init=0.0001, solver='adam')\n",
    "\n",
    "# Entrenar el modelo con los datos de entrenamiento\n",
    "model.fit(X_train, y_train)\n",
    "\n",
    "# Iniciar el registro de la ejecución en MLflow\n",
    "with mlflow.start_run(run_name=\"COMPLETO POR PRECIO\"):\n",
    "\n",
    "    # Realizar predicciones en el conjunto de prueba\n",
    "    y_test_pred = model.predict(X_test)\n",
    "    \n",
    "    # Calcular el error absoluto medio en el conjunto de prueba\n",
    "    test_mae = mean_absolute_error(y_test, y_test_pred)\n",
    "\n",
    "    # Registrar el error absoluto medio en el conjunto de prueba en MLflow\n",
    "    mlflow.log_metric(\"test_mae\", test_mae)\n",
    "    print(\"Test MAE:\", test_mae)\n",
    "    \n",
    "    # Crear DataFrame para comparar predicciones vs. valores reales\n",
    "    pred_vs_real = pd.DataFrame({'y_test': y_test, 'y_pred_rf': abs(y_test_pred), 'dif': abs(y_test-abs(y_test_pred))})\n",
    "    \n",
    "    # Definir los rangos de precios\n",
    "    rangos_precios = [(0, 1000000), (1000000, 5000000), (5000000, 10000000), (10000000, 20000000), (20000000, 40000000), (40000000, 80000000)]\n",
    "\n",
    "    # Calcular el error medio absoluto para cada rango de precios\n",
    "    error_rango = []\n",
    "    for rango in rangos_precios:\n",
    "        # Seleccionar las filas donde y_test entra dentro de cada intervalo\n",
    "        pred_vs_real_rango = pred_vs_real[(pred_vs_real['y_test'] >= rango[0]) & (pred_vs_real['y_test'] < rango[1])]\n",
    "        # Calcular la media de las diferencias para el intervalo actual\n",
    "        mean_dif = pred_vs_real_rango['dif'].mean()\n",
    "        error_rango.append(mean_dif)\n",
    "\n",
    "        mlflow.log_metric(f\"error_rango_{rango[0]/1000000}M_{rango[1]/1000000}M\", mean_dif)\n"
   ],
   "metadata": {
    "collapsed": false
   },
   "id": "b7dd23c1912e8e6b"
  }
 ],
 "metadata": {
  "kernelspec": {
   "display_name": "Python 3",
   "language": "python",
   "name": "python3"
  },
  "language_info": {
   "codemirror_mode": {
    "name": "ipython",
    "version": 2
   },
   "file_extension": ".py",
   "mimetype": "text/x-python",
   "name": "python",
   "nbconvert_exporter": "python",
   "pygments_lexer": "ipython2",
   "version": "2.7.6"
  }
 },
 "nbformat": 4,
 "nbformat_minor": 5
}
