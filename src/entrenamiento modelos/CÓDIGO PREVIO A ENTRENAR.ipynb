{
 "cells": [
  {
   "cell_type": "markdown",
   "source": [
    "**Este cuaderno trata los datos hasta la separación entre train y test, todo el trabajo previo a entrenamiento.**"
   ],
   "metadata": {
    "collapsed": false
   },
   "id": "8830edf0c151a6c6"
  },
  {
   "cell_type": "code",
   "execution_count": 29,
   "outputs": [],
   "source": [
    "\"\"\"\n",
    "Descarga de Archivos desde Google Drive sin Autenticación\n",
    "\n",
    "Este script permite descargar archivos específicos desde Google Drive directamente a una ubicación local,\n",
    "utilizando el ID de Google Drive del archivo (el archivo debe ser accesible para cualquier persona que tenga la URL).\n",
    "\n",
    "El script procesa un archivo de texto ('archivos_info.txt') que contiene las IDs de Google Drive de los archivos,\n",
    "los nombres con los que se desean guardar localmente, y las rutas locales de almacenamiento, todo separado por comas.\n",
    "\n",
    "Formato esperado de 'archivos_info.txt':\n",
    "ID_de_Google_Drive,Nombre_Archivo_Local,Ruta_Local\n",
    "\n",
    "Ejemplo:\n",
    "1hGvKmNAkK...,mi_archivo.txt,./descargas\n",
    "\n",
    "Requisitos:\n",
    "- Módulo 'requests' instalado en el entorno Python donde se ejecute este script.\n",
    "\n",
    "\n",
    "\n",
    "\"\"\"\n",
    "\n",
    "import requests\n",
    "import os\n",
    "\n",
    "\n",
    "def descargar_archivo_directo(id_archivo, directorio_destino, archivo_destino):\n",
    "    \"\"\"\n",
    "    Descarga un archivo directamente desde Google Drive y lo guarda localmente.\n",
    "\n",
    "    Parámetros:\n",
    "    - id_archivo (str): ID del archivo en Google Drive.\n",
    "    - directorio_destino (str): Ruta del directorio local donde se guardará el archivo.\n",
    "    - archivo_destino (str): Nombre deseado para el archivo en local\n",
    "\n",
    "    Devuelve:\n",
    "    - archivo_destino (str): Nombre del archivo guardado.\n",
    "    - ruta_completa (str): Ruta completa del archivo guardado.\n",
    "    \"\"\"\n",
    "    # Construye la URL de descarga directa utilizando el ID del archivo\n",
    "    url = f\"https://drive.google.com/uc?export=download&id={id_archivo}\"\n",
    "\n",
    "    # Realiza la petición HTTP GET para descargar el archivo\n",
    "    respuesta = requests.get(url, allow_redirects=True)\n",
    "\n",
    "    # Comprueba que el directorio destino existe, si no, lo crea\n",
    "    os.makedirs(directorio_destino, exist_ok=True)\n",
    "\n",
    "    # Construye la ruta completa donde se guardará el archivo en local\n",
    "    ruta_completa = os.path.join(directorio_destino, archivo_destino)\n",
    "\n",
    "    # Guarda el contenido del archivo descargado en local\n",
    "    with open(ruta_completa, 'wb') as archivo:\n",
    "        archivo.write(respuesta.content)\n",
    "\n",
    "\n",
    "    return archivo_destino, ruta_completa\n",
    "\n",
    "\n",
    "def procesar_archivo_info(ruta_archivo_info):\n",
    "    \"\"\"\n",
    "    Procesa un archivo de texto que contiene información sobre los archivos a descargar.\n",
    "\n",
    "    Parámetros:\n",
    "    - ruta_archivo_info (str): Ruta del archivo de texto que contiene los IDs de Google Drive,\n",
    "                               los nombres de los archivos locales y las rutas locales.\n",
    "\n",
    "    Devuelve:\n",
    "    - Una lista de tuplas con el ID de Google Drive, el nombre local del archivo, y la ruta local.\n",
    "    \"\"\"\n",
    "    archivos_info = []\n",
    "    with open(ruta_archivo_info, 'r') as archivo:\n",
    "        for linea in archivo:\n",
    "            id_archivo, nombre_archivo, directorio_destino = linea.strip().split(',')\n",
    "            archivos_info.append((id_archivo, nombre_archivo, directorio_destino))\n",
    "    return archivos_info"
   ],
   "metadata": {
    "collapsed": false,
    "ExecuteTime": {
     "end_time": "2024-04-16T08:17:26.607709600Z",
     "start_time": "2024-04-16T08:17:26.593445700Z"
    }
   },
   "id": "a2ac24c556c5c8a7"
  },
  {
   "cell_type": "code",
   "execution_count": 30,
   "outputs": [
    {
     "name": "stdout",
     "output_type": "stream",
     "text": [
      "Archivo datos_preparados_entrenamiento.parquet guardado en: ../Downloads\\datos_preparados_entrenamiento.parquet\n"
     ]
    }
   ],
   "source": [
    "# Ruta al archivo que contiene la información de los archivos a descargar\n",
    "ruta_archivo_info = \"info_archivos_GDrive.txt\"\n",
    "\n",
    "# Obtenemos la lista con la info de los archivos del fichero\n",
    "archivos_a_descargar = procesar_archivo_info(ruta_archivo_info)\n",
    "\n",
    "# Descargamos cada archivo de la lista\n",
    "for id_archivo, nombre_archivo, directorio_destino in archivos_a_descargar:\n",
    "    nombre_archivo_descargado, ruta_archivo_guardado = descargar_archivo_directo(id_archivo, directorio_destino, nombre_archivo)\n",
    "    print(f\"Archivo {nombre_archivo_descargado} guardado en: {ruta_archivo_guardado}\")\n",
    "  \n"
   ],
   "metadata": {
    "collapsed": false,
    "ExecuteTime": {
     "end_time": "2024-04-16T08:17:43.280393600Z",
     "start_time": "2024-04-16T08:17:28.730974300Z"
    }
   },
   "id": "42745403e3f0ff22"
  },
  {
   "cell_type": "code",
   "execution_count": 31,
   "outputs": [
    {
     "data": {
      "text/plain": "              Mins        Goals      Assists          Yel          Red  \\\ncount  2267.000000  2267.000000  2267.000000  2267.000000  2267.000000   \nmean   1278.961182     1.606528     1.091751     3.073666     0.167622   \nstd     971.453864     3.022059     1.815025     2.956637     0.429651   \nmin       1.000000     0.000000     0.000000     0.000000     0.000000   \n25%     365.500000     0.000000     0.000000     1.000000     0.000000   \n50%    1164.000000     0.000000     0.000000     2.000000     0.000000   \n75%    2050.500000     2.000000     2.000000     5.000000     0.000000   \nmax    3420.000000    30.000000    21.000000    15.000000     3.000000   \n\n               SpG          PS%   AerialsWon         MotM      Tackles  ...  \\\ncount  2267.000000  2267.000000  2267.000000  2267.000000  2267.000000  ...   \nmean      0.637097    76.188355     0.943935     0.649316     0.883414  ...   \nstd       0.621756    13.299945     0.960087     1.402967     0.693195  ...   \nmin       0.000000     0.000000     0.000000     0.000000     0.000000  ...   \n25%       0.200000    71.000000     0.300000     0.000000     0.400000  ...   \n50%       0.500000    78.400000     0.700000     0.000000     0.800000  ...   \n75%       0.900000    84.300000     1.300000     1.000000     1.300000  ...   \nmax       5.600000   100.000000     8.700000    22.000000     6.000000  ...   \n\n        marketValue  Año_natural  Titularidades   Suplencias   Equipo_pos  \\\ncount  2.267000e+03  2267.000000    2267.000000  2267.000000  2267.000000   \nmean   8.728672e+06  2020.518747      14.266873     5.426114    10.697397   \nstd    1.365363e+07     1.111989      11.266285     5.233994     5.813231   \nmin    2.500000e+04  2019.000000       0.000000     0.000000     1.000000   \n25%    1.500000e+06  2020.000000       3.000000     1.000000     6.000000   \n50%    3.200000e+06  2021.000000      13.000000     4.000000    11.000000   \n75%    9.750000e+06  2022.000000      23.000000     8.000000    16.000000   \nmax    1.120000e+08  2022.000000      38.000000    29.000000    20.000000   \n\n       1_año_anterior  2_año_anterior  3_año_anterior  4_año_anterior  \\\ncount    2.267000e+03    2.267000e+03    2.267000e+03    2.267000e+03   \nmean     8.734782e+06    7.517711e+06    5.845258e+06    4.469740e+06   \nstd      1.662477e+07    1.568409e+07    1.335073e+07    1.103684e+07   \nmin      0.000000e+00    0.000000e+00    0.000000e+00    0.000000e+00   \n25%      5.000000e+05    2.500000e+05    0.000000e+00    0.000000e+00   \n50%      2.400000e+06    1.500000e+06    8.000000e+05    4.000000e+05   \n75%      9.500000e+06    7.500000e+06    5.000000e+06    3.000000e+06   \nmax      1.800000e+08    1.500000e+08    1.200000e+08    1.200000e+08   \n\n       5_año_anterior  \ncount    2.267000e+03  \nmean     9.814722e+06  \nstd      1.687566e+07  \nmin      0.000000e+00  \n25%      1.000000e+06  \n50%      3.000000e+06  \n75%      1.000000e+07  \nmax      1.800000e+08  \n\n[8 rows x 40 columns]",
      "text/html": "<div>\n<style scoped>\n    .dataframe tbody tr th:only-of-type {\n        vertical-align: middle;\n    }\n\n    .dataframe tbody tr th {\n        vertical-align: top;\n    }\n\n    .dataframe thead th {\n        text-align: right;\n    }\n</style>\n<table border=\"1\" class=\"dataframe\">\n  <thead>\n    <tr style=\"text-align: right;\">\n      <th></th>\n      <th>Mins</th>\n      <th>Goals</th>\n      <th>Assists</th>\n      <th>Yel</th>\n      <th>Red</th>\n      <th>SpG</th>\n      <th>PS%</th>\n      <th>AerialsWon</th>\n      <th>MotM</th>\n      <th>Tackles</th>\n      <th>...</th>\n      <th>marketValue</th>\n      <th>Año_natural</th>\n      <th>Titularidades</th>\n      <th>Suplencias</th>\n      <th>Equipo_pos</th>\n      <th>1_año_anterior</th>\n      <th>2_año_anterior</th>\n      <th>3_año_anterior</th>\n      <th>4_año_anterior</th>\n      <th>5_año_anterior</th>\n    </tr>\n  </thead>\n  <tbody>\n    <tr>\n      <th>count</th>\n      <td>2267.000000</td>\n      <td>2267.000000</td>\n      <td>2267.000000</td>\n      <td>2267.000000</td>\n      <td>2267.000000</td>\n      <td>2267.000000</td>\n      <td>2267.000000</td>\n      <td>2267.000000</td>\n      <td>2267.000000</td>\n      <td>2267.000000</td>\n      <td>...</td>\n      <td>2.267000e+03</td>\n      <td>2267.000000</td>\n      <td>2267.000000</td>\n      <td>2267.000000</td>\n      <td>2267.000000</td>\n      <td>2.267000e+03</td>\n      <td>2.267000e+03</td>\n      <td>2.267000e+03</td>\n      <td>2.267000e+03</td>\n      <td>2.267000e+03</td>\n    </tr>\n    <tr>\n      <th>mean</th>\n      <td>1278.961182</td>\n      <td>1.606528</td>\n      <td>1.091751</td>\n      <td>3.073666</td>\n      <td>0.167622</td>\n      <td>0.637097</td>\n      <td>76.188355</td>\n      <td>0.943935</td>\n      <td>0.649316</td>\n      <td>0.883414</td>\n      <td>...</td>\n      <td>8.728672e+06</td>\n      <td>2020.518747</td>\n      <td>14.266873</td>\n      <td>5.426114</td>\n      <td>10.697397</td>\n      <td>8.734782e+06</td>\n      <td>7.517711e+06</td>\n      <td>5.845258e+06</td>\n      <td>4.469740e+06</td>\n      <td>9.814722e+06</td>\n    </tr>\n    <tr>\n      <th>std</th>\n      <td>971.453864</td>\n      <td>3.022059</td>\n      <td>1.815025</td>\n      <td>2.956637</td>\n      <td>0.429651</td>\n      <td>0.621756</td>\n      <td>13.299945</td>\n      <td>0.960087</td>\n      <td>1.402967</td>\n      <td>0.693195</td>\n      <td>...</td>\n      <td>1.365363e+07</td>\n      <td>1.111989</td>\n      <td>11.266285</td>\n      <td>5.233994</td>\n      <td>5.813231</td>\n      <td>1.662477e+07</td>\n      <td>1.568409e+07</td>\n      <td>1.335073e+07</td>\n      <td>1.103684e+07</td>\n      <td>1.687566e+07</td>\n    </tr>\n    <tr>\n      <th>min</th>\n      <td>1.000000</td>\n      <td>0.000000</td>\n      <td>0.000000</td>\n      <td>0.000000</td>\n      <td>0.000000</td>\n      <td>0.000000</td>\n      <td>0.000000</td>\n      <td>0.000000</td>\n      <td>0.000000</td>\n      <td>0.000000</td>\n      <td>...</td>\n      <td>2.500000e+04</td>\n      <td>2019.000000</td>\n      <td>0.000000</td>\n      <td>0.000000</td>\n      <td>1.000000</td>\n      <td>0.000000e+00</td>\n      <td>0.000000e+00</td>\n      <td>0.000000e+00</td>\n      <td>0.000000e+00</td>\n      <td>0.000000e+00</td>\n    </tr>\n    <tr>\n      <th>25%</th>\n      <td>365.500000</td>\n      <td>0.000000</td>\n      <td>0.000000</td>\n      <td>1.000000</td>\n      <td>0.000000</td>\n      <td>0.200000</td>\n      <td>71.000000</td>\n      <td>0.300000</td>\n      <td>0.000000</td>\n      <td>0.400000</td>\n      <td>...</td>\n      <td>1.500000e+06</td>\n      <td>2020.000000</td>\n      <td>3.000000</td>\n      <td>1.000000</td>\n      <td>6.000000</td>\n      <td>5.000000e+05</td>\n      <td>2.500000e+05</td>\n      <td>0.000000e+00</td>\n      <td>0.000000e+00</td>\n      <td>1.000000e+06</td>\n    </tr>\n    <tr>\n      <th>50%</th>\n      <td>1164.000000</td>\n      <td>0.000000</td>\n      <td>0.000000</td>\n      <td>2.000000</td>\n      <td>0.000000</td>\n      <td>0.500000</td>\n      <td>78.400000</td>\n      <td>0.700000</td>\n      <td>0.000000</td>\n      <td>0.800000</td>\n      <td>...</td>\n      <td>3.200000e+06</td>\n      <td>2021.000000</td>\n      <td>13.000000</td>\n      <td>4.000000</td>\n      <td>11.000000</td>\n      <td>2.400000e+06</td>\n      <td>1.500000e+06</td>\n      <td>8.000000e+05</td>\n      <td>4.000000e+05</td>\n      <td>3.000000e+06</td>\n    </tr>\n    <tr>\n      <th>75%</th>\n      <td>2050.500000</td>\n      <td>2.000000</td>\n      <td>2.000000</td>\n      <td>5.000000</td>\n      <td>0.000000</td>\n      <td>0.900000</td>\n      <td>84.300000</td>\n      <td>1.300000</td>\n      <td>1.000000</td>\n      <td>1.300000</td>\n      <td>...</td>\n      <td>9.750000e+06</td>\n      <td>2022.000000</td>\n      <td>23.000000</td>\n      <td>8.000000</td>\n      <td>16.000000</td>\n      <td>9.500000e+06</td>\n      <td>7.500000e+06</td>\n      <td>5.000000e+06</td>\n      <td>3.000000e+06</td>\n      <td>1.000000e+07</td>\n    </tr>\n    <tr>\n      <th>max</th>\n      <td>3420.000000</td>\n      <td>30.000000</td>\n      <td>21.000000</td>\n      <td>15.000000</td>\n      <td>3.000000</td>\n      <td>5.600000</td>\n      <td>100.000000</td>\n      <td>8.700000</td>\n      <td>22.000000</td>\n      <td>6.000000</td>\n      <td>...</td>\n      <td>1.120000e+08</td>\n      <td>2022.000000</td>\n      <td>38.000000</td>\n      <td>29.000000</td>\n      <td>20.000000</td>\n      <td>1.800000e+08</td>\n      <td>1.500000e+08</td>\n      <td>1.200000e+08</td>\n      <td>1.200000e+08</td>\n      <td>1.800000e+08</td>\n    </tr>\n  </tbody>\n</table>\n<p>8 rows × 40 columns</p>\n</div>"
     },
     "execution_count": 31,
     "metadata": {},
     "output_type": "execute_result"
    }
   ],
   "source": [
    "import pandas as pd\n",
    "df = pd.read_parquet(ruta_archivo_guardado, engine='pyarrow')\n",
    "df.describe()"
   ],
   "metadata": {
    "collapsed": false,
    "ExecuteTime": {
     "end_time": "2024-04-16T08:17:47.395105500Z",
     "start_time": "2024-04-16T08:17:47.204628500Z"
    }
   },
   "id": "6149873bb80b96b2"
  },
  {
   "cell_type": "code",
   "execution_count": 8,
   "outputs": [
    {
     "name": "stdout",
     "output_type": "stream",
     "text": [
      "<class 'pandas.core.frame.DataFrame'>\n",
      "Index: 2267 entries, 28003 to 336828\n",
      "Data columns (total 45 columns):\n",
      " #   Column          Non-Null Count  Dtype  \n",
      "---  ------          --------------  -----  \n",
      " 0   Player          2267 non-null   object \n",
      " 1   Mins            2267 non-null   int64  \n",
      " 2   Goals           2267 non-null   int64  \n",
      " 3   Assists         2267 non-null   int64  \n",
      " 4   Yel             2267 non-null   int64  \n",
      " 5   Red             2267 non-null   int64  \n",
      " 6   SpG             2267 non-null   float64\n",
      " 7   PS%             2267 non-null   float64\n",
      " 8   AerialsWon      2267 non-null   float64\n",
      " 9   MotM            2267 non-null   int64  \n",
      " 10  Tackles         2267 non-null   float64\n",
      " 11  Inter           2267 non-null   float64\n",
      " 12  Fouls           2267 non-null   float64\n",
      " 13  Offsides        2267 non-null   float64\n",
      " 14  Clear           2267 non-null   float64\n",
      " 15  DeffDrb         2267 non-null   float64\n",
      " 16  Blocks          2267 non-null   float64\n",
      " 17  OwnG            2267 non-null   int64  \n",
      " 18  KeyP            2267 non-null   float64\n",
      " 19  OffDrb          2267 non-null   float64\n",
      " 20  Fouled          2267 non-null   float64\n",
      " 21  Off             2267 non-null   float64\n",
      " 22  Disp            2267 non-null   float64\n",
      " 23  UnsTch          2267 non-null   float64\n",
      " 24  AvgP            2267 non-null   float64\n",
      " 25  Crosses         2267 non-null   float64\n",
      " 26  LongB           2267 non-null   float64\n",
      " 27  ThrB            2267 non-null   float64\n",
      " 28  año             2267 non-null   object \n",
      " 29  Equipo          2267 non-null   object \n",
      " 30  index           2267 non-null   float64\n",
      " 31  position        2267 non-null   object \n",
      " 32  age             2267 non-null   int64  \n",
      " 33  nationality     2267 non-null   object \n",
      " 34  height          2267 non-null   float64\n",
      " 35  marketValue     2267 non-null   float64\n",
      " 36  Año_natural     2267 non-null   int64  \n",
      " 37  Titularidades   2267 non-null   int64  \n",
      " 38  Suplencias      2267 non-null   int64  \n",
      " 39  Equipo_pos      2267 non-null   int64  \n",
      " 40  1_año_anterior  2267 non-null   float64\n",
      " 41  2_año_anterior  2267 non-null   float64\n",
      " 42  3_año_anterior  2267 non-null   float64\n",
      " 43  4_año_anterior  2267 non-null   float64\n",
      " 44  5_año_anterior  2267 non-null   float64\n",
      "dtypes: float64(28), int64(12), object(5)\n",
      "memory usage: 814.7+ KB\n"
     ]
    }
   ],
   "source": [
    "df.info()"
   ],
   "metadata": {
    "collapsed": false,
    "ExecuteTime": {
     "end_time": "2024-04-16T07:50:12.828492200Z",
     "start_time": "2024-04-16T07:50:12.782476300Z"
    }
   },
   "id": "a6c47502db78aa3"
  },
  {
   "cell_type": "code",
   "execution_count": 9,
   "outputs": [
    {
     "data": {
      "text/plain": "                 Player  Mins  Goals  Assists  Yel  Red  SpG    PS%  \\\n0          Lionel Messi  2881     25       21    4    0  4.8   82.6   \n1     Guillermo Maripán    90      0        0    0    0  0.0   75.0   \n2              Casemiro  3091      4        3   12    0  1.3   84.1   \n3         Karim Benzema  3155     21        8    0    0  3.4   86.2   \n4           Luis Suárez  2002     16        8    4    0  2.8   75.5   \n...                 ...   ...    ...      ...  ...  ...  ...    ...   \n2262     Javier Pastore     4      0        0    0    0  0.0   85.7   \n2263        Iván Romero    10      0        0    1    0  0.0   33.3   \n2264     Roger Martínez     6      0        0    0    0  1.0  100.0   \n2265     Carlos Álvarez     9      0        0    1    0  0.0  100.0   \n2266        Pape Cheikh    36      0        0    1    1  0.0   73.7   \n\n      AerialsWon  MotM  ...  marketValue  Año_natural  Titularidades  \\\n0            0.3    22  ...  112000000.0         2019             32   \n1            5.0     0  ...   11000000.0         2019              1   \n2            2.9     3  ...   64000000.0         2019             35   \n3            0.8    10  ...   32000000.0         2019             36   \n4            0.4     3  ...   28000000.0         2019             22   \n...          ...   ...  ...          ...          ...            ...   \n2262         0.0     0  ...     500000.0         2022              0   \n2263         1.0     0  ...     800000.0         2022              0   \n2264         0.0     0  ...     400000.0         2022              0   \n2265         0.0     0  ...     400000.0         2022              0   \n2266         0.0     0  ...     900000.0         2022              1   \n\n      Suplencias  Equipo_pos  1_año_anterior  2_año_anterior  3_año_anterior  \\\n0              1           2     120000000.0     120000000.0     120000000.0   \n1              0          16        800000.0        550000.0             0.0   \n2              0           1      30000000.0      20000000.0      10000000.0   \n3              1           1      60000000.0      60000000.0      50000000.0   \n4              6           2      90000000.0      90000000.0      80000000.0   \n...          ...         ...             ...             ...             ...   \n2262           1          20       5000000.0      15000000.0      15000000.0   \n2263           1          11         50000.0             0.0             0.0   \n2264           1          19             0.0             0.0             0.0   \n2265           1          11        100000.0        100000.0             0.0   \n2266           2          20       5500000.0       7000000.0       3000000.0   \n\n      4_año_anterior  5_año_anterior  \n0        120000000.0     180000000.0  \n1                0.0       1500000.0  \n2          6000000.0      60000000.0  \n3         45000000.0      40000000.0  \n4         60000000.0      70000000.0  \n...              ...             ...  \n2262      20000000.0       1500000.0  \n2263             0.0        500000.0  \n2264             0.0        100000.0  \n2265             0.0        300000.0  \n2266        800000.0       2500000.0  \n\n[2267 rows x 45 columns]",
      "text/html": "<div>\n<style scoped>\n    .dataframe tbody tr th:only-of-type {\n        vertical-align: middle;\n    }\n\n    .dataframe tbody tr th {\n        vertical-align: top;\n    }\n\n    .dataframe thead th {\n        text-align: right;\n    }\n</style>\n<table border=\"1\" class=\"dataframe\">\n  <thead>\n    <tr style=\"text-align: right;\">\n      <th></th>\n      <th>Player</th>\n      <th>Mins</th>\n      <th>Goals</th>\n      <th>Assists</th>\n      <th>Yel</th>\n      <th>Red</th>\n      <th>SpG</th>\n      <th>PS%</th>\n      <th>AerialsWon</th>\n      <th>MotM</th>\n      <th>...</th>\n      <th>marketValue</th>\n      <th>Año_natural</th>\n      <th>Titularidades</th>\n      <th>Suplencias</th>\n      <th>Equipo_pos</th>\n      <th>1_año_anterior</th>\n      <th>2_año_anterior</th>\n      <th>3_año_anterior</th>\n      <th>4_año_anterior</th>\n      <th>5_año_anterior</th>\n    </tr>\n  </thead>\n  <tbody>\n    <tr>\n      <th>0</th>\n      <td>Lionel Messi</td>\n      <td>2881</td>\n      <td>25</td>\n      <td>21</td>\n      <td>4</td>\n      <td>0</td>\n      <td>4.8</td>\n      <td>82.6</td>\n      <td>0.3</td>\n      <td>22</td>\n      <td>...</td>\n      <td>112000000.0</td>\n      <td>2019</td>\n      <td>32</td>\n      <td>1</td>\n      <td>2</td>\n      <td>120000000.0</td>\n      <td>120000000.0</td>\n      <td>120000000.0</td>\n      <td>120000000.0</td>\n      <td>180000000.0</td>\n    </tr>\n    <tr>\n      <th>1</th>\n      <td>Guillermo Maripán</td>\n      <td>90</td>\n      <td>0</td>\n      <td>0</td>\n      <td>0</td>\n      <td>0</td>\n      <td>0.0</td>\n      <td>75.0</td>\n      <td>5.0</td>\n      <td>0</td>\n      <td>...</td>\n      <td>11000000.0</td>\n      <td>2019</td>\n      <td>1</td>\n      <td>0</td>\n      <td>16</td>\n      <td>800000.0</td>\n      <td>550000.0</td>\n      <td>0.0</td>\n      <td>0.0</td>\n      <td>1500000.0</td>\n    </tr>\n    <tr>\n      <th>2</th>\n      <td>Casemiro</td>\n      <td>3091</td>\n      <td>4</td>\n      <td>3</td>\n      <td>12</td>\n      <td>0</td>\n      <td>1.3</td>\n      <td>84.1</td>\n      <td>2.9</td>\n      <td>3</td>\n      <td>...</td>\n      <td>64000000.0</td>\n      <td>2019</td>\n      <td>35</td>\n      <td>0</td>\n      <td>1</td>\n      <td>30000000.0</td>\n      <td>20000000.0</td>\n      <td>10000000.0</td>\n      <td>6000000.0</td>\n      <td>60000000.0</td>\n    </tr>\n    <tr>\n      <th>3</th>\n      <td>Karim Benzema</td>\n      <td>3155</td>\n      <td>21</td>\n      <td>8</td>\n      <td>0</td>\n      <td>0</td>\n      <td>3.4</td>\n      <td>86.2</td>\n      <td>0.8</td>\n      <td>10</td>\n      <td>...</td>\n      <td>32000000.0</td>\n      <td>2019</td>\n      <td>36</td>\n      <td>1</td>\n      <td>1</td>\n      <td>60000000.0</td>\n      <td>60000000.0</td>\n      <td>50000000.0</td>\n      <td>45000000.0</td>\n      <td>40000000.0</td>\n    </tr>\n    <tr>\n      <th>4</th>\n      <td>Luis Suárez</td>\n      <td>2002</td>\n      <td>16</td>\n      <td>8</td>\n      <td>4</td>\n      <td>0</td>\n      <td>2.8</td>\n      <td>75.5</td>\n      <td>0.4</td>\n      <td>3</td>\n      <td>...</td>\n      <td>28000000.0</td>\n      <td>2019</td>\n      <td>22</td>\n      <td>6</td>\n      <td>2</td>\n      <td>90000000.0</td>\n      <td>90000000.0</td>\n      <td>80000000.0</td>\n      <td>60000000.0</td>\n      <td>70000000.0</td>\n    </tr>\n    <tr>\n      <th>...</th>\n      <td>...</td>\n      <td>...</td>\n      <td>...</td>\n      <td>...</td>\n      <td>...</td>\n      <td>...</td>\n      <td>...</td>\n      <td>...</td>\n      <td>...</td>\n      <td>...</td>\n      <td>...</td>\n      <td>...</td>\n      <td>...</td>\n      <td>...</td>\n      <td>...</td>\n      <td>...</td>\n      <td>...</td>\n      <td>...</td>\n      <td>...</td>\n      <td>...</td>\n      <td>...</td>\n    </tr>\n    <tr>\n      <th>2262</th>\n      <td>Javier Pastore</td>\n      <td>4</td>\n      <td>0</td>\n      <td>0</td>\n      <td>0</td>\n      <td>0</td>\n      <td>0.0</td>\n      <td>85.7</td>\n      <td>0.0</td>\n      <td>0</td>\n      <td>...</td>\n      <td>500000.0</td>\n      <td>2022</td>\n      <td>0</td>\n      <td>1</td>\n      <td>20</td>\n      <td>5000000.0</td>\n      <td>15000000.0</td>\n      <td>15000000.0</td>\n      <td>20000000.0</td>\n      <td>1500000.0</td>\n    </tr>\n    <tr>\n      <th>2263</th>\n      <td>Iván Romero</td>\n      <td>10</td>\n      <td>0</td>\n      <td>0</td>\n      <td>1</td>\n      <td>0</td>\n      <td>0.0</td>\n      <td>33.3</td>\n      <td>1.0</td>\n      <td>0</td>\n      <td>...</td>\n      <td>800000.0</td>\n      <td>2022</td>\n      <td>0</td>\n      <td>1</td>\n      <td>11</td>\n      <td>50000.0</td>\n      <td>0.0</td>\n      <td>0.0</td>\n      <td>0.0</td>\n      <td>500000.0</td>\n    </tr>\n    <tr>\n      <th>2264</th>\n      <td>Roger Martínez</td>\n      <td>6</td>\n      <td>0</td>\n      <td>0</td>\n      <td>0</td>\n      <td>0</td>\n      <td>1.0</td>\n      <td>100.0</td>\n      <td>0.0</td>\n      <td>0</td>\n      <td>...</td>\n      <td>400000.0</td>\n      <td>2022</td>\n      <td>0</td>\n      <td>1</td>\n      <td>19</td>\n      <td>0.0</td>\n      <td>0.0</td>\n      <td>0.0</td>\n      <td>0.0</td>\n      <td>100000.0</td>\n    </tr>\n    <tr>\n      <th>2265</th>\n      <td>Carlos Álvarez</td>\n      <td>9</td>\n      <td>0</td>\n      <td>0</td>\n      <td>1</td>\n      <td>0</td>\n      <td>0.0</td>\n      <td>100.0</td>\n      <td>0.0</td>\n      <td>0</td>\n      <td>...</td>\n      <td>400000.0</td>\n      <td>2022</td>\n      <td>0</td>\n      <td>1</td>\n      <td>11</td>\n      <td>100000.0</td>\n      <td>100000.0</td>\n      <td>0.0</td>\n      <td>0.0</td>\n      <td>300000.0</td>\n    </tr>\n    <tr>\n      <th>2266</th>\n      <td>Pape Cheikh</td>\n      <td>36</td>\n      <td>0</td>\n      <td>0</td>\n      <td>1</td>\n      <td>1</td>\n      <td>0.0</td>\n      <td>73.7</td>\n      <td>0.0</td>\n      <td>0</td>\n      <td>...</td>\n      <td>900000.0</td>\n      <td>2022</td>\n      <td>1</td>\n      <td>2</td>\n      <td>20</td>\n      <td>5500000.0</td>\n      <td>7000000.0</td>\n      <td>3000000.0</td>\n      <td>800000.0</td>\n      <td>2500000.0</td>\n    </tr>\n  </tbody>\n</table>\n<p>2267 rows × 45 columns</p>\n</div>"
     },
     "execution_count": 9,
     "metadata": {},
     "output_type": "execute_result"
    }
   ],
   "source": [
    "# Resetear el índice del DataFrame original\n",
    "df.reset_index(drop=True, inplace=True)\n",
    "df"
   ],
   "metadata": {
    "collapsed": false,
    "ExecuteTime": {
     "end_time": "2024-04-16T07:50:20.070115900Z",
     "start_time": "2024-04-16T07:50:20.016340200Z"
    }
   },
   "id": "907cd53b306dba7e"
  },
  {
   "cell_type": "code",
   "execution_count": 10,
   "outputs": [
    {
     "data": {
      "text/plain": "array(['Right Winger', 'Centre-Back', 'Defensive Midfield',\n       'Centre-Forward', 'Central Midfield', 'Left Winger',\n       'Attacking Midfield', 'Right-Back', 'Goalkeeper', 'Left-Back',\n       'Left Midfield', 'Second Striker'], dtype=object)"
     },
     "execution_count": 10,
     "metadata": {},
     "output_type": "execute_result"
    }
   ],
   "source": [
    "df['position'].unique()"
   ],
   "metadata": {
    "collapsed": false,
    "ExecuteTime": {
     "end_time": "2024-04-16T07:50:26.119335500Z",
     "start_time": "2024-04-16T07:50:26.085048400Z"
    }
   },
   "id": "b2c9105dad43e0c1"
  },
  {
   "cell_type": "code",
   "execution_count": 11,
   "outputs": [],
   "source": [
    "df_original = df.copy()"
   ],
   "metadata": {
    "collapsed": false,
    "ExecuteTime": {
     "end_time": "2024-04-16T07:50:32.893274100Z",
     "start_time": "2024-04-16T07:50:32.849502900Z"
    }
   },
   "id": "84a672794ffadbae"
  },
  {
   "cell_type": "code",
   "execution_count": 12,
   "outputs": [
    {
     "data": {
      "text/plain": "                   Player  Mins  Goals  Assists  Yel  Red  SpG   PS%  \\\n361        Alexander Isak  1500      9        1    4    0  1.2  73.4   \n490         John Guidetti    95      0        0    0    0  0.4  62.5   \n579        Alexander Isak  2361     17        2    4    0  2.4  72.7   \n1066        John Guidetti   201      1        0    1    0  0.5  73.1   \n1238       Alexander Isak  2157      6        2    6    0  2.3  74.3   \n1486  Ludwig Augustinsson   790      0        1    3    0  0.2  84.8   \n1636        John Guidetti   274      0        0    2    0  1.0  77.1   \n1676           Omar Faraj     3      0        0    0    0  0.0   0.0   \n1793       Alexander Isak   154      1        0    0    0  1.5  63.0   \n2204  Ludwig Augustinsson   130      0        0    0    0  0.0  70.4   \n2215     Williot Swedberg    52      0        0    1    0  0.0  82.4   \n\n      AerialsWon  MotM  ...  marketValue  Año_natural  Titularidades  \\\n361          0.6     0  ...   22500000.0         2019             14   \n490          0.2     0  ...    1600000.0         2019              1   \n579          1.2     6  ...   40000000.0         2020             30   \n1066         0.4     0  ...    1200000.0         2020              1   \n1238         0.9     0  ...   30000000.0         2021             26   \n1486         0.8     0  ...    5000000.0         2021              9   \n1636         0.1     0  ...    1000000.0         2021              2   \n1676         0.0     0  ...     100000.0         2021              0   \n1793         0.0     0  ...   70000000.0         2022              2   \n2204         1.0     0  ...    2500000.0         2022              1   \n2215         0.0     0  ...    3000000.0         2022              0   \n\n      Suplencias  Equipo_pos  1_año_anterior  2_año_anterior  3_año_anterior  \\\n361           23           6       6000000.0        400000.0             0.0   \n490            4          16       8000000.0       5000000.0       3500000.0   \n579            4           5       6000000.0       6000000.0        400000.0   \n1066           9          16       4000000.0       8000000.0       5000000.0   \n1238           6           6       8000000.0       6000000.0       6000000.0   \n1486          10           4      12000000.0       7500000.0       4000000.0   \n1636           8          20       3000000.0       4000000.0       8000000.0   \n1676           1          19             0.0             0.0             0.0   \n1793           0           4      22500000.0       8000000.0       6000000.0   \n2204           3           9       9500000.0      12000000.0       7500000.0   \n2215           4          13             0.0             0.0             0.0   \n\n      4_año_anterior  5_año_anterior  \n361              0.0       6000000.0  \n490        3500000.0       4000000.0  \n579              0.0       8000000.0  \n1066       3500000.0       3000000.0  \n1238        400000.0      22500000.0  \n1486       3500000.0       9500000.0  \n1636       5000000.0       1600000.0  \n1676             0.0             0.0  \n1793       6000000.0      40000000.0  \n2204       4000000.0      10000000.0  \n2215             0.0       1800000.0  \n\n[11 rows x 45 columns]",
      "text/html": "<div>\n<style scoped>\n    .dataframe tbody tr th:only-of-type {\n        vertical-align: middle;\n    }\n\n    .dataframe tbody tr th {\n        vertical-align: top;\n    }\n\n    .dataframe thead th {\n        text-align: right;\n    }\n</style>\n<table border=\"1\" class=\"dataframe\">\n  <thead>\n    <tr style=\"text-align: right;\">\n      <th></th>\n      <th>Player</th>\n      <th>Mins</th>\n      <th>Goals</th>\n      <th>Assists</th>\n      <th>Yel</th>\n      <th>Red</th>\n      <th>SpG</th>\n      <th>PS%</th>\n      <th>AerialsWon</th>\n      <th>MotM</th>\n      <th>...</th>\n      <th>marketValue</th>\n      <th>Año_natural</th>\n      <th>Titularidades</th>\n      <th>Suplencias</th>\n      <th>Equipo_pos</th>\n      <th>1_año_anterior</th>\n      <th>2_año_anterior</th>\n      <th>3_año_anterior</th>\n      <th>4_año_anterior</th>\n      <th>5_año_anterior</th>\n    </tr>\n  </thead>\n  <tbody>\n    <tr>\n      <th>361</th>\n      <td>Alexander Isak</td>\n      <td>1500</td>\n      <td>9</td>\n      <td>1</td>\n      <td>4</td>\n      <td>0</td>\n      <td>1.2</td>\n      <td>73.4</td>\n      <td>0.6</td>\n      <td>0</td>\n      <td>...</td>\n      <td>22500000.0</td>\n      <td>2019</td>\n      <td>14</td>\n      <td>23</td>\n      <td>6</td>\n      <td>6000000.0</td>\n      <td>400000.0</td>\n      <td>0.0</td>\n      <td>0.0</td>\n      <td>6000000.0</td>\n    </tr>\n    <tr>\n      <th>490</th>\n      <td>John Guidetti</td>\n      <td>95</td>\n      <td>0</td>\n      <td>0</td>\n      <td>0</td>\n      <td>0</td>\n      <td>0.4</td>\n      <td>62.5</td>\n      <td>0.2</td>\n      <td>0</td>\n      <td>...</td>\n      <td>1600000.0</td>\n      <td>2019</td>\n      <td>1</td>\n      <td>4</td>\n      <td>16</td>\n      <td>8000000.0</td>\n      <td>5000000.0</td>\n      <td>3500000.0</td>\n      <td>3500000.0</td>\n      <td>4000000.0</td>\n    </tr>\n    <tr>\n      <th>579</th>\n      <td>Alexander Isak</td>\n      <td>2361</td>\n      <td>17</td>\n      <td>2</td>\n      <td>4</td>\n      <td>0</td>\n      <td>2.4</td>\n      <td>72.7</td>\n      <td>1.2</td>\n      <td>6</td>\n      <td>...</td>\n      <td>40000000.0</td>\n      <td>2020</td>\n      <td>30</td>\n      <td>4</td>\n      <td>5</td>\n      <td>6000000.0</td>\n      <td>6000000.0</td>\n      <td>400000.0</td>\n      <td>0.0</td>\n      <td>8000000.0</td>\n    </tr>\n    <tr>\n      <th>1066</th>\n      <td>John Guidetti</td>\n      <td>201</td>\n      <td>1</td>\n      <td>0</td>\n      <td>1</td>\n      <td>0</td>\n      <td>0.5</td>\n      <td>73.1</td>\n      <td>0.4</td>\n      <td>0</td>\n      <td>...</td>\n      <td>1200000.0</td>\n      <td>2020</td>\n      <td>1</td>\n      <td>9</td>\n      <td>16</td>\n      <td>4000000.0</td>\n      <td>8000000.0</td>\n      <td>5000000.0</td>\n      <td>3500000.0</td>\n      <td>3000000.0</td>\n    </tr>\n    <tr>\n      <th>1238</th>\n      <td>Alexander Isak</td>\n      <td>2157</td>\n      <td>6</td>\n      <td>2</td>\n      <td>6</td>\n      <td>0</td>\n      <td>2.3</td>\n      <td>74.3</td>\n      <td>0.9</td>\n      <td>0</td>\n      <td>...</td>\n      <td>30000000.0</td>\n      <td>2021</td>\n      <td>26</td>\n      <td>6</td>\n      <td>6</td>\n      <td>8000000.0</td>\n      <td>6000000.0</td>\n      <td>6000000.0</td>\n      <td>400000.0</td>\n      <td>22500000.0</td>\n    </tr>\n    <tr>\n      <th>1486</th>\n      <td>Ludwig Augustinsson</td>\n      <td>790</td>\n      <td>0</td>\n      <td>1</td>\n      <td>3</td>\n      <td>0</td>\n      <td>0.2</td>\n      <td>84.8</td>\n      <td>0.8</td>\n      <td>0</td>\n      <td>...</td>\n      <td>5000000.0</td>\n      <td>2021</td>\n      <td>9</td>\n      <td>10</td>\n      <td>4</td>\n      <td>12000000.0</td>\n      <td>7500000.0</td>\n      <td>4000000.0</td>\n      <td>3500000.0</td>\n      <td>9500000.0</td>\n    </tr>\n    <tr>\n      <th>1636</th>\n      <td>John Guidetti</td>\n      <td>274</td>\n      <td>0</td>\n      <td>0</td>\n      <td>2</td>\n      <td>0</td>\n      <td>1.0</td>\n      <td>77.1</td>\n      <td>0.1</td>\n      <td>0</td>\n      <td>...</td>\n      <td>1000000.0</td>\n      <td>2021</td>\n      <td>2</td>\n      <td>8</td>\n      <td>20</td>\n      <td>3000000.0</td>\n      <td>4000000.0</td>\n      <td>8000000.0</td>\n      <td>5000000.0</td>\n      <td>1600000.0</td>\n    </tr>\n    <tr>\n      <th>1676</th>\n      <td>Omar Faraj</td>\n      <td>3</td>\n      <td>0</td>\n      <td>0</td>\n      <td>0</td>\n      <td>0</td>\n      <td>0.0</td>\n      <td>0.0</td>\n      <td>0.0</td>\n      <td>0</td>\n      <td>...</td>\n      <td>100000.0</td>\n      <td>2021</td>\n      <td>0</td>\n      <td>1</td>\n      <td>19</td>\n      <td>0.0</td>\n      <td>0.0</td>\n      <td>0.0</td>\n      <td>0.0</td>\n      <td>0.0</td>\n    </tr>\n    <tr>\n      <th>1793</th>\n      <td>Alexander Isak</td>\n      <td>154</td>\n      <td>1</td>\n      <td>0</td>\n      <td>0</td>\n      <td>0</td>\n      <td>1.5</td>\n      <td>63.0</td>\n      <td>0.0</td>\n      <td>0</td>\n      <td>...</td>\n      <td>70000000.0</td>\n      <td>2022</td>\n      <td>2</td>\n      <td>0</td>\n      <td>4</td>\n      <td>22500000.0</td>\n      <td>8000000.0</td>\n      <td>6000000.0</td>\n      <td>6000000.0</td>\n      <td>40000000.0</td>\n    </tr>\n    <tr>\n      <th>2204</th>\n      <td>Ludwig Augustinsson</td>\n      <td>130</td>\n      <td>0</td>\n      <td>0</td>\n      <td>0</td>\n      <td>0</td>\n      <td>0.0</td>\n      <td>70.4</td>\n      <td>1.0</td>\n      <td>0</td>\n      <td>...</td>\n      <td>2500000.0</td>\n      <td>2022</td>\n      <td>1</td>\n      <td>3</td>\n      <td>9</td>\n      <td>9500000.0</td>\n      <td>12000000.0</td>\n      <td>7500000.0</td>\n      <td>4000000.0</td>\n      <td>10000000.0</td>\n    </tr>\n    <tr>\n      <th>2215</th>\n      <td>Williot Swedberg</td>\n      <td>52</td>\n      <td>0</td>\n      <td>0</td>\n      <td>1</td>\n      <td>0</td>\n      <td>0.0</td>\n      <td>82.4</td>\n      <td>0.0</td>\n      <td>0</td>\n      <td>...</td>\n      <td>3000000.0</td>\n      <td>2022</td>\n      <td>0</td>\n      <td>4</td>\n      <td>13</td>\n      <td>0.0</td>\n      <td>0.0</td>\n      <td>0.0</td>\n      <td>0.0</td>\n      <td>1800000.0</td>\n    </tr>\n  </tbody>\n</table>\n<p>11 rows × 45 columns</p>\n</div>"
     },
     "execution_count": 12,
     "metadata": {},
     "output_type": "execute_result"
    }
   ],
   "source": [
    "df[df['nationality'] == 'Sweden']"
   ],
   "metadata": {
    "collapsed": false,
    "ExecuteTime": {
     "end_time": "2024-04-16T07:50:40.714981500Z",
     "start_time": "2024-04-16T07:50:40.687930900Z"
    }
   },
   "id": "80f6479213e4f8dc"
  },
  {
   "cell_type": "code",
   "execution_count": 13,
   "outputs": [],
   "source": [
    "df = df.drop(['año', 'Player','index'], axis = 1)"
   ],
   "metadata": {
    "collapsed": false,
    "ExecuteTime": {
     "end_time": "2024-04-16T07:50:51.549269300Z",
     "start_time": "2024-04-16T07:50:51.523248Z"
    }
   },
   "id": "faa095189053eab4"
  },
  {
   "cell_type": "code",
   "execution_count": 16,
   "outputs": [
    {
     "data": {
      "text/plain": "   Mins  Goals  Assists  Yel  Red  SpG   PS%  AerialsWon  MotM  Tackles  ...  \\\n0  2881     25       21    4    0  4.8  82.6         0.3    22      0.6  ...   \n1    90      0        0    0    0  0.0  75.0         5.0     0      1.0  ...   \n2  3091      4        3   12    0  1.3  84.1         2.9     3      2.7  ...   \n3  3155     21        8    0    0  3.4  86.2         0.8    10      0.5  ...   \n4  2002     16        8    4    0  2.8  75.5         0.4     3      0.1  ...   \n\n   nationality_Switzerland  nationality_The Gambia  nationality_Türkiye  \\\n0                      0.0                     0.0                  0.0   \n1                      0.0                     0.0                  0.0   \n2                      0.0                     0.0                  0.0   \n3                      0.0                     0.0                  0.0   \n4                      0.0                     0.0                  0.0   \n\n   nationality_Ukraine  nationality_United States  nationality_Uruguay  \\\n0                  0.0                        0.0                  0.0   \n1                  0.0                        0.0                  0.0   \n2                  0.0                        0.0                  0.0   \n3                  0.0                        0.0                  0.0   \n4                  0.0                        0.0                  1.0   \n\n   nationality_Venezuela  nationality_Wales  nationality_Zambia  \\\n0                    0.0                0.0                 0.0   \n1                    0.0                0.0                 0.0   \n2                    0.0                0.0                 0.0   \n3                    0.0                0.0                 0.0   \n4                    0.0                0.0                 0.0   \n\n   nationality_Zimbabwe  \n0                   0.0  \n1                   0.0  \n2                   0.0  \n3                   0.0  \n4                   0.0  \n\n[5 rows x 150 columns]",
      "text/html": "<div>\n<style scoped>\n    .dataframe tbody tr th:only-of-type {\n        vertical-align: middle;\n    }\n\n    .dataframe tbody tr th {\n        vertical-align: top;\n    }\n\n    .dataframe thead th {\n        text-align: right;\n    }\n</style>\n<table border=\"1\" class=\"dataframe\">\n  <thead>\n    <tr style=\"text-align: right;\">\n      <th></th>\n      <th>Mins</th>\n      <th>Goals</th>\n      <th>Assists</th>\n      <th>Yel</th>\n      <th>Red</th>\n      <th>SpG</th>\n      <th>PS%</th>\n      <th>AerialsWon</th>\n      <th>MotM</th>\n      <th>Tackles</th>\n      <th>...</th>\n      <th>nationality_Switzerland</th>\n      <th>nationality_The Gambia</th>\n      <th>nationality_Türkiye</th>\n      <th>nationality_Ukraine</th>\n      <th>nationality_United States</th>\n      <th>nationality_Uruguay</th>\n      <th>nationality_Venezuela</th>\n      <th>nationality_Wales</th>\n      <th>nationality_Zambia</th>\n      <th>nationality_Zimbabwe</th>\n    </tr>\n  </thead>\n  <tbody>\n    <tr>\n      <th>0</th>\n      <td>2881</td>\n      <td>25</td>\n      <td>21</td>\n      <td>4</td>\n      <td>0</td>\n      <td>4.8</td>\n      <td>82.6</td>\n      <td>0.3</td>\n      <td>22</td>\n      <td>0.6</td>\n      <td>...</td>\n      <td>0.0</td>\n      <td>0.0</td>\n      <td>0.0</td>\n      <td>0.0</td>\n      <td>0.0</td>\n      <td>0.0</td>\n      <td>0.0</td>\n      <td>0.0</td>\n      <td>0.0</td>\n      <td>0.0</td>\n    </tr>\n    <tr>\n      <th>1</th>\n      <td>90</td>\n      <td>0</td>\n      <td>0</td>\n      <td>0</td>\n      <td>0</td>\n      <td>0.0</td>\n      <td>75.0</td>\n      <td>5.0</td>\n      <td>0</td>\n      <td>1.0</td>\n      <td>...</td>\n      <td>0.0</td>\n      <td>0.0</td>\n      <td>0.0</td>\n      <td>0.0</td>\n      <td>0.0</td>\n      <td>0.0</td>\n      <td>0.0</td>\n      <td>0.0</td>\n      <td>0.0</td>\n      <td>0.0</td>\n    </tr>\n    <tr>\n      <th>2</th>\n      <td>3091</td>\n      <td>4</td>\n      <td>3</td>\n      <td>12</td>\n      <td>0</td>\n      <td>1.3</td>\n      <td>84.1</td>\n      <td>2.9</td>\n      <td>3</td>\n      <td>2.7</td>\n      <td>...</td>\n      <td>0.0</td>\n      <td>0.0</td>\n      <td>0.0</td>\n      <td>0.0</td>\n      <td>0.0</td>\n      <td>0.0</td>\n      <td>0.0</td>\n      <td>0.0</td>\n      <td>0.0</td>\n      <td>0.0</td>\n    </tr>\n    <tr>\n      <th>3</th>\n      <td>3155</td>\n      <td>21</td>\n      <td>8</td>\n      <td>0</td>\n      <td>0</td>\n      <td>3.4</td>\n      <td>86.2</td>\n      <td>0.8</td>\n      <td>10</td>\n      <td>0.5</td>\n      <td>...</td>\n      <td>0.0</td>\n      <td>0.0</td>\n      <td>0.0</td>\n      <td>0.0</td>\n      <td>0.0</td>\n      <td>0.0</td>\n      <td>0.0</td>\n      <td>0.0</td>\n      <td>0.0</td>\n      <td>0.0</td>\n    </tr>\n    <tr>\n      <th>4</th>\n      <td>2002</td>\n      <td>16</td>\n      <td>8</td>\n      <td>4</td>\n      <td>0</td>\n      <td>2.8</td>\n      <td>75.5</td>\n      <td>0.4</td>\n      <td>3</td>\n      <td>0.1</td>\n      <td>...</td>\n      <td>0.0</td>\n      <td>0.0</td>\n      <td>0.0</td>\n      <td>0.0</td>\n      <td>0.0</td>\n      <td>1.0</td>\n      <td>0.0</td>\n      <td>0.0</td>\n      <td>0.0</td>\n      <td>0.0</td>\n    </tr>\n  </tbody>\n</table>\n<p>5 rows × 150 columns</p>\n</div>"
     },
     "execution_count": 16,
     "metadata": {},
     "output_type": "execute_result"
    }
   ],
   "source": [
    "from sklearn.preprocessing import OneHotEncoder\n",
    "import pandas as pd\n",
    "\n",
    "variables = ['Equipo', 'position', 'nationality']\n",
    "\n",
    "# Inicializar el codificador one-hot\n",
    "# Nota: A partir de sklearn 1.0, la salida por defecto es densa, por lo que no es necesario sparse=False.\n",
    "one_hot_encoder = OneHotEncoder()\n",
    "\n",
    "# Transformar las variables categóricas usando one-hot encoding\n",
    "# Aquí usamos .toarray() para garantizar que la salida es densa en caso de que el comportamiento predeterminado cambie.\n",
    "one_hot_encoded = one_hot_encoder.fit_transform(df[variables]).toarray()\n",
    "\n",
    "# Obtener los nombres de las columnas después de la codificación one-hot\n",
    "one_hot_encoded_names = one_hot_encoder.get_feature_names_out(variables)\n",
    "\n",
    "# Convertir la salida en un DataFrame y asignar nombres a las columnas\n",
    "one_hot_encoded_df = pd.DataFrame(one_hot_encoded, columns=one_hot_encoded_names)\n",
    "\n",
    "# Concatenar el DataFrame original con el DataFrame de las variables codificadas\n",
    "df = pd.concat([df, one_hot_encoded_df], axis=1)\n",
    "\n",
    "# Eliminar las columnas originales de las variables categóricas\n",
    "df = df.drop(variables, axis=1)\n",
    "\n",
    "# Mostrar los primeros registros del DataFrame con las variables codificadas\n",
    "df.head()"
   ],
   "metadata": {
    "collapsed": false,
    "ExecuteTime": {
     "end_time": "2024-04-16T07:53:02.565987800Z",
     "start_time": "2024-04-16T07:53:02.523590200Z"
    }
   },
   "id": "6f6a24c4badf94d1"
  },
  {
   "cell_type": "code",
   "execution_count": 17,
   "outputs": [
    {
     "name": "stdout",
     "output_type": "stream",
     "text": [
      "<class 'pandas.core.frame.DataFrame'>\n",
      "RangeIndex: 2267 entries, 0 to 2266\n",
      "Columns: 150 entries, Mins to nationality_Zimbabwe\n",
      "dtypes: float64(138), int64(12)\n",
      "memory usage: 2.6 MB\n"
     ]
    }
   ],
   "source": [
    "df.info()"
   ],
   "metadata": {
    "collapsed": false,
    "ExecuteTime": {
     "end_time": "2024-04-16T07:53:26.381666300Z",
     "start_time": "2024-04-16T07:53:26.352095300Z"
    }
   },
   "id": "9202122e57e96183"
  },
  {
   "cell_type": "code",
   "execution_count": 18,
   "outputs": [],
   "source": [
    "df1 = df[df['marketValue'] < 80000000].copy()"
   ],
   "metadata": {
    "collapsed": false,
    "ExecuteTime": {
     "end_time": "2024-04-16T07:53:31.285291800Z",
     "start_time": "2024-04-16T07:53:31.257922200Z"
    }
   },
   "id": "c0751f88f3a38c71"
  },
  {
   "cell_type": "code",
   "execution_count": 19,
   "outputs": [],
   "source": [
    "c = ['Mins', 'Goals', 'Assists', 'Yel', 'Red', 'SpG', 'PS%', 'AerialsWon', 'MotM', 'Tackles', 'Inter', \n",
    "             'Fouls', 'Offsides', 'Clear', 'DeffDrb', 'Blocks', 'OwnG', 'KeyP', 'OffDrb', 'Fouled', 'Off', \n",
    "             'Disp', 'UnsTch', 'AvgP', 'Crosses', 'LongB', 'ThrB', 'age', 'height', 'Año_natural', 'Titularidades', \n",
    "             'Suplencias', 'Equipo_pos', '1_año_anterior', '2_año_anterior', '3_año_anterior', '4_año_anterior', \n",
    "             '5_año_anterior', 'Equipo_Athletic Bilbao', 'Equipo_Atlético de Madrid', 'Equipo_CA Osasuna', \n",
    "             'Equipo_CD Leganés', 'Equipo_Celta de Vigo', 'Equipo_Cádiz CF', 'Equipo_Deportivo Alavés', \n",
    "             'Equipo_Elche CF', 'Equipo_FC Barcelona', 'Equipo_Getafe CF', 'Equipo_Girona FC', 'Equipo_Granada CF', \n",
    "             'Equipo_Levante UD', 'Equipo_RCD Espanyol Barcelona', 'Equipo_RCD Mallorca', 'Equipo_Rayo Vallecano', \n",
    "             'Equipo_Real Betis Balompié', 'Equipo_Real Madrid', 'Equipo_Real Sociedad', 'Equipo_Real Valladolid CF', \n",
    "             'Equipo_SD Eibar', 'Equipo_SD Huesca', 'Equipo_Sevilla FC', 'Equipo_UD Almería', 'Equipo_Valencia CF', \n",
    "             'Equipo_Villarreal CF', 'position_Attacking Midfield', 'position_Central Midfield', 'position_Centre-Back', \n",
    "             'position_Centre-Forward', 'position_Defensive Midfield', 'position_Goalkeeper', 'position_Left Midfield', \n",
    "             'position_Left Winger', 'position_Left-Back', 'position_Right Winger', 'position_Right-Back', \n",
    "             'position_Second Striker', 'nationality_Albania', 'nationality_Algeria', 'nationality_Angola', \n",
    "             'nationality_Argentina', 'nationality_Armenia', 'nationality_Australia', 'nationality_Austria', \n",
    "             'nationality_Belgium', 'nationality_Bosnia-Herzegovina', 'nationality_Brazil', 'nationality_Cameroon', \n",
    "             'nationality_Canada', 'nationality_Cape Verde', 'nationality_Central African Republic', 'nationality_Chile', \n",
    "             'nationality_Colombia', 'nationality_Costa Rica', 'nationality_Cote d\\'Ivoire', 'nationality_Croatia', \n",
    "             'nationality_Czech Republic', 'nationality_DR Congo', 'nationality_Denmark', 'nationality_Dominican Republic', \n",
    "             'nationality_Ecuador', 'nationality_England', 'nationality_Equatorial Guinea', 'nationality_France', \n",
    "             'nationality_Gabon', 'nationality_Georgia', 'nationality_Germany', 'nationality_Ghana', 'nationality_Greece', \n",
    "             'nationality_Guadeloupe', 'nationality_Guinea', 'nationality_Guinea-Bissau', 'nationality_Ireland', \n",
    "             'nationality_Israel', 'nationality_Italy', 'nationality_Japan', 'nationality_Kosovo', 'nationality_Mali', \n",
    "             'nationality_Martinique', 'nationality_Mauritania', 'nationality_Mexico', 'nationality_Montenegro', \n",
    "             'nationality_Morocco', 'nationality_Netherlands', 'nationality_Nigeria', 'nationality_North Macedonia', \n",
    "             'nationality_Norway', 'nationality_Paraguay', 'nationality_Peru', 'nationality_Poland', 'nationality_Portugal', \n",
    "             'nationality_Romania', 'nationality_Russia', 'nationality_Scotland', 'nationality_Senegal', 'nationality_Serbia', \n",
    "             'nationality_Slovakia', 'nationality_Slovenia', 'nationality_Spain', 'nationality_Sweden', 'nationality_Switzerland', \n",
    "             'nationality_The Gambia', 'nationality_Türkiye', 'nationality_Ukraine', 'nationality_United States', \n",
    "             'nationality_Uruguay', 'nationality_Venezuela', 'nationality_Wales', 'nationality_Zambia', 'nationality_Zimbabwe', \n",
    "             'marketValue'] \n",
    "\n",
    "# Reordenar las columnas\n",
    "datos = df1[c]"
   ],
   "metadata": {
    "collapsed": false,
    "ExecuteTime": {
     "end_time": "2024-04-16T07:53:38.997583600Z",
     "start_time": "2024-04-16T07:53:38.978305200Z"
    }
   },
   "id": "57848fcd01b622d7"
  },
  {
   "cell_type": "code",
   "execution_count": 20,
   "outputs": [
    {
     "data": {
      "text/plain": "      Mins  Goals  Assists  Yel  Red  SpG    PS%  AerialsWon  MotM  Tackles  \\\n1       90      0        0    0    0  0.0   75.0         5.0     0      1.0   \n2     3091      4        3   12    0  1.3   84.1         2.9     3      2.7   \n3     3155     21        8    0    0  3.4   86.2         0.8    10      0.5   \n4     2002     16        8    4    0  2.8   75.5         0.4     3      0.1   \n5     3144      5        1    9    0  1.2   75.8         5.1     5      2.2   \n...    ...    ...      ...  ...  ...  ...    ...         ...   ...      ...   \n2262     4      0        0    0    0  0.0   85.7         0.0     0      0.0   \n2263    10      0        0    1    0  0.0   33.3         1.0     0      0.0   \n2264     6      0        0    0    0  1.0  100.0         0.0     0      0.0   \n2265     9      0        0    1    0  0.0  100.0         0.0     0      1.0   \n2266    36      0        0    1    1  0.0   73.7         0.0     0      0.0   \n\n      ...  nationality_The Gambia  nationality_Türkiye  nationality_Ukraine  \\\n1     ...                     0.0                  0.0                  0.0   \n2     ...                     0.0                  0.0                  0.0   \n3     ...                     0.0                  0.0                  0.0   \n4     ...                     0.0                  0.0                  0.0   \n5     ...                     0.0                  0.0                  0.0   \n...   ...                     ...                  ...                  ...   \n2262  ...                     0.0                  0.0                  0.0   \n2263  ...                     0.0                  0.0                  0.0   \n2264  ...                     0.0                  0.0                  0.0   \n2265  ...                     0.0                  0.0                  0.0   \n2266  ...                     0.0                  0.0                  0.0   \n\n      nationality_United States  nationality_Uruguay  nationality_Venezuela  \\\n1                           0.0                  0.0                    0.0   \n2                           0.0                  0.0                    0.0   \n3                           0.0                  0.0                    0.0   \n4                           0.0                  1.0                    0.0   \n5                           0.0                  0.0                    0.0   \n...                         ...                  ...                    ...   \n2262                        0.0                  0.0                    0.0   \n2263                        0.0                  0.0                    0.0   \n2264                        0.0                  0.0                    0.0   \n2265                        0.0                  0.0                    0.0   \n2266                        0.0                  0.0                    0.0   \n\n      nationality_Wales  nationality_Zambia  nationality_Zimbabwe  marketValue  \n1                   0.0                 0.0                   0.0   11000000.0  \n2                   0.0                 0.0                   0.0   64000000.0  \n3                   0.0                 0.0                   0.0   32000000.0  \n4                   0.0                 0.0                   0.0   28000000.0  \n5                   0.0                 0.0                   0.0   24000000.0  \n...                 ...                 ...                   ...          ...  \n2262                0.0                 0.0                   0.0     500000.0  \n2263                0.0                 0.0                   0.0     800000.0  \n2264                0.0                 0.0                   0.0     400000.0  \n2265                0.0                 0.0                   0.0     400000.0  \n2266                0.0                 0.0                   0.0     900000.0  \n\n[2251 rows x 150 columns]",
      "text/html": "<div>\n<style scoped>\n    .dataframe tbody tr th:only-of-type {\n        vertical-align: middle;\n    }\n\n    .dataframe tbody tr th {\n        vertical-align: top;\n    }\n\n    .dataframe thead th {\n        text-align: right;\n    }\n</style>\n<table border=\"1\" class=\"dataframe\">\n  <thead>\n    <tr style=\"text-align: right;\">\n      <th></th>\n      <th>Mins</th>\n      <th>Goals</th>\n      <th>Assists</th>\n      <th>Yel</th>\n      <th>Red</th>\n      <th>SpG</th>\n      <th>PS%</th>\n      <th>AerialsWon</th>\n      <th>MotM</th>\n      <th>Tackles</th>\n      <th>...</th>\n      <th>nationality_The Gambia</th>\n      <th>nationality_Türkiye</th>\n      <th>nationality_Ukraine</th>\n      <th>nationality_United States</th>\n      <th>nationality_Uruguay</th>\n      <th>nationality_Venezuela</th>\n      <th>nationality_Wales</th>\n      <th>nationality_Zambia</th>\n      <th>nationality_Zimbabwe</th>\n      <th>marketValue</th>\n    </tr>\n  </thead>\n  <tbody>\n    <tr>\n      <th>1</th>\n      <td>90</td>\n      <td>0</td>\n      <td>0</td>\n      <td>0</td>\n      <td>0</td>\n      <td>0.0</td>\n      <td>75.0</td>\n      <td>5.0</td>\n      <td>0</td>\n      <td>1.0</td>\n      <td>...</td>\n      <td>0.0</td>\n      <td>0.0</td>\n      <td>0.0</td>\n      <td>0.0</td>\n      <td>0.0</td>\n      <td>0.0</td>\n      <td>0.0</td>\n      <td>0.0</td>\n      <td>0.0</td>\n      <td>11000000.0</td>\n    </tr>\n    <tr>\n      <th>2</th>\n      <td>3091</td>\n      <td>4</td>\n      <td>3</td>\n      <td>12</td>\n      <td>0</td>\n      <td>1.3</td>\n      <td>84.1</td>\n      <td>2.9</td>\n      <td>3</td>\n      <td>2.7</td>\n      <td>...</td>\n      <td>0.0</td>\n      <td>0.0</td>\n      <td>0.0</td>\n      <td>0.0</td>\n      <td>0.0</td>\n      <td>0.0</td>\n      <td>0.0</td>\n      <td>0.0</td>\n      <td>0.0</td>\n      <td>64000000.0</td>\n    </tr>\n    <tr>\n      <th>3</th>\n      <td>3155</td>\n      <td>21</td>\n      <td>8</td>\n      <td>0</td>\n      <td>0</td>\n      <td>3.4</td>\n      <td>86.2</td>\n      <td>0.8</td>\n      <td>10</td>\n      <td>0.5</td>\n      <td>...</td>\n      <td>0.0</td>\n      <td>0.0</td>\n      <td>0.0</td>\n      <td>0.0</td>\n      <td>0.0</td>\n      <td>0.0</td>\n      <td>0.0</td>\n      <td>0.0</td>\n      <td>0.0</td>\n      <td>32000000.0</td>\n    </tr>\n    <tr>\n      <th>4</th>\n      <td>2002</td>\n      <td>16</td>\n      <td>8</td>\n      <td>4</td>\n      <td>0</td>\n      <td>2.8</td>\n      <td>75.5</td>\n      <td>0.4</td>\n      <td>3</td>\n      <td>0.1</td>\n      <td>...</td>\n      <td>0.0</td>\n      <td>0.0</td>\n      <td>0.0</td>\n      <td>0.0</td>\n      <td>1.0</td>\n      <td>0.0</td>\n      <td>0.0</td>\n      <td>0.0</td>\n      <td>0.0</td>\n      <td>28000000.0</td>\n    </tr>\n    <tr>\n      <th>5</th>\n      <td>3144</td>\n      <td>5</td>\n      <td>1</td>\n      <td>9</td>\n      <td>0</td>\n      <td>1.2</td>\n      <td>75.8</td>\n      <td>5.1</td>\n      <td>5</td>\n      <td>2.2</td>\n      <td>...</td>\n      <td>0.0</td>\n      <td>0.0</td>\n      <td>0.0</td>\n      <td>0.0</td>\n      <td>0.0</td>\n      <td>0.0</td>\n      <td>0.0</td>\n      <td>0.0</td>\n      <td>0.0</td>\n      <td>24000000.0</td>\n    </tr>\n    <tr>\n      <th>...</th>\n      <td>...</td>\n      <td>...</td>\n      <td>...</td>\n      <td>...</td>\n      <td>...</td>\n      <td>...</td>\n      <td>...</td>\n      <td>...</td>\n      <td>...</td>\n      <td>...</td>\n      <td>...</td>\n      <td>...</td>\n      <td>...</td>\n      <td>...</td>\n      <td>...</td>\n      <td>...</td>\n      <td>...</td>\n      <td>...</td>\n      <td>...</td>\n      <td>...</td>\n      <td>...</td>\n    </tr>\n    <tr>\n      <th>2262</th>\n      <td>4</td>\n      <td>0</td>\n      <td>0</td>\n      <td>0</td>\n      <td>0</td>\n      <td>0.0</td>\n      <td>85.7</td>\n      <td>0.0</td>\n      <td>0</td>\n      <td>0.0</td>\n      <td>...</td>\n      <td>0.0</td>\n      <td>0.0</td>\n      <td>0.0</td>\n      <td>0.0</td>\n      <td>0.0</td>\n      <td>0.0</td>\n      <td>0.0</td>\n      <td>0.0</td>\n      <td>0.0</td>\n      <td>500000.0</td>\n    </tr>\n    <tr>\n      <th>2263</th>\n      <td>10</td>\n      <td>0</td>\n      <td>0</td>\n      <td>1</td>\n      <td>0</td>\n      <td>0.0</td>\n      <td>33.3</td>\n      <td>1.0</td>\n      <td>0</td>\n      <td>0.0</td>\n      <td>...</td>\n      <td>0.0</td>\n      <td>0.0</td>\n      <td>0.0</td>\n      <td>0.0</td>\n      <td>0.0</td>\n      <td>0.0</td>\n      <td>0.0</td>\n      <td>0.0</td>\n      <td>0.0</td>\n      <td>800000.0</td>\n    </tr>\n    <tr>\n      <th>2264</th>\n      <td>6</td>\n      <td>0</td>\n      <td>0</td>\n      <td>0</td>\n      <td>0</td>\n      <td>1.0</td>\n      <td>100.0</td>\n      <td>0.0</td>\n      <td>0</td>\n      <td>0.0</td>\n      <td>...</td>\n      <td>0.0</td>\n      <td>0.0</td>\n      <td>0.0</td>\n      <td>0.0</td>\n      <td>0.0</td>\n      <td>0.0</td>\n      <td>0.0</td>\n      <td>0.0</td>\n      <td>0.0</td>\n      <td>400000.0</td>\n    </tr>\n    <tr>\n      <th>2265</th>\n      <td>9</td>\n      <td>0</td>\n      <td>0</td>\n      <td>1</td>\n      <td>0</td>\n      <td>0.0</td>\n      <td>100.0</td>\n      <td>0.0</td>\n      <td>0</td>\n      <td>1.0</td>\n      <td>...</td>\n      <td>0.0</td>\n      <td>0.0</td>\n      <td>0.0</td>\n      <td>0.0</td>\n      <td>0.0</td>\n      <td>0.0</td>\n      <td>0.0</td>\n      <td>0.0</td>\n      <td>0.0</td>\n      <td>400000.0</td>\n    </tr>\n    <tr>\n      <th>2266</th>\n      <td>36</td>\n      <td>0</td>\n      <td>0</td>\n      <td>1</td>\n      <td>1</td>\n      <td>0.0</td>\n      <td>73.7</td>\n      <td>0.0</td>\n      <td>0</td>\n      <td>0.0</td>\n      <td>...</td>\n      <td>0.0</td>\n      <td>0.0</td>\n      <td>0.0</td>\n      <td>0.0</td>\n      <td>0.0</td>\n      <td>0.0</td>\n      <td>0.0</td>\n      <td>0.0</td>\n      <td>0.0</td>\n      <td>900000.0</td>\n    </tr>\n  </tbody>\n</table>\n<p>2251 rows × 150 columns</p>\n</div>"
     },
     "execution_count": 20,
     "metadata": {},
     "output_type": "execute_result"
    }
   ],
   "source": [
    "datos"
   ],
   "metadata": {
    "collapsed": false,
    "ExecuteTime": {
     "end_time": "2024-04-16T07:53:44.893730700Z",
     "start_time": "2024-04-16T07:53:44.858936400Z"
    }
   },
   "id": "f01e381e264769ec"
  },
  {
   "cell_type": "code",
   "execution_count": 21,
   "outputs": [],
   "source": [
    "datos = datos.reset_index()"
   ],
   "metadata": {
    "collapsed": false,
    "ExecuteTime": {
     "end_time": "2024-04-16T07:53:52.751183900Z",
     "start_time": "2024-04-16T07:53:52.723406400Z"
    }
   },
   "id": "b3f527b78fb3dfcd"
  },
  {
   "cell_type": "code",
   "execution_count": 22,
   "outputs": [
    {
     "data": {
      "text/plain": "      Mins  Goals  Assists  Yel  Red  SpG    PS%  AerialsWon  MotM  Tackles  \\\n0       90      0        0    0    0  0.0   75.0         5.0     0      1.0   \n1     3091      4        3   12    0  1.3   84.1         2.9     3      2.7   \n2     3155     21        8    0    0  3.4   86.2         0.8    10      0.5   \n3     2002     16        8    4    0  2.8   75.5         0.4     3      0.1   \n4     3144      5        1    9    0  1.2   75.8         5.1     5      2.2   \n...    ...    ...      ...  ...  ...  ...    ...         ...   ...      ...   \n2246     4      0        0    0    0  0.0   85.7         0.0     0      0.0   \n2247    10      0        0    1    0  0.0   33.3         1.0     0      0.0   \n2248     6      0        0    0    0  1.0  100.0         0.0     0      0.0   \n2249     9      0        0    1    0  0.0  100.0         0.0     0      1.0   \n2250    36      0        0    1    1  0.0   73.7         0.0     0      0.0   \n\n      ...  nationality_The Gambia  nationality_Türkiye  nationality_Ukraine  \\\n0     ...                     0.0                  0.0                  0.0   \n1     ...                     0.0                  0.0                  0.0   \n2     ...                     0.0                  0.0                  0.0   \n3     ...                     0.0                  0.0                  0.0   \n4     ...                     0.0                  0.0                  0.0   \n...   ...                     ...                  ...                  ...   \n2246  ...                     0.0                  0.0                  0.0   \n2247  ...                     0.0                  0.0                  0.0   \n2248  ...                     0.0                  0.0                  0.0   \n2249  ...                     0.0                  0.0                  0.0   \n2250  ...                     0.0                  0.0                  0.0   \n\n      nationality_United States  nationality_Uruguay  nationality_Venezuela  \\\n0                           0.0                  0.0                    0.0   \n1                           0.0                  0.0                    0.0   \n2                           0.0                  0.0                    0.0   \n3                           0.0                  1.0                    0.0   \n4                           0.0                  0.0                    0.0   \n...                         ...                  ...                    ...   \n2246                        0.0                  0.0                    0.0   \n2247                        0.0                  0.0                    0.0   \n2248                        0.0                  0.0                    0.0   \n2249                        0.0                  0.0                    0.0   \n2250                        0.0                  0.0                    0.0   \n\n      nationality_Wales  nationality_Zambia  nationality_Zimbabwe  marketValue  \n0                   0.0                 0.0                   0.0   11000000.0  \n1                   0.0                 0.0                   0.0   64000000.0  \n2                   0.0                 0.0                   0.0   32000000.0  \n3                   0.0                 0.0                   0.0   28000000.0  \n4                   0.0                 0.0                   0.0   24000000.0  \n...                 ...                 ...                   ...          ...  \n2246                0.0                 0.0                   0.0     500000.0  \n2247                0.0                 0.0                   0.0     800000.0  \n2248                0.0                 0.0                   0.0     400000.0  \n2249                0.0                 0.0                   0.0     400000.0  \n2250                0.0                 0.0                   0.0     900000.0  \n\n[2251 rows x 150 columns]",
      "text/html": "<div>\n<style scoped>\n    .dataframe tbody tr th:only-of-type {\n        vertical-align: middle;\n    }\n\n    .dataframe tbody tr th {\n        vertical-align: top;\n    }\n\n    .dataframe thead th {\n        text-align: right;\n    }\n</style>\n<table border=\"1\" class=\"dataframe\">\n  <thead>\n    <tr style=\"text-align: right;\">\n      <th></th>\n      <th>Mins</th>\n      <th>Goals</th>\n      <th>Assists</th>\n      <th>Yel</th>\n      <th>Red</th>\n      <th>SpG</th>\n      <th>PS%</th>\n      <th>AerialsWon</th>\n      <th>MotM</th>\n      <th>Tackles</th>\n      <th>...</th>\n      <th>nationality_The Gambia</th>\n      <th>nationality_Türkiye</th>\n      <th>nationality_Ukraine</th>\n      <th>nationality_United States</th>\n      <th>nationality_Uruguay</th>\n      <th>nationality_Venezuela</th>\n      <th>nationality_Wales</th>\n      <th>nationality_Zambia</th>\n      <th>nationality_Zimbabwe</th>\n      <th>marketValue</th>\n    </tr>\n  </thead>\n  <tbody>\n    <tr>\n      <th>0</th>\n      <td>90</td>\n      <td>0</td>\n      <td>0</td>\n      <td>0</td>\n      <td>0</td>\n      <td>0.0</td>\n      <td>75.0</td>\n      <td>5.0</td>\n      <td>0</td>\n      <td>1.0</td>\n      <td>...</td>\n      <td>0.0</td>\n      <td>0.0</td>\n      <td>0.0</td>\n      <td>0.0</td>\n      <td>0.0</td>\n      <td>0.0</td>\n      <td>0.0</td>\n      <td>0.0</td>\n      <td>0.0</td>\n      <td>11000000.0</td>\n    </tr>\n    <tr>\n      <th>1</th>\n      <td>3091</td>\n      <td>4</td>\n      <td>3</td>\n      <td>12</td>\n      <td>0</td>\n      <td>1.3</td>\n      <td>84.1</td>\n      <td>2.9</td>\n      <td>3</td>\n      <td>2.7</td>\n      <td>...</td>\n      <td>0.0</td>\n      <td>0.0</td>\n      <td>0.0</td>\n      <td>0.0</td>\n      <td>0.0</td>\n      <td>0.0</td>\n      <td>0.0</td>\n      <td>0.0</td>\n      <td>0.0</td>\n      <td>64000000.0</td>\n    </tr>\n    <tr>\n      <th>2</th>\n      <td>3155</td>\n      <td>21</td>\n      <td>8</td>\n      <td>0</td>\n      <td>0</td>\n      <td>3.4</td>\n      <td>86.2</td>\n      <td>0.8</td>\n      <td>10</td>\n      <td>0.5</td>\n      <td>...</td>\n      <td>0.0</td>\n      <td>0.0</td>\n      <td>0.0</td>\n      <td>0.0</td>\n      <td>0.0</td>\n      <td>0.0</td>\n      <td>0.0</td>\n      <td>0.0</td>\n      <td>0.0</td>\n      <td>32000000.0</td>\n    </tr>\n    <tr>\n      <th>3</th>\n      <td>2002</td>\n      <td>16</td>\n      <td>8</td>\n      <td>4</td>\n      <td>0</td>\n      <td>2.8</td>\n      <td>75.5</td>\n      <td>0.4</td>\n      <td>3</td>\n      <td>0.1</td>\n      <td>...</td>\n      <td>0.0</td>\n      <td>0.0</td>\n      <td>0.0</td>\n      <td>0.0</td>\n      <td>1.0</td>\n      <td>0.0</td>\n      <td>0.0</td>\n      <td>0.0</td>\n      <td>0.0</td>\n      <td>28000000.0</td>\n    </tr>\n    <tr>\n      <th>4</th>\n      <td>3144</td>\n      <td>5</td>\n      <td>1</td>\n      <td>9</td>\n      <td>0</td>\n      <td>1.2</td>\n      <td>75.8</td>\n      <td>5.1</td>\n      <td>5</td>\n      <td>2.2</td>\n      <td>...</td>\n      <td>0.0</td>\n      <td>0.0</td>\n      <td>0.0</td>\n      <td>0.0</td>\n      <td>0.0</td>\n      <td>0.0</td>\n      <td>0.0</td>\n      <td>0.0</td>\n      <td>0.0</td>\n      <td>24000000.0</td>\n    </tr>\n    <tr>\n      <th>...</th>\n      <td>...</td>\n      <td>...</td>\n      <td>...</td>\n      <td>...</td>\n      <td>...</td>\n      <td>...</td>\n      <td>...</td>\n      <td>...</td>\n      <td>...</td>\n      <td>...</td>\n      <td>...</td>\n      <td>...</td>\n      <td>...</td>\n      <td>...</td>\n      <td>...</td>\n      <td>...</td>\n      <td>...</td>\n      <td>...</td>\n      <td>...</td>\n      <td>...</td>\n      <td>...</td>\n    </tr>\n    <tr>\n      <th>2246</th>\n      <td>4</td>\n      <td>0</td>\n      <td>0</td>\n      <td>0</td>\n      <td>0</td>\n      <td>0.0</td>\n      <td>85.7</td>\n      <td>0.0</td>\n      <td>0</td>\n      <td>0.0</td>\n      <td>...</td>\n      <td>0.0</td>\n      <td>0.0</td>\n      <td>0.0</td>\n      <td>0.0</td>\n      <td>0.0</td>\n      <td>0.0</td>\n      <td>0.0</td>\n      <td>0.0</td>\n      <td>0.0</td>\n      <td>500000.0</td>\n    </tr>\n    <tr>\n      <th>2247</th>\n      <td>10</td>\n      <td>0</td>\n      <td>0</td>\n      <td>1</td>\n      <td>0</td>\n      <td>0.0</td>\n      <td>33.3</td>\n      <td>1.0</td>\n      <td>0</td>\n      <td>0.0</td>\n      <td>...</td>\n      <td>0.0</td>\n      <td>0.0</td>\n      <td>0.0</td>\n      <td>0.0</td>\n      <td>0.0</td>\n      <td>0.0</td>\n      <td>0.0</td>\n      <td>0.0</td>\n      <td>0.0</td>\n      <td>800000.0</td>\n    </tr>\n    <tr>\n      <th>2248</th>\n      <td>6</td>\n      <td>0</td>\n      <td>0</td>\n      <td>0</td>\n      <td>0</td>\n      <td>1.0</td>\n      <td>100.0</td>\n      <td>0.0</td>\n      <td>0</td>\n      <td>0.0</td>\n      <td>...</td>\n      <td>0.0</td>\n      <td>0.0</td>\n      <td>0.0</td>\n      <td>0.0</td>\n      <td>0.0</td>\n      <td>0.0</td>\n      <td>0.0</td>\n      <td>0.0</td>\n      <td>0.0</td>\n      <td>400000.0</td>\n    </tr>\n    <tr>\n      <th>2249</th>\n      <td>9</td>\n      <td>0</td>\n      <td>0</td>\n      <td>1</td>\n      <td>0</td>\n      <td>0.0</td>\n      <td>100.0</td>\n      <td>0.0</td>\n      <td>0</td>\n      <td>1.0</td>\n      <td>...</td>\n      <td>0.0</td>\n      <td>0.0</td>\n      <td>0.0</td>\n      <td>0.0</td>\n      <td>0.0</td>\n      <td>0.0</td>\n      <td>0.0</td>\n      <td>0.0</td>\n      <td>0.0</td>\n      <td>400000.0</td>\n    </tr>\n    <tr>\n      <th>2250</th>\n      <td>36</td>\n      <td>0</td>\n      <td>0</td>\n      <td>1</td>\n      <td>1</td>\n      <td>0.0</td>\n      <td>73.7</td>\n      <td>0.0</td>\n      <td>0</td>\n      <td>0.0</td>\n      <td>...</td>\n      <td>0.0</td>\n      <td>0.0</td>\n      <td>0.0</td>\n      <td>0.0</td>\n      <td>0.0</td>\n      <td>0.0</td>\n      <td>0.0</td>\n      <td>0.0</td>\n      <td>0.0</td>\n      <td>900000.0</td>\n    </tr>\n  </tbody>\n</table>\n<p>2251 rows × 150 columns</p>\n</div>"
     },
     "execution_count": 22,
     "metadata": {},
     "output_type": "execute_result"
    }
   ],
   "source": [
    "datos = datos.drop('index', axis = 1)\n",
    "datos"
   ],
   "metadata": {
    "collapsed": false,
    "ExecuteTime": {
     "end_time": "2024-04-16T07:53:58.552738600Z",
     "start_time": "2024-04-16T07:53:58.505994800Z"
    }
   },
   "id": "b87e5283f898b43d"
  },
  {
   "cell_type": "code",
   "execution_count": 28,
   "outputs": [],
   "source": [
    "datos.to_parquet(\"datos_preparados_solo_entrenamiento.parquet\")"
   ],
   "metadata": {
    "collapsed": false,
    "ExecuteTime": {
     "end_time": "2024-04-16T08:13:57.104695800Z",
     "start_time": "2024-04-16T08:13:56.968058Z"
    }
   },
   "id": "38cfd302410c2fb8"
  }
 ],
 "metadata": {
  "kernelspec": {
   "display_name": "Python 3",
   "language": "python",
   "name": "python3"
  },
  "language_info": {
   "codemirror_mode": {
    "name": "ipython",
    "version": 2
   },
   "file_extension": ".py",
   "mimetype": "text/x-python",
   "name": "python",
   "nbconvert_exporter": "python",
   "pygments_lexer": "ipython2",
   "version": "2.7.6"
  }
 },
 "nbformat": 4,
 "nbformat_minor": 5
}
