{
 "cells": [
  {
   "cell_type": "code",
   "execution_count": 3,
   "outputs": [],
   "source": [
    "import pandas as pd\n",
    "import numpy as np\n",
    "from sklearn.model_selection import train_test_split, cross_validate\n",
    "from sklearn.neural_network import MLPRegressor\n",
    "from sklearn.preprocessing import StandardScaler\n",
    "from sklearn.metrics import max_error, r2_score, mean_absolute_error\n",
    "import mlflow\n",
    "import os"
   ],
   "metadata": {
    "collapsed": false,
    "ExecuteTime": {
     "end_time": "2024-04-16T22:45:48.084733300Z",
     "start_time": "2024-04-16T22:45:46.738105700Z"
    }
   },
   "id": "a0c4549358f8b727"
  },
  {
   "cell_type": "code",
   "execution_count": 4,
   "outputs": [],
   "source": [
    "\"\"\"\n",
    "Descarga de Archivos desde Google Drive sin Autenticación\n",
    "\n",
    "Este script permite descargar archivos específicos desde Google Drive directamente a una ubicación local,\n",
    "utilizando el ID de Google Drive del archivo (el archivo debe ser accesible para cualquier persona que tenga la URL).\n",
    "\n",
    "El script procesa un archivo de texto ('archivos_info.txt') que contiene las IDs de Google Drive de los archivos,\n",
    "los nombres con los que se desean guardar localmente, y las rutas locales de almacenamiento, todo separado por comas.\n",
    "\n",
    "Formato esperado de 'archivos_info.txt':\n",
    "ID_de_Google_Drive,Nombre_Archivo_Local,Ruta_Local\n",
    "\n",
    "Ejemplo:\n",
    "1hGvKmNAkK...,mi_archivo.txt,./descargas\n",
    "\n",
    "Requisitos:\n",
    "- Módulo 'requests' instalado en el entorno Python donde se ejecute este script.\n",
    "\n",
    "\n",
    "\n",
    "\"\"\"\n",
    "\n",
    "import requests\n",
    "import os\n",
    "\n",
    "\n",
    "def descargar_archivo_directo(id_archivo, directorio_destino, archivo_destino):\n",
    "    \"\"\"\n",
    "    Descarga un archivo directamente desde Google Drive y lo guarda localmente.\n",
    "\n",
    "    Parámetros:\n",
    "    - id_archivo (str): ID del archivo en Google Drive.\n",
    "    - directorio_destino (str): Ruta del directorio local donde se guardará el archivo.\n",
    "    - archivo_destino (str): Nombre deseado para el archivo en local\n",
    "\n",
    "    Devuelve:\n",
    "    - archivo_destino (str): Nombre del archivo guardado.\n",
    "    - ruta_completa (str): Ruta completa del archivo guardado.\n",
    "    \"\"\"\n",
    "    # Construye la URL de descarga directa utilizando el ID del archivo\n",
    "    url = f\"https://drive.google.com/uc?export=download&id={id_archivo}\"\n",
    "\n",
    "    # Realiza la petición HTTP GET para descargar el archivo\n",
    "    respuesta = requests.get(url, allow_redirects=True)\n",
    "\n",
    "    # Comprueba que el directorio destino existe, si no, lo crea\n",
    "    os.makedirs(directorio_destino, exist_ok=True)\n",
    "\n",
    "    # Construye la ruta completa donde se guardará el archivo en local\n",
    "    ruta_completa = os.path.join(directorio_destino, archivo_destino)\n",
    "\n",
    "    # Guarda el contenido del archivo descargado en local\n",
    "    with open(ruta_completa, 'wb') as archivo:\n",
    "        archivo.write(respuesta.content)\n",
    "\n",
    "\n",
    "    return archivo_destino, ruta_completa\n",
    "\n",
    "\n",
    "def procesar_archivo_info(ruta_archivo_info):\n",
    "    \"\"\"\n",
    "    Procesa un archivo de texto que contiene información sobre los archivos a descargar.\n",
    "\n",
    "    Parámetros:\n",
    "    - ruta_archivo_info (str): Ruta del archivo de texto que contiene los IDs de Google Drive,\n",
    "                               los nombres de los archivos locales y las rutas locales.\n",
    "\n",
    "    Devuelve:\n",
    "    - Una lista de tuplas con el ID de Google Drive, el nombre local del archivo, y la ruta local.\n",
    "    \"\"\"\n",
    "    archivos_info = []\n",
    "    with open(ruta_archivo_info, 'r') as archivo:\n",
    "        for linea in archivo:\n",
    "            id_archivo, nombre_archivo, directorio_destino = linea.strip().split(',')\n",
    "            archivos_info.append((id_archivo, nombre_archivo, directorio_destino))\n",
    "    return archivos_info\n"
   ],
   "metadata": {
    "collapsed": false,
    "ExecuteTime": {
     "end_time": "2024-04-16T22:45:50.956654600Z",
     "start_time": "2024-04-16T22:45:50.951999600Z"
    }
   },
   "id": "initial_id"
  },
  {
   "cell_type": "code",
   "execution_count": 5,
   "outputs": [
    {
     "name": "stdout",
     "output_type": "stream",
     "text": [
      "Archivo datos_preparados_solo_entr.parquet guardado en: ../Downloads\\datos_preparados_solo_entr.parquet\n"
     ]
    }
   ],
   "source": [
    "# Ruta al archivo que contiene la información de los archivos a descargar\n",
    "ruta_archivo_info = \"..\\info_archivos_GDrive_solo_entr.txt\"\n",
    "\n",
    "# Obtenemos la lista con la info de los archivos del fichero\n",
    "archivos_a_descargar = procesar_archivo_info(ruta_archivo_info)\n",
    "\n",
    "# Descargamos cada archivo de la lista\n",
    "for id_archivo, nombre_archivo, directorio_destino in archivos_a_descargar:\n",
    "    nombre_archivo_descargado, ruta_archivo_guardado = descargar_archivo_directo(id_archivo, directorio_destino, nombre_archivo)\n",
    "    print(f\"Archivo {nombre_archivo_descargado} guardado en: {ruta_archivo_guardado}\")"
   ],
   "metadata": {
    "collapsed": false,
    "ExecuteTime": {
     "end_time": "2024-04-16T22:46:14.114056600Z",
     "start_time": "2024-04-16T22:46:12.390901500Z"
    }
   },
   "id": "1ea60cf2f5419c2d"
  },
  {
   "cell_type": "code",
   "execution_count": 6,
   "outputs": [
    {
     "data": {
      "text/plain": "              Mins        Goals      Assists          Yel          Red  \\\ncount  2251.000000  2251.000000  2251.000000  2251.000000  2251.000000   \nmean   1271.695691     1.564638     1.063527     3.069303     0.168814   \nstd     969.241058     2.906800     1.737932     2.958017     0.430942   \nmin       1.000000     0.000000     0.000000     0.000000     0.000000   \n25%     360.500000     0.000000     0.000000     1.000000     0.000000   \n50%    1157.000000     0.000000     0.000000     2.000000     0.000000   \n75%    2040.500000     2.000000     2.000000     5.000000     0.000000   \nmax    3420.000000    27.000000    16.000000    15.000000     3.000000   \n\n               SpG          PS%   AerialsWon         MotM      Tackles  ...  \\\ncount  2251.000000  2251.000000  2251.000000  2251.000000  2251.000000  ...   \nmean      0.629276    76.128387     0.946246     0.622834     0.882719  ...   \nstd       0.604061    13.308598     0.962542     1.244505     0.693640  ...   \nmin       0.000000     0.000000     0.000000     0.000000     0.000000  ...   \n25%       0.200000    70.950000     0.300000     0.000000     0.400000  ...   \n50%       0.500000    78.300000     0.700000     0.000000     0.800000  ...   \n75%       0.900000    84.200000     1.300000     1.000000     1.300000  ...   \nmax       4.500000   100.000000     8.700000    13.000000     6.000000  ...   \n\n       nationality_The Gambia  nationality_Türkiye  nationality_Ukraine  \\\ncount             2251.000000          2251.000000          2251.000000   \nmean                 0.000444             0.002665             0.001333   \nstd                  0.021077             0.051571             0.036490   \nmin                  0.000000             0.000000             0.000000   \n25%                  0.000000             0.000000             0.000000   \n50%                  0.000000             0.000000             0.000000   \n75%                  0.000000             0.000000             0.000000   \nmax                  1.000000             1.000000             1.000000   \n\n       nationality_United States  nationality_Uruguay  nationality_Venezuela  \\\ncount                2251.000000          2251.000000            2251.000000   \nmean                    0.003554             0.028432               0.003998   \nstd                     0.059522             0.166240               0.063119   \nmin                     0.000000             0.000000               0.000000   \n25%                     0.000000             0.000000               0.000000   \n50%                     0.000000             0.000000               0.000000   \n75%                     0.000000             0.000000               0.000000   \nmax                     1.000000             1.000000               1.000000   \n\n       nationality_Wales  nationality_Zambia  nationality_Zimbabwe  \\\ncount        2251.000000         2251.000000           2251.000000   \nmean            0.000888            0.000444              0.000444   \nstd             0.029801            0.021077              0.021077   \nmin             0.000000            0.000000              0.000000   \n25%             0.000000            0.000000              0.000000   \n50%             0.000000            0.000000              0.000000   \n75%             0.000000            0.000000              0.000000   \nmax             1.000000            1.000000              1.000000   \n\n        marketValue  \ncount  2.251000e+03  \nmean   8.160329e+06  \nstd    1.188624e+07  \nmin    2.500000e+04  \n25%    1.500000e+06  \n50%    3.000000e+06  \n75%    9.500000e+06  \nmax    7.500000e+07  \n\n[8 rows x 150 columns]",
      "text/html": "<div>\n<style scoped>\n    .dataframe tbody tr th:only-of-type {\n        vertical-align: middle;\n    }\n\n    .dataframe tbody tr th {\n        vertical-align: top;\n    }\n\n    .dataframe thead th {\n        text-align: right;\n    }\n</style>\n<table border=\"1\" class=\"dataframe\">\n  <thead>\n    <tr style=\"text-align: right;\">\n      <th></th>\n      <th>Mins</th>\n      <th>Goals</th>\n      <th>Assists</th>\n      <th>Yel</th>\n      <th>Red</th>\n      <th>SpG</th>\n      <th>PS%</th>\n      <th>AerialsWon</th>\n      <th>MotM</th>\n      <th>Tackles</th>\n      <th>...</th>\n      <th>nationality_The Gambia</th>\n      <th>nationality_Türkiye</th>\n      <th>nationality_Ukraine</th>\n      <th>nationality_United States</th>\n      <th>nationality_Uruguay</th>\n      <th>nationality_Venezuela</th>\n      <th>nationality_Wales</th>\n      <th>nationality_Zambia</th>\n      <th>nationality_Zimbabwe</th>\n      <th>marketValue</th>\n    </tr>\n  </thead>\n  <tbody>\n    <tr>\n      <th>count</th>\n      <td>2251.000000</td>\n      <td>2251.000000</td>\n      <td>2251.000000</td>\n      <td>2251.000000</td>\n      <td>2251.000000</td>\n      <td>2251.000000</td>\n      <td>2251.000000</td>\n      <td>2251.000000</td>\n      <td>2251.000000</td>\n      <td>2251.000000</td>\n      <td>...</td>\n      <td>2251.000000</td>\n      <td>2251.000000</td>\n      <td>2251.000000</td>\n      <td>2251.000000</td>\n      <td>2251.000000</td>\n      <td>2251.000000</td>\n      <td>2251.000000</td>\n      <td>2251.000000</td>\n      <td>2251.000000</td>\n      <td>2.251000e+03</td>\n    </tr>\n    <tr>\n      <th>mean</th>\n      <td>1271.695691</td>\n      <td>1.564638</td>\n      <td>1.063527</td>\n      <td>3.069303</td>\n      <td>0.168814</td>\n      <td>0.629276</td>\n      <td>76.128387</td>\n      <td>0.946246</td>\n      <td>0.622834</td>\n      <td>0.882719</td>\n      <td>...</td>\n      <td>0.000444</td>\n      <td>0.002665</td>\n      <td>0.001333</td>\n      <td>0.003554</td>\n      <td>0.028432</td>\n      <td>0.003998</td>\n      <td>0.000888</td>\n      <td>0.000444</td>\n      <td>0.000444</td>\n      <td>8.160329e+06</td>\n    </tr>\n    <tr>\n      <th>std</th>\n      <td>969.241058</td>\n      <td>2.906800</td>\n      <td>1.737932</td>\n      <td>2.958017</td>\n      <td>0.430942</td>\n      <td>0.604061</td>\n      <td>13.308598</td>\n      <td>0.962542</td>\n      <td>1.244505</td>\n      <td>0.693640</td>\n      <td>...</td>\n      <td>0.021077</td>\n      <td>0.051571</td>\n      <td>0.036490</td>\n      <td>0.059522</td>\n      <td>0.166240</td>\n      <td>0.063119</td>\n      <td>0.029801</td>\n      <td>0.021077</td>\n      <td>0.021077</td>\n      <td>1.188624e+07</td>\n    </tr>\n    <tr>\n      <th>min</th>\n      <td>1.000000</td>\n      <td>0.000000</td>\n      <td>0.000000</td>\n      <td>0.000000</td>\n      <td>0.000000</td>\n      <td>0.000000</td>\n      <td>0.000000</td>\n      <td>0.000000</td>\n      <td>0.000000</td>\n      <td>0.000000</td>\n      <td>...</td>\n      <td>0.000000</td>\n      <td>0.000000</td>\n      <td>0.000000</td>\n      <td>0.000000</td>\n      <td>0.000000</td>\n      <td>0.000000</td>\n      <td>0.000000</td>\n      <td>0.000000</td>\n      <td>0.000000</td>\n      <td>2.500000e+04</td>\n    </tr>\n    <tr>\n      <th>25%</th>\n      <td>360.500000</td>\n      <td>0.000000</td>\n      <td>0.000000</td>\n      <td>1.000000</td>\n      <td>0.000000</td>\n      <td>0.200000</td>\n      <td>70.950000</td>\n      <td>0.300000</td>\n      <td>0.000000</td>\n      <td>0.400000</td>\n      <td>...</td>\n      <td>0.000000</td>\n      <td>0.000000</td>\n      <td>0.000000</td>\n      <td>0.000000</td>\n      <td>0.000000</td>\n      <td>0.000000</td>\n      <td>0.000000</td>\n      <td>0.000000</td>\n      <td>0.000000</td>\n      <td>1.500000e+06</td>\n    </tr>\n    <tr>\n      <th>50%</th>\n      <td>1157.000000</td>\n      <td>0.000000</td>\n      <td>0.000000</td>\n      <td>2.000000</td>\n      <td>0.000000</td>\n      <td>0.500000</td>\n      <td>78.300000</td>\n      <td>0.700000</td>\n      <td>0.000000</td>\n      <td>0.800000</td>\n      <td>...</td>\n      <td>0.000000</td>\n      <td>0.000000</td>\n      <td>0.000000</td>\n      <td>0.000000</td>\n      <td>0.000000</td>\n      <td>0.000000</td>\n      <td>0.000000</td>\n      <td>0.000000</td>\n      <td>0.000000</td>\n      <td>3.000000e+06</td>\n    </tr>\n    <tr>\n      <th>75%</th>\n      <td>2040.500000</td>\n      <td>2.000000</td>\n      <td>2.000000</td>\n      <td>5.000000</td>\n      <td>0.000000</td>\n      <td>0.900000</td>\n      <td>84.200000</td>\n      <td>1.300000</td>\n      <td>1.000000</td>\n      <td>1.300000</td>\n      <td>...</td>\n      <td>0.000000</td>\n      <td>0.000000</td>\n      <td>0.000000</td>\n      <td>0.000000</td>\n      <td>0.000000</td>\n      <td>0.000000</td>\n      <td>0.000000</td>\n      <td>0.000000</td>\n      <td>0.000000</td>\n      <td>9.500000e+06</td>\n    </tr>\n    <tr>\n      <th>max</th>\n      <td>3420.000000</td>\n      <td>27.000000</td>\n      <td>16.000000</td>\n      <td>15.000000</td>\n      <td>3.000000</td>\n      <td>4.500000</td>\n      <td>100.000000</td>\n      <td>8.700000</td>\n      <td>13.000000</td>\n      <td>6.000000</td>\n      <td>...</td>\n      <td>1.000000</td>\n      <td>1.000000</td>\n      <td>1.000000</td>\n      <td>1.000000</td>\n      <td>1.000000</td>\n      <td>1.000000</td>\n      <td>1.000000</td>\n      <td>1.000000</td>\n      <td>1.000000</td>\n      <td>7.500000e+07</td>\n    </tr>\n  </tbody>\n</table>\n<p>8 rows × 150 columns</p>\n</div>"
     },
     "execution_count": 6,
     "metadata": {},
     "output_type": "execute_result"
    }
   ],
   "source": [
    "df = pd.read_parquet(ruta_archivo_guardado, engine='pyarrow')\n",
    "df.describe()"
   ],
   "metadata": {
    "collapsed": false,
    "ExecuteTime": {
     "end_time": "2024-04-16T22:46:14.310644900Z",
     "start_time": "2024-04-16T22:46:14.112056100Z"
    }
   },
   "id": "b31cb7bd3f8a54b0"
  },
  {
   "cell_type": "code",
   "execution_count": 7,
   "outputs": [],
   "source": [
    "X = df.iloc[:, :-1]\n",
    "Y = df.iloc[:, -1]\n",
    "\n",
    "# Partición de datos\n",
    "RANDOM_STATE = 83\n",
    "X_train, X_test, y_train, y_test = train_test_split(X, Y, test_size=0.3, random_state=RANDOM_STATE)"
   ],
   "metadata": {
    "collapsed": false,
    "ExecuteTime": {
     "end_time": "2024-04-16T22:46:15.214193900Z",
     "start_time": "2024-04-16T22:46:15.171111Z"
    }
   },
   "id": "b715977be3ea6a2c"
  },
  {
   "cell_type": "code",
   "execution_count": 8,
   "outputs": [
    {
     "data": {
      "text/plain": "<Experiment: artifact_location='mlflow-artifacts:/2', creation_time=1713175269356, experiment_id='2', last_update_time=1713175269356, lifecycle_stage='active', name='redes_neuronales', tags={'mlflow.sharedViewState.35fcf56d61b8dbb98512f6829913993e41257533dd332e1e8ff07999f73a21ea': '{\"searchFilter\":\"\",\"orderByKey\":\"attributes.start_time\",\"orderByAsc\":false,\"startTime\":\"ALL\",\"lifecycleFilter\":\"Active\",\"datasetsFilter\":[],\"modelVersionFilter\":\"All '\n                                                                                            'Runs\",\"selectedColumns\":[\"attributes.`Source`\",\"attributes.`Models`\",\"attributes.`Dataset`\"],\"runsExpanded\":{},\"runsPinned\":[],\"runsHidden\":[],\"runsHiddenMode\":\"FIRST_10_RUNS\",\"compareRunCharts\":[{\"uuid\":\"1713177259273xowwzda7\",\"type\":\"BAR\",\"runsCountToCompare\":10,\"metricSectionId\":\"171317725927396vp3vfh\",\"deleted\":false,\"isGenerated\":true,\"metricKey\":\"best_mean_test_accuracy\"},{\"uuid\":\"1713177259273vnosmd9g\",\"type\":\"BAR\",\"runsCountToCompare\":10,\"metricSectionId\":\"171317725927396vp3vfh\",\"deleted\":false,\"isGenerated\":true,\"metricKey\":\"grid_search_best_score\"},{\"uuid\":\"1713177259273bsfb9mqr\",\"type\":\"BAR\",\"runsCountToCompare\":10,\"metricSectionId\":\"171317725927396vp3vfh\",\"deleted\":false,\"isGenerated\":true,\"metricKey\":\"mean_test_accuracy\"},{\"uuid\":\"17131772592734gtwmjcl\",\"type\":\"BAR\",\"runsCountToCompare\":10,\"metricSectionId\":\"171317725927396vp3vfh\",\"deleted\":false,\"isGenerated\":true,\"metricKey\":\"mean_train_accuracy\"},{\"uuid\":\"17131772592730jmnjzgr\",\"type\":\"BAR\",\"runsCountToCompare\":10,\"metricSectionId\":\"171317725927396vp3vfh\",\"deleted\":false,\"isGenerated\":true,\"metricKey\":\"random_search_best_score\"},{\"uuid\":\"1713177259273ody22238\",\"type\":\"BAR\",\"runsCountToCompare\":10,\"metricSectionId\":\"171317725927396vp3vfh\",\"deleted\":false,\"isGenerated\":true,\"metricKey\":\"test_mae\"},{\"uuid\":\"17131772592739tusf9sg\",\"type\":\"BAR\",\"runsCountToCompare\":10,\"metricSectionId\":\"171317725927396vp3vfh\",\"deleted\":false,\"isGenerated\":true,\"metricKey\":\"train_mae\"}],\"compareRunSections\":[{\"uuid\":\"171317725927396vp3vfh\",\"name\":\"Model '\n                                                                                            'metrics\",\"display\":true,\"isReordered\":false,\"deleted\":false,\"isGenerated\":true},{\"uuid\":\"1713177259273j9wzaydq\",\"name\":\"System '\n                                                                                            'metrics\",\"display\":true,\"isReordered\":false,\"deleted\":false,\"isGenerated\":true}],\"viewMaximized\":false,\"runListHidden\":false,\"isAccordionReordered\":false,\"groupBy\":\"\",\"groupsExpanded\":{}}'}>"
     },
     "execution_count": 8,
     "metadata": {},
     "output_type": "execute_result"
    }
   ],
   "source": [
    "# Establecer la URI de la base de datos SQLite y configuración de MLflow\n",
    "os.environ['MLFLOW_TRACKING_URI'] = 'sqlite:///mlruns.db'\n",
    "mlflow.set_tracking_uri(\"http://127.0.0.1:5000\")\n",
    "mlflow.set_experiment(\"redes_neuronales\")"
   ],
   "metadata": {
    "collapsed": false,
    "ExecuteTime": {
     "end_time": "2024-04-16T22:46:16.442270800Z",
     "start_time": "2024-04-16T22:46:16.380458200Z"
    }
   },
   "id": "41eb2ccc9fbc9c77"
  },
  {
   "cell_type": "markdown",
   "source": [
    "# Escalado | Con Hiperparámetros"
   ],
   "metadata": {
    "collapsed": false
   },
   "id": "dfbda321c054ceeb"
  },
  {
   "cell_type": "code",
   "execution_count": 9,
   "outputs": [
    {
     "name": "stderr",
     "output_type": "stream",
     "text": [
      "C:\\Users\\Usuario\\Documents\\Alvaro\\Carrera\\2-Segundo\\Primer cuatrimetre\\Fundamentos de la Inteligencia Artificial\\PycharmProjects\\proyecto\\Lib\\site-packages\\sklearn\\neural_network\\_multilayer_perceptron.py:691: ConvergenceWarning: Stochastic Optimizer: Maximum iterations (200) reached and the optimization hasn't converged yet.\n",
      "  warnings.warn(\n",
      "C:\\Users\\Usuario\\Documents\\Alvaro\\Carrera\\2-Segundo\\Primer cuatrimetre\\Fundamentos de la Inteligencia Artificial\\PycharmProjects\\proyecto\\Lib\\site-packages\\sklearn\\neural_network\\_multilayer_perceptron.py:691: ConvergenceWarning: Stochastic Optimizer: Maximum iterations (200) reached and the optimization hasn't converged yet.\n",
      "  warnings.warn(\n",
      "C:\\Users\\Usuario\\Documents\\Alvaro\\Carrera\\2-Segundo\\Primer cuatrimetre\\Fundamentos de la Inteligencia Artificial\\PycharmProjects\\proyecto\\Lib\\site-packages\\sklearn\\neural_network\\_multilayer_perceptron.py:691: ConvergenceWarning: Stochastic Optimizer: Maximum iterations (200) reached and the optimization hasn't converged yet.\n",
      "  warnings.warn(\n",
      "C:\\Users\\Usuario\\Documents\\Alvaro\\Carrera\\2-Segundo\\Primer cuatrimetre\\Fundamentos de la Inteligencia Artificial\\PycharmProjects\\proyecto\\Lib\\site-packages\\sklearn\\neural_network\\_multilayer_perceptron.py:691: ConvergenceWarning: Stochastic Optimizer: Maximum iterations (200) reached and the optimization hasn't converged yet.\n",
      "  warnings.warn(\n",
      "C:\\Users\\Usuario\\Documents\\Alvaro\\Carrera\\2-Segundo\\Primer cuatrimetre\\Fundamentos de la Inteligencia Artificial\\PycharmProjects\\proyecto\\Lib\\site-packages\\sklearn\\neural_network\\_multilayer_perceptron.py:691: ConvergenceWarning: Stochastic Optimizer: Maximum iterations (200) reached and the optimization hasn't converged yet.\n",
      "  warnings.warn(\n",
      "C:\\Users\\Usuario\\Documents\\Alvaro\\Carrera\\2-Segundo\\Primer cuatrimetre\\Fundamentos de la Inteligencia Artificial\\PycharmProjects\\proyecto\\Lib\\site-packages\\sklearn\\neural_network\\_multilayer_perceptron.py:691: ConvergenceWarning: Stochastic Optimizer: Maximum iterations (200) reached and the optimization hasn't converged yet.\n",
      "  warnings.warn(\n",
      "C:\\Users\\Usuario\\Documents\\Alvaro\\Carrera\\2-Segundo\\Primer cuatrimetre\\Fundamentos de la Inteligencia Artificial\\PycharmProjects\\proyecto\\Lib\\site-packages\\sklearn\\neural_network\\_multilayer_perceptron.py:691: ConvergenceWarning: Stochastic Optimizer: Maximum iterations (200) reached and the optimization hasn't converged yet.\n",
      "  warnings.warn(\n",
      "C:\\Users\\Usuario\\Documents\\Alvaro\\Carrera\\2-Segundo\\Primer cuatrimetre\\Fundamentos de la Inteligencia Artificial\\PycharmProjects\\proyecto\\Lib\\site-packages\\sklearn\\neural_network\\_multilayer_perceptron.py:691: ConvergenceWarning: Stochastic Optimizer: Maximum iterations (200) reached and the optimization hasn't converged yet.\n",
      "  warnings.warn(\n",
      "C:\\Users\\Usuario\\Documents\\Alvaro\\Carrera\\2-Segundo\\Primer cuatrimetre\\Fundamentos de la Inteligencia Artificial\\PycharmProjects\\proyecto\\Lib\\site-packages\\sklearn\\neural_network\\_multilayer_perceptron.py:691: ConvergenceWarning: Stochastic Optimizer: Maximum iterations (200) reached and the optimization hasn't converged yet.\n",
      "  warnings.warn(\n",
      "C:\\Users\\Usuario\\Documents\\Alvaro\\Carrera\\2-Segundo\\Primer cuatrimetre\\Fundamentos de la Inteligencia Artificial\\PycharmProjects\\proyecto\\Lib\\site-packages\\sklearn\\neural_network\\_multilayer_perceptron.py:691: ConvergenceWarning: Stochastic Optimizer: Maximum iterations (200) reached and the optimization hasn't converged yet.\n",
      "  warnings.warn(\n"
     ]
    },
    {
     "name": "stdout",
     "output_type": "stream",
     "text": [
      "mae: 8147477.505081777 \n",
      "maximo error: 69950600.59277306 \n",
      "r2 -0.4849612322110435\n"
     ]
    },
    {
     "name": "stderr",
     "output_type": "stream",
     "text": [
      "C:\\Users\\Usuario\\Documents\\Alvaro\\Carrera\\2-Segundo\\Primer cuatrimetre\\Fundamentos de la Inteligencia Artificial\\PycharmProjects\\proyecto\\Lib\\site-packages\\sklearn\\neural_network\\_multilayer_perceptron.py:691: ConvergenceWarning: Stochastic Optimizer: Maximum iterations (200) reached and the optimization hasn't converged yet.\n",
      "  warnings.warn(\n"
     ]
    }
   ],
   "source": [
    "with mlflow.start_run(run_name=\"evaluación_modelo_escalado_hiperparametros\"):\n",
    "    # Escalado de características\n",
    "    scaler = StandardScaler()\n",
    "    scaled_X_train = scaler.fit_transform(X_train)\n",
    "    scaled_X_test = scaler.transform(X_test)\n",
    "\n",
    "    # Entrenamiento del modelo\n",
    "    clf = MLPRegressor(random_state=RANDOM_STATE, \n",
    "                    solver = 'adam',\n",
    "                    alpha=0.01, batch_size=32,\n",
    "                    learning_rate_init= 0.001,\n",
    "                       hidden_layer_sizes=(24,))\n",
    "                       \n",
    "    scores = cross_validate(clf, scaled_X_train, y_train, scoring='neg_mean_absolute_error', cv=10, return_train_score=True)\n",
    "    train_accuracy = -np.mean(scores['train_score'])\n",
    "    test_accuracy = -np.mean(scores['test_score'])\n",
    "\n",
    "    clf.fit(scaled_X_train, y_train)\n",
    "\n",
    "    test = clf.predict(scaled_X_test)\n",
    "\n",
    "    print(\"mae:\",mean_absolute_error(y_test, test),\"\\nmaximo error:\", max_error(y_test, test),\"\\nr2\",r2_score(y_test, test))\n",
    "\n",
    "    mlflow.log_param(\"solver\", 'adam')\n",
    "    mlflow.log_param(\"alpha\", 0.01)\n",
    "    mlflow.log_param(\"batch_size\", 32)\n",
    "    mlflow.log_param(\"learning_rate_init\", 0.001)\n",
    "    mlflow.log_param(\"hidden_layer_sizes\", (24,))\n",
    "    mlflow.log_metric(\"mae\", mean_absolute_error(y_test, test))\n",
    "    mlflow.log_metric(\"r2\", r2_score(y_test, test))"
   ],
   "metadata": {
    "collapsed": false,
    "ExecuteTime": {
     "end_time": "2024-04-16T22:46:37.876186400Z",
     "start_time": "2024-04-16T22:46:22.822751100Z"
    }
   },
   "id": "ed7131cad02133e5"
  },
  {
   "cell_type": "markdown",
   "source": [
    "# Escalado | Default"
   ],
   "metadata": {
    "collapsed": false
   },
   "id": "b6042727acbc8aab"
  },
  {
   "cell_type": "code",
   "execution_count": 10,
   "outputs": [
    {
     "name": "stdout",
     "output_type": "stream",
     "text": [
      "mae: 3795093.9632694116 \n",
      "maximo error: 33409805.030590747 \n",
      "r2 0.7578740943492716\n"
     ]
    }
   ],
   "source": [
    "with mlflow.start_run(run_name=\"evaluación_modelo_escalado_default\"):\n",
    "    # Escalado de características\n",
    "    scaler = StandardScaler()\n",
    "    scaled_X_train = scaler.fit_transform(X_train)\n",
    "    scaled_X_test = scaler.transform(X_test)\n",
    "\n",
    "\n",
    "    scalery = StandardScaler()\n",
    "    y_train_2d = y_train.values.reshape(-1,1)\n",
    "    scaled_y_train = scalery.fit_transform(y_train_2d)\n",
    "    y_train_final = scaled_y_train.ravel()\n",
    "\n",
    "    # Entrenamiento del modelo\n",
    "    clf = MLPRegressor(random_state=RANDOM_STATE)\n",
    "                       \n",
    "    scores = cross_validate(clf, scaled_X_train, y_train_final, scoring='neg_mean_absolute_error', cv=10, return_train_score=True)\n",
    "    train_accuracy = -np.mean(scores['train_score'])\n",
    "    test_accuracy = -np.mean(scores['test_score'])\n",
    "\n",
    "    clf.fit(scaled_X_train, y_train_final)\n",
    "\n",
    "    test = clf.predict(scaled_X_test)\n",
    "    test = test.reshape(-1, 1)\n",
    "    test = scalery.inverse_transform(test)\n",
    "    test= test.ravel()\n",
    "\n",
    "    print(\"mae:\",mean_absolute_error(y_test, test),\"\\nmaximo error:\", max_error(y_test, test),\"\\nr2\",r2_score(y_test, test))\n",
    "\n",
    "    mlflow.log_metric(\"mae\", mean_absolute_error(y_test, test))\n",
    "    mlflow.log_metric(\"r2\", r2_score(y_test, test))"
   ],
   "metadata": {
    "collapsed": false,
    "ExecuteTime": {
     "end_time": "2024-04-16T22:46:51.180825600Z",
     "start_time": "2024-04-16T22:46:41.972753200Z"
    }
   },
   "id": "a367cb7ed9e8e6da"
  },
  {
   "cell_type": "markdown",
   "source": [
    "# Sin Escalar | Con Hiperparámetros"
   ],
   "metadata": {
    "collapsed": false
   },
   "id": "1d78e49feb55aa61"
  },
  {
   "cell_type": "code",
   "execution_count": 13,
   "outputs": [
    {
     "name": "stdout",
     "output_type": "stream",
     "text": [
      "mae: 2881621.90269101 \n",
      "maximo error: 46492933.130645275 \n",
      "r2 0.7580204829554815\n"
     ]
    }
   ],
   "source": [
    "# Iniciar run de MLflow\n",
    "with mlflow.start_run(run_name=\"MODELO FINAL\"):\n",
    "    # Entrenamiento del modelo\n",
    "    clf = MLPRegressor(random_state=RANDOM_STATE,solver = 'adam',\n",
    "                    alpha=0.01, batch_size=32,\n",
    "                    learning_rate_init= 0.001,\n",
    "                       hidden_layer_sizes=(24,))\n",
    "    scores = cross_validate(clf, X_train, y_train, scoring='neg_mean_absolute_error', cv=10, return_train_score=True)\n",
    "    train_accuracy = -np.mean(scores['train_score'])\n",
    "    test_accuracy = -np.mean(scores['test_score'])\n",
    "\n",
    "    clf.fit(X_train, y_train)\n",
    "\n",
    "    test= clf.predict(X_test)\n",
    "\n",
    "    print(\"mae:\",mean_absolute_error(y_test, test),\"\\nmaximo error:\", max_error(y_test, test),\"\\nr2\",r2_score(y_test, test))\n",
    "    mlflow.log_param(\"solver\", 'adam')\n",
    "    mlflow.log_param(\"alpha\", 0.01)\n",
    "    mlflow.log_param(\"batch_size\", 32)\n",
    "    mlflow.log_param(\"learning_rate_init\", 0.001)\n",
    "    mlflow.log_param(\"hidden_layer_sizes\", (24,))\n",
    "    mlflow.log_metric(\"mae\", mean_absolute_error(y_test, test))\n",
    "    mlflow.log_metric(\"r2\", r2_score(y_test, test))"
   ],
   "metadata": {
    "collapsed": false,
    "ExecuteTime": {
     "end_time": "2024-04-16T22:48:05.026879100Z",
     "start_time": "2024-04-16T22:47:57.556668400Z"
    }
   },
   "id": "98db1a2caf7d8f95"
  },
  {
   "cell_type": "markdown",
   "source": [
    "# Sin Escalar | Default"
   ],
   "metadata": {
    "collapsed": false
   },
   "id": "a679fb1a3bfd32d5"
  },
  {
   "cell_type": "code",
   "execution_count": 14,
   "outputs": [
    {
     "name": "stdout",
     "output_type": "stream",
     "text": [
      "2738098.4878543736 mae: 2910841.2629312365 \n",
      "maximo error: 46491848.40584585 \n",
      "r2 0.7545950526339287\n"
     ]
    }
   ],
   "source": [
    "# Iniciar run de MLflow\n",
    "with mlflow.start_run(run_name=\"evaluación_modelo_no_escalado_default\"):\n",
    "    # Entrenamiento del modelo\n",
    "    clf = MLPRegressor(random_state=RANDOM_STATE)\n",
    "    scores = cross_validate(clf, X_train, y_train, scoring='neg_mean_absolute_error', cv=10, return_train_score=True)\n",
    "    train_accuracy = -np.mean(scores['train_score'])\n",
    "    test_accuracy = -np.mean(scores['test_score'])\n",
    "\n",
    "    clf.fit(X_train, y_train)\n",
    "\n",
    "    test= clf.predict(X_test)\n",
    "\n",
    "    print(\"mae:\",mean_absolute_error(y_test, test),\"\\nmaximo error:\", max_error(y_test, test),\"\\nr2\",r2_score(y_test, test))\n",
    "\n",
    "    mlflow.log_metric(\"mae\", mean_absolute_error(y_test, test))\n",
    "    mlflow.log_metric(\"r2\", r2_score(y_test, test))"
   ],
   "metadata": {
    "collapsed": false,
    "ExecuteTime": {
     "end_time": "2024-04-16T22:48:53.571540100Z",
     "start_time": "2024-04-16T22:48:43.429474600Z"
    }
   },
   "id": "d34270148818a663"
  },
  {
   "cell_type": "code",
   "execution_count": null,
   "outputs": [],
   "source": [],
   "metadata": {
    "collapsed": false
   },
   "id": "f821f54831aeb1fd"
  }
 ],
 "metadata": {
  "kernelspec": {
   "display_name": "Python 3",
   "language": "python",
   "name": "python3"
  },
  "language_info": {
   "codemirror_mode": {
    "name": "ipython",
    "version": 2
   },
   "file_extension": ".py",
   "mimetype": "text/x-python",
   "name": "python",
   "nbconvert_exporter": "python",
   "pygments_lexer": "ipython2",
   "version": "2.7.6"
  }
 },
 "nbformat": 4,
 "nbformat_minor": 5
}
