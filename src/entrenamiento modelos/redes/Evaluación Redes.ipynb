{
 "cells": [
  {
   "cell_type": "code",
   "execution_count": 2,
   "outputs": [],
   "source": [
    "from sklearn.neural_network import MLPRegressor\n",
    "import mlflow\n",
    "import os"
   ],
   "metadata": {
    "collapsed": false,
    "ExecuteTime": {
     "end_time": "2024-04-28T20:26:24.235738400Z",
     "start_time": "2024-04-28T20:26:21.994015300Z"
    }
   },
   "id": "a0c4549358f8b727"
  },
  {
   "cell_type": "code",
   "execution_count": 3,
   "outputs": [
    {
     "data": {
      "text/plain": "<Experiment: artifact_location='mlflow-artifacts:/2', creation_time=1713175269356, experiment_id='2', last_update_time=1713175269356, lifecycle_stage='active', name='redes_neuronales', tags={'mlflow.sharedViewState.35fcf56d61b8dbb98512f6829913993e41257533dd332e1e8ff07999f73a21ea': '{\"searchFilter\":\"\",\"orderByKey\":\"attributes.start_time\",\"orderByAsc\":false,\"startTime\":\"ALL\",\"lifecycleFilter\":\"Active\",\"datasetsFilter\":[],\"modelVersionFilter\":\"All '\n                                                                                            'Runs\",\"selectedColumns\":[\"attributes.`Source`\",\"attributes.`Models`\",\"attributes.`Dataset`\"],\"runsExpanded\":{},\"runsPinned\":[],\"runsHidden\":[],\"runsHiddenMode\":\"FIRST_10_RUNS\",\"compareRunCharts\":[{\"uuid\":\"1713177259273xowwzda7\",\"type\":\"BAR\",\"runsCountToCompare\":10,\"metricSectionId\":\"171317725927396vp3vfh\",\"deleted\":false,\"isGenerated\":true,\"metricKey\":\"best_mean_test_accuracy\"},{\"uuid\":\"1713177259273vnosmd9g\",\"type\":\"BAR\",\"runsCountToCompare\":10,\"metricSectionId\":\"171317725927396vp3vfh\",\"deleted\":false,\"isGenerated\":true,\"metricKey\":\"grid_search_best_score\"},{\"uuid\":\"1713177259273bsfb9mqr\",\"type\":\"BAR\",\"runsCountToCompare\":10,\"metricSectionId\":\"171317725927396vp3vfh\",\"deleted\":false,\"isGenerated\":true,\"metricKey\":\"mean_test_accuracy\"},{\"uuid\":\"17131772592734gtwmjcl\",\"type\":\"BAR\",\"runsCountToCompare\":10,\"metricSectionId\":\"171317725927396vp3vfh\",\"deleted\":false,\"isGenerated\":true,\"metricKey\":\"mean_train_accuracy\"},{\"uuid\":\"17131772592730jmnjzgr\",\"type\":\"BAR\",\"runsCountToCompare\":10,\"metricSectionId\":\"171317725927396vp3vfh\",\"deleted\":false,\"isGenerated\":true,\"metricKey\":\"random_search_best_score\"},{\"uuid\":\"1713177259273ody22238\",\"type\":\"BAR\",\"runsCountToCompare\":10,\"metricSectionId\":\"171317725927396vp3vfh\",\"deleted\":false,\"isGenerated\":true,\"metricKey\":\"test_mae\"},{\"uuid\":\"17131772592739tusf9sg\",\"type\":\"BAR\",\"runsCountToCompare\":10,\"metricSectionId\":\"171317725927396vp3vfh\",\"deleted\":false,\"isGenerated\":true,\"metricKey\":\"train_mae\"}],\"compareRunSections\":[{\"uuid\":\"171317725927396vp3vfh\",\"name\":\"Model '\n                                                                                            'metrics\",\"display\":true,\"isReordered\":false,\"deleted\":false,\"isGenerated\":true},{\"uuid\":\"1713177259273j9wzaydq\",\"name\":\"System '\n                                                                                            'metrics\",\"display\":true,\"isReordered\":false,\"deleted\":false,\"isGenerated\":true}],\"viewMaximized\":false,\"runListHidden\":false,\"isAccordionReordered\":false,\"groupBy\":\"\",\"groupsExpanded\":{}}'}>"
     },
     "execution_count": 3,
     "metadata": {},
     "output_type": "execute_result"
    }
   ],
   "source": [
    "# Establecer la URI de la base de datos SQLite y configuración de MLflow\n",
    "os.environ['MLFLOW_TRACKING_URI'] = 'sqlite:///mlruns.db'\n",
    "mlflow.set_tracking_uri(\"http://127.0.0.1:5000\")\n",
    "mlflow.set_experiment(\"redes_neuronales\")"
   ],
   "metadata": {
    "collapsed": false,
    "ExecuteTime": {
     "end_time": "2024-04-28T20:26:25.037449Z",
     "start_time": "2024-04-28T20:26:24.960161500Z"
    }
   },
   "id": "41eb2ccc9fbc9c77"
  },
  {
   "cell_type": "markdown",
   "source": [
    "# Sin Escalado | Con Hiperparámetros"
   ],
   "metadata": {
    "collapsed": false
   },
   "id": "dfbda321c054ceeb"
  },
  {
   "cell_type": "code",
   "execution_count": 7,
   "outputs": [
    {
     "name": "stdout",
     "output_type": "stream",
     "text": [
      "Archivo Datos_la_liga_preparados_entrenamiento.parquet guardado en: ../Downloads\\Datos_la_liga_preparados_entrenamiento.parquet\n",
      "Validation MAE: 2944768.087089949\n",
      "Test MAE: 2714148.2625509985\n"
     ]
    }
   ],
   "source": [
    "with mlflow.start_run(run_name=\"evaluación_modelo_sin_escalado_hiperparametros\"):\n",
    "    import preprocesamiento_datos\n",
    "    from sklearn.metrics import mean_absolute_error\n",
    "    \n",
    "    # Obtener los datos preprocesados\n",
    "    X_train, X_val, X_test, y_train, y_val, y_test, RANDOM_STATE = preprocesamiento_datos.preprocesamiento(True,[], False)\n",
    "\n",
    "    # Entrenamiento del modelo\n",
    "    clf = MLPRegressor(random_state=RANDOM_STATE, solver=\"adam\", alpha=0.01, learning_rate_init=0.001, hidden_layer_sizes=(24,))\n",
    "    \n",
    "    # Ajustar el modelo con los datos de entrenamiento\n",
    "    clf.fit(X_train, y_train)\n",
    "    \n",
    "    # Predicción en el conjunto de validación\n",
    "    val_pred = clf.predict(X_val)\n",
    "    \n",
    "    # Predicción en el conjunto de prueba\n",
    "    test_pred = clf.predict(X_test)\n",
    "    \n",
    "    # Calcular métricas de evaluación en el conjunto de validación\n",
    "    mae_val = mean_absolute_error(y_val, val_pred)\n",
    "    \n",
    "    # Calcular métricas de evaluación en el conjunto de prueba\n",
    "    mae_test = mean_absolute_error(y_test, test_pred)\n",
    "    \n",
    "    print(\"Validation MAE:\", mae_val)\n",
    "    print(\"Test MAE:\", mae_test)\n",
    "    \n",
    "    # Registro de hiperparámetros y métricas en MLflow\n",
    "    mlflow.log_param(\"solver\", 'adam')\n",
    "    mlflow.log_param(\"alpha\", 0.01)\n",
    "    mlflow.log_param(\"batch_size\", 16)\n",
    "    mlflow.log_param(\"learning_rate_init\", 0.1)\n",
    "    mlflow.log_param(\"hidden_layer_sizes\", (185,))\n",
    "    mlflow.log_metric(\"val_mae\", mae_val)\n",
    "    mlflow.log_metric(\"test_mae\", mae_test)"
   ],
   "metadata": {
    "collapsed": false,
    "ExecuteTime": {
     "end_time": "2024-04-28T19:28:01.954545700Z",
     "start_time": "2024-04-28T19:28:00.006157Z"
    }
   },
   "id": "ed7131cad02133e5"
  },
  {
   "cell_type": "markdown",
   "source": [
    "# Hiperparámetros Escalado"
   ],
   "metadata": {
    "collapsed": false
   },
   "id": "819dbdd21e498e10"
  },
  {
   "cell_type": "code",
   "execution_count": 13,
   "outputs": [
    {
     "name": "stdout",
     "output_type": "stream",
     "text": [
      "Archivo Datos_la_liga_preparados_entrenamiento.parquet guardado en: ../Downloads\\Datos_la_liga_preparados_entrenamiento.parquet\n",
      "Validation MAE: 3004416.477725017\n",
      "Test MAE: 2629609.357214961\n"
     ]
    }
   ],
   "source": [
    "with mlflow.start_run(run_name=\"MODELO FINAL\"):\n",
    "    import preprocesamiento_datos\n",
    "    from sklearn.metrics import mean_absolute_error, max_error, r2_score\n",
    "    \n",
    "    # Obtener los datos preprocesados\n",
    "    X_train, X_val, X_test, y_train, y_val, y_test, RANDOM_STATE = preprocesamiento_datos.preprocesamiento(False,[], False)\n",
    "    \n",
    "    # Entrenamiento del modelo\n",
    "    clf = MLPRegressor(random_state=RANDOM_STATE, solver=\"adam\", alpha=0.01, learning_rate_init=0.1, \n",
    "    batch_size= 16,\n",
    "    hidden_layer_sizes=(185,))\n",
    "    \n",
    "    # Ajustar el modelo con los datos de entrenamiento\n",
    "    clf.fit(X_train, y_train)\n",
    "    \n",
    "    # Predicción en el conjunto de validación\n",
    "    val_pred = clf.predict(X_val)\n",
    "    \n",
    "    # Predicción en el conjunto de prueba\n",
    "    test_pred = clf.predict(X_test)\n",
    "    \n",
    "    # Calcular métricas de evaluación en el conjunto de validación\n",
    "    mae_val = mean_absolute_error(y_val, val_pred)\n",
    "    \n",
    "    # Calcular métricas de evaluación en el conjunto de prueba\n",
    "    mae_test = mean_absolute_error(y_test, test_pred)\n",
    "    \n",
    "    print(\"Validation MAE:\", mae_val)\n",
    "    print(\"Test MAE:\", mae_test)\n",
    "    \n",
    "    # Registro de hiperparámetros y métricas en MLflow\n",
    "    mlflow.log_param(\"solver\", 'adam')\n",
    "    mlflow.log_param(\"alpha\", 0.01)\n",
    "    mlflow.log_param(\"batch_size\", 16)\n",
    "    mlflow.log_param(\"learning_rate_init\", 0.1)\n",
    "    mlflow.log_param(\"hidden_layer_sizes\", (185,))\n",
    "    mlflow.log_metric(\"val_mae\", mae_val)\n",
    "    mlflow.log_metric(\"test_mae\", mae_test)"
   ],
   "metadata": {
    "collapsed": false,
    "ExecuteTime": {
     "end_time": "2024-04-28T19:33:20.333610700Z",
     "start_time": "2024-04-28T19:33:18.167804500Z"
    }
   },
   "id": "8ad1b5abcc8356cd"
  },
  {
   "cell_type": "markdown",
   "source": [
    "# Default"
   ],
   "metadata": {
    "collapsed": false
   },
   "id": "b6042727acbc8aab"
  },
  {
   "cell_type": "code",
   "execution_count": 1,
   "outputs": [
    {
     "ename": "NameError",
     "evalue": "name 'mlflow' is not defined",
     "output_type": "error",
     "traceback": [
      "\u001B[1;31m---------------------------------------------------------------------------\u001B[0m",
      "\u001B[1;31mNameError\u001B[0m                                 Traceback (most recent call last)",
      "Cell \u001B[1;32mIn[1], line 1\u001B[0m\n\u001B[1;32m----> 1\u001B[0m \u001B[38;5;28;01mwith\u001B[39;00m \u001B[43mmlflow\u001B[49m\u001B[38;5;241m.\u001B[39mstart_run(run_name\u001B[38;5;241m=\u001B[39m\u001B[38;5;124m\"\u001B[39m\u001B[38;5;124mevaluación_modelo_default\u001B[39m\u001B[38;5;124m\"\u001B[39m):\n\u001B[0;32m      2\u001B[0m     \u001B[38;5;28;01mimport\u001B[39;00m \u001B[38;5;21;01mpreprocesamiento_datos\u001B[39;00m\n\u001B[0;32m      3\u001B[0m     \u001B[38;5;28;01mfrom\u001B[39;00m \u001B[38;5;21;01msklearn\u001B[39;00m\u001B[38;5;21;01m.\u001B[39;00m\u001B[38;5;21;01mmetrics\u001B[39;00m \u001B[38;5;28;01mimport\u001B[39;00m mean_absolute_error, max_error, r2_score\n",
      "\u001B[1;31mNameError\u001B[0m: name 'mlflow' is not defined"
     ]
    }
   ],
   "source": [
    "with mlflow.start_run(run_name=\"evaluación_modelo_default\"):\n",
    "    import preprocesamiento_datos\n",
    "    from sklearn.metrics import mean_absolute_error, max_error, r2_score\n",
    "    \n",
    "    # Obtener los datos preprocesados\n",
    "    X_train, X_val, X_test, y_train, y_val, y_test, RANDOM_STATE = preprocesamiento_datos.preprocesamiento(False,[], False)\n",
    "    \n",
    "    # Entrenamiento del modelo\n",
    "    clf = MLPRegressor(random_state=RANDOM_STATE)\n",
    "    \n",
    "    # Ajustar el modelo con los datos de entrenamiento\n",
    "    clf.fit(X_train, y_train)\n",
    "    \n",
    "    # Predicción en el conjunto de validación\n",
    "    val_pred = clf.predict(X_val)\n",
    "    \n",
    "    # Predicción en el conjunto de prueba\n",
    "    test_pred = clf.predict(X_test)\n",
    "    \n",
    "    # Calcular métricas de evaluación en el conjunto de validación\n",
    "    mae_val = mean_absolute_error(y_val, val_pred)\n",
    "    \n",
    "    # Calcular métricas de evaluación en el conjunto de prueba\n",
    "    mae_test = mean_absolute_error(y_test, test_pred)\n",
    "    \n",
    "    print(\"Validation MAE:\", mae_val)\n",
    "    print(\"Test MAE:\", mae_test)\n",
    "    \n",
    "    mlflow.log_metric(\"val_mae\", mae_val)\n",
    "    mlflow.log_metric(\"test_mae\", mae_test)"
   ],
   "metadata": {
    "collapsed": false,
    "ExecuteTime": {
     "end_time": "2024-04-28T20:26:19.006096100Z",
     "start_time": "2024-04-28T20:26:18.774049700Z"
    }
   },
   "id": "a367cb7ed9e8e6da"
  },
  {
   "cell_type": "code",
   "execution_count": null,
   "outputs": [],
   "source": [],
   "metadata": {
    "collapsed": false
   },
   "id": "317b59414cdc978e"
  }
 ],
 "metadata": {
  "kernelspec": {
   "display_name": "Python 3",
   "language": "python",
   "name": "python3"
  },
  "language_info": {
   "codemirror_mode": {
    "name": "ipython",
    "version": 2
   },
   "file_extension": ".py",
   "mimetype": "text/x-python",
   "name": "python",
   "nbconvert_exporter": "python",
   "pygments_lexer": "ipython2",
   "version": "2.7.6"
  }
 },
 "nbformat": 4,
 "nbformat_minor": 5
}
