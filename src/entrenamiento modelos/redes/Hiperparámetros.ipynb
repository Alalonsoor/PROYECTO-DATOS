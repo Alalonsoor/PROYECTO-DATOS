{
 "cells": [
  {
   "cell_type": "code",
   "execution_count": 1,
   "outputs": [],
   "source": [
    "from sklearn.model_selection import train_test_split, GridSearchCV, RandomizedSearchCV, cross_validate\n",
    "from sklearn.neural_network import MLPRegressor\n",
    "from sklearn.preprocessing import StandardScaler\n",
    "from scipy.stats import randint\n",
    "import pandas as pd\n",
    "import mlflow\n",
    "import os\n",
    "import numpy as np"
   ],
   "metadata": {
    "collapsed": false,
    "ExecuteTime": {
     "end_time": "2024-04-16T22:44:37.178285400Z",
     "start_time": "2024-04-16T22:44:36.063244900Z"
    }
   },
   "id": "e2edfe0aaf786dd9"
  },
  {
   "cell_type": "code",
   "execution_count": 2,
   "outputs": [],
   "source": [
    "\"\"\"\n",
    "Descarga de Archivos desde Google Drive sin Autenticación\n",
    "\n",
    "Este script permite descargar archivos específicos desde Google Drive directamente a una ubicación local,\n",
    "utilizando el ID de Google Drive del archivo (el archivo debe ser accesible para cualquier persona que tenga la URL).\n",
    "\n",
    "El script procesa un archivo de texto ('archivos_info.txt') que contiene las IDs de Google Drive de los archivos,\n",
    "los nombres con los que se desean guardar localmente, y las rutas locales de almacenamiento, todo separado por comas.\n",
    "\n",
    "Formato esperado de 'archivos_info.txt':\n",
    "ID_de_Google_Drive,Nombre_Archivo_Local,Ruta_Local\n",
    "\n",
    "Ejemplo:\n",
    "1hGvKmNAkK...,mi_archivo.txt,./descargas\n",
    "\n",
    "Requisitos:\n",
    "- Módulo 'requests' instalado en el entorno Python donde se ejecute este script.\n",
    "\n",
    "\n",
    "\n",
    "\"\"\"\n",
    "\n",
    "import requests\n",
    "import os\n",
    "\n",
    "\n",
    "def descargar_archivo_directo(id_archivo, directorio_destino, archivo_destino):\n",
    "    \"\"\"\n",
    "    Descarga un archivo directamente desde Google Drive y lo guarda localmente.\n",
    "\n",
    "    Parámetros:\n",
    "    - id_archivo (str): ID del archivo en Google Drive.\n",
    "    - directorio_destino (str): Ruta del directorio local donde se guardará el archivo.\n",
    "    - archivo_destino (str): Nombre deseado para el archivo en local\n",
    "\n",
    "    Devuelve:\n",
    "    - archivo_destino (str): Nombre del archivo guardado.\n",
    "    - ruta_completa (str): Ruta completa del archivo guardado.\n",
    "    \"\"\"\n",
    "    # Construye la URL de descarga directa utilizando el ID del archivo\n",
    "    url = f\"https://drive.google.com/uc?export=download&id={id_archivo}\"\n",
    "\n",
    "    # Realiza la petición HTTP GET para descargar el archivo\n",
    "    respuesta = requests.get(url, allow_redirects=True)\n",
    "\n",
    "    # Comprueba que el directorio destino existe, si no, lo crea\n",
    "    os.makedirs(directorio_destino, exist_ok=True)\n",
    "\n",
    "    # Construye la ruta completa donde se guardará el archivo en local\n",
    "    ruta_completa = os.path.join(directorio_destino, archivo_destino)\n",
    "\n",
    "    # Guarda el contenido del archivo descargado en local\n",
    "    with open(ruta_completa, 'wb') as archivo:\n",
    "        archivo.write(respuesta.content)\n",
    "\n",
    "\n",
    "    return archivo_destino, ruta_completa\n",
    "\n",
    "\n",
    "def procesar_archivo_info(ruta_archivo_info):\n",
    "    \"\"\"\n",
    "    Procesa un archivo de texto que contiene información sobre los archivos a descargar.\n",
    "\n",
    "    Parámetros:\n",
    "    - ruta_archivo_info (str): Ruta del archivo de texto que contiene los IDs de Google Drive,\n",
    "                               los nombres de los archivos locales y las rutas locales.\n",
    "\n",
    "    Devuelve:\n",
    "    - Una lista de tuplas con el ID de Google Drive, el nombre local del archivo, y la ruta local.\n",
    "    \"\"\"\n",
    "    archivos_info = []\n",
    "    with open(ruta_archivo_info, 'r') as archivo:\n",
    "        for linea in archivo:\n",
    "            id_archivo, nombre_archivo, directorio_destino = linea.strip().split(',')\n",
    "            archivos_info.append((id_archivo, nombre_archivo, directorio_destino))\n",
    "    return archivos_info\n"
   ],
   "metadata": {
    "collapsed": false,
    "ExecuteTime": {
     "end_time": "2024-04-16T22:44:37.677046600Z",
     "start_time": "2024-04-16T22:44:37.672423400Z"
    }
   },
   "id": "initial_id"
  },
  {
   "cell_type": "code",
   "execution_count": 3,
   "outputs": [
    {
     "name": "stdout",
     "output_type": "stream",
     "text": [
      "Archivo datos_preparados_solo_entr.parquet guardado en: ../Downloads\\datos_preparados_solo_entr.parquet\n"
     ]
    }
   ],
   "source": [
    "# Ruta al archivo que contiene la información de los archivos a descargar\n",
    "ruta_archivo_info = \"..\\info_archivos_GDrive_solo_entr.txt\"\n",
    "\n",
    "# Obtenemos la lista con la info de los archivos del fichero\n",
    "archivos_a_descargar = procesar_archivo_info(ruta_archivo_info)\n",
    "\n",
    "# Descargamos cada archivo de la lista\n",
    "for id_archivo, nombre_archivo, directorio_destino in archivos_a_descargar:\n",
    "    nombre_archivo_descargado, ruta_archivo_guardado = descargar_archivo_directo(id_archivo, directorio_destino, nombre_archivo)\n",
    "    print(f\"Archivo {nombre_archivo_descargado} guardado en: {ruta_archivo_guardado}\")"
   ],
   "metadata": {
    "collapsed": false,
    "ExecuteTime": {
     "end_time": "2024-04-16T22:44:40.269508800Z",
     "start_time": "2024-04-16T22:44:38.461809800Z"
    }
   },
   "id": "7494a11976133aac"
  },
  {
   "cell_type": "code",
   "execution_count": 4,
   "outputs": [
    {
     "data": {
      "text/plain": "              Mins        Goals      Assists          Yel          Red  \\\ncount  2251.000000  2251.000000  2251.000000  2251.000000  2251.000000   \nmean   1271.695691     1.564638     1.063527     3.069303     0.168814   \nstd     969.241058     2.906800     1.737932     2.958017     0.430942   \nmin       1.000000     0.000000     0.000000     0.000000     0.000000   \n25%     360.500000     0.000000     0.000000     1.000000     0.000000   \n50%    1157.000000     0.000000     0.000000     2.000000     0.000000   \n75%    2040.500000     2.000000     2.000000     5.000000     0.000000   \nmax    3420.000000    27.000000    16.000000    15.000000     3.000000   \n\n               SpG          PS%   AerialsWon         MotM      Tackles  ...  \\\ncount  2251.000000  2251.000000  2251.000000  2251.000000  2251.000000  ...   \nmean      0.629276    76.128387     0.946246     0.622834     0.882719  ...   \nstd       0.604061    13.308598     0.962542     1.244505     0.693640  ...   \nmin       0.000000     0.000000     0.000000     0.000000     0.000000  ...   \n25%       0.200000    70.950000     0.300000     0.000000     0.400000  ...   \n50%       0.500000    78.300000     0.700000     0.000000     0.800000  ...   \n75%       0.900000    84.200000     1.300000     1.000000     1.300000  ...   \nmax       4.500000   100.000000     8.700000    13.000000     6.000000  ...   \n\n       nationality_The Gambia  nationality_Türkiye  nationality_Ukraine  \\\ncount             2251.000000          2251.000000          2251.000000   \nmean                 0.000444             0.002665             0.001333   \nstd                  0.021077             0.051571             0.036490   \nmin                  0.000000             0.000000             0.000000   \n25%                  0.000000             0.000000             0.000000   \n50%                  0.000000             0.000000             0.000000   \n75%                  0.000000             0.000000             0.000000   \nmax                  1.000000             1.000000             1.000000   \n\n       nationality_United States  nationality_Uruguay  nationality_Venezuela  \\\ncount                2251.000000          2251.000000            2251.000000   \nmean                    0.003554             0.028432               0.003998   \nstd                     0.059522             0.166240               0.063119   \nmin                     0.000000             0.000000               0.000000   \n25%                     0.000000             0.000000               0.000000   \n50%                     0.000000             0.000000               0.000000   \n75%                     0.000000             0.000000               0.000000   \nmax                     1.000000             1.000000               1.000000   \n\n       nationality_Wales  nationality_Zambia  nationality_Zimbabwe  \\\ncount        2251.000000         2251.000000           2251.000000   \nmean            0.000888            0.000444              0.000444   \nstd             0.029801            0.021077              0.021077   \nmin             0.000000            0.000000              0.000000   \n25%             0.000000            0.000000              0.000000   \n50%             0.000000            0.000000              0.000000   \n75%             0.000000            0.000000              0.000000   \nmax             1.000000            1.000000              1.000000   \n\n        marketValue  \ncount  2.251000e+03  \nmean   8.160329e+06  \nstd    1.188624e+07  \nmin    2.500000e+04  \n25%    1.500000e+06  \n50%    3.000000e+06  \n75%    9.500000e+06  \nmax    7.500000e+07  \n\n[8 rows x 150 columns]",
      "text/html": "<div>\n<style scoped>\n    .dataframe tbody tr th:only-of-type {\n        vertical-align: middle;\n    }\n\n    .dataframe tbody tr th {\n        vertical-align: top;\n    }\n\n    .dataframe thead th {\n        text-align: right;\n    }\n</style>\n<table border=\"1\" class=\"dataframe\">\n  <thead>\n    <tr style=\"text-align: right;\">\n      <th></th>\n      <th>Mins</th>\n      <th>Goals</th>\n      <th>Assists</th>\n      <th>Yel</th>\n      <th>Red</th>\n      <th>SpG</th>\n      <th>PS%</th>\n      <th>AerialsWon</th>\n      <th>MotM</th>\n      <th>Tackles</th>\n      <th>...</th>\n      <th>nationality_The Gambia</th>\n      <th>nationality_Türkiye</th>\n      <th>nationality_Ukraine</th>\n      <th>nationality_United States</th>\n      <th>nationality_Uruguay</th>\n      <th>nationality_Venezuela</th>\n      <th>nationality_Wales</th>\n      <th>nationality_Zambia</th>\n      <th>nationality_Zimbabwe</th>\n      <th>marketValue</th>\n    </tr>\n  </thead>\n  <tbody>\n    <tr>\n      <th>count</th>\n      <td>2251.000000</td>\n      <td>2251.000000</td>\n      <td>2251.000000</td>\n      <td>2251.000000</td>\n      <td>2251.000000</td>\n      <td>2251.000000</td>\n      <td>2251.000000</td>\n      <td>2251.000000</td>\n      <td>2251.000000</td>\n      <td>2251.000000</td>\n      <td>...</td>\n      <td>2251.000000</td>\n      <td>2251.000000</td>\n      <td>2251.000000</td>\n      <td>2251.000000</td>\n      <td>2251.000000</td>\n      <td>2251.000000</td>\n      <td>2251.000000</td>\n      <td>2251.000000</td>\n      <td>2251.000000</td>\n      <td>2.251000e+03</td>\n    </tr>\n    <tr>\n      <th>mean</th>\n      <td>1271.695691</td>\n      <td>1.564638</td>\n      <td>1.063527</td>\n      <td>3.069303</td>\n      <td>0.168814</td>\n      <td>0.629276</td>\n      <td>76.128387</td>\n      <td>0.946246</td>\n      <td>0.622834</td>\n      <td>0.882719</td>\n      <td>...</td>\n      <td>0.000444</td>\n      <td>0.002665</td>\n      <td>0.001333</td>\n      <td>0.003554</td>\n      <td>0.028432</td>\n      <td>0.003998</td>\n      <td>0.000888</td>\n      <td>0.000444</td>\n      <td>0.000444</td>\n      <td>8.160329e+06</td>\n    </tr>\n    <tr>\n      <th>std</th>\n      <td>969.241058</td>\n      <td>2.906800</td>\n      <td>1.737932</td>\n      <td>2.958017</td>\n      <td>0.430942</td>\n      <td>0.604061</td>\n      <td>13.308598</td>\n      <td>0.962542</td>\n      <td>1.244505</td>\n      <td>0.693640</td>\n      <td>...</td>\n      <td>0.021077</td>\n      <td>0.051571</td>\n      <td>0.036490</td>\n      <td>0.059522</td>\n      <td>0.166240</td>\n      <td>0.063119</td>\n      <td>0.029801</td>\n      <td>0.021077</td>\n      <td>0.021077</td>\n      <td>1.188624e+07</td>\n    </tr>\n    <tr>\n      <th>min</th>\n      <td>1.000000</td>\n      <td>0.000000</td>\n      <td>0.000000</td>\n      <td>0.000000</td>\n      <td>0.000000</td>\n      <td>0.000000</td>\n      <td>0.000000</td>\n      <td>0.000000</td>\n      <td>0.000000</td>\n      <td>0.000000</td>\n      <td>...</td>\n      <td>0.000000</td>\n      <td>0.000000</td>\n      <td>0.000000</td>\n      <td>0.000000</td>\n      <td>0.000000</td>\n      <td>0.000000</td>\n      <td>0.000000</td>\n      <td>0.000000</td>\n      <td>0.000000</td>\n      <td>2.500000e+04</td>\n    </tr>\n    <tr>\n      <th>25%</th>\n      <td>360.500000</td>\n      <td>0.000000</td>\n      <td>0.000000</td>\n      <td>1.000000</td>\n      <td>0.000000</td>\n      <td>0.200000</td>\n      <td>70.950000</td>\n      <td>0.300000</td>\n      <td>0.000000</td>\n      <td>0.400000</td>\n      <td>...</td>\n      <td>0.000000</td>\n      <td>0.000000</td>\n      <td>0.000000</td>\n      <td>0.000000</td>\n      <td>0.000000</td>\n      <td>0.000000</td>\n      <td>0.000000</td>\n      <td>0.000000</td>\n      <td>0.000000</td>\n      <td>1.500000e+06</td>\n    </tr>\n    <tr>\n      <th>50%</th>\n      <td>1157.000000</td>\n      <td>0.000000</td>\n      <td>0.000000</td>\n      <td>2.000000</td>\n      <td>0.000000</td>\n      <td>0.500000</td>\n      <td>78.300000</td>\n      <td>0.700000</td>\n      <td>0.000000</td>\n      <td>0.800000</td>\n      <td>...</td>\n      <td>0.000000</td>\n      <td>0.000000</td>\n      <td>0.000000</td>\n      <td>0.000000</td>\n      <td>0.000000</td>\n      <td>0.000000</td>\n      <td>0.000000</td>\n      <td>0.000000</td>\n      <td>0.000000</td>\n      <td>3.000000e+06</td>\n    </tr>\n    <tr>\n      <th>75%</th>\n      <td>2040.500000</td>\n      <td>2.000000</td>\n      <td>2.000000</td>\n      <td>5.000000</td>\n      <td>0.000000</td>\n      <td>0.900000</td>\n      <td>84.200000</td>\n      <td>1.300000</td>\n      <td>1.000000</td>\n      <td>1.300000</td>\n      <td>...</td>\n      <td>0.000000</td>\n      <td>0.000000</td>\n      <td>0.000000</td>\n      <td>0.000000</td>\n      <td>0.000000</td>\n      <td>0.000000</td>\n      <td>0.000000</td>\n      <td>0.000000</td>\n      <td>0.000000</td>\n      <td>9.500000e+06</td>\n    </tr>\n    <tr>\n      <th>max</th>\n      <td>3420.000000</td>\n      <td>27.000000</td>\n      <td>16.000000</td>\n      <td>15.000000</td>\n      <td>3.000000</td>\n      <td>4.500000</td>\n      <td>100.000000</td>\n      <td>8.700000</td>\n      <td>13.000000</td>\n      <td>6.000000</td>\n      <td>...</td>\n      <td>1.000000</td>\n      <td>1.000000</td>\n      <td>1.000000</td>\n      <td>1.000000</td>\n      <td>1.000000</td>\n      <td>1.000000</td>\n      <td>1.000000</td>\n      <td>1.000000</td>\n      <td>1.000000</td>\n      <td>7.500000e+07</td>\n    </tr>\n  </tbody>\n</table>\n<p>8 rows × 150 columns</p>\n</div>"
     },
     "execution_count": 4,
     "metadata": {},
     "output_type": "execute_result"
    }
   ],
   "source": [
    "df = pd.read_parquet(ruta_archivo_guardado, engine='pyarrow')\n",
    "df.describe()"
   ],
   "metadata": {
    "collapsed": false,
    "ExecuteTime": {
     "end_time": "2024-04-16T22:44:41.086656100Z",
     "start_time": "2024-04-16T22:44:40.828961300Z"
    }
   },
   "id": "3fbefffa584fc906"
  },
  {
   "cell_type": "code",
   "execution_count": 5,
   "outputs": [],
   "source": [
    "X = df.iloc[:, :-1]\n",
    "Y = df.iloc[:, -1]\n",
    "\n",
    "# Partición de datos\n",
    "RANDOM_STATE = 83\n",
    "X_train, X_test, y_train, y_test = train_test_split(X, Y, test_size=0.3, random_state=RANDOM_STATE)"
   ],
   "metadata": {
    "collapsed": false,
    "ExecuteTime": {
     "end_time": "2024-04-16T22:44:42.093821700Z",
     "start_time": "2024-04-16T22:44:42.052678500Z"
    }
   },
   "id": "2a9fb0db4508ecf7"
  },
  {
   "cell_type": "code",
   "execution_count": 6,
   "outputs": [
    {
     "data": {
      "text/plain": "<Experiment: artifact_location='mlflow-artifacts:/2', creation_time=1713175269356, experiment_id='2', last_update_time=1713175269356, lifecycle_stage='active', name='redes_neuronales', tags={'mlflow.sharedViewState.35fcf56d61b8dbb98512f6829913993e41257533dd332e1e8ff07999f73a21ea': '{\"searchFilter\":\"\",\"orderByKey\":\"attributes.start_time\",\"orderByAsc\":false,\"startTime\":\"ALL\",\"lifecycleFilter\":\"Active\",\"datasetsFilter\":[],\"modelVersionFilter\":\"All '\n                                                                                            'Runs\",\"selectedColumns\":[\"attributes.`Source`\",\"attributes.`Models`\",\"attributes.`Dataset`\"],\"runsExpanded\":{},\"runsPinned\":[],\"runsHidden\":[],\"runsHiddenMode\":\"FIRST_10_RUNS\",\"compareRunCharts\":[{\"uuid\":\"1713177259273xowwzda7\",\"type\":\"BAR\",\"runsCountToCompare\":10,\"metricSectionId\":\"171317725927396vp3vfh\",\"deleted\":false,\"isGenerated\":true,\"metricKey\":\"best_mean_test_accuracy\"},{\"uuid\":\"1713177259273vnosmd9g\",\"type\":\"BAR\",\"runsCountToCompare\":10,\"metricSectionId\":\"171317725927396vp3vfh\",\"deleted\":false,\"isGenerated\":true,\"metricKey\":\"grid_search_best_score\"},{\"uuid\":\"1713177259273bsfb9mqr\",\"type\":\"BAR\",\"runsCountToCompare\":10,\"metricSectionId\":\"171317725927396vp3vfh\",\"deleted\":false,\"isGenerated\":true,\"metricKey\":\"mean_test_accuracy\"},{\"uuid\":\"17131772592734gtwmjcl\",\"type\":\"BAR\",\"runsCountToCompare\":10,\"metricSectionId\":\"171317725927396vp3vfh\",\"deleted\":false,\"isGenerated\":true,\"metricKey\":\"mean_train_accuracy\"},{\"uuid\":\"17131772592730jmnjzgr\",\"type\":\"BAR\",\"runsCountToCompare\":10,\"metricSectionId\":\"171317725927396vp3vfh\",\"deleted\":false,\"isGenerated\":true,\"metricKey\":\"random_search_best_score\"},{\"uuid\":\"1713177259273ody22238\",\"type\":\"BAR\",\"runsCountToCompare\":10,\"metricSectionId\":\"171317725927396vp3vfh\",\"deleted\":false,\"isGenerated\":true,\"metricKey\":\"test_mae\"},{\"uuid\":\"17131772592739tusf9sg\",\"type\":\"BAR\",\"runsCountToCompare\":10,\"metricSectionId\":\"171317725927396vp3vfh\",\"deleted\":false,\"isGenerated\":true,\"metricKey\":\"train_mae\"}],\"compareRunSections\":[{\"uuid\":\"171317725927396vp3vfh\",\"name\":\"Model '\n                                                                                            'metrics\",\"display\":true,\"isReordered\":false,\"deleted\":false,\"isGenerated\":true},{\"uuid\":\"1713177259273j9wzaydq\",\"name\":\"System '\n                                                                                            'metrics\",\"display\":true,\"isReordered\":false,\"deleted\":false,\"isGenerated\":true}],\"viewMaximized\":false,\"runListHidden\":false,\"isAccordionReordered\":false,\"groupBy\":\"\",\"groupsExpanded\":{}}'}>"
     },
     "execution_count": 6,
     "metadata": {},
     "output_type": "execute_result"
    }
   ],
   "source": [
    "# Establecer la URI de la base de datos SQLite\n",
    "os.environ['MLFLOW_TRACKING_URI'] = 'sqlite:///mlruns.db'\n",
    "\n",
    "# Configuración de MLflow\n",
    "mlflow.set_tracking_uri(uri=\"http://127.0.0.1:5000\")\n",
    "mlflow.set_experiment(\"redes_neuronales\")"
   ],
   "metadata": {
    "collapsed": false,
    "ExecuteTime": {
     "end_time": "2024-04-16T22:44:43.259350700Z",
     "start_time": "2024-04-16T22:44:43.180896800Z"
    }
   },
   "id": "fc8c184548c4dd3e"
  },
  {
   "cell_type": "markdown",
   "source": [
    "# Sin Hiperparámetros | Escalado"
   ],
   "metadata": {
    "collapsed": false
   },
   "id": "b8e00d76beb1ca6c"
  },
  {
   "cell_type": "code",
   "execution_count": 7,
   "outputs": [
    {
     "name": "stderr",
     "output_type": "stream",
     "text": [
      "C:\\Users\\Usuario\\Documents\\Alvaro\\Carrera\\2-Segundo\\Primer cuatrimetre\\Fundamentos de la Inteligencia Artificial\\PycharmProjects\\proyecto\\Lib\\site-packages\\sklearn\\neural_network\\_multilayer_perceptron.py:691: ConvergenceWarning: Stochastic Optimizer: Maximum iterations (200) reached and the optimization hasn't converged yet.\n",
      "  warnings.warn(\n",
      "C:\\Users\\Usuario\\Documents\\Alvaro\\Carrera\\2-Segundo\\Primer cuatrimetre\\Fundamentos de la Inteligencia Artificial\\PycharmProjects\\proyecto\\Lib\\site-packages\\sklearn\\neural_network\\_multilayer_perceptron.py:691: ConvergenceWarning: Stochastic Optimizer: Maximum iterations (200) reached and the optimization hasn't converged yet.\n",
      "  warnings.warn(\n",
      "C:\\Users\\Usuario\\Documents\\Alvaro\\Carrera\\2-Segundo\\Primer cuatrimetre\\Fundamentos de la Inteligencia Artificial\\PycharmProjects\\proyecto\\Lib\\site-packages\\sklearn\\neural_network\\_multilayer_perceptron.py:691: ConvergenceWarning: Stochastic Optimizer: Maximum iterations (200) reached and the optimization hasn't converged yet.\n",
      "  warnings.warn(\n",
      "C:\\Users\\Usuario\\Documents\\Alvaro\\Carrera\\2-Segundo\\Primer cuatrimetre\\Fundamentos de la Inteligencia Artificial\\PycharmProjects\\proyecto\\Lib\\site-packages\\sklearn\\neural_network\\_multilayer_perceptron.py:691: ConvergenceWarning: Stochastic Optimizer: Maximum iterations (200) reached and the optimization hasn't converged yet.\n",
      "  warnings.warn(\n",
      "C:\\Users\\Usuario\\Documents\\Alvaro\\Carrera\\2-Segundo\\Primer cuatrimetre\\Fundamentos de la Inteligencia Artificial\\PycharmProjects\\proyecto\\Lib\\site-packages\\sklearn\\neural_network\\_multilayer_perceptron.py:691: ConvergenceWarning: Stochastic Optimizer: Maximum iterations (200) reached and the optimization hasn't converged yet.\n",
      "  warnings.warn(\n",
      "C:\\Users\\Usuario\\Documents\\Alvaro\\Carrera\\2-Segundo\\Primer cuatrimetre\\Fundamentos de la Inteligencia Artificial\\PycharmProjects\\proyecto\\Lib\\site-packages\\sklearn\\neural_network\\_multilayer_perceptron.py:691: ConvergenceWarning: Stochastic Optimizer: Maximum iterations (200) reached and the optimization hasn't converged yet.\n",
      "  warnings.warn(\n",
      "C:\\Users\\Usuario\\Documents\\Alvaro\\Carrera\\2-Segundo\\Primer cuatrimetre\\Fundamentos de la Inteligencia Artificial\\PycharmProjects\\proyecto\\Lib\\site-packages\\sklearn\\neural_network\\_multilayer_perceptron.py:691: ConvergenceWarning: Stochastic Optimizer: Maximum iterations (200) reached and the optimization hasn't converged yet.\n",
      "  warnings.warn(\n",
      "C:\\Users\\Usuario\\Documents\\Alvaro\\Carrera\\2-Segundo\\Primer cuatrimetre\\Fundamentos de la Inteligencia Artificial\\PycharmProjects\\proyecto\\Lib\\site-packages\\sklearn\\neural_network\\_multilayer_perceptron.py:691: ConvergenceWarning: Stochastic Optimizer: Maximum iterations (200) reached and the optimization hasn't converged yet.\n",
      "  warnings.warn(\n",
      "C:\\Users\\Usuario\\Documents\\Alvaro\\Carrera\\2-Segundo\\Primer cuatrimetre\\Fundamentos de la Inteligencia Artificial\\PycharmProjects\\proyecto\\Lib\\site-packages\\sklearn\\neural_network\\_multilayer_perceptron.py:698: UserWarning: Training interrupted by user.\n",
      "  warnings.warn(\"Training interrupted by user.\")\n",
      "C:\\Users\\Usuario\\Documents\\Alvaro\\Carrera\\2-Segundo\\Primer cuatrimetre\\Fundamentos de la Inteligencia Artificial\\PycharmProjects\\proyecto\\Lib\\site-packages\\sklearn\\neural_network\\_multilayer_perceptron.py:698: UserWarning: Training interrupted by user.\n",
      "  warnings.warn(\"Training interrupted by user.\")\n"
     ]
    }
   ],
   "source": [
    "# Definir listas para almacenar los resultados de entrenamiento y prueba para cada validación cruzada\n",
    "train_accuracies = []\n",
    "test_accuracies = []\n",
    "\n",
    "# Iniciar run de MLflow\n",
    "with mlflow.start_run(run_name=\"modelo_completo_sinparam_escalado\"):\n",
    "    # Escalado de características\n",
    "    scaler = StandardScaler()\n",
    "    scaled_X_train = scaler.fit_transform(X_train)\n",
    "    scaled_X_test = scaler.transform(X_test)\n",
    "\n",
    "    scalery = StandardScaler()\n",
    "    y_train_2d = y_train.values.reshape(-1,1)\n",
    "    scaled_y_train = scalery.fit_transform(y_train_2d)\n",
    "    y_train_final = scaled_y_train.ravel()\n",
    "\n",
    "    # Sin definición de hiperparámetros\n",
    "    clf = MLPRegressor(random_state=RANDOM_STATE)\n",
    "\n",
    "    # Validación cruzada con recopilación de resultados\n",
    "    cv_results = cross_validate(clf, scaled_X_train, y_train, scoring='neg_mean_absolute_error', cv=10, return_train_score=True)\n",
    "\n",
    "    # Recopilar los resultados de cada pliegue\n",
    "    for i, (train_score, test_score) in enumerate(zip(cv_results['train_score'], cv_results['test_score']), 1):\n",
    "        train_accuracies.append(-train_score)  # Convertir a positivo ya que el scoring es negativo\n",
    "        test_accuracies.append(-test_score)  # Convertir a positivo ya que el scoring es negativo\n",
    "\n",
    "        # Guardar los resultados de cada pliegue en MLflow\n",
    "        mlflow.log_metric(f\"train_accuracy_fold_{i}\", -train_score)\n",
    "        mlflow.log_metric(f\"test_accuracy_fold_{i}\", -test_score)\n",
    "\n",
    "    # Calcular la media\n",
    "    mean_train_accuracy = np.mean(train_accuracies)\n",
    "    mean_test_accuracy = np.mean(test_accuracies)\n",
    "    \n",
    "    # Guardar los resultados promedio en MLflow\n",
    "    mlflow.log_metric(\"mean_train_accuracy\", mean_train_accuracy)\n",
    "    mlflow.log_metric(\"mean_test_accuracy\", mean_test_accuracy)"
   ],
   "metadata": {
    "collapsed": false,
    "ExecuteTime": {
     "end_time": "2024-04-16T22:45:00.049879Z",
     "start_time": "2024-04-16T22:44:46.479153800Z"
    }
   },
   "id": "d99254927df066d3"
  },
  {
   "cell_type": "markdown",
   "source": [
    "# Sin Hiperparámetros | Sin Escalar"
   ],
   "metadata": {
    "collapsed": false
   },
   "id": "71642f368fa3e771"
  },
  {
   "cell_type": "code",
   "execution_count": 8,
   "outputs": [],
   "source": [
    "# Definir listas para almacenar los resultados de entrenamiento y prueba para cada validación cruzada\n",
    "train_accuracies = []\n",
    "test_accuracies = []\n",
    "\n",
    "# Iniciar run de MLflow\n",
    "with mlflow.start_run(run_name=\"modelo_completo_sinparam_noescalado\"):\n",
    "    # Sin definición de hiperparámetros\n",
    "    clf = MLPRegressor(random_state=RANDOM_STATE)\n",
    "\n",
    "    # Validación cruzada con recopilación de resultados\n",
    "    cv_results = cross_validate(clf, X_train, y_train, scoring='neg_mean_absolute_error', cv=10, return_train_score=True)\n",
    "\n",
    "    # Recopilar los resultados de cada pliegue\n",
    "    for i, (train_score, test_score) in enumerate(zip(cv_results['train_score'], cv_results['test_score']), 1):\n",
    "        train_accuracies.append(-train_score)  # Convertir a positivo ya que el scoring es negativo\n",
    "        test_accuracies.append(-test_score)  # Convertir a positivo ya que el scoring es negativo\n",
    "\n",
    "        # Guardar los resultados de cada pliegue en MLflow\n",
    "        mlflow.log_metric(f\"train_accuracy_fold_{i}\", -train_score)\n",
    "        mlflow.log_metric(f\"test_accuracy_fold_{i}\", -test_score)\n",
    "\n",
    "    # Calcular la media\n",
    "    mean_train_accuracy = np.mean(train_accuracies)\n",
    "    mean_test_accuracy = np.mean(test_accuracies)\n",
    "    \n",
    "    # Guardar los resultados promedio en MLflow\n",
    "    mlflow.log_metric(\"mean_train_accuracy\", mean_train_accuracy)\n",
    "    mlflow.log_metric(\"mean_test_accuracy\", mean_test_accuracy)"
   ],
   "metadata": {
    "collapsed": false,
    "ExecuteTime": {
     "end_time": "2024-04-16T14:35:00.797286700Z",
     "start_time": "2024-04-16T14:34:51.606974500Z"
    }
   },
   "id": "1cdcdfde0461cf4d"
  },
  {
   "cell_type": "markdown",
   "source": [
    "# Con Hiperparámetros | Escalado"
   ],
   "metadata": {
    "collapsed": false
   },
   "id": "82e98de82dd1a08"
  },
  {
   "cell_type": "code",
   "execution_count": 18,
   "outputs": [
    {
     "name": "stderr",
     "output_type": "stream",
     "text": [
      "C:\\Users\\Usuario\\Documents\\Alvaro\\Carrera\\2-Segundo\\Primer cuatrimetre\\Fundamentos de la Inteligencia Artificial\\PycharmProjects\\proyecto\\Lib\\site-packages\\sklearn\\model_selection\\_validation.py:547: FitFailedWarning: \n",
      "1080 fits failed out of a total of 3240.\n",
      "The score on these train-test partitions for these parameters will be set to nan.\n",
      "If these failures are not expected, you can try to debug them by setting error_score='raise'.\n",
      "\n",
      "Below are more details about the failures:\n",
      "--------------------------------------------------------------------------------\n",
      "1080 fits failed with the following error:\n",
      "Traceback (most recent call last):\n",
      "  File \"C:\\Users\\Usuario\\Documents\\Alvaro\\Carrera\\2-Segundo\\Primer cuatrimetre\\Fundamentos de la Inteligencia Artificial\\PycharmProjects\\proyecto\\Lib\\site-packages\\sklearn\\model_selection\\_validation.py\", line 895, in _fit_and_score\n",
      "    estimator.fit(X_train, y_train, **fit_params)\n",
      "  File \"C:\\Users\\Usuario\\Documents\\Alvaro\\Carrera\\2-Segundo\\Primer cuatrimetre\\Fundamentos de la Inteligencia Artificial\\PycharmProjects\\proyecto\\Lib\\site-packages\\sklearn\\base.py\", line 1474, in wrapper\n",
      "    return fit_method(estimator, *args, **kwargs)\n",
      "           ^^^^^^^^^^^^^^^^^^^^^^^^^^^^^^^^^^^^^^\n",
      "  File \"C:\\Users\\Usuario\\Documents\\Alvaro\\Carrera\\2-Segundo\\Primer cuatrimetre\\Fundamentos de la Inteligencia Artificial\\PycharmProjects\\proyecto\\Lib\\site-packages\\sklearn\\neural_network\\_multilayer_perceptron.py\", line 752, in fit\n",
      "    return self._fit(X, y, incremental=False)\n",
      "           ^^^^^^^^^^^^^^^^^^^^^^^^^^^^^^^^^^\n",
      "  File \"C:\\Users\\Usuario\\Documents\\Alvaro\\Carrera\\2-Segundo\\Primer cuatrimetre\\Fundamentos de la Inteligencia Artificial\\PycharmProjects\\proyecto\\Lib\\site-packages\\sklearn\\neural_network\\_multilayer_perceptron.py\", line 496, in _fit\n",
      "    raise ValueError(\n",
      "ValueError: Solver produced non-finite parameter weights. The input data may contain large values and need to be preprocessed.\n",
      "\n",
      "  warnings.warn(some_fits_failed_message, FitFailedWarning)\n",
      "C:\\Users\\Usuario\\Documents\\Alvaro\\Carrera\\2-Segundo\\Primer cuatrimetre\\Fundamentos de la Inteligencia Artificial\\PycharmProjects\\proyecto\\Lib\\site-packages\\sklearn\\model_selection\\_search.py:1051: UserWarning: One or more of the test scores are non-finite: [-4469068.64411995               nan -8158786.72192161 -4469068.64411995\n",
      "               nan -8126490.0024682  -4469068.64411995               nan\n",
      " -3300815.88196639 -4469068.64411995               nan -6214747.18042182\n",
      " -4500835.88470545               nan -8158732.55031394 -4500835.88470545\n",
      "               nan -8119973.96504849 -4500835.88470545               nan\n",
      " -3225934.50940368 -4500835.88470545               nan -6458515.33919176\n",
      " -4407216.29664118               nan -8158675.62884552 -4407216.29664118\n",
      "               nan -8114575.34912822 -4407216.29664118               nan\n",
      " -3216774.28575393 -4407216.29664118               nan -8025268.21919561\n",
      " -4469068.64411995               nan -8158962.51658377 -4469068.64411995\n",
      "               nan -8146926.13249674 -4469068.64411995               nan\n",
      " -3522572.54579613 -4469068.64411995               nan -4804661.53017069\n",
      " -4500835.88470545               nan -8158942.33976137 -4500835.88470545\n",
      "               nan -8144485.78642413 -4500835.88470545               nan\n",
      " -3436511.52285331 -4500835.88470545               nan -4780897.84571019\n",
      " -4407216.29664118               nan -8158919.55731963 -4407216.29664118\n",
      "               nan -8142736.33358753 -4407216.29664118               nan\n",
      " -3390415.55227618 -4407216.29664118               nan -5709358.21412967\n",
      " -4469068.64411995               nan -8159023.95980091 -4469068.64411995\n",
      "               nan -8154928.78370949 -4469068.64411995               nan\n",
      " -4025567.86965565 -4469068.64411995               nan -3630073.32892666\n",
      " -4500835.88470545               nan -8159015.68547058 -4500835.88470545\n",
      "               nan -8154033.95277678 -4500835.88470545               nan\n",
      " -3924531.04963528 -4500835.88470545               nan -3719333.05361037\n",
      " -4407216.29664118               nan -8159006.57025694 -4407216.29664118\n",
      "               nan -8153590.19600183 -4407216.29664118               nan\n",
      " -3826371.84900815 -4407216.29664118               nan -3969829.40459557\n",
      " -4470683.84714504               nan -8158786.72192161 -4470683.84714504\n",
      "               nan -8126490.00246857 -4470683.84714504               nan\n",
      " -3300815.88155033 -4470683.84714504               nan -6210405.58417897\n",
      " -4482760.46990929               nan -8158732.55031395 -4482760.46990929\n",
      "               nan -8119973.96504892 -4482760.46990929               nan\n",
      " -3225934.50893593 -4482760.46990929               nan -6451986.31154228\n",
      " -4409217.09782993               nan -8158675.62884553 -4409217.09782993\n",
      "               nan -8114575.3491281  -4409217.09782993               nan\n",
      " -3216774.28512307 -4409217.09782993               nan -8029894.47721556\n",
      " -4470683.84714504               nan -8158962.51658377 -4470683.84714504\n",
      "               nan -8146926.1324968  -4470683.84714504               nan\n",
      " -3522572.54571748 -4470683.84714504               nan -4805579.68548564\n",
      " -4482760.46990929               nan -8158942.33976137 -4482760.46990929\n",
      "               nan -8144485.78642419 -4482760.46990929               nan\n",
      " -3436511.52277151 -4482760.46990929               nan -4782661.67994544\n",
      " -4409217.09782993               nan -8158919.55731963 -4409217.09782993\n",
      "               nan -8142736.3335876  -4409217.09782993               nan\n",
      " -3390415.55216884 -4409217.09782993               nan -5708654.07826137\n",
      " -4470683.84714504               nan -8159023.95980091 -4470683.84714504\n",
      "               nan -8154928.78370951 -4470683.84714504               nan\n",
      " -4025567.86963362 -4470683.84714504               nan -3629940.7364245\n",
      " -4482760.46990929               nan -8159015.68547058 -4482760.46990929\n",
      "               nan -8154033.95277681 -4482760.46990929               nan\n",
      " -3924531.04961238 -4482760.46990929               nan -3719270.14950422\n",
      " -4409217.09782993               nan -8159006.57025694 -4409217.09782993\n",
      "               nan -8153590.19600184 -4409217.09782993               nan\n",
      " -3826371.84897104 -4409217.09782993               nan -3969989.15680472\n",
      " -4452619.52628612               nan -8158786.72192163 -4452619.52628612\n",
      "               nan -8126490.00247217 -4452619.52628612               nan\n",
      " -3300815.87738976 -4452619.52628612               nan -6212436.50703751\n",
      " -4495759.60197407               nan -8158732.55031397 -4495759.60197407\n",
      "               nan -8119973.96505322 -4495759.60197407               nan\n",
      " -3225934.50425841 -4495759.60197407               nan -6454794.33619039\n",
      " -4396725.57282368               nan -8158675.62884565 -4396725.57282368\n",
      "               nan -8114575.34912684 -4396725.57282368               nan\n",
      " -3216774.27881446 -4396725.57282368               nan -8040768.60042496\n",
      " -4452619.52628612               nan -8158962.51658378 -4452619.52628612\n",
      "               nan -8146926.13249736 -4452619.52628612               nan\n",
      " -3522572.54493105 -4452619.52628612               nan -4804265.67313235\n",
      " -4495759.60197407               nan -8158942.33976138 -4495759.60197407\n",
      "               nan -8144485.78642485 -4495759.60197407               nan\n",
      " -3436511.52195347 -4495759.60197407               nan -4781573.47666974\n",
      " -4396725.57282368               nan -8158919.55731963 -4396725.57282368\n",
      "               nan -8142736.3335883  -4396725.57282368               nan\n",
      " -3390415.55109549 -4396725.57282368               nan -5711376.38751245\n",
      " -4452619.52628612               nan -8159023.95980091 -4452619.52628612\n",
      "               nan -8154928.78370975 -4452619.52628612               nan\n",
      " -4025567.86941336 -4452619.52628612               nan -3630353.23014556\n",
      " -4495759.60197407               nan -8159015.68547058 -4495759.60197407\n",
      "               nan -8154033.95277704 -4495759.60197407               nan\n",
      " -3924531.04938333 -4495759.60197407               nan -3718424.57523082\n",
      " -4396725.57282368               nan -8159006.57025694 -4396725.57282368\n",
      "               nan -8153590.19600199 -4396725.57282368               nan\n",
      " -3826371.84859992 -4396725.57282368               nan -3969858.9477982 ]\n",
      "  warnings.warn(\n",
      "C:\\Users\\Usuario\\Documents\\Alvaro\\Carrera\\2-Segundo\\Primer cuatrimetre\\Fundamentos de la Inteligencia Artificial\\PycharmProjects\\proyecto\\Lib\\site-packages\\sklearn\\neural_network\\_multilayer_perceptron.py:691: ConvergenceWarning: Stochastic Optimizer: Maximum iterations (200) reached and the optimization hasn't converged yet.\n",
      "  warnings.warn(\n",
      "C:\\Users\\Usuario\\Documents\\Alvaro\\Carrera\\2-Segundo\\Primer cuatrimetre\\Fundamentos de la Inteligencia Artificial\\PycharmProjects\\proyecto\\Lib\\site-packages\\_distutils_hack\\__init__.py:18: UserWarning: Distutils was imported before Setuptools, but importing Setuptools also replaces the `distutils` module in `sys.modules`. This may lead to undesirable behaviors or errors. To avoid these issues, avoid using distutils directly, ensure that setuptools is installed in the traditional way (e.g. not an editable install), and/or make sure that setuptools is always imported before distutils.\n",
      "  warnings.warn(\n",
      "C:\\Users\\Usuario\\Documents\\Alvaro\\Carrera\\2-Segundo\\Primer cuatrimetre\\Fundamentos de la Inteligencia Artificial\\PycharmProjects\\proyecto\\Lib\\site-packages\\_distutils_hack\\__init__.py:33: UserWarning: Setuptools is replacing distutils.\n",
      "  warnings.warn(\"Setuptools is replacing distutils.\")\n"
     ]
    },
    {
     "name": "stdout",
     "output_type": "stream",
     "text": [
      "Grid Search Best Score:  3216774.278814461\n",
      "Random Search Best Score:  3157308.535583933\n"
     ]
    },
    {
     "name": "stderr",
     "output_type": "stream",
     "text": [
      "C:\\Users\\Usuario\\Documents\\Alvaro\\Carrera\\2-Segundo\\Primer cuatrimetre\\Fundamentos de la Inteligencia Artificial\\PycharmProjects\\proyecto\\Lib\\site-packages\\_distutils_hack\\__init__.py:18: UserWarning: Distutils was imported before Setuptools, but importing Setuptools also replaces the `distutils` module in `sys.modules`. This may lead to undesirable behaviors or errors. To avoid these issues, avoid using distutils directly, ensure that setuptools is installed in the traditional way (e.g. not an editable install), and/or make sure that setuptools is always imported before distutils.\n",
      "  warnings.warn(\n",
      "C:\\Users\\Usuario\\Documents\\Alvaro\\Carrera\\2-Segundo\\Primer cuatrimetre\\Fundamentos de la Inteligencia Artificial\\PycharmProjects\\proyecto\\Lib\\site-packages\\_distutils_hack\\__init__.py:33: UserWarning: Setuptools is replacing distutils.\n",
      "  warnings.warn(\"Setuptools is replacing distutils.\")\n"
     ]
    }
   ],
   "source": [
    "param_grid = {\n",
    "    'hidden_layer_sizes': [(20,), (24,), (28,)],  # Varias configuraciones de capas\n",
    "    'solver': ['lbfgs', 'sgd', 'adam'], \n",
    "    'alpha': [0.0001, 0.001, 0.01],  \n",
    "    'learning_rate_init' : [0.0001, 0.001, 0.1, 1],\n",
    "    'batch_size': [16, 32, 64]\n",
    "}\n",
    "\n",
    "param_dist = {\n",
    "    'hidden_layer_sizes': [(x,) for x in range(5, 101, 5)],  # Varias configuraciones de capas\n",
    "    'activation': ['identity', 'logistic', 'tanh', 'relu'],\n",
    "    'solver': ['lbfgs', 'sgd', 'adam'],\n",
    "    'alpha': [10**exp for exp in range(-5, 2)],  # Rango de 10^-5 a 10^1\n",
    "    'batch_size': [2**exp for exp in range(4, 8)],  # Rango de 16 a 128\n",
    "    'learning_rate': ['constant', 'invscaling', 'adaptive'],\n",
    "    'learning_rate_init': [10**exp for exp in range(-4, 0)],  # Rango de 0.0001 a 0.1\n",
    "}\n",
    "\n",
    "\n",
    "\n",
    "# Crear el modelo base\n",
    "mlp = MLPRegressor(random_state=RANDOM_STATE)\n",
    "\n",
    "# Configuración de GridSearchCV\n",
    "grid_search = GridSearchCV(estimator=mlp, param_grid=param_grid, scoring='neg_mean_absolute_error', cv=10, n_jobs=-1)\n",
    "\n",
    "# Configuración de RandomizedSearchCV\n",
    "random_search = RandomizedSearchCV(estimator=mlp, param_distributions=param_dist, n_iter=10, scoring='neg_mean_absolute_error', cv=10, random_state=RANDOM_STATE, n_jobs=-1)\n",
    "\n",
    "# Ejecutar Grid Search\n",
    "with mlflow.start_run(run_name=\"modelo_completo_grid_escalado\"):\n",
    "    grid_search.fit(scaled_X_train, y_train)\n",
    "    mlflow.log_params(grid_search.best_params_)\n",
    "    mlflow.log_metric(\"grid_search_best_score\", -grid_search.best_score_)\n",
    "    mlflow.sklearn.log_model(grid_search.best_estimator_, \"model_grid_search\")\n",
    "\n",
    "# Ejecutar Random Search\n",
    "with mlflow.start_run(run_name=\"modelo_completo_randomize_escalado\"):\n",
    "    random_search.fit(scaled_X_train, y_train)\n",
    "    mlflow.log_params(random_search.best_params_)\n",
    "    mlflow.log_metric(\"random_search_best_score\", -random_search.best_score_)\n",
    "    mlflow.sklearn.log_model(random_search.best_estimator_, \"model_random_search\")\n",
    "\n",
    "print(\"Grid Search Best Score: \", -grid_search.best_score_)\n",
    "print(\"Random Search Best Score: \", -random_search.best_score_)\n"
   ],
   "metadata": {
    "collapsed": false,
    "ExecuteTime": {
     "end_time": "2024-04-16T10:39:40.765280600Z",
     "start_time": "2024-04-16T10:15:18.001889200Z"
    }
   },
   "id": "33411cb9aab3d350"
  },
  {
   "cell_type": "markdown",
   "source": [
    "# Con Hiperparámetros | Sin Escalar"
   ],
   "metadata": {
    "collapsed": false
   },
   "id": "fcb5937c39fd4171"
  },
  {
   "cell_type": "code",
   "execution_count": 19,
   "outputs": [
    {
     "name": "stderr",
     "output_type": "stream",
     "text": [
      "C:\\Users\\Usuario\\Documents\\Alvaro\\Carrera\\2-Segundo\\Primer cuatrimetre\\Fundamentos de la Inteligencia Artificial\\PycharmProjects\\proyecto\\Lib\\site-packages\\sklearn\\model_selection\\_validation.py:547: FitFailedWarning: \n",
      "13 fits failed out of a total of 3240.\n",
      "The score on these train-test partitions for these parameters will be set to nan.\n",
      "If these failures are not expected, you can try to debug them by setting error_score='raise'.\n",
      "\n",
      "Below are more details about the failures:\n",
      "--------------------------------------------------------------------------------\n",
      "13 fits failed with the following error:\n",
      "Traceback (most recent call last):\n",
      "  File \"C:\\Users\\Usuario\\Documents\\Alvaro\\Carrera\\2-Segundo\\Primer cuatrimetre\\Fundamentos de la Inteligencia Artificial\\PycharmProjects\\proyecto\\Lib\\site-packages\\sklearn\\model_selection\\_validation.py\", line 895, in _fit_and_score\n",
      "    estimator.fit(X_train, y_train, **fit_params)\n",
      "  File \"C:\\Users\\Usuario\\Documents\\Alvaro\\Carrera\\2-Segundo\\Primer cuatrimetre\\Fundamentos de la Inteligencia Artificial\\PycharmProjects\\proyecto\\Lib\\site-packages\\sklearn\\base.py\", line 1474, in wrapper\n",
      "    return fit_method(estimator, *args, **kwargs)\n",
      "           ^^^^^^^^^^^^^^^^^^^^^^^^^^^^^^^^^^^^^^\n",
      "  File \"C:\\Users\\Usuario\\Documents\\Alvaro\\Carrera\\2-Segundo\\Primer cuatrimetre\\Fundamentos de la Inteligencia Artificial\\PycharmProjects\\proyecto\\Lib\\site-packages\\sklearn\\neural_network\\_multilayer_perceptron.py\", line 752, in fit\n",
      "    return self._fit(X, y, incremental=False)\n",
      "           ^^^^^^^^^^^^^^^^^^^^^^^^^^^^^^^^^^\n",
      "  File \"C:\\Users\\Usuario\\Documents\\Alvaro\\Carrera\\2-Segundo\\Primer cuatrimetre\\Fundamentos de la Inteligencia Artificial\\PycharmProjects\\proyecto\\Lib\\site-packages\\sklearn\\neural_network\\_multilayer_perceptron.py\", line 496, in _fit\n",
      "    raise ValueError(\n",
      "ValueError: Solver produced non-finite parameter weights. The input data may contain large values and need to be preprocessed.\n",
      "\n",
      "  warnings.warn(some_fits_failed_message, FitFailedWarning)\n",
      "C:\\Users\\Usuario\\Documents\\Alvaro\\Carrera\\2-Segundo\\Primer cuatrimetre\\Fundamentos de la Inteligencia Artificial\\PycharmProjects\\proyecto\\Lib\\site-packages\\sklearn\\model_selection\\_search.py:1051: UserWarning: One or more of the test scores are non-finite: [-2.79076891e+006 -7.66245573e+110 -2.73463165e+006 -2.79076891e+006\n",
      " -2.43358332e+060 -2.76655208e+006 -2.79076891e+006 -2.80569000e+033\n",
      " -3.76542778e+006 -2.79076891e+006 -7.21807939e+006 -8.14342253e+006\n",
      " -2.84148652e+006 -1.72546536e+059 -2.72445323e+006 -2.84148652e+006\n",
      " -4.65694348e+061 -2.75755559e+006 -2.84148652e+006 -1.54900740e+031\n",
      " -3.25204220e+006 -2.84148652e+006 -1.40283114e+007 -8.14381857e+006\n",
      " -2.88300176e+006 -6.03066341e+097 -2.74088156e+006 -2.88300176e+006\n",
      " -1.29908966e+049 -2.75607463e+006 -2.88300176e+006              nan\n",
      " -3.13644410e+006 -2.88300176e+006 -8.96188212e+006 -8.14400458e+006\n",
      " -2.79076891e+006 -2.97402698e+051 -2.72923587e+006 -2.79076891e+006\n",
      " -1.72823747e+058 -2.73919429e+006 -2.79076891e+006 -1.08589293e+052\n",
      " -3.07004584e+006 -2.79076891e+006 -8.07571047e+006 -8.15157005e+006\n",
      " -2.84148652e+006 -2.55237505e+053 -2.72577532e+006 -2.84148652e+006\n",
      " -1.41572564e+060 -2.72565550e+006 -2.84148652e+006 -2.70522203e+055\n",
      " -3.15036779e+006 -2.84148652e+006 -1.26134560e+007 -8.15176908e+006\n",
      " -2.88300176e+006 -3.86373562e+089 -2.73952155e+006 -2.88300176e+006\n",
      " -4.82884121e+061 -2.75853811e+006 -2.88300176e+006 -2.30484753e+044\n",
      " -3.19222678e+006 -2.88300176e+006 -9.02946682e+006 -6.46305311e+006\n",
      " -2.79076891e+006 -1.02140482e+059 -2.75191305e+006 -2.79076891e+006\n",
      " -7.91327380e+064 -2.75547344e+006 -2.79076891e+006 -8.10589613e+066\n",
      " -3.11437204e+006 -2.79076891e+006 -8.10631811e+006 -8.15543097e+006\n",
      " -2.84148652e+006 -6.46264621e+032 -2.74093592e+006 -2.84148652e+006\n",
      " -5.00689742e+038 -2.72707565e+006 -2.84148652e+006 -5.12868564e+040\n",
      " -2.94311831e+006 -2.84148652e+006 -1.31862229e+007 -8.15594338e+006\n",
      " -2.88300176e+006 -1.79675534e+096 -2.75744544e+006 -2.88300176e+006\n",
      " -1.89300271e+095 -2.76897938e+006 -2.88300176e+006 -9.53243070e+065\n",
      " -2.85838507e+006 -2.88300176e+006 -9.00538508e+006 -8.15631842e+006\n",
      " -2.78930854e+006 -7.66245329e+110 -2.73210314e+006 -2.78930854e+006\n",
      " -2.43358280e+060 -2.74920749e+006 -2.78930854e+006 -2.80543595e+033\n",
      " -3.48382713e+006 -2.78930854e+006 -8.50950217e+006 -8.14349817e+006\n",
      " -2.83937746e+006 -1.72546533e+059 -2.72421677e+006 -2.83937746e+006\n",
      " -4.65694248e+061 -2.75802365e+006 -2.83937746e+006 -1.54890110e+031\n",
      " -3.32663036e+006 -2.83937746e+006 -8.58483788e+006 -8.14385376e+006\n",
      " -2.87998613e+006 -6.03065426e+097 -2.73840572e+006 -2.87998613e+006\n",
      " -1.29908788e+049 -2.77078403e+006 -2.87998613e+006              nan\n",
      " -3.18845107e+006 -2.87998613e+006 -9.08641917e+006 -8.14408799e+006\n",
      " -2.78930854e+006 -2.97402531e+051 -2.72919163e+006 -2.78930854e+006\n",
      " -1.72822773e+058 -2.73419271e+006 -2.78930854e+006 -1.08586477e+052\n",
      " -2.93753292e+006 -2.78930854e+006 -8.07571054e+006 -7.52591814e+006\n",
      " -2.83937746e+006 -2.55237494e+053 -2.72796562e+006 -2.83937746e+006\n",
      " -1.41572501e+060 -2.72454766e+006 -2.83937746e+006 -2.70510286e+055\n",
      " -3.16452157e+006 -2.83937746e+006 -1.26134560e+007 -8.15179816e+006\n",
      " -2.87998613e+006 -3.86373544e+089 -2.74189078e+006 -2.87998613e+006\n",
      " -4.82883892e+061 -2.76757492e+006 -2.87998613e+006 -2.30432421e+044\n",
      " -4.20228999e+006 -2.87998613e+006              nan -6.60080541e+006\n",
      " -2.78930854e+006 -1.02140481e+059 -2.75135207e+006 -2.78930854e+006\n",
      " -7.91327338e+064 -2.75543796e+006 -2.78930854e+006 -8.10585281e+066\n",
      " -2.94122240e+006 -2.78930854e+006 -7.95017292e+006 -8.15546380e+006\n",
      " -2.83937746e+006 -6.46264617e+032 -2.74092564e+006 -2.83937746e+006\n",
      " -5.00689715e+038 -2.73347740e+006 -2.83937746e+006 -5.12865824e+040\n",
      " -2.86153566e+006 -2.83937746e+006 -1.31862229e+007 -8.15597176e+006\n",
      " -2.87998613e+006 -1.79675513e+096 -2.75715013e+006 -2.87998613e+006\n",
      " -1.89300052e+095 -2.75908148e+006 -2.87998613e+006 -9.53237976e+065\n",
      " -2.83353141e+006 -2.87998613e+006 -9.00538508e+006 -8.15639412e+006\n",
      " -2.78793024e+006 -7.66242890e+110 -2.73165846e+006 -2.78793024e+006\n",
      " -2.43357759e+060 -2.77283682e+006 -2.78793024e+006 -7.89233214e+006\n",
      " -3.45091803e+006 -2.78793024e+006 -8.50950217e+006 -8.14349527e+006\n",
      " -2.84038236e+006 -1.72546496e+059 -2.72434219e+006 -2.84038236e+006\n",
      " -4.65693252e+061 -2.75309338e+006 -2.84038236e+006 -7.79215388e+006\n",
      " -3.21221998e+006 -2.84038236e+006 -8.58483788e+006 -8.14456716e+006\n",
      " -2.87881303e+006 -6.03056279e+097 -2.73565362e+006 -2.87881303e+006\n",
      " -1.29907014e+049 -2.76082019e+006 -2.87881303e+006              nan\n",
      " -3.12001616e+006 -2.87881303e+006 -9.08641917e+006 -8.14407353e+006\n",
      " -2.78793024e+006 -2.97400856e+051 -2.72955392e+006 -2.78793024e+006\n",
      " -1.72813027e+058 -2.72935037e+006 -2.78793024e+006 -1.08558321e+052\n",
      " -2.91020612e+006 -2.78793024e+006 -8.21953295e+006 -8.08903878e+006\n",
      " -2.84038236e+006 -2.55237380e+053 -2.72753867e+006 -2.84038236e+006\n",
      " -1.41571872e+060 -2.72295294e+006 -2.84038236e+006 -2.70391136e+055\n",
      " -3.13221647e+006 -2.84038236e+006 -7.72790751e+006 -8.15180400e+006\n",
      " -2.87881303e+006 -3.86373361e+089 -2.74004383e+006 -2.87881303e+006\n",
      " -4.82881607e+061 -2.76120442e+006 -2.87881303e+006 -2.29909600e+044\n",
      " -3.33471647e+006 -2.87881303e+006 -8.95416469e+006 -7.17857071e+006\n",
      " -2.78793024e+006 -1.02140476e+059 -2.75185958e+006 -2.78793024e+006\n",
      " -7.91326915e+064 -2.77461872e+006 -2.78793024e+006 -8.10541953e+066\n",
      " -3.14576038e+006 -2.78793024e+006 -9.09771553e+006 -8.15547675e+006\n",
      " -2.84038236e+006 -6.46264583e+032 -2.74096089e+006 -2.84038236e+006\n",
      " -5.00689447e+038 -2.72422834e+006 -2.84038236e+006 -5.12838427e+040\n",
      " -2.98978097e+006 -2.84038236e+006 -7.29245528e+006 -8.15628750e+006\n",
      " -2.87881303e+006 -1.79675305e+096 -2.75741415e+006 -2.87881303e+006\n",
      " -1.89297864e+095 -2.77430730e+006 -2.87881303e+006 -9.53187038e+065\n",
      " -2.80521800e+006 -2.87881303e+006 -8.96474391e+006 -8.15667294e+006]\n",
      "  warnings.warn(\n",
      "C:\\Users\\Usuario\\Documents\\Alvaro\\Carrera\\2-Segundo\\Primer cuatrimetre\\Fundamentos de la Inteligencia Artificial\\PycharmProjects\\proyecto\\Lib\\site-packages\\_distutils_hack\\__init__.py:18: UserWarning: Distutils was imported before Setuptools, but importing Setuptools also replaces the `distutils` module in `sys.modules`. This may lead to undesirable behaviors or errors. To avoid these issues, avoid using distutils directly, ensure that setuptools is installed in the traditional way (e.g. not an editable install), and/or make sure that setuptools is always imported before distutils.\n",
      "  warnings.warn(\n",
      "C:\\Users\\Usuario\\Documents\\Alvaro\\Carrera\\2-Segundo\\Primer cuatrimetre\\Fundamentos de la Inteligencia Artificial\\PycharmProjects\\proyecto\\Lib\\site-packages\\_distutils_hack\\__init__.py:33: UserWarning: Setuptools is replacing distutils.\n",
      "  warnings.warn(\"Setuptools is replacing distutils.\")\n"
     ]
    },
    {
     "name": "stdout",
     "output_type": "stream",
     "text": [
      "Grid Search Best Score:  2722952.937256958\n",
      "Random Search Best Score:  2915801.371122822\n"
     ]
    },
    {
     "name": "stderr",
     "output_type": "stream",
     "text": [
      "C:\\Users\\Usuario\\Documents\\Alvaro\\Carrera\\2-Segundo\\Primer cuatrimetre\\Fundamentos de la Inteligencia Artificial\\PycharmProjects\\proyecto\\Lib\\site-packages\\_distutils_hack\\__init__.py:18: UserWarning: Distutils was imported before Setuptools, but importing Setuptools also replaces the `distutils` module in `sys.modules`. This may lead to undesirable behaviors or errors. To avoid these issues, avoid using distutils directly, ensure that setuptools is installed in the traditional way (e.g. not an editable install), and/or make sure that setuptools is always imported before distutils.\n",
      "  warnings.warn(\n",
      "C:\\Users\\Usuario\\Documents\\Alvaro\\Carrera\\2-Segundo\\Primer cuatrimetre\\Fundamentos de la Inteligencia Artificial\\PycharmProjects\\proyecto\\Lib\\site-packages\\_distutils_hack\\__init__.py:33: UserWarning: Setuptools is replacing distutils.\n",
      "  warnings.warn(\"Setuptools is replacing distutils.\")\n"
     ]
    }
   ],
   "source": [
    "param_grid = {\n",
    "    'hidden_layer_sizes': [(20,), (24,), (28,)],  # Varias configuraciones de capas\n",
    "    'solver': ['lbfgs', 'sgd', 'adam'], \n",
    "    'alpha': [0.0001, 0.001, 0.01],  \n",
    "    'learning_rate_init' : [0.0001, 0.001, 0.1, 1],\n",
    "    'batch_size': [16, 32, 64]\n",
    "}\n",
    "\n",
    "param_dist = {\n",
    "    'hidden_layer_sizes': [(x,) for x in range(5, 101, 5)],  # Varias configuraciones de capas\n",
    "    'activation': ['identity', 'logistic', 'tanh', 'relu'],\n",
    "    'solver': ['lbfgs', 'sgd', 'adam'],\n",
    "    'alpha': [10**exp for exp in range(-5, 2)],  # Rango de 10^-5 a 10^1\n",
    "    'batch_size': [2**exp for exp in range(4, 8)],  # Rango de 16 a 128\n",
    "    'learning_rate': ['constant', 'invscaling', 'adaptive'],\n",
    "    'learning_rate_init': [10**exp for exp in range(-4, 0)],  # Rango de 0.0001 a 0.1\n",
    "}\n",
    "\n",
    "# Crear el modelo base\n",
    "mlp = MLPRegressor(random_state=RANDOM_STATE)\n",
    "\n",
    "# Configuración de GridSearchCV\n",
    "grid_search = GridSearchCV(estimator=mlp, param_grid=param_grid, scoring='neg_mean_absolute_error', cv=10, n_jobs=-1)\n",
    "\n",
    "# Configuración de RandomizedSearchCV\n",
    "random_search = RandomizedSearchCV(estimator=mlp, param_distributions=param_dist, n_iter=10, scoring='neg_mean_absolute_error', cv=10, random_state=RANDOM_STATE, n_jobs=-1)\n",
    "\n",
    "# Ejecutar Grid Search\n",
    "with mlflow.start_run(run_name=\"modelo_completo_grid_escalado\"):\n",
    "    grid_search.fit(X_train, y_train)\n",
    "    mlflow.log_params(grid_search.best_params_)\n",
    "    mlflow.log_metric(\"grid_search_best_score\", -grid_search.best_score_)\n",
    "    mlflow.sklearn.log_model(grid_search.best_estimator_, \"model_grid_search\")\n",
    "\n",
    "# Ejecutar Random Search\n",
    "with mlflow.start_run(run_name=\"modelo_completo_randomize_escalado\"):\n",
    "    random_search.fit(X_train, y_train)\n",
    "    mlflow.log_params(random_search.best_params_)\n",
    "    mlflow.log_metric(\"random_search_best_score\", -random_search.best_score_)\n",
    "    mlflow.sklearn.log_model(random_search.best_estimator_, \"model_random_search\")\n",
    "\n",
    "print(\"Grid Search Best Score: \", -grid_search.best_score_)\n",
    "print(\"Random Search Best Score: \", -random_search.best_score_)\n"
   ],
   "metadata": {
    "collapsed": false,
    "ExecuteTime": {
     "end_time": "2024-04-16T10:55:38.231339100Z",
     "start_time": "2024-04-16T10:41:07.368902400Z"
    }
   },
   "id": "58e87807214be5de"
  },
  {
   "cell_type": "code",
   "execution_count": null,
   "outputs": [],
   "source": [],
   "metadata": {
    "collapsed": false
   },
   "id": "2c0bfe26febb224a"
  }
 ],
 "metadata": {
  "kernelspec": {
   "display_name": "Python 3",
   "language": "python",
   "name": "python3"
  },
  "language_info": {
   "codemirror_mode": {
    "name": "ipython",
    "version": 2
   },
   "file_extension": ".py",
   "mimetype": "text/x-python",
   "name": "python",
   "nbconvert_exporter": "python",
   "pygments_lexer": "ipython2",
   "version": "2.7.6"
  }
 },
 "nbformat": 4,
 "nbformat_minor": 5
}
