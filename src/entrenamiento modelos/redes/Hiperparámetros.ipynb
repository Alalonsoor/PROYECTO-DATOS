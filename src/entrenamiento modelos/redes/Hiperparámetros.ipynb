{
 "cells": [
  {
   "cell_type": "code",
   "execution_count": 1,
   "outputs": [],
   "source": [
    "from sklearn.model_selection import GridSearchCV, RandomizedSearchCV, cross_validate\n",
    "from sklearn.neural_network import MLPRegressor\n",
    "import mlflow\n",
    "import os\n",
    "from sklearn.metrics import mean_absolute_error"
   ],
   "metadata": {
    "collapsed": false,
    "ExecuteTime": {
     "end_time": "2024-04-28T18:57:54.059804900Z",
     "start_time": "2024-04-28T18:57:52.939948800Z"
    }
   },
   "id": "e2edfe0aaf786dd9"
  },
  {
   "cell_type": "code",
   "execution_count": 2,
   "outputs": [
    {
     "data": {
      "text/plain": "<Experiment: artifact_location='mlflow-artifacts:/2', creation_time=1713175269356, experiment_id='2', last_update_time=1713175269356, lifecycle_stage='active', name='redes_neuronales', tags={'mlflow.sharedViewState.35fcf56d61b8dbb98512f6829913993e41257533dd332e1e8ff07999f73a21ea': '{\"searchFilter\":\"\",\"orderByKey\":\"attributes.start_time\",\"orderByAsc\":false,\"startTime\":\"ALL\",\"lifecycleFilter\":\"Active\",\"datasetsFilter\":[],\"modelVersionFilter\":\"All '\n                                                                                            'Runs\",\"selectedColumns\":[\"attributes.`Source`\",\"attributes.`Models`\",\"attributes.`Dataset`\"],\"runsExpanded\":{},\"runsPinned\":[],\"runsHidden\":[],\"runsHiddenMode\":\"FIRST_10_RUNS\",\"compareRunCharts\":[{\"uuid\":\"1713177259273xowwzda7\",\"type\":\"BAR\",\"runsCountToCompare\":10,\"metricSectionId\":\"171317725927396vp3vfh\",\"deleted\":false,\"isGenerated\":true,\"metricKey\":\"best_mean_test_accuracy\"},{\"uuid\":\"1713177259273vnosmd9g\",\"type\":\"BAR\",\"runsCountToCompare\":10,\"metricSectionId\":\"171317725927396vp3vfh\",\"deleted\":false,\"isGenerated\":true,\"metricKey\":\"grid_search_best_score\"},{\"uuid\":\"1713177259273bsfb9mqr\",\"type\":\"BAR\",\"runsCountToCompare\":10,\"metricSectionId\":\"171317725927396vp3vfh\",\"deleted\":false,\"isGenerated\":true,\"metricKey\":\"mean_test_accuracy\"},{\"uuid\":\"17131772592734gtwmjcl\",\"type\":\"BAR\",\"runsCountToCompare\":10,\"metricSectionId\":\"171317725927396vp3vfh\",\"deleted\":false,\"isGenerated\":true,\"metricKey\":\"mean_train_accuracy\"},{\"uuid\":\"17131772592730jmnjzgr\",\"type\":\"BAR\",\"runsCountToCompare\":10,\"metricSectionId\":\"171317725927396vp3vfh\",\"deleted\":false,\"isGenerated\":true,\"metricKey\":\"random_search_best_score\"},{\"uuid\":\"1713177259273ody22238\",\"type\":\"BAR\",\"runsCountToCompare\":10,\"metricSectionId\":\"171317725927396vp3vfh\",\"deleted\":false,\"isGenerated\":true,\"metricKey\":\"test_mae\"},{\"uuid\":\"17131772592739tusf9sg\",\"type\":\"BAR\",\"runsCountToCompare\":10,\"metricSectionId\":\"171317725927396vp3vfh\",\"deleted\":false,\"isGenerated\":true,\"metricKey\":\"train_mae\"}],\"compareRunSections\":[{\"uuid\":\"171317725927396vp3vfh\",\"name\":\"Model '\n                                                                                            'metrics\",\"display\":true,\"isReordered\":false,\"deleted\":false,\"isGenerated\":true},{\"uuid\":\"1713177259273j9wzaydq\",\"name\":\"System '\n                                                                                            'metrics\",\"display\":true,\"isReordered\":false,\"deleted\":false,\"isGenerated\":true}],\"viewMaximized\":false,\"runListHidden\":false,\"isAccordionReordered\":false,\"groupBy\":\"\",\"groupsExpanded\":{}}'}>"
     },
     "execution_count": 2,
     "metadata": {},
     "output_type": "execute_result"
    }
   ],
   "source": [
    "# Establecer la URI de la base de datos SQLite\n",
    "os.environ['MLFLOW_TRACKING_URI'] = 'sqlite:///mlruns.db'\n",
    "\n",
    "# Configuración de MLflow\n",
    "mlflow.set_tracking_uri(uri=\"http://127.0.0.1:5000\")\n",
    "mlflow.set_experiment(\"redes_neuronales\")"
   ],
   "metadata": {
    "collapsed": false,
    "ExecuteTime": {
     "end_time": "2024-04-28T18:57:54.684725900Z",
     "start_time": "2024-04-28T18:57:54.616368Z"
    }
   },
   "id": "fc8c184548c4dd3e"
  },
  {
   "cell_type": "markdown",
   "source": [
    "# Sin Hiperparámetros"
   ],
   "metadata": {
    "collapsed": false
   },
   "id": "b8e00d76beb1ca6c"
  },
  {
   "cell_type": "code",
   "execution_count": 5,
   "outputs": [
    {
     "name": "stdout",
     "output_type": "stream",
     "text": [
      "Archivo Datos_la_liga_preparados_entrenamiento.parquet guardado en: ../Downloads\\Datos_la_liga_preparados_entrenamiento.parquet\n"
     ]
    },
    {
     "name": "stderr",
     "output_type": "stream",
     "text": [
      "C:\\Users\\Usuario\\Documents\\Alvaro\\Carrera\\2-Segundo\\Primer cuatrimetre\\Fundamentos de la Inteligencia Artificial\\PycharmProjects\\proyecto\\Lib\\site-packages\\sklearn\\neural_network\\_multilayer_perceptron.py:691: ConvergenceWarning: Stochastic Optimizer: Maximum iterations (200) reached and the optimization hasn't converged yet.\n",
      "  warnings.warn(\n"
     ]
    }
   ],
   "source": [
    "# Definir listas para almacenar los resultados de entrenamiento y prueba para cada validación cruzada\n",
    "train_maes = []\n",
    "test_maes = []\n",
    "\n",
    "# Iniciar run de MLflow\n",
    "with mlflow.start_run(run_name=\"modelo_completo_sinparam\"):\n",
    "    # Escalado de características\n",
    "    import preprocesamiento_datos\n",
    "    X_train, X_val, X_test, y_train, y_val, y_test, RANDOM_STATE = preprocesamiento_datos.preprocesamiento(True,[], False)\n",
    "\n",
    "    # Sin definición de hiperparámetros\n",
    "    model = MLPRegressor()\n",
    "\n",
    "    # Entrenar el modelo con X_train y y_train\n",
    "    model.fit(X_train, y_train)\n",
    "\n",
    "    # Realizar predicciones en el conjunto de validación y de prueba\n",
    "    y_val_pred = model.predict(X_val)\n",
    "    y_test_pred = model.predict(X_test)\n",
    "\n",
    "    # Calcular el error absoluto medio (MAE) para evaluar el modelo en ambos conjuntos\n",
    "    val_mae = mean_absolute_error(y_val, y_val_pred)\n",
    "    test_mae = mean_absolute_error(y_test, y_test_pred)\n",
    "\n",
    "    # Guardar los resultados de validación y prueba en MLflow\n",
    "    mlflow.log_metric(\"val_mae\", val_mae)\n",
    "    mlflow.log_metric(\"test_mae\", test_mae)\n"
   ],
   "metadata": {
    "collapsed": false,
    "ExecuteTime": {
     "end_time": "2024-04-28T19:36:36.249261Z",
     "start_time": "2024-04-28T19:36:32.816494200Z"
    }
   },
   "id": "d99254927df066d3"
  },
  {
   "cell_type": "markdown",
   "source": [
    "# Con Hiperparámetros"
   ],
   "metadata": {
    "collapsed": false
   },
   "id": "82e98de82dd1a08"
  },
  {
   "cell_type": "code",
   "execution_count": 4,
   "outputs": [
    {
     "name": "stdout",
     "output_type": "stream",
     "text": [
      "Archivo Datos_la_liga_preparados_entrenamiento.parquet guardado en: ../Downloads\\Datos_la_liga_preparados_entrenamiento.parquet\n"
     ]
    },
    {
     "name": "stderr",
     "output_type": "stream",
     "text": [
      "C:\\Users\\Usuario\\Documents\\Alvaro\\Carrera\\2-Segundo\\Primer cuatrimetre\\Fundamentos de la Inteligencia Artificial\\PycharmProjects\\proyecto\\Lib\\site-packages\\sklearn\\neural_network\\_multilayer_perceptron.py:691: ConvergenceWarning: Stochastic Optimizer: Maximum iterations (200) reached and the optimization hasn't converged yet.\n",
      "  warnings.warn(\n",
      "C:\\Users\\Usuario\\Documents\\Alvaro\\Carrera\\2-Segundo\\Primer cuatrimetre\\Fundamentos de la Inteligencia Artificial\\PycharmProjects\\proyecto\\Lib\\site-packages\\sklearn\\neural_network\\_multilayer_perceptron.py:691: ConvergenceWarning: Stochastic Optimizer: Maximum iterations (200) reached and the optimization hasn't converged yet.\n",
      "  warnings.warn(\n",
      "C:\\Users\\Usuario\\Documents\\Alvaro\\Carrera\\2-Segundo\\Primer cuatrimetre\\Fundamentos de la Inteligencia Artificial\\PycharmProjects\\proyecto\\Lib\\site-packages\\sklearn\\model_selection\\_validation.py:547: FitFailedWarning: \n",
      "340 fits failed out of a total of 1000.\n",
      "The score on these train-test partitions for these parameters will be set to nan.\n",
      "If these failures are not expected, you can try to debug them by setting error_score='raise'.\n",
      "\n",
      "Below are more details about the failures:\n",
      "--------------------------------------------------------------------------------\n",
      "340 fits failed with the following error:\n",
      "Traceback (most recent call last):\n",
      "  File \"C:\\Users\\Usuario\\Documents\\Alvaro\\Carrera\\2-Segundo\\Primer cuatrimetre\\Fundamentos de la Inteligencia Artificial\\PycharmProjects\\proyecto\\Lib\\site-packages\\sklearn\\model_selection\\_validation.py\", line 895, in _fit_and_score\n",
      "    estimator.fit(X_train, y_train, **fit_params)\n",
      "  File \"C:\\Users\\Usuario\\Documents\\Alvaro\\Carrera\\2-Segundo\\Primer cuatrimetre\\Fundamentos de la Inteligencia Artificial\\PycharmProjects\\proyecto\\Lib\\site-packages\\sklearn\\base.py\", line 1474, in wrapper\n",
      "    return fit_method(estimator, *args, **kwargs)\n",
      "           ^^^^^^^^^^^^^^^^^^^^^^^^^^^^^^^^^^^^^^\n",
      "  File \"C:\\Users\\Usuario\\Documents\\Alvaro\\Carrera\\2-Segundo\\Primer cuatrimetre\\Fundamentos de la Inteligencia Artificial\\PycharmProjects\\proyecto\\Lib\\site-packages\\sklearn\\neural_network\\_multilayer_perceptron.py\", line 752, in fit\n",
      "    return self._fit(X, y, incremental=False)\n",
      "           ^^^^^^^^^^^^^^^^^^^^^^^^^^^^^^^^^^\n",
      "  File \"C:\\Users\\Usuario\\Documents\\Alvaro\\Carrera\\2-Segundo\\Primer cuatrimetre\\Fundamentos de la Inteligencia Artificial\\PycharmProjects\\proyecto\\Lib\\site-packages\\sklearn\\neural_network\\_multilayer_perceptron.py\", line 496, in _fit\n",
      "    raise ValueError(\n",
      "ValueError: Solver produced non-finite parameter weights. The input data may contain large values and need to be preprocessed.\n",
      "\n",
      "  warnings.warn(some_fits_failed_message, FitFailedWarning)\n",
      "C:\\Users\\Usuario\\Documents\\Alvaro\\Carrera\\2-Segundo\\Primer cuatrimetre\\Fundamentos de la Inteligencia Artificial\\PycharmProjects\\proyecto\\Lib\\site-packages\\sklearn\\model_selection\\_search.py:1051: UserWarning: One or more of the test scores are non-finite: [-3673109.19056802 -3441737.81446051               nan -3348142.81909711\n",
      " -3981329.95427307               nan -3532516.90963365               nan\n",
      " -6984119.16990578 -2892856.40088242 -3470653.0980236  -4044846.87419091\n",
      " -7630707.73665186 -3983931.6442093  -5390827.23977202 -3842806.11389303\n",
      " -7936168.96169573               nan -8526994.64638243               nan\n",
      "               nan -3568107.38739759 -3604039.33994929               nan\n",
      "               nan               nan               nan -3284056.92203288\n",
      " -8428806.68986982               nan -3617139.32735708 -8380238.23204777\n",
      " -3663035.65116743 -3803193.56221948               nan -8527000.48704829\n",
      " -3460605.73259849               nan -4164612.10625991               nan\n",
      " -4120214.04241865               nan -3542542.43434627 -4085029.81620029\n",
      " -3213676.55101912 -3417157.16657284 -3530865.3843619  -8526668.40826199\n",
      " -3673109.19056802 -5119886.2070379  -8515158.85045232               nan\n",
      " -3496795.51108027 -8507858.99187278               nan               nan\n",
      "               nan               nan -8508395.80597945               nan\n",
      " -3478556.40143045 -8524174.47381962               nan               nan\n",
      " -8422444.87930158 -3360739.61826245 -3405748.81302053 -8525344.16582174\n",
      "               nan -8524825.86723181               nan -3526357.96865858\n",
      " -3416433.02505498               nan -3717114.43844941 -8526206.56067237\n",
      " -8483855.60414589               nan -3187617.32626424 -8521779.00893226\n",
      " -3438575.25748844 -8524584.10395736 -3547167.71377457               nan\n",
      " -4034159.28721344               nan               nan               nan\n",
      "               nan               nan -7912802.76793125 -3928686.37243888\n",
      " -8525953.44109778               nan -3478556.40143045 -7811594.02713581\n",
      " -8526720.24491105 -8490001.92776168 -3137956.11685216 -2886061.73523263]\n",
      "  warnings.warn(\n",
      "C:\\Users\\Usuario\\Documents\\Alvaro\\Carrera\\2-Segundo\\Primer cuatrimetre\\Fundamentos de la Inteligencia Artificial\\PycharmProjects\\proyecto\\Lib\\site-packages\\sklearn\\neural_network\\_multilayer_perceptron.py:691: ConvergenceWarning: Stochastic Optimizer: Maximum iterations (200) reached and the optimization hasn't converged yet.\n",
      "  warnings.warn(\n",
      "C:\\Users\\Usuario\\Documents\\Alvaro\\Carrera\\2-Segundo\\Primer cuatrimetre\\Fundamentos de la Inteligencia Artificial\\PycharmProjects\\proyecto\\Lib\\site-packages\\sklearn\\neural_network\\_multilayer_perceptron.py:691: ConvergenceWarning: Stochastic Optimizer: Maximum iterations (200) reached and the optimization hasn't converged yet.\n",
      "  warnings.warn(\n",
      "C:\\Users\\Usuario\\Documents\\Alvaro\\Carrera\\2-Segundo\\Primer cuatrimetre\\Fundamentos de la Inteligencia Artificial\\PycharmProjects\\proyecto\\Lib\\site-packages\\_distutils_hack\\__init__.py:18: UserWarning: Distutils was imported before Setuptools, but importing Setuptools also replaces the `distutils` module in `sys.modules`. This may lead to undesirable behaviors or errors. To avoid these issues, avoid using distutils directly, ensure that setuptools is installed in the traditional way (e.g. not an editable install), and/or make sure that setuptools is always imported before distutils.\n",
      "  warnings.warn(\n",
      "C:\\Users\\Usuario\\Documents\\Alvaro\\Carrera\\2-Segundo\\Primer cuatrimetre\\Fundamentos de la Inteligencia Artificial\\PycharmProjects\\proyecto\\Lib\\site-packages\\_distutils_hack\\__init__.py:33: UserWarning: Setuptools is replacing distutils.\n",
      "  warnings.warn(\"Setuptools is replacing distutils.\")\n"
     ]
    }
   ],
   "source": [
    "X_train, X_val, X_test, y_train, y_val, y_test, RANDOM_STATE = preprocesamiento_datos.preprocesamiento(False,[], False)\n",
    "\n",
    "param_grid = {\n",
    "    'hidden_layer_sizes': [(24,), (100,), (50,)],\n",
    "    'alpha': [0.0001, 0.001, 0.01],\n",
    "    'batch_size': ['auto', 32, 64],\n",
    "    'learning_rate_init': [0.001, 0.01, 0.1]\n",
    "}\n",
    "\n",
    "param_rand = {\n",
    "    'hidden_layer_sizes': [(x,) for x in range(5, 201, 5)],\n",
    "    'solver': ['lbfgs', 'sgd', 'adam'],\n",
    "    'alpha': [10**exp for exp in range(-5, 2)],\n",
    "    'batch_size': [16, 32, 64, 128],\n",
    "    'learning_rate_init': [10**exp for exp in range(-4, 0)]\n",
    "}\n",
    "\n",
    "mlp = MLPRegressor(random_state=RANDOM_STATE)\n",
    "\n",
    "grid_search = GridSearchCV(estimator=mlp, param_grid=param_grid, scoring='neg_mean_absolute_error', cv=10, n_jobs=-1)\n",
    "\n",
    "random_search = RandomizedSearchCV(estimator=mlp, param_distributions=param_rand, n_iter=100, scoring='neg_mean_absolute_error', cv=10, random_state=RANDOM_STATE, n_jobs=-1)\n",
    "# Código anterior para preprocesamiento de datos y definición de parámetros de búsqueda omitido por brevedad\n",
    "\n",
    "with mlflow.start_run(run_name=\"MLP_Grid_Search\"):\n",
    "    mlflow.log_param(\"random_state\", RANDOM_STATE)\n",
    "\n",
    "    grid_search.fit(X_train, y_train)\n",
    "    best_params_grid = grid_search.best_params_\n",
    "\n",
    "    best_model_grid = MLPRegressor(random_state=RANDOM_STATE, **best_params_grid)\n",
    "    best_model_grid.fit(X_train, y_train)\n",
    "\n",
    "    y_pred_val_grid = best_model_grid.predict(X_val)\n",
    "    y_pred_test_grid = best_model_grid.predict(X_test)\n",
    "\n",
    "    error_val_grid = mean_absolute_error(y_val, y_pred_val_grid)\n",
    "    error_test_grid = mean_absolute_error(y_test, y_pred_test_grid)\n",
    "\n",
    "    mlflow.log_params(best_params_grid)\n",
    "    mlflow.log_metric(\"grid_search_validation_error\", error_val_grid)\n",
    "    mlflow.log_metric(\"grid_search_test_error\", error_test_grid)\n",
    "    mlflow.sklearn.log_model(best_model_grid, \"best_model_grid\")\n",
    "\n",
    "with mlflow.start_run(run_name=\"MLP_Random_Search\"):\n",
    "    mlflow.log_param(\"random_state\", RANDOM_STATE)\n",
    "\n",
    "    random_search.fit(X_train, y_train)\n",
    "    best_params_random = random_search.best_params_\n",
    "\n",
    "    best_model_random = MLPRegressor(random_state=RANDOM_STATE, **best_params_random)\n",
    "    best_model_random.fit(X_train, y_train)\n",
    "\n",
    "    y_pred_val_random = best_model_random.predict(X_val)\n",
    "    y_pred_test_random = best_model_random.predict(X_test)\n",
    "\n",
    "    error_val_random = mean_absolute_error(y_val, y_pred_val_random)\n",
    "    error_test_random = mean_absolute_error(y_test, y_pred_test_random)\n",
    "\n",
    "    mlflow.log_params(best_params_random)\n",
    "    mlflow.log_metric(\"random_search_validation_error\", error_val_random)\n",
    "    mlflow.log_metric(\"random_search_test_error\", error_test_random)\n",
    "    mlflow.sklearn.log_model(best_model_random, \"best_model_random\")\n"
   ],
   "metadata": {
    "collapsed": false,
    "ExecuteTime": {
     "end_time": "2024-04-28T19:14:21.692318100Z",
     "start_time": "2024-04-28T18:58:57.345617300Z"
    }
   },
   "id": "33411cb9aab3d350"
  },
  {
   "cell_type": "code",
   "execution_count": null,
   "outputs": [],
   "source": [],
   "metadata": {
    "collapsed": false
   },
   "id": "231bdfb2868d1cc9"
  }
 ],
 "metadata": {
  "kernelspec": {
   "display_name": "Python 3",
   "language": "python",
   "name": "python3"
  },
  "language_info": {
   "codemirror_mode": {
    "name": "ipython",
    "version": 2
   },
   "file_extension": ".py",
   "mimetype": "text/x-python",
   "name": "python",
   "nbconvert_exporter": "python",
   "pygments_lexer": "ipython2",
   "version": "2.7.6"
  }
 },
 "nbformat": 4,
 "nbformat_minor": 5
}
