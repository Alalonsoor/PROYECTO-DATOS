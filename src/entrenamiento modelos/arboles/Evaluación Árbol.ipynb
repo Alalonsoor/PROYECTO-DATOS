{
 "cells": [
  {
   "cell_type": "code",
   "execution_count": 3,
   "outputs": [],
   "source": [
    "from sklearn.tree import DecisionTreeRegressor\n",
    "import mlflow\n",
    "import os"
   ],
   "metadata": {
    "collapsed": false,
    "ExecuteTime": {
     "end_time": "2024-04-28T11:34:12.701776800Z",
     "start_time": "2024-04-28T11:34:11.905655100Z"
    }
   },
   "id": "cc2bc956ed471086"
  },
  {
   "cell_type": "code",
   "execution_count": 4,
   "outputs": [
    {
     "data": {
      "text/plain": "<Experiment: artifact_location='mlflow-artifacts:/1', creation_time=1713174288421, experiment_id='1', last_update_time=1713174288421, lifecycle_stage='active', name='arboles', tags={}>"
     },
     "execution_count": 4,
     "metadata": {},
     "output_type": "execute_result"
    }
   ],
   "source": [
    "# Establecer la URI de la base de datos SQLite\n",
    "os.environ['MLFLOW_TRACKING_URI'] = 'sqlite:///mlruns.db'\n",
    "\n",
    "# Configuración de MLflow\n",
    "mlflow.set_tracking_uri(uri=\"http://127.0.0.1:5000\")\n",
    "mlflow.set_experiment(\"arboles\")"
   ],
   "metadata": {
    "collapsed": false,
    "ExecuteTime": {
     "end_time": "2024-04-28T11:34:13.248376700Z",
     "start_time": "2024-04-28T11:34:13.178367400Z"
    }
   },
   "id": "eb8ada0cc133638c"
  },
  {
   "cell_type": "markdown",
   "source": [
    "# Con Hiperparámetros"
   ],
   "metadata": {
    "collapsed": false
   },
   "id": "251d46a37b71f6d1"
  },
  {
   "cell_type": "code",
   "execution_count": 15,
   "outputs": [
    {
     "name": "stdout",
     "output_type": "stream",
     "text": [
      "Archivo Datos_la_liga_preparados_entrenamiento.parquet guardado en: ../Downloads\\Datos_la_liga_preparados_entrenamiento.parquet\n",
      "Árbol de decisión - Validación: 3066171.477079796\n",
      "Árbol de decisión - Prueba: 2851779.359430605\n",
      "Predicciones vs. reales - Validación:\n",
      "           y_val  y_pred_val     dif_val\n",
      "1100    200000.0   1500000.0   1300000.0\n",
      "1101  30000000.0  16000000.0  14000000.0\n",
      "1102  30000000.0  40000000.0  10000000.0\n",
      "1103   6000000.0   8000000.0   2000000.0\n",
      "1104  40000000.0  25000000.0  15000000.0\n",
      "...          ...         ...         ...\n",
      "1684   1000000.0   1500000.0    500000.0\n",
      "1685   1000000.0    700000.0    300000.0\n",
      "1686    800000.0    800000.0         0.0\n",
      "1687    500000.0    325000.0    175000.0\n",
      "1688    500000.0   1000000.0    500000.0\n",
      "\n",
      "[589 rows x 3 columns]\n",
      "Predicciones vs. reales - Prueba:\n",
      "          y_test  y_pred_test    dif_test\n",
      "1689  25000000.0   25000000.0         0.0\n",
      "1690  25000000.0   20000000.0   5000000.0\n",
      "1691  30000000.0   25000000.0   5000000.0\n",
      "1692    300000.0     325000.0     25000.0\n",
      "1693  14000000.0   25000000.0  11000000.0\n",
      "...          ...          ...         ...\n",
      "2246    500000.0     800000.0    300000.0\n",
      "2247    800000.0     800000.0         0.0\n",
      "2248    400000.0     325000.0     75000.0\n",
      "2249    400000.0     325000.0     75000.0\n",
      "2250    900000.0    2400000.0   1500000.0\n",
      "\n",
      "[562 rows x 3 columns]\n",
      "Las 20 variables más importantes:\n",
      "                      Variable  Importancia\n",
      "32              1_año_anterior     0.903046\n",
      "0                         Mins     0.032397\n",
      "35              4_año_anterior     0.016430\n",
      "27                         age     0.010444\n",
      "11                       Fouls     0.005641\n",
      "33              2_año_anterior     0.005495\n",
      "24                     Crosses     0.005095\n",
      "13                       Clear     0.004367\n",
      "1                        Goals     0.004130\n",
      "36              5_año_anterior     0.003639\n",
      "31                  Equipo_pos     0.002465\n",
      "10                       Inter     0.000819\n",
      "29               Titularidades     0.000801\n",
      "9                      Tackles     0.000691\n",
      "28                      height     0.000691\n",
      "23                        AvgP     0.000582\n",
      "5                          SpG     0.000564\n",
      "19                      Fouled     0.000546\n",
      "14                     DeffDrb     0.000437\n",
      "6                          PS%     0.000437\n",
      "65        position_Centre-Back     0.000364\n",
      "18                      OffDrb     0.000346\n",
      "22                      UnsTch     0.000337\n",
      "15                      Blocks     0.000146\n",
      "25                       LongB     0.000091\n",
      "105          nationality_Ghana     0.000000\n",
      "106         nationality_Greece     0.000000\n",
      "104        nationality_Germany     0.000000\n",
      "108         nationality_Guinea     0.000000\n",
      "107     nationality_Guadeloupe     0.000000\n",
      "102          nationality_Gabon     0.000000\n",
      "109  nationality_Guinea-Bissau     0.000000\n",
      "110        nationality_Ireland     0.000000\n",
      "111         nationality_Israel     0.000000\n",
      "112          nationality_Italy     0.000000\n",
      "113          nationality_Japan     0.000000\n",
      "114         nationality_Kosovo     0.000000\n",
      "103        nationality_Georgia     0.000000\n",
      "90        nationality_Colombia     0.000000\n",
      "101         nationality_France     0.000000\n"
     ]
    },
    {
     "name": "stderr",
     "output_type": "stream",
     "text": [
      "C:\\Users\\Usuario\\Documents\\Alvaro\\Carrera\\2-Segundo\\Primer cuatrimetre\\Fundamentos de la Inteligencia Artificial\\PycharmProjects\\proyecto\\Lib\\site-packages\\_distutils_hack\\__init__.py:18: UserWarning: Distutils was imported before Setuptools, but importing Setuptools also replaces the `distutils` module in `sys.modules`. This may lead to undesirable behaviors or errors. To avoid these issues, avoid using distutils directly, ensure that setuptools is installed in the traditional way (e.g. not an editable install), and/or make sure that setuptools is always imported before distutils.\n",
      "  warnings.warn(\n",
      "C:\\Users\\Usuario\\Documents\\Alvaro\\Carrera\\2-Segundo\\Primer cuatrimetre\\Fundamentos de la Inteligencia Artificial\\PycharmProjects\\proyecto\\Lib\\site-packages\\_distutils_hack\\__init__.py:33: UserWarning: Setuptools is replacing distutils.\n",
      "  warnings.warn(\"Setuptools is replacing distutils.\")\n"
     ]
    }
   ],
   "source": [
    "from sklearn.metrics import mean_absolute_error, r2_score\n",
    "import pandas as pd\n",
    "import preprocesamiento_datos\n",
    "\n",
    "X_train, X_val, X_test, y_train, y_val, y_test, RANDOM_STATE = preprocesamiento_datos.preprocesamiento(True,[], False)\n",
    "clf = DecisionTreeRegressor(criterion=\"absolute_error\", max_depth=10, max_features=None, max_leaf_nodes=80, min_samples_leaf=10, min_samples_split=30, splitter=\"best\", random_state=RANDOM_STATE)\n",
    "clf.fit(X_train, y_train)\n",
    "\n",
    "# Predecir con el modelo entrenado en el conjunto de validación\n",
    "y_pred_val = clf.predict(X_val)\n",
    "\n",
    "# Predecir con el modelo entrenado en el conjunto de prueba\n",
    "y_pred_test = clf.predict(X_test)\n",
    "\n",
    "# Calcular el error en el conjunto de validación\n",
    "error_val = mean_absolute_error(y_val, y_pred_val)\n",
    "print(\"Árbol de decisión - Validación:\", error_val)\n",
    "\n",
    "# Calcular el error en el conjunto de prueba\n",
    "error_test = mean_absolute_error(y_test, y_pred_test)\n",
    "print(\"Árbol de decisión - Prueba:\", error_test)\n",
    "\n",
    "# Crear DataFrame de predicciones vs. reales para el conjunto de validación\n",
    "pred_vs_real_val = pd.DataFrame({'y_val': y_val, 'y_pred_val': y_pred_val, 'dif_val': abs(y_val - y_pred_val)})\n",
    "\n",
    "# Crear DataFrame de predicciones vs. reales para el conjunto de prueba\n",
    "pred_vs_real_test = pd.DataFrame({'y_test': y_test, 'y_pred_test': y_pred_test, 'dif_test': abs(y_test - y_pred_test)})\n",
    "\n",
    "# Mostrar los DataFrames\n",
    "print(\"Predicciones vs. reales - Validación:\")\n",
    "print(pred_vs_real_val)\n",
    "\n",
    "print(\"Predicciones vs. reales - Prueba:\")\n",
    "print(pred_vs_real_test)\n",
    "\n",
    "# Iniciar una nueva run de MLflow\n",
    "with mlflow.start_run(run_name=\"FINAL MODEL TREE\") as run:\n",
    "    mlflow.log_param(\"criterion\", \"mae\")\n",
    "    mlflow.log_param(\"random_state\", RANDOM_STATE)\n",
    "    mlflow.log_param(\"max_depth\", 30)\n",
    "    mlflow.log_param(\"max_features\", None)\n",
    "    mlflow.log_param(\"max_leaf_nodes\", 80)\n",
    "    mlflow.log_param(\"min_samples_leaf\", 5)\n",
    "    mlflow.log_param(\"min_samples_split\", 12)\n",
    "    mlflow.log_param(\"splitter\", \"random\")\n",
    "    # Registrar la métrica de error en el conjunto de validación\n",
    "    mlflow.log_metric(\"mean_absolute_error_val\", error_val)\n",
    "    # Registrar la métrica de error en el conjunto de prueba\n",
    "    mlflow.log_metric(\"mean_absolute_error_test\", error_test)\n",
    "    # Guardar el modelo\n",
    "    mlflow.sklearn.log_model(clf, \"decision_tree_model\")\n",
    "    \n",
    "    # Guardar los DataFrames como un artefacto\n",
    "    pred_vs_real_val.to_csv(\"pred_vs_real_val.csv\", index=False)\n",
    "    mlflow.log_artifact(\"pred_vs_real_val.csv\")\n",
    "    \n",
    "    pred_vs_real_test.to_csv(\"pred_vs_real_test.csv\", index=False)\n",
    "    mlflow.log_artifact(\"pred_vs_real_test.csv\")\n",
    "# Obtener la importancia de las variables\n",
    "importancias_variables = clf.feature_importances_\n",
    "\n",
    "# Crear un DataFrame para almacenar la importancia de las variables junto con sus nombres\n",
    "importancias_df = pd.DataFrame({'Variable': X_train.columns,\n",
    "                               'Importancia': importancias_variables})\n",
    "\n",
    "# Ordenar el DataFrame por importancia en orden descendente\n",
    "importancias_df = importancias_df.sort_values(by='Importancia', ascending=False)\n",
    "\n",
    "# Mostrar las 20 variables más importantes\n",
    "print(\"Las 20 variables más importantes:\")\n",
    "print(importancias_df.head(40))"
   ],
   "metadata": {
    "collapsed": false,
    "ExecuteTime": {
     "end_time": "2024-04-28T17:39:13.780954600Z",
     "start_time": "2024-04-28T17:39:09.679293400Z"
    }
   },
   "id": "1c248f7818250dc7"
  },
  {
   "cell_type": "markdown",
   "source": [
    "# Sin hiperparámetros"
   ],
   "metadata": {
    "collapsed": false
   },
   "id": "7ce124ae4b09bd37"
  },
  {
   "cell_type": "code",
   "execution_count": 6,
   "outputs": [
    {
     "name": "stdout",
     "output_type": "stream",
     "text": [
      "Archivo Datos_la_liga_preparados_entrenamiento.parquet guardado en: ../Downloads\\Datos_la_liga_preparados_entrenamiento.parquet\n",
      "Árbol de decisión - Validación: 3664983.0220713075\n",
      "Árbol de decisión - Prueba: 3806628.1138790036\n",
      "Predicciones vs. reales - Validación:\n",
      "           y_val  y_pred_val     dif_val\n",
      "1100    200000.0    600000.0    400000.0\n",
      "1101  30000000.0  25000000.0   5000000.0\n",
      "1102  30000000.0  25000000.0   5000000.0\n",
      "1103   6000000.0  20000000.0  14000000.0\n",
      "1104  40000000.0  28000000.0  12000000.0\n",
      "...          ...         ...         ...\n",
      "1684   1000000.0   5000000.0   4000000.0\n",
      "1685   1000000.0    150000.0    850000.0\n",
      "1686    800000.0    400000.0    400000.0\n",
      "1687    500000.0    600000.0    100000.0\n",
      "1688    500000.0    600000.0    100000.0\n",
      "\n",
      "[589 rows x 3 columns]\n",
      "Predicciones vs. reales - Prueba:\n",
      "          y_test  y_pred_test    dif_test\n",
      "1689  25000000.0   32000000.0   7000000.0\n",
      "1690  25000000.0   24000000.0   1000000.0\n",
      "1691  30000000.0   40000000.0  10000000.0\n",
      "1692    300000.0     300000.0         0.0\n",
      "1693  14000000.0   18000000.0   4000000.0\n",
      "...          ...          ...         ...\n",
      "2246    500000.0     800000.0    300000.0\n",
      "2247    800000.0    1000000.0    200000.0\n",
      "2248    400000.0     300000.0    100000.0\n",
      "2249    400000.0    1000000.0    600000.0\n",
      "2250    900000.0    1200000.0    300000.0\n",
      "\n",
      "[562 rows x 3 columns]\n"
     ]
    },
    {
     "name": "stderr",
     "output_type": "stream",
     "text": [
      "C:\\Users\\Usuario\\Documents\\Alvaro\\Carrera\\2-Segundo\\Primer cuatrimetre\\Fundamentos de la Inteligencia Artificial\\PycharmProjects\\proyecto\\Lib\\site-packages\\_distutils_hack\\__init__.py:18: UserWarning: Distutils was imported before Setuptools, but importing Setuptools also replaces the `distutils` module in `sys.modules`. This may lead to undesirable behaviors or errors. To avoid these issues, avoid using distutils directly, ensure that setuptools is installed in the traditional way (e.g. not an editable install), and/or make sure that setuptools is always imported before distutils.\n",
      "  warnings.warn(\n",
      "C:\\Users\\Usuario\\Documents\\Alvaro\\Carrera\\2-Segundo\\Primer cuatrimetre\\Fundamentos de la Inteligencia Artificial\\PycharmProjects\\proyecto\\Lib\\site-packages\\_distutils_hack\\__init__.py:33: UserWarning: Setuptools is replacing distutils.\n",
      "  warnings.warn(\"Setuptools is replacing distutils.\")\n"
     ]
    }
   ],
   "source": [
    "from sklearn.metrics import mean_absolute_error, r2_score\n",
    "import pandas as pd\n",
    "import preprocesamiento_datos\n",
    "\n",
    "X_train, X_val, X_test, y_train, y_val, y_test, RANDOM_STATE = preprocesamiento_datos.preprocesamiento(True,[], False)\n",
    "clf = DecisionTreeRegressor(criterion=\"absolute_error\", random_state=RANDOM_STATE)\n",
    "clf.fit(X_train, y_train)\n",
    "\n",
    "# Predecir con el modelo entrenado en el conjunto de validación\n",
    "y_pred_val = clf.predict(X_val)\n",
    "\n",
    "# Predecir con el modelo entrenado en el conjunto de prueba\n",
    "y_pred_test = clf.predict(X_test)\n",
    "\n",
    "# Calcular el error en el conjunto de validación\n",
    "error_val = mean_absolute_error(y_val, y_pred_val)\n",
    "print(\"Árbol de decisión - Validación:\", error_val)\n",
    "\n",
    "# Calcular el error en el conjunto de prueba\n",
    "error_test = mean_absolute_error(y_test, y_pred_test)\n",
    "print(\"Árbol de decisión - Prueba:\", error_test)\n",
    "\n",
    "# Crear DataFrame de predicciones vs. reales para el conjunto de validación\n",
    "pred_vs_real_val = pd.DataFrame({'y_val': y_val, 'y_pred_val': y_pred_val, 'dif_val': abs(y_val - y_pred_val)})\n",
    "\n",
    "# Crear DataFrame de predicciones vs. reales para el conjunto de prueba\n",
    "pred_vs_real_test = pd.DataFrame({'y_test': y_test, 'y_pred_test': y_pred_test, 'dif_test': abs(y_test - y_pred_test)})\n",
    "\n",
    "# Mostrar los DataFrames\n",
    "print(\"Predicciones vs. reales - Validación:\")\n",
    "print(pred_vs_real_val)\n",
    "\n",
    "print(\"Predicciones vs. reales - Prueba:\")\n",
    "print(pred_vs_real_test)\n",
    "\n",
    "# Iniciar una nueva run de MLflow\n",
    "with mlflow.start_run(run_name=\"MODEL Sin HiperParámetros\") as run:\n",
    "    mlflow.log_param(\"criterion\", \"mae\")\n",
    "    mlflow.log_param(\"random_state\", RANDOM_STATE)\n",
    "    mlflow.log_param(\"max_depth\", 30)\n",
    "    mlflow.log_param(\"max_features\", None)\n",
    "    mlflow.log_param(\"max_leaf_nodes\", 80)\n",
    "    mlflow.log_param(\"min_samples_leaf\", 5)\n",
    "    mlflow.log_param(\"min_samples_split\", 12)\n",
    "    mlflow.log_param(\"splitter\", \"random\")\n",
    "    # Registrar la métrica de error en el conjunto de validación\n",
    "    mlflow.log_metric(\"mean_absolute_error_val\", error_val)\n",
    "    # Registrar la métrica de error en el conjunto de prueba\n",
    "    mlflow.log_metric(\"mean_absolute_error_test\", error_test)\n",
    "    # Guardar el modelo\n",
    "    mlflow.sklearn.log_model(clf, \"decision_tree_model\")\n",
    "    \n",
    "    # Guardar los DataFrames como un artefacto\n",
    "    pred_vs_real_val.to_csv(\"pred_vs_real_val.csv\", index=False)\n",
    "    mlflow.log_artifact(\"pred_vs_real_val.csv\")\n",
    "    \n",
    "    pred_vs_real_test.to_csv(\"pred_vs_real_test.csv\", index=False)\n",
    "    mlflow.log_artifact(\"pred_vs_real_test.csv\")"
   ],
   "metadata": {
    "collapsed": false,
    "ExecuteTime": {
     "end_time": "2024-04-28T11:34:43.618566900Z",
     "start_time": "2024-04-28T11:34:39.464872700Z"
    }
   },
   "id": "94aea7f99622351e"
  },
  {
   "cell_type": "code",
   "execution_count": null,
   "outputs": [],
   "source": [],
   "metadata": {
    "collapsed": false
   },
   "id": "305289f9e2b6f82c"
  }
 ],
 "metadata": {
  "kernelspec": {
   "display_name": "Python 3",
   "language": "python",
   "name": "python3"
  },
  "language_info": {
   "codemirror_mode": {
    "name": "ipython",
    "version": 2
   },
   "file_extension": ".py",
   "mimetype": "text/x-python",
   "name": "python",
   "nbconvert_exporter": "python",
   "pygments_lexer": "ipython2",
   "version": "2.7.6"
  }
 },
 "nbformat": 4,
 "nbformat_minor": 5
}
