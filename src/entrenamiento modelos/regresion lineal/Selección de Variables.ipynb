{
 "cells": [
  {
   "cell_type": "code",
   "execution_count": 11,
   "outputs": [],
   "source": [
    "from sklearn.linear_model import LinearRegression\n",
    "from sklearn.metrics import mean_absolute_error\n",
    "import mlflow\n",
    "from mrmr import mrmr_classif\n",
    "import os\n",
    "import matplotlib.pyplot as plt\n",
    "import preprocesamiento_datos"
   ],
   "metadata": {
    "collapsed": false,
    "ExecuteTime": {
     "end_time": "2024-04-24T19:38:37.507395500Z",
     "start_time": "2024-04-24T19:38:37.503351100Z"
    }
   },
   "id": "58acfc764c602a3"
  },
  {
   "cell_type": "code",
   "execution_count": 12,
   "outputs": [
    {
     "data": {
      "text/plain": "<Experiment: artifact_location='mlflow-artifacts:/3', creation_time=1713193978222, experiment_id='3', last_update_time=1713193978222, lifecycle_stage='active', name='regresion_lineal', tags={}>"
     },
     "execution_count": 12,
     "metadata": {},
     "output_type": "execute_result"
    }
   ],
   "source": [
    "# Establecer la URI de la base de datos SQLite y configuración de MLflow\n",
    "os.environ['MLFLOW_TRACKING_URI'] = 'sqlite:///mlruns.db'\n",
    "mlflow.set_tracking_uri(\"http://127.0.0.1:5000\")\n",
    "mlflow.set_experiment(\"regresion_lineal\")"
   ],
   "metadata": {
    "collapsed": false,
    "ExecuteTime": {
     "end_time": "2024-04-24T19:38:38.416197900Z",
     "start_time": "2024-04-24T19:38:38.376188300Z"
    }
   },
   "id": "87d8eecf9d5726d0"
  },
  {
   "cell_type": "markdown",
   "source": [
    "# Selección con MRMR"
   ],
   "metadata": {
    "collapsed": false
   },
   "id": "f2a0389ef976ad29"
  },
  {
   "cell_type": "code",
   "execution_count": 14,
   "outputs": [
    {
     "name": "stdout",
     "output_type": "stream",
     "text": [
      "Archivo Datos_la_liga_preparados_entrenamiento.parquet guardado en: ../Downloads\\Datos_la_liga_preparados_entrenamiento.parquet\n"
     ]
    },
    {
     "ename": "KeyboardInterrupt",
     "evalue": "",
     "output_type": "error",
     "traceback": [
      "\u001B[1;31m---------------------------------------------------------------------------\u001B[0m",
      "\u001B[1;31mKeyboardInterrupt\u001B[0m                         Traceback (most recent call last)",
      "Cell \u001B[1;32mIn[14], line 27\u001B[0m\n\u001B[0;32m     24\u001B[0m \u001B[38;5;66;03m# Iterar sobre todas las combinaciones de características\u001B[39;00m\n\u001B[0;32m     25\u001B[0m \u001B[38;5;28;01mfor\u001B[39;00m num_features \u001B[38;5;129;01min\u001B[39;00m feature_range:\n\u001B[0;32m     26\u001B[0m     \u001B[38;5;66;03m# Calcular las características seleccionadas usando MRMR\u001B[39;00m\n\u001B[1;32m---> 27\u001B[0m     selected_features \u001B[38;5;241m=\u001B[39m \u001B[43mcalculate_mrmr_features\u001B[49m\u001B[43m(\u001B[49m\u001B[43mX_train\u001B[49m\u001B[43m,\u001B[49m\u001B[43m \u001B[49m\u001B[43my_train\u001B[49m\u001B[43m,\u001B[49m\u001B[43m \u001B[49m\u001B[43mnum_features\u001B[49m\u001B[43m)\u001B[49m\n\u001B[0;32m     29\u001B[0m     \u001B[38;5;66;03m# Seleccionar las columnas correspondientes en X_train y X_test\u001B[39;00m\n\u001B[0;32m     30\u001B[0m     X_train_selected \u001B[38;5;241m=\u001B[39m X_train[selected_features]\n",
      "Cell \u001B[1;32mIn[14], line 9\u001B[0m, in \u001B[0;36mcalculate_mrmr_features\u001B[1;34m(X, y, K)\u001B[0m\n\u001B[0;32m      8\u001B[0m \u001B[38;5;28;01mdef\u001B[39;00m \u001B[38;5;21mcalculate_mrmr_features\u001B[39m(X, y, K):\n\u001B[1;32m----> 9\u001B[0m     selected_features \u001B[38;5;241m=\u001B[39m \u001B[43mmrmr_classif\u001B[49m\u001B[43m(\u001B[49m\u001B[43mX\u001B[49m\u001B[38;5;241;43m=\u001B[39;49m\u001B[43mX\u001B[49m\u001B[43m,\u001B[49m\u001B[43m \u001B[49m\u001B[43my\u001B[49m\u001B[38;5;241;43m=\u001B[39;49m\u001B[43my\u001B[49m\u001B[43m,\u001B[49m\u001B[43m \u001B[49m\u001B[43mK\u001B[49m\u001B[38;5;241;43m=\u001B[39;49m\u001B[43mK\u001B[49m\u001B[43m)\u001B[49m\n\u001B[0;32m     10\u001B[0m     \u001B[38;5;28;01mreturn\u001B[39;00m selected_features\n",
      "File \u001B[1;32m~\\Documents\\Alvaro\\Carrera\\2-Segundo\\Primer cuatrimetre\\Fundamentos de la Inteligencia Artificial\\PycharmProjects\\proyecto\\Lib\\site-packages\\mrmr\\pandas.py:171\u001B[0m, in \u001B[0;36mmrmr_classif\u001B[1;34m(X, y, K, relevance, redundancy, denominator, cat_features, cat_encoding, only_same_domain, return_scores, n_jobs, show_progress)\u001B[0m\n\u001B[0;32m    168\u001B[0m relevance_args \u001B[38;5;241m=\u001B[39m {\u001B[38;5;124m'\u001B[39m\u001B[38;5;124mX\u001B[39m\u001B[38;5;124m'\u001B[39m: X, \u001B[38;5;124m'\u001B[39m\u001B[38;5;124my\u001B[39m\u001B[38;5;124m'\u001B[39m: y}\n\u001B[0;32m    169\u001B[0m redundancy_args \u001B[38;5;241m=\u001B[39m {\u001B[38;5;124m'\u001B[39m\u001B[38;5;124mX\u001B[39m\u001B[38;5;124m'\u001B[39m: X}\n\u001B[1;32m--> 171\u001B[0m \u001B[38;5;28;01mreturn\u001B[39;00m \u001B[43mmrmr_base\u001B[49m\u001B[43m(\u001B[49m\u001B[43mK\u001B[49m\u001B[38;5;241;43m=\u001B[39;49m\u001B[43mK\u001B[49m\u001B[43m,\u001B[49m\u001B[43m \u001B[49m\u001B[43mrelevance_func\u001B[49m\u001B[38;5;241;43m=\u001B[39;49m\u001B[43mrelevance_func\u001B[49m\u001B[43m,\u001B[49m\u001B[43m \u001B[49m\u001B[43mredundancy_func\u001B[49m\u001B[38;5;241;43m=\u001B[39;49m\u001B[43mredundancy_func\u001B[49m\u001B[43m,\u001B[49m\n\u001B[0;32m    172\u001B[0m \u001B[43m                 \u001B[49m\u001B[43mrelevance_args\u001B[49m\u001B[38;5;241;43m=\u001B[39;49m\u001B[43mrelevance_args\u001B[49m\u001B[43m,\u001B[49m\u001B[43m \u001B[49m\u001B[43mredundancy_args\u001B[49m\u001B[38;5;241;43m=\u001B[39;49m\u001B[43mredundancy_args\u001B[49m\u001B[43m,\u001B[49m\n\u001B[0;32m    173\u001B[0m \u001B[43m                 \u001B[49m\u001B[43mdenominator_func\u001B[49m\u001B[38;5;241;43m=\u001B[39;49m\u001B[43mdenominator_func\u001B[49m\u001B[43m,\u001B[49m\u001B[43m \u001B[49m\u001B[43monly_same_domain\u001B[49m\u001B[38;5;241;43m=\u001B[39;49m\u001B[43monly_same_domain\u001B[49m\u001B[43m,\u001B[49m\n\u001B[0;32m    174\u001B[0m \u001B[43m                 \u001B[49m\u001B[43mreturn_scores\u001B[49m\u001B[38;5;241;43m=\u001B[39;49m\u001B[43mreturn_scores\u001B[49m\u001B[43m,\u001B[49m\u001B[43m \u001B[49m\u001B[43mshow_progress\u001B[49m\u001B[38;5;241;43m=\u001B[39;49m\u001B[43mshow_progress\u001B[49m\u001B[43m)\u001B[49m\n",
      "File \u001B[1;32m~\\Documents\\Alvaro\\Carrera\\2-Segundo\\Primer cuatrimetre\\Fundamentos de la Inteligencia Artificial\\PycharmProjects\\proyecto\\Lib\\site-packages\\mrmr\\main.py:98\u001B[0m, in \u001B[0;36mmrmr_base\u001B[1;34m(K, relevance_func, redundancy_func, relevance_args, redundancy_args, denominator_func, only_same_domain, return_scores, show_progress)\u001B[0m\n\u001B[0;32m     44\u001B[0m \u001B[38;5;28;01mdef\u001B[39;00m \u001B[38;5;21mmrmr_base\u001B[39m(K, relevance_func, redundancy_func,\n\u001B[0;32m     45\u001B[0m               relevance_args\u001B[38;5;241m=\u001B[39m{}, redundancy_args\u001B[38;5;241m=\u001B[39m{},\n\u001B[0;32m     46\u001B[0m               denominator_func\u001B[38;5;241m=\u001B[39mnp\u001B[38;5;241m.\u001B[39mmean, only_same_domain\u001B[38;5;241m=\u001B[39m\u001B[38;5;28;01mFalse\u001B[39;00m,\n\u001B[0;32m     47\u001B[0m               return_scores\u001B[38;5;241m=\u001B[39m\u001B[38;5;28;01mFalse\u001B[39;00m, show_progress\u001B[38;5;241m=\u001B[39m\u001B[38;5;28;01mTrue\u001B[39;00m):\n\u001B[0;32m     48\u001B[0m \u001B[38;5;250m    \u001B[39m\u001B[38;5;124;03m\"\"\"General function for mRMR algorithm.\u001B[39;00m\n\u001B[0;32m     49\u001B[0m \n\u001B[0;32m     50\u001B[0m \u001B[38;5;124;03m    Parameters\u001B[39;00m\n\u001B[1;32m   (...)\u001B[0m\n\u001B[0;32m     95\u001B[0m \u001B[38;5;124;03m        List of selected features.\u001B[39;00m\n\u001B[0;32m     96\u001B[0m \u001B[38;5;124;03m    \"\"\"\u001B[39;00m\n\u001B[1;32m---> 98\u001B[0m     relevance \u001B[38;5;241m=\u001B[39m \u001B[43mrelevance_func\u001B[49m\u001B[43m(\u001B[49m\u001B[38;5;241;43m*\u001B[39;49m\u001B[38;5;241;43m*\u001B[39;49m\u001B[43mrelevance_args\u001B[49m\u001B[43m)\u001B[49m\n\u001B[0;32m     99\u001B[0m     features \u001B[38;5;241m=\u001B[39m relevance[relevance\u001B[38;5;241m.\u001B[39mfillna(\u001B[38;5;241m0\u001B[39m) \u001B[38;5;241m>\u001B[39m \u001B[38;5;241m0\u001B[39m]\u001B[38;5;241m.\u001B[39mindex\u001B[38;5;241m.\u001B[39mto_list()\n\u001B[0;32m    100\u001B[0m     relevance \u001B[38;5;241m=\u001B[39m relevance\u001B[38;5;241m.\u001B[39mloc[features]\n",
      "File \u001B[1;32m~\\Documents\\Alvaro\\Carrera\\2-Segundo\\Primer cuatrimetre\\Fundamentos de la Inteligencia Artificial\\PycharmProjects\\proyecto\\Lib\\site-packages\\mrmr\\pandas.py:45\u001B[0m, in \u001B[0;36mf_classif\u001B[1;34m(X, y, n_jobs)\u001B[0m\n\u001B[0;32m     44\u001B[0m \u001B[38;5;28;01mdef\u001B[39;00m \u001B[38;5;21mf_classif\u001B[39m(X, y, n_jobs):\n\u001B[1;32m---> 45\u001B[0m     \u001B[38;5;28;01mreturn\u001B[39;00m \u001B[43mparallel_df\u001B[49m\u001B[43m(\u001B[49m\u001B[43m_f_classif\u001B[49m\u001B[43m,\u001B[49m\u001B[43m \u001B[49m\u001B[43mX\u001B[49m\u001B[43m,\u001B[49m\u001B[43m \u001B[49m\u001B[43my\u001B[49m\u001B[43m,\u001B[49m\u001B[43m \u001B[49m\u001B[43mn_jobs\u001B[49m\u001B[38;5;241;43m=\u001B[39;49m\u001B[43mn_jobs\u001B[49m\u001B[43m)\u001B[49m\n",
      "File \u001B[1;32m~\\Documents\\Alvaro\\Carrera\\2-Segundo\\Primer cuatrimetre\\Fundamentos de la Inteligencia Artificial\\PycharmProjects\\proyecto\\Lib\\site-packages\\mrmr\\pandas.py:17\u001B[0m, in \u001B[0;36mparallel_df\u001B[1;34m(func, df, series, n_jobs)\u001B[0m\n\u001B[0;32m     15\u001B[0m n_jobs \u001B[38;5;241m=\u001B[39m \u001B[38;5;28mmin\u001B[39m(cpu_count(), \u001B[38;5;28mlen\u001B[39m(df\u001B[38;5;241m.\u001B[39mcolumns)) \u001B[38;5;28;01mif\u001B[39;00m n_jobs \u001B[38;5;241m==\u001B[39m \u001B[38;5;241m-\u001B[39m\u001B[38;5;241m1\u001B[39m \u001B[38;5;28;01melse\u001B[39;00m \u001B[38;5;28mmin\u001B[39m(cpu_count(), n_jobs)\n\u001B[0;32m     16\u001B[0m col_chunks \u001B[38;5;241m=\u001B[39m np\u001B[38;5;241m.\u001B[39marray_split(\u001B[38;5;28mrange\u001B[39m(\u001B[38;5;28mlen\u001B[39m(df\u001B[38;5;241m.\u001B[39mcolumns)), n_jobs)\n\u001B[1;32m---> 17\u001B[0m lst \u001B[38;5;241m=\u001B[39m \u001B[43mParallel\u001B[49m\u001B[43m(\u001B[49m\u001B[43mn_jobs\u001B[49m\u001B[38;5;241;43m=\u001B[39;49m\u001B[43mn_jobs\u001B[49m\u001B[43m)\u001B[49m\u001B[43m(\u001B[49m\n\u001B[0;32m     18\u001B[0m \u001B[43m    \u001B[49m\u001B[43mdelayed\u001B[49m\u001B[43m(\u001B[49m\u001B[43mfunc\u001B[49m\u001B[43m)\u001B[49m\u001B[43m(\u001B[49m\u001B[43mdf\u001B[49m\u001B[38;5;241;43m.\u001B[39;49m\u001B[43miloc\u001B[49m\u001B[43m[\u001B[49m\u001B[43m:\u001B[49m\u001B[43m,\u001B[49m\u001B[43m \u001B[49m\u001B[43mcol_chunk\u001B[49m\u001B[43m]\u001B[49m\u001B[43m,\u001B[49m\u001B[43m \u001B[49m\u001B[43mseries\u001B[49m\u001B[43m)\u001B[49m\n\u001B[0;32m     19\u001B[0m \u001B[43m    \u001B[49m\u001B[38;5;28;43;01mfor\u001B[39;49;00m\u001B[43m \u001B[49m\u001B[43mcol_chunk\u001B[49m\u001B[43m \u001B[49m\u001B[38;5;129;43;01min\u001B[39;49;00m\u001B[43m \u001B[49m\u001B[43mcol_chunks\u001B[49m\n\u001B[0;32m     20\u001B[0m \u001B[43m\u001B[49m\u001B[43m)\u001B[49m\n\u001B[0;32m     21\u001B[0m \u001B[38;5;28;01mreturn\u001B[39;00m pd\u001B[38;5;241m.\u001B[39mconcat(lst)\n",
      "File \u001B[1;32m~\\Documents\\Alvaro\\Carrera\\2-Segundo\\Primer cuatrimetre\\Fundamentos de la Inteligencia Artificial\\PycharmProjects\\proyecto\\Lib\\site-packages\\joblib\\parallel.py:2007\u001B[0m, in \u001B[0;36mParallel.__call__\u001B[1;34m(self, iterable)\u001B[0m\n\u001B[0;32m   2001\u001B[0m \u001B[38;5;66;03m# The first item from the output is blank, but it makes the interpreter\u001B[39;00m\n\u001B[0;32m   2002\u001B[0m \u001B[38;5;66;03m# progress until it enters the Try/Except block of the generator and\u001B[39;00m\n\u001B[0;32m   2003\u001B[0m \u001B[38;5;66;03m# reach the first `yield` statement. This starts the aynchronous\u001B[39;00m\n\u001B[0;32m   2004\u001B[0m \u001B[38;5;66;03m# dispatch of the tasks to the workers.\u001B[39;00m\n\u001B[0;32m   2005\u001B[0m \u001B[38;5;28mnext\u001B[39m(output)\n\u001B[1;32m-> 2007\u001B[0m \u001B[38;5;28;01mreturn\u001B[39;00m output \u001B[38;5;28;01mif\u001B[39;00m \u001B[38;5;28mself\u001B[39m\u001B[38;5;241m.\u001B[39mreturn_generator \u001B[38;5;28;01melse\u001B[39;00m \u001B[38;5;28mlist\u001B[39m(output)\n",
      "File \u001B[1;32m~\\Documents\\Alvaro\\Carrera\\2-Segundo\\Primer cuatrimetre\\Fundamentos de la Inteligencia Artificial\\PycharmProjects\\proyecto\\Lib\\site-packages\\joblib\\parallel.py:1650\u001B[0m, in \u001B[0;36mParallel._get_outputs\u001B[1;34m(self, iterator, pre_dispatch)\u001B[0m\n\u001B[0;32m   1647\u001B[0m     \u001B[38;5;28;01myield\u001B[39;00m\n\u001B[0;32m   1649\u001B[0m     \u001B[38;5;28;01mwith\u001B[39;00m \u001B[38;5;28mself\u001B[39m\u001B[38;5;241m.\u001B[39m_backend\u001B[38;5;241m.\u001B[39mretrieval_context():\n\u001B[1;32m-> 1650\u001B[0m         \u001B[38;5;28;01myield from\u001B[39;00m \u001B[38;5;28mself\u001B[39m\u001B[38;5;241m.\u001B[39m_retrieve()\n\u001B[0;32m   1652\u001B[0m \u001B[38;5;28;01mexcept\u001B[39;00m \u001B[38;5;167;01mGeneratorExit\u001B[39;00m:\n\u001B[0;32m   1653\u001B[0m     \u001B[38;5;66;03m# The generator has been garbage collected before being fully\u001B[39;00m\n\u001B[0;32m   1654\u001B[0m     \u001B[38;5;66;03m# consumed. This aborts the remaining tasks if possible and warn\u001B[39;00m\n\u001B[0;32m   1655\u001B[0m     \u001B[38;5;66;03m# the user if necessary.\u001B[39;00m\n\u001B[0;32m   1656\u001B[0m     \u001B[38;5;28mself\u001B[39m\u001B[38;5;241m.\u001B[39m_exception \u001B[38;5;241m=\u001B[39m \u001B[38;5;28;01mTrue\u001B[39;00m\n",
      "File \u001B[1;32m~\\Documents\\Alvaro\\Carrera\\2-Segundo\\Primer cuatrimetre\\Fundamentos de la Inteligencia Artificial\\PycharmProjects\\proyecto\\Lib\\site-packages\\joblib\\parallel.py:1762\u001B[0m, in \u001B[0;36mParallel._retrieve\u001B[1;34m(self)\u001B[0m\n\u001B[0;32m   1757\u001B[0m \u001B[38;5;66;03m# If the next job is not ready for retrieval yet, we just wait for\u001B[39;00m\n\u001B[0;32m   1758\u001B[0m \u001B[38;5;66;03m# async callbacks to progress.\u001B[39;00m\n\u001B[0;32m   1759\u001B[0m \u001B[38;5;28;01mif\u001B[39;00m ((\u001B[38;5;28mlen\u001B[39m(\u001B[38;5;28mself\u001B[39m\u001B[38;5;241m.\u001B[39m_jobs) \u001B[38;5;241m==\u001B[39m \u001B[38;5;241m0\u001B[39m) \u001B[38;5;129;01mor\u001B[39;00m\n\u001B[0;32m   1760\u001B[0m     (\u001B[38;5;28mself\u001B[39m\u001B[38;5;241m.\u001B[39m_jobs[\u001B[38;5;241m0\u001B[39m]\u001B[38;5;241m.\u001B[39mget_status(\n\u001B[0;32m   1761\u001B[0m         timeout\u001B[38;5;241m=\u001B[39m\u001B[38;5;28mself\u001B[39m\u001B[38;5;241m.\u001B[39mtimeout) \u001B[38;5;241m==\u001B[39m TASK_PENDING)):\n\u001B[1;32m-> 1762\u001B[0m     time\u001B[38;5;241m.\u001B[39msleep(\u001B[38;5;241m0.01\u001B[39m)\n\u001B[0;32m   1763\u001B[0m     \u001B[38;5;28;01mcontinue\u001B[39;00m\n\u001B[0;32m   1765\u001B[0m \u001B[38;5;66;03m# We need to be careful: the job list can be filling up as\u001B[39;00m\n\u001B[0;32m   1766\u001B[0m \u001B[38;5;66;03m# we empty it and Python list are not thread-safe by\u001B[39;00m\n\u001B[0;32m   1767\u001B[0m \u001B[38;5;66;03m# default hence the use of the lock\u001B[39;00m\n",
      "\u001B[1;31mKeyboardInterrupt\u001B[0m: "
     ]
    }
   ],
   "source": [
    "# Iniciar el registro de la ejecución en MLflow\n",
    "with mlflow.start_run(run_name=\"MRMR Feature Selection\"):\n",
    "    import numpy as np\n",
    "    # Obtener los datos preprocesados\n",
    "    X_train, X_val, X_test, y_train, y_val, y_test = preprocesamiento_datos.preprocesamiento(False,[], False)\n",
    "    \n",
    "    # Definir la función para calcular el MRMR\n",
    "    def calculate_mrmr_features(X, y, K):\n",
    "        selected_features = mrmr_classif(X=X, y=y, K=K)\n",
    "        return selected_features\n",
    "    \n",
    "    # Definir el rango de características que deseamos considerar\n",
    "    feature_range = range(1, len(X_train.columns) + 1)\n",
    "    \n",
    "    # Listas para almacenar las métricas\n",
    "    train_maes = []\n",
    "    test_maes = []\n",
    "    num_features_list = []\n",
    "    \n",
    "    # Variables para almacenar las 17 características y su MAE correspondiente\n",
    "    selected_features_17 = None\n",
    "    mae_17 = None\n",
    "    \n",
    "    # Iterar sobre todas las combinaciones de características\n",
    "    for num_features in feature_range:\n",
    "        # Calcular las características seleccionadas usando MRMR\n",
    "        selected_features = calculate_mrmr_features(X_train, y_train, num_features)\n",
    "        \n",
    "        # Seleccionar las columnas correspondientes en X_train y X_test\n",
    "        X_train_selected = X_train[selected_features]\n",
    "        X_test_selected = X_test[selected_features]\n",
    "        \n",
    "        # Entrenar el modelo de regresión lineal\n",
    "        model = LinearRegression()\n",
    "        model.fit(X_train_selected, y_train)\n",
    "    \n",
    "        # Realizar predicciones en el conjunto de entrenamiento y de prueba\n",
    "        y_pred_train = model.predict(X_train_selected)\n",
    "        y_pred_test = model.predict(X_test_selected)\n",
    "        \n",
    "        # Calcular el error absoluto medio (MAE) para evaluar el modelo en ambos conjuntos\n",
    "        train_mae = mean_absolute_error(y_train, y_pred_train)\n",
    "        test_mae = mean_absolute_error(y_test, y_pred_test)\n",
    "        \n",
    "        # Almacenar las métricas y el número de características\n",
    "        train_maes.append(train_mae)\n",
    "        test_maes.append(test_mae)\n",
    "        num_features_list.append(num_features)\n",
    "        \n",
    "        # Imprimir el MAE en cada iteración\n",
    "        print(f\" {num_features} - Train MAE: {train_mae:.4f}, Test MAE: {test_mae:.4f}\")\n",
    "        \n",
    "        # Registrar el MAE en MLflow\n",
    "        mlflow.log_metric(f\"train_mae_{num_features}\", train_mae)\n",
    "        mlflow.log_metric(f\"test_mae_{num_features}\", test_mae)\n",
    "        print(feature_range[np.argmin(test_maes)])\n",
    "        print(min(test_maes))\n",
    "    # Graficar los resultados\n",
    "    plt.plot(num_features_list, train_maes, label='Train MAE')\n",
    "    plt.plot(num_features_list, test_maes, label='Test MAE')\n",
    "    plt.xlabel('Number of Features')\n",
    "    plt.ylabel('Mean Absolute Error (MAE)')\n",
    "    plt.title('MAE vs. Number of Features')\n",
    "    plt.legend()\n",
    "    plt.show()"
   ],
   "metadata": {
    "collapsed": false,
    "ExecuteTime": {
     "end_time": "2024-04-24T19:40:19.957130200Z",
     "start_time": "2024-04-24T19:40:14.940263200Z"
    }
   },
   "id": "57971647318e331b"
  },
  {
   "cell_type": "code",
   "execution_count": 10,
   "outputs": [
    {
     "name": "stdout",
     "output_type": "stream",
     "text": [
      "Archivo Datos_la_liga_preparados_entrenamiento.parquet guardado en: ../Downloads\\Datos_la_liga_preparados_entrenamiento.parquet\n",
      "Selected features with 9 features: ['Mins' 'AvgP' 'Titularidades' 'Equipo_pos' '1_año_anterior'\n",
      " '2_año_anterior' '3_año_anterior' '4_año_anterior' '5_año_anterior']\n",
      "Selected features with 12 features: ['Mins' 'Assists' 'MotM' 'AvgP' 'Titularidades' 'Equipo_pos'\n",
      " '1_año_anterior' '2_año_anterior' '3_año_anterior' '4_año_anterior'\n",
      " '5_año_anterior' 'Equipo_Real Madrid']\n"
     ]
    },
    {
     "ename": "MlflowException",
     "evalue": "INVALID_PARAMETER_VALUE: Changing param values is not allowed. Param with key='selected_features_9' was already logged with value='['Mins' 'AvgP' 'Titularidades' 'Equipo_pos' '1_año_anterior'\n '2_año_anterior' '3_año_anterior' '4_año_anterior' '5_año_anterior']' for run ID='b4a8c5042eed4bbf8eae9edf80d35461'. Attempted logging new value '['Mins' 'Assists' 'MotM' 'AvgP' 'Titularidades' 'Equipo_pos'\n '1_año_anterior' '2_año_anterior' '3_año_anterior' '4_año_anterior'\n '5_año_anterior' 'Equipo_Real Madrid']'.\n\nThe cause of this error is typically due to repeated calls\nto an individual run_id event logging.\n\nIncorrect Example:\n---------------------------------------\nwith mlflow.start_run():\n    mlflow.log_param(\"depth\", 3)\n    mlflow.log_param(\"depth\", 5)\n---------------------------------------\n\nWhich will throw an MlflowException for overwriting a\nlogged parameter.\n\nCorrect Example:\n---------------------------------------\nwith mlflow.start_run():\n    with mlflow.start_run(nested=True):\n        mlflow.log_param(\"depth\", 3)\n    with mlflow.start_run(nested=True):\n        mlflow.log_param(\"depth\", 5)\n---------------------------------------\n\nWhich will create a new nested run for each individual\nmodel and prevent parameter key collisions within the\ntracking store.",
     "output_type": "error",
     "traceback": [
      "\u001B[1;31m---------------------------------------------------------------------------\u001B[0m",
      "\u001B[1;31mRestException\u001B[0m                             Traceback (most recent call last)",
      "File \u001B[1;32m~\\Documents\\Alvaro\\Carrera\\2-Segundo\\Primer cuatrimetre\\Fundamentos de la Inteligencia Artificial\\PycharmProjects\\proyecto\\Lib\\site-packages\\mlflow\\tracking\\_tracking_service\\client.py:342\u001B[0m, in \u001B[0;36mTrackingServiceClient.log_param\u001B[1;34m(self, run_id, key, value, synchronous)\u001B[0m\n\u001B[0;32m    341\u001B[0m \u001B[38;5;28;01mif\u001B[39;00m synchronous:\n\u001B[1;32m--> 342\u001B[0m     \u001B[38;5;28;43mself\u001B[39;49m\u001B[38;5;241;43m.\u001B[39;49m\u001B[43mstore\u001B[49m\u001B[38;5;241;43m.\u001B[39;49m\u001B[43mlog_param\u001B[49m\u001B[43m(\u001B[49m\u001B[43mrun_id\u001B[49m\u001B[43m,\u001B[49m\u001B[43m \u001B[49m\u001B[43mparam\u001B[49m\u001B[43m)\u001B[49m\n\u001B[0;32m    343\u001B[0m     \u001B[38;5;28;01mreturn\u001B[39;00m value\n",
      "File \u001B[1;32m~\\Documents\\Alvaro\\Carrera\\2-Segundo\\Primer cuatrimetre\\Fundamentos de la Inteligencia Artificial\\PycharmProjects\\proyecto\\Lib\\site-packages\\mlflow\\store\\tracking\\rest_store.py:221\u001B[0m, in \u001B[0;36mRestStore.log_param\u001B[1;34m(self, run_id, param)\u001B[0m\n\u001B[0;32m    218\u001B[0m req_body \u001B[38;5;241m=\u001B[39m message_to_json(\n\u001B[0;32m    219\u001B[0m     LogParam(run_uuid\u001B[38;5;241m=\u001B[39mrun_id, run_id\u001B[38;5;241m=\u001B[39mrun_id, key\u001B[38;5;241m=\u001B[39mparam\u001B[38;5;241m.\u001B[39mkey, value\u001B[38;5;241m=\u001B[39mparam\u001B[38;5;241m.\u001B[39mvalue)\n\u001B[0;32m    220\u001B[0m )\n\u001B[1;32m--> 221\u001B[0m \u001B[38;5;28;43mself\u001B[39;49m\u001B[38;5;241;43m.\u001B[39;49m\u001B[43m_call_endpoint\u001B[49m\u001B[43m(\u001B[49m\u001B[43mLogParam\u001B[49m\u001B[43m,\u001B[49m\u001B[43m \u001B[49m\u001B[43mreq_body\u001B[49m\u001B[43m)\u001B[49m\n",
      "File \u001B[1;32m~\\Documents\\Alvaro\\Carrera\\2-Segundo\\Primer cuatrimetre\\Fundamentos de la Inteligencia Artificial\\PycharmProjects\\proyecto\\Lib\\site-packages\\mlflow\\store\\tracking\\rest_store.py:60\u001B[0m, in \u001B[0;36mRestStore._call_endpoint\u001B[1;34m(self, api, json_body)\u001B[0m\n\u001B[0;32m     59\u001B[0m response_proto \u001B[38;5;241m=\u001B[39m api\u001B[38;5;241m.\u001B[39mResponse()\n\u001B[1;32m---> 60\u001B[0m \u001B[38;5;28;01mreturn\u001B[39;00m \u001B[43mcall_endpoint\u001B[49m\u001B[43m(\u001B[49m\u001B[38;5;28;43mself\u001B[39;49m\u001B[38;5;241;43m.\u001B[39;49m\u001B[43mget_host_creds\u001B[49m\u001B[43m(\u001B[49m\u001B[43m)\u001B[49m\u001B[43m,\u001B[49m\u001B[43m \u001B[49m\u001B[43mendpoint\u001B[49m\u001B[43m,\u001B[49m\u001B[43m \u001B[49m\u001B[43mmethod\u001B[49m\u001B[43m,\u001B[49m\u001B[43m \u001B[49m\u001B[43mjson_body\u001B[49m\u001B[43m,\u001B[49m\u001B[43m \u001B[49m\u001B[43mresponse_proto\u001B[49m\u001B[43m)\u001B[49m\n",
      "File \u001B[1;32m~\\Documents\\Alvaro\\Carrera\\2-Segundo\\Primer cuatrimetre\\Fundamentos de la Inteligencia Artificial\\PycharmProjects\\proyecto\\Lib\\site-packages\\mlflow\\utils\\rest_utils.py:290\u001B[0m, in \u001B[0;36mcall_endpoint\u001B[1;34m(host_creds, endpoint, method, json_body, response_proto, extra_headers)\u001B[0m\n\u001B[0;32m    289\u001B[0m     response \u001B[38;5;241m=\u001B[39m http_request(\u001B[38;5;241m*\u001B[39m\u001B[38;5;241m*\u001B[39mcall_kwargs)\n\u001B[1;32m--> 290\u001B[0m response \u001B[38;5;241m=\u001B[39m \u001B[43mverify_rest_response\u001B[49m\u001B[43m(\u001B[49m\u001B[43mresponse\u001B[49m\u001B[43m,\u001B[49m\u001B[43m \u001B[49m\u001B[43mendpoint\u001B[49m\u001B[43m)\u001B[49m\n\u001B[0;32m    291\u001B[0m js_dict \u001B[38;5;241m=\u001B[39m json\u001B[38;5;241m.\u001B[39mloads(response\u001B[38;5;241m.\u001B[39mtext)\n",
      "File \u001B[1;32m~\\Documents\\Alvaro\\Carrera\\2-Segundo\\Primer cuatrimetre\\Fundamentos de la Inteligencia Artificial\\PycharmProjects\\proyecto\\Lib\\site-packages\\mlflow\\utils\\rest_utils.py:173\u001B[0m, in \u001B[0;36mverify_rest_response\u001B[1;34m(response, endpoint)\u001B[0m\n\u001B[0;32m    172\u001B[0m \u001B[38;5;28;01mif\u001B[39;00m _can_parse_as_json_object(response\u001B[38;5;241m.\u001B[39mtext):\n\u001B[1;32m--> 173\u001B[0m     \u001B[38;5;28;01mraise\u001B[39;00m RestException(json\u001B[38;5;241m.\u001B[39mloads(response\u001B[38;5;241m.\u001B[39mtext))\n\u001B[0;32m    174\u001B[0m \u001B[38;5;28;01melse\u001B[39;00m:\n",
      "\u001B[1;31mRestException\u001B[0m: INVALID_PARAMETER_VALUE: Changing param values is not allowed. Param with key='selected_features_9' was already logged with value='['Mins' 'AvgP' 'Titularidades' 'Equipo_pos' '1_año_anterior'\n '2_año_anterior' '3_año_anterior' '4_año_anterior' '5_año_anterior']' for run ID='b4a8c5042eed4bbf8eae9edf80d35461'. Attempted logging new value '['Mins' 'Assists' 'MotM' 'AvgP' 'Titularidades' 'Equipo_pos'\n '1_año_anterior' '2_año_anterior' '3_año_anterior' '4_año_anterior'\n '5_año_anterior' 'Equipo_Real Madrid']'.",
      "\nDuring handling of the above exception, another exception occurred:\n",
      "\u001B[1;31mMlflowException\u001B[0m                           Traceback (most recent call last)",
      "Cell \u001B[1;32mIn[10], line 62\u001B[0m\n\u001B[0;32m     60\u001B[0m     \u001B[38;5;28mprint\u001B[39m(\u001B[38;5;124mf\u001B[39m\u001B[38;5;124m\"\u001B[39m\u001B[38;5;124mSelected features with \u001B[39m\u001B[38;5;132;01m{\u001B[39;00mnum_features\u001B[38;5;132;01m}\u001B[39;00m\u001B[38;5;124m features:\u001B[39m\u001B[38;5;124m\"\u001B[39m, selected_features_9)\n\u001B[0;32m     61\u001B[0m     \u001B[38;5;66;03m# Registrar las características seleccionadas en MLflow\u001B[39;00m\n\u001B[1;32m---> 62\u001B[0m     \u001B[43mmlflow\u001B[49m\u001B[38;5;241;43m.\u001B[39;49m\u001B[43mlog_param\u001B[49m\u001B[43m(\u001B[49m\u001B[38;5;124;43m\"\u001B[39;49m\u001B[38;5;124;43mselected_features_9\u001B[39;49m\u001B[38;5;124;43m\"\u001B[39;49m\u001B[43m,\u001B[49m\u001B[43m \u001B[49m\u001B[43mselected_features_9\u001B[49m\u001B[43m)\u001B[49m\n\u001B[0;32m     63\u001B[0m \u001B[38;5;66;03m# Verificar si se han encontrado las 17 características\u001B[39;00m\n\u001B[0;32m     64\u001B[0m \u001B[38;5;28;01mif\u001B[39;00m num_features \u001B[38;5;241m==\u001B[39m \u001B[38;5;241m17\u001B[39m:\n\u001B[0;32m     65\u001B[0m     \u001B[38;5;66;03m# Obtener las características seleccionadas\u001B[39;00m\n",
      "File \u001B[1;32m~\\Documents\\Alvaro\\Carrera\\2-Segundo\\Primer cuatrimetre\\Fundamentos de la Inteligencia Artificial\\PycharmProjects\\proyecto\\Lib\\site-packages\\mlflow\\tracking\\fluent.py:662\u001B[0m, in \u001B[0;36mlog_param\u001B[1;34m(key, value, synchronous)\u001B[0m\n\u001B[0;32m    660\u001B[0m run_id \u001B[38;5;241m=\u001B[39m _get_or_start_run()\u001B[38;5;241m.\u001B[39minfo\u001B[38;5;241m.\u001B[39mrun_id\n\u001B[0;32m    661\u001B[0m synchronous \u001B[38;5;241m=\u001B[39m synchronous \u001B[38;5;28;01mif\u001B[39;00m synchronous \u001B[38;5;129;01mis\u001B[39;00m \u001B[38;5;129;01mnot\u001B[39;00m \u001B[38;5;28;01mNone\u001B[39;00m \u001B[38;5;28;01melse\u001B[39;00m \u001B[38;5;129;01mnot\u001B[39;00m MLFLOW_ENABLE_ASYNC_LOGGING\u001B[38;5;241m.\u001B[39mget()\n\u001B[1;32m--> 662\u001B[0m \u001B[38;5;28;01mreturn\u001B[39;00m \u001B[43mMlflowClient\u001B[49m\u001B[43m(\u001B[49m\u001B[43m)\u001B[49m\u001B[38;5;241;43m.\u001B[39;49m\u001B[43mlog_param\u001B[49m\u001B[43m(\u001B[49m\u001B[43mrun_id\u001B[49m\u001B[43m,\u001B[49m\u001B[43m \u001B[49m\u001B[43mkey\u001B[49m\u001B[43m,\u001B[49m\u001B[43m \u001B[49m\u001B[43mvalue\u001B[49m\u001B[43m,\u001B[49m\u001B[43m \u001B[49m\u001B[43msynchronous\u001B[49m\u001B[38;5;241;43m=\u001B[39;49m\u001B[43msynchronous\u001B[49m\u001B[43m)\u001B[49m\n",
      "File \u001B[1;32m~\\Documents\\Alvaro\\Carrera\\2-Segundo\\Primer cuatrimetre\\Fundamentos de la Inteligencia Artificial\\PycharmProjects\\proyecto\\Lib\\site-packages\\mlflow\\tracking\\client.py:877\u001B[0m, in \u001B[0;36mMlflowClient.log_param\u001B[1;34m(self, run_id, key, value, synchronous)\u001B[0m\n\u001B[0;32m    815\u001B[0m \u001B[38;5;250m\u001B[39m\u001B[38;5;124;03m\"\"\"\u001B[39;00m\n\u001B[0;32m    816\u001B[0m \u001B[38;5;124;03mLog a parameter (e.g. model hyperparameter) against the run ID.\u001B[39;00m\n\u001B[0;32m    817\u001B[0m \n\u001B[1;32m   (...)\u001B[0m\n\u001B[0;32m    874\u001B[0m \u001B[38;5;124;03m    status: FINISHED\u001B[39;00m\n\u001B[0;32m    875\u001B[0m \u001B[38;5;124;03m\"\"\"\u001B[39;00m\n\u001B[0;32m    876\u001B[0m \u001B[38;5;28;01mif\u001B[39;00m synchronous:\n\u001B[1;32m--> 877\u001B[0m     \u001B[38;5;28;43mself\u001B[39;49m\u001B[38;5;241;43m.\u001B[39;49m\u001B[43m_tracking_client\u001B[49m\u001B[38;5;241;43m.\u001B[39;49m\u001B[43mlog_param\u001B[49m\u001B[43m(\u001B[49m\u001B[43mrun_id\u001B[49m\u001B[43m,\u001B[49m\u001B[43m \u001B[49m\u001B[43mkey\u001B[49m\u001B[43m,\u001B[49m\u001B[43m \u001B[49m\u001B[43mvalue\u001B[49m\u001B[43m,\u001B[49m\u001B[43m \u001B[49m\u001B[43msynchronous\u001B[49m\u001B[38;5;241;43m=\u001B[39;49m\u001B[38;5;28;43;01mTrue\u001B[39;49;00m\u001B[43m)\u001B[49m\n\u001B[0;32m    878\u001B[0m     \u001B[38;5;28;01mreturn\u001B[39;00m value\n\u001B[0;32m    879\u001B[0m \u001B[38;5;28;01melse\u001B[39;00m:\n",
      "File \u001B[1;32m~\\Documents\\Alvaro\\Carrera\\2-Segundo\\Primer cuatrimetre\\Fundamentos de la Inteligencia Artificial\\PycharmProjects\\proyecto\\Lib\\site-packages\\mlflow\\tracking\\_tracking_service\\client.py:349\u001B[0m, in \u001B[0;36mTrackingServiceClient.log_param\u001B[1;34m(self, run_id, key, value, synchronous)\u001B[0m\n\u001B[0;32m    347\u001B[0m \u001B[38;5;28;01mif\u001B[39;00m e\u001B[38;5;241m.\u001B[39merror_code \u001B[38;5;241m==\u001B[39m ErrorCode\u001B[38;5;241m.\u001B[39mName(INVALID_PARAMETER_VALUE):\n\u001B[0;32m    348\u001B[0m     msg \u001B[38;5;241m=\u001B[39m \u001B[38;5;124mf\u001B[39m\u001B[38;5;124m\"\u001B[39m\u001B[38;5;132;01m{\u001B[39;00me\u001B[38;5;241m.\u001B[39mmessage\u001B[38;5;132;01m}\u001B[39;00m\u001B[38;5;132;01m{\u001B[39;00mPARAM_VALIDATION_MSG\u001B[38;5;132;01m}\u001B[39;00m\u001B[38;5;124m\"\u001B[39m\n\u001B[1;32m--> 349\u001B[0m     \u001B[38;5;28;01mraise\u001B[39;00m MlflowException(msg, INVALID_PARAMETER_VALUE)\n\u001B[0;32m    350\u001B[0m \u001B[38;5;28;01melse\u001B[39;00m:\n\u001B[0;32m    351\u001B[0m     \u001B[38;5;28;01mraise\u001B[39;00m e\n",
      "\u001B[1;31mMlflowException\u001B[0m: INVALID_PARAMETER_VALUE: Changing param values is not allowed. Param with key='selected_features_9' was already logged with value='['Mins' 'AvgP' 'Titularidades' 'Equipo_pos' '1_año_anterior'\n '2_año_anterior' '3_año_anterior' '4_año_anterior' '5_año_anterior']' for run ID='b4a8c5042eed4bbf8eae9edf80d35461'. Attempted logging new value '['Mins' 'Assists' 'MotM' 'AvgP' 'Titularidades' 'Equipo_pos'\n '1_año_anterior' '2_año_anterior' '3_año_anterior' '4_año_anterior'\n '5_año_anterior' 'Equipo_Real Madrid']'.\n\nThe cause of this error is typically due to repeated calls\nto an individual run_id event logging.\n\nIncorrect Example:\n---------------------------------------\nwith mlflow.start_run():\n    mlflow.log_param(\"depth\", 3)\n    mlflow.log_param(\"depth\", 5)\n---------------------------------------\n\nWhich will throw an MlflowException for overwriting a\nlogged parameter.\n\nCorrect Example:\n---------------------------------------\nwith mlflow.start_run():\n    with mlflow.start_run(nested=True):\n        mlflow.log_param(\"depth\", 3)\n    with mlflow.start_run(nested=True):\n        mlflow.log_param(\"depth\", 5)\n---------------------------------------\n\nWhich will create a new nested run for each individual\nmodel and prevent parameter key collisions within the\ntracking store."
     ]
    }
   ],
   "source": [
    "import mlflow\n",
    "from sklearn.feature_selection import f_regression, SelectKBest\n",
    "from sklearn.model_selection import train_test_split\n",
    "from sklearn.linear_model import LinearRegression\n",
    "from sklearn.metrics import mean_absolute_error\n",
    "import numpy as np\n",
    "import matplotlib.pyplot as plt\n",
    "\n",
    "# Iniciar el registro de la ejecución en MLflow\n",
    "with mlflow.start_run(run_name=\"KBest Feature Selection\"):\n",
    "\n",
    "    # Obtener los datos preprocesados\n",
    "    X_train, X_val, X_test, y_train, y_val, y_test = preprocesamiento_datos.preprocesamiento(False,[], False)\n",
    "    \n",
    "    # Definir el rango de características que deseamos considerar\n",
    "    feature_range = range(1, 100)\n",
    "    \n",
    "    # Listas para almacenar las métricas\n",
    "    train_maes = []\n",
    "    test_maes = []\n",
    "    \n",
    "    # Iterar sobre todas las combinaciones de características\n",
    "    for num_features in feature_range:\n",
    "        # Seleccionar las mejores k características\n",
    "        selector = SelectKBest(score_func=f_regression, k=num_features)\n",
    "        X_train_selected = selector.fit_transform(X_train, y_train)\n",
    "        X_test_selected = selector.transform(X_test)\n",
    "        \n",
    "        # Entrenar un modelo de regresión lineal con las características seleccionadas\n",
    "        model = LinearRegression()\n",
    "        model.fit(X_train_selected, y_train)\n",
    "    \n",
    "        # Realizar predicciones en el conjunto de prueba\n",
    "        y_pred_train = model.predict(X_train_selected)\n",
    "        y_pred_test = model.predict(X_test_selected)\n",
    "        \n",
    "        # Calcular el error absoluto medio (MAE) para evaluar el modelo en ambos conjuntos\n",
    "        train_mae = mean_absolute_error(y_train, y_pred_train)\n",
    "        test_mae = mean_absolute_error(y_test, y_pred_test)\n",
    "        \n",
    "        # Almacenar las métricas\n",
    "        train_maes.append(train_mae)\n",
    "        test_maes.append(test_mae)\n",
    "        \n",
    "        # Registrar los MAE en MLflow para cada iteración\n",
    "        mlflow.log_metric(f\"train_mae_{num_features}\", train_mae)\n",
    "        mlflow.log_metric(f\"test_mae_{num_features}\", test_mae)\n",
    "        \n",
    "        # Verificar si se han encontrado las 9 características\n",
    "        if num_features == 9:\n",
    "            # Obtener las características seleccionadas\n",
    "            selected_features_9 = np.array(X_train.columns)[selector.get_support()]\n",
    "            print(f\"Selected features with {num_features} features:\", selected_features_9)\n",
    "            # Registrar las características seleccionadas en MLflow\n",
    "            mlflow.log_param(\"selected_features_9\", selected_features_9)\n",
    "        \n",
    "        if num_features == 12:\n",
    "            # Obtener las características seleccionadas\n",
    "            selected_features_9 = np.array(X_train.columns)[selector.get_support()]\n",
    "            print(f\"Selected features with {num_features} features:\", selected_features_9)\n",
    "            # Registrar las características seleccionadas en MLflow\n",
    "            mlflow.log_param(\"selected_features_9\", selected_features_9)\n",
    "        # Verificar si se han encontrado las 17 características\n",
    "        if num_features == 17:\n",
    "            # Obtener las características seleccionadas\n",
    "            selected_features_17 = np.array(X_train.columns)[selector.get_support()]\n",
    "            print(f\"Selected features with {num_features} features:\", selected_features_17)\n",
    "            # Registrar las características seleccionadas en MLflow\n",
    "            mlflow.log_param(\"selected_features_17\", selected_features_17)\n",
    "            \n",
    "        if num_features == 20:\n",
    "            # Obtener las características seleccionadas\n",
    "            selected_features_20 = np.array(X_train.columns)[selector.get_support()]\n",
    "            print(f\"Selected features with {num_features} features:\", selected_features_20)\n",
    "            # Registrar las características seleccionadas en MLflow\n",
    "            mlflow.log_param(\"selected_features_20\", selected_features_20)\n",
    "    \n",
    "    # Encontrar el número de características que produce el menor error absoluto medio en el conjunto de prueba\n",
    "    best_num_features = feature_range[np.argmin(test_maes)]\n",
    "    print(\"Best number of features:\", best_num_features)\n",
    "    \n",
    "    # Graficar los resultados\n",
    "    plt.plot(feature_range, train_maes, label='Train MAE')\n",
    "    plt.plot(feature_range, test_maes, label='Test MAE')\n",
    "    plt.scatter(17, test_maes[16], color='green', label='Test 17')\n",
    "    plt.scatter(9, test_maes[8], color='green', label='Test 9')\n",
    "    plt.scatter(12, test_maes[11], color='green', label='Test 12')\n",
    "    plt.scatter(best_num_features, min(test_maes), color='red', label='Best Test MAE (20)')\n",
    "    plt.xlabel('Number of Features')\n",
    "    plt.ylabel('Mean Absolute Error (MAE)')\n",
    "    plt.title('MAE vs. Number of Features')\n",
    "    plt.legend()\n",
    "    plt.show()\n",
    "    image_path = \"grafica_selección_variables.png\"\n",
    "    plt.savefig(image_path)\n",
    "    mlflow.log_artifact(image_path, artifact_path=\"grafica seleccion variables\")"
   ],
   "metadata": {
    "collapsed": false,
    "ExecuteTime": {
     "end_time": "2024-04-24T19:37:37.587738400Z",
     "start_time": "2024-04-24T19:37:27.983426500Z"
    }
   },
   "id": "e5d0ae8be52e77c0"
  },
  {
   "cell_type": "code",
   "execution_count": null,
   "outputs": [],
   "source": [],
   "metadata": {
    "collapsed": false
   },
   "id": "63562d71193c8ec4"
  }
 ],
 "metadata": {
  "kernelspec": {
   "display_name": "Python 3",
   "language": "python",
   "name": "python3"
  },
  "language_info": {
   "codemirror_mode": {
    "name": "ipython",
    "version": 2
   },
   "file_extension": ".py",
   "mimetype": "text/x-python",
   "name": "python",
   "nbconvert_exporter": "python",
   "pygments_lexer": "ipython2",
   "version": "2.7.6"
  }
 },
 "nbformat": 4,
 "nbformat_minor": 5
}
