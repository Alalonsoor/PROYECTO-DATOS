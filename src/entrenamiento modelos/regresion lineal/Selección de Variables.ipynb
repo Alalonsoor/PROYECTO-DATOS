{
 "cells": [
  {
   "cell_type": "code",
   "execution_count": 18,
   "outputs": [],
   "source": [
    "import pandas as pd\n",
    "import numpy as np\n",
    "from sklearn.model_selection import train_test_split\n",
    "from sklearn.linear_model import LinearRegression\n",
    "from sklearn.metrics import mean_absolute_error\n",
    "from sklearn.preprocessing import StandardScaler\n",
    "import mlflow\n",
    "from mrmr import mrmr_classif\n",
    "import os\n",
    "import matplotlib.pyplot as plt\n"
   ],
   "metadata": {
    "collapsed": false,
    "ExecuteTime": {
     "end_time": "2024-04-16T21:22:01.536647100Z",
     "start_time": "2024-04-16T21:22:01.530796Z"
    }
   },
   "id": "58acfc764c602a3"
  },
  {
   "cell_type": "code",
   "execution_count": 19,
   "outputs": [],
   "source": [
    "\"\"\"\n",
    "Descarga de Archivos desde Google Drive sin Autenticación\n",
    "\n",
    "Este script permite descargar archivos específicos desde Google Drive directamente a una ubicación local,\n",
    "utilizando el ID de Google Drive del archivo (el archivo debe ser accesible para cualquier persona que tenga la URL).\n",
    "\n",
    "El script procesa un archivo de texto ('archivos_info.txt') que contiene las IDs de Google Drive de los archivos,\n",
    "los nombres con los que se desean guardar localmente, y las rutas locales de almacenamiento, todo separado por comas.\n",
    "\n",
    "Formato esperado de 'archivos_info.txt':\n",
    "ID_de_Google_Drive,Nombre_Archivo_Local,Ruta_Local\n",
    "\n",
    "Ejemplo:\n",
    "1hGvKmNAkK...,mi_archivo.txt,./descargas\n",
    "\n",
    "Requisitos:\n",
    "- Módulo 'requests' instalado en el entorno Python donde se ejecute este script.\n",
    "\n",
    "\n",
    "\n",
    "\"\"\"\n",
    "\n",
    "import requests\n",
    "import os\n",
    "\n",
    "\n",
    "def descargar_archivo_directo(id_archivo, directorio_destino, archivo_destino):\n",
    "    \"\"\"\n",
    "    Descarga un archivo directamente desde Google Drive y lo guarda localmente.\n",
    "\n",
    "    Parámetros:\n",
    "    - id_archivo (str): ID del archivo en Google Drive.\n",
    "    - directorio_destino (str): Ruta del directorio local donde se guardará el archivo.\n",
    "    - archivo_destino (str): Nombre deseado para el archivo en local\n",
    "\n",
    "    Devuelve:\n",
    "    - archivo_destino (str): Nombre del archivo guardado.\n",
    "    - ruta_completa (str): Ruta completa del archivo guardado.\n",
    "    \"\"\"\n",
    "    # Construye la URL de descarga directa utilizando el ID del archivo\n",
    "    url = f\"https://drive.google.com/uc?export=download&id={id_archivo}\"\n",
    "\n",
    "    # Realiza la petición HTTP GET para descargar el archivo\n",
    "    respuesta = requests.get(url, allow_redirects=True)\n",
    "\n",
    "    # Comprueba que el directorio destino existe, si no, lo crea\n",
    "    os.makedirs(directorio_destino, exist_ok=True)\n",
    "\n",
    "    # Construye la ruta completa donde se guardará el archivo en local\n",
    "    ruta_completa = os.path.join(directorio_destino, archivo_destino)\n",
    "\n",
    "    # Guarda el contenido del archivo descargado en local\n",
    "    with open(ruta_completa, 'wb') as archivo:\n",
    "        archivo.write(respuesta.content)\n",
    "\n",
    "\n",
    "    return archivo_destino, ruta_completa\n",
    "\n",
    "\n",
    "def procesar_archivo_info(ruta_archivo_info):\n",
    "    \"\"\"\n",
    "    Procesa un archivo de texto que contiene información sobre los archivos a descargar.\n",
    "\n",
    "    Parámetros:\n",
    "    - ruta_archivo_info (str): Ruta del archivo de texto que contiene los IDs de Google Drive,\n",
    "                               los nombres de los archivos locales y las rutas locales.\n",
    "\n",
    "    Devuelve:\n",
    "    - Una lista de tuplas con el ID de Google Drive, el nombre local del archivo, y la ruta local.\n",
    "    \"\"\"\n",
    "    archivos_info = []\n",
    "    with open(ruta_archivo_info, 'r') as archivo:\n",
    "        for linea in archivo:\n",
    "            id_archivo, nombre_archivo, directorio_destino = linea.strip().split(',')\n",
    "            archivos_info.append((id_archivo, nombre_archivo, directorio_destino))\n",
    "    return archivos_info\n"
   ],
   "metadata": {
    "collapsed": false,
    "ExecuteTime": {
     "end_time": "2024-04-16T21:22:02.616393500Z",
     "start_time": "2024-04-16T21:22:02.600186800Z"
    }
   },
   "id": "initial_id"
  },
  {
   "cell_type": "code",
   "execution_count": 20,
   "outputs": [
    {
     "name": "stdout",
     "output_type": "stream",
     "text": [
      "Archivo datos_preparados_solo_entr.parquet guardado en: ../Downloads\\datos_preparados_solo_entr.parquet\n"
     ]
    }
   ],
   "source": [
    "# Ruta al archivo que contiene la información de los archivos a descargar\n",
    "ruta_archivo_info = \"..\\info_archivos_GDrive_solo_entr.txt\"\n",
    "\n",
    "# Obtenemos la lista con la info de los archivos del fichero\n",
    "archivos_a_descargar = procesar_archivo_info(ruta_archivo_info)\n",
    "\n",
    "# Descargamos cada archivo de la lista\n",
    "for id_archivo, nombre_archivo, directorio_destino in archivos_a_descargar:\n",
    "    nombre_archivo_descargado, ruta_archivo_guardado = descargar_archivo_directo(id_archivo, directorio_destino, nombre_archivo)\n",
    "    print(f\"Archivo {nombre_archivo_descargado} guardado en: {ruta_archivo_guardado}\")"
   ],
   "metadata": {
    "collapsed": false,
    "ExecuteTime": {
     "end_time": "2024-04-16T21:22:05.615399800Z",
     "start_time": "2024-04-16T21:22:03.761468800Z"
    }
   },
   "id": "665d359d896686dc"
  },
  {
   "cell_type": "code",
   "execution_count": 21,
   "outputs": [
    {
     "data": {
      "text/plain": "              Mins        Goals      Assists          Yel          Red  \\\ncount  2251.000000  2251.000000  2251.000000  2251.000000  2251.000000   \nmean   1271.695691     1.564638     1.063527     3.069303     0.168814   \nstd     969.241058     2.906800     1.737932     2.958017     0.430942   \nmin       1.000000     0.000000     0.000000     0.000000     0.000000   \n25%     360.500000     0.000000     0.000000     1.000000     0.000000   \n50%    1157.000000     0.000000     0.000000     2.000000     0.000000   \n75%    2040.500000     2.000000     2.000000     5.000000     0.000000   \nmax    3420.000000    27.000000    16.000000    15.000000     3.000000   \n\n               SpG          PS%   AerialsWon         MotM      Tackles  ...  \\\ncount  2251.000000  2251.000000  2251.000000  2251.000000  2251.000000  ...   \nmean      0.629276    76.128387     0.946246     0.622834     0.882719  ...   \nstd       0.604061    13.308598     0.962542     1.244505     0.693640  ...   \nmin       0.000000     0.000000     0.000000     0.000000     0.000000  ...   \n25%       0.200000    70.950000     0.300000     0.000000     0.400000  ...   \n50%       0.500000    78.300000     0.700000     0.000000     0.800000  ...   \n75%       0.900000    84.200000     1.300000     1.000000     1.300000  ...   \nmax       4.500000   100.000000     8.700000    13.000000     6.000000  ...   \n\n       nationality_The Gambia  nationality_Türkiye  nationality_Ukraine  \\\ncount             2251.000000          2251.000000          2251.000000   \nmean                 0.000444             0.002665             0.001333   \nstd                  0.021077             0.051571             0.036490   \nmin                  0.000000             0.000000             0.000000   \n25%                  0.000000             0.000000             0.000000   \n50%                  0.000000             0.000000             0.000000   \n75%                  0.000000             0.000000             0.000000   \nmax                  1.000000             1.000000             1.000000   \n\n       nationality_United States  nationality_Uruguay  nationality_Venezuela  \\\ncount                2251.000000          2251.000000            2251.000000   \nmean                    0.003554             0.028432               0.003998   \nstd                     0.059522             0.166240               0.063119   \nmin                     0.000000             0.000000               0.000000   \n25%                     0.000000             0.000000               0.000000   \n50%                     0.000000             0.000000               0.000000   \n75%                     0.000000             0.000000               0.000000   \nmax                     1.000000             1.000000               1.000000   \n\n       nationality_Wales  nationality_Zambia  nationality_Zimbabwe  \\\ncount        2251.000000         2251.000000           2251.000000   \nmean            0.000888            0.000444              0.000444   \nstd             0.029801            0.021077              0.021077   \nmin             0.000000            0.000000              0.000000   \n25%             0.000000            0.000000              0.000000   \n50%             0.000000            0.000000              0.000000   \n75%             0.000000            0.000000              0.000000   \nmax             1.000000            1.000000              1.000000   \n\n        marketValue  \ncount  2.251000e+03  \nmean   8.160329e+06  \nstd    1.188624e+07  \nmin    2.500000e+04  \n25%    1.500000e+06  \n50%    3.000000e+06  \n75%    9.500000e+06  \nmax    7.500000e+07  \n\n[8 rows x 150 columns]",
      "text/html": "<div>\n<style scoped>\n    .dataframe tbody tr th:only-of-type {\n        vertical-align: middle;\n    }\n\n    .dataframe tbody tr th {\n        vertical-align: top;\n    }\n\n    .dataframe thead th {\n        text-align: right;\n    }\n</style>\n<table border=\"1\" class=\"dataframe\">\n  <thead>\n    <tr style=\"text-align: right;\">\n      <th></th>\n      <th>Mins</th>\n      <th>Goals</th>\n      <th>Assists</th>\n      <th>Yel</th>\n      <th>Red</th>\n      <th>SpG</th>\n      <th>PS%</th>\n      <th>AerialsWon</th>\n      <th>MotM</th>\n      <th>Tackles</th>\n      <th>...</th>\n      <th>nationality_The Gambia</th>\n      <th>nationality_Türkiye</th>\n      <th>nationality_Ukraine</th>\n      <th>nationality_United States</th>\n      <th>nationality_Uruguay</th>\n      <th>nationality_Venezuela</th>\n      <th>nationality_Wales</th>\n      <th>nationality_Zambia</th>\n      <th>nationality_Zimbabwe</th>\n      <th>marketValue</th>\n    </tr>\n  </thead>\n  <tbody>\n    <tr>\n      <th>count</th>\n      <td>2251.000000</td>\n      <td>2251.000000</td>\n      <td>2251.000000</td>\n      <td>2251.000000</td>\n      <td>2251.000000</td>\n      <td>2251.000000</td>\n      <td>2251.000000</td>\n      <td>2251.000000</td>\n      <td>2251.000000</td>\n      <td>2251.000000</td>\n      <td>...</td>\n      <td>2251.000000</td>\n      <td>2251.000000</td>\n      <td>2251.000000</td>\n      <td>2251.000000</td>\n      <td>2251.000000</td>\n      <td>2251.000000</td>\n      <td>2251.000000</td>\n      <td>2251.000000</td>\n      <td>2251.000000</td>\n      <td>2.251000e+03</td>\n    </tr>\n    <tr>\n      <th>mean</th>\n      <td>1271.695691</td>\n      <td>1.564638</td>\n      <td>1.063527</td>\n      <td>3.069303</td>\n      <td>0.168814</td>\n      <td>0.629276</td>\n      <td>76.128387</td>\n      <td>0.946246</td>\n      <td>0.622834</td>\n      <td>0.882719</td>\n      <td>...</td>\n      <td>0.000444</td>\n      <td>0.002665</td>\n      <td>0.001333</td>\n      <td>0.003554</td>\n      <td>0.028432</td>\n      <td>0.003998</td>\n      <td>0.000888</td>\n      <td>0.000444</td>\n      <td>0.000444</td>\n      <td>8.160329e+06</td>\n    </tr>\n    <tr>\n      <th>std</th>\n      <td>969.241058</td>\n      <td>2.906800</td>\n      <td>1.737932</td>\n      <td>2.958017</td>\n      <td>0.430942</td>\n      <td>0.604061</td>\n      <td>13.308598</td>\n      <td>0.962542</td>\n      <td>1.244505</td>\n      <td>0.693640</td>\n      <td>...</td>\n      <td>0.021077</td>\n      <td>0.051571</td>\n      <td>0.036490</td>\n      <td>0.059522</td>\n      <td>0.166240</td>\n      <td>0.063119</td>\n      <td>0.029801</td>\n      <td>0.021077</td>\n      <td>0.021077</td>\n      <td>1.188624e+07</td>\n    </tr>\n    <tr>\n      <th>min</th>\n      <td>1.000000</td>\n      <td>0.000000</td>\n      <td>0.000000</td>\n      <td>0.000000</td>\n      <td>0.000000</td>\n      <td>0.000000</td>\n      <td>0.000000</td>\n      <td>0.000000</td>\n      <td>0.000000</td>\n      <td>0.000000</td>\n      <td>...</td>\n      <td>0.000000</td>\n      <td>0.000000</td>\n      <td>0.000000</td>\n      <td>0.000000</td>\n      <td>0.000000</td>\n      <td>0.000000</td>\n      <td>0.000000</td>\n      <td>0.000000</td>\n      <td>0.000000</td>\n      <td>2.500000e+04</td>\n    </tr>\n    <tr>\n      <th>25%</th>\n      <td>360.500000</td>\n      <td>0.000000</td>\n      <td>0.000000</td>\n      <td>1.000000</td>\n      <td>0.000000</td>\n      <td>0.200000</td>\n      <td>70.950000</td>\n      <td>0.300000</td>\n      <td>0.000000</td>\n      <td>0.400000</td>\n      <td>...</td>\n      <td>0.000000</td>\n      <td>0.000000</td>\n      <td>0.000000</td>\n      <td>0.000000</td>\n      <td>0.000000</td>\n      <td>0.000000</td>\n      <td>0.000000</td>\n      <td>0.000000</td>\n      <td>0.000000</td>\n      <td>1.500000e+06</td>\n    </tr>\n    <tr>\n      <th>50%</th>\n      <td>1157.000000</td>\n      <td>0.000000</td>\n      <td>0.000000</td>\n      <td>2.000000</td>\n      <td>0.000000</td>\n      <td>0.500000</td>\n      <td>78.300000</td>\n      <td>0.700000</td>\n      <td>0.000000</td>\n      <td>0.800000</td>\n      <td>...</td>\n      <td>0.000000</td>\n      <td>0.000000</td>\n      <td>0.000000</td>\n      <td>0.000000</td>\n      <td>0.000000</td>\n      <td>0.000000</td>\n      <td>0.000000</td>\n      <td>0.000000</td>\n      <td>0.000000</td>\n      <td>3.000000e+06</td>\n    </tr>\n    <tr>\n      <th>75%</th>\n      <td>2040.500000</td>\n      <td>2.000000</td>\n      <td>2.000000</td>\n      <td>5.000000</td>\n      <td>0.000000</td>\n      <td>0.900000</td>\n      <td>84.200000</td>\n      <td>1.300000</td>\n      <td>1.000000</td>\n      <td>1.300000</td>\n      <td>...</td>\n      <td>0.000000</td>\n      <td>0.000000</td>\n      <td>0.000000</td>\n      <td>0.000000</td>\n      <td>0.000000</td>\n      <td>0.000000</td>\n      <td>0.000000</td>\n      <td>0.000000</td>\n      <td>0.000000</td>\n      <td>9.500000e+06</td>\n    </tr>\n    <tr>\n      <th>max</th>\n      <td>3420.000000</td>\n      <td>27.000000</td>\n      <td>16.000000</td>\n      <td>15.000000</td>\n      <td>3.000000</td>\n      <td>4.500000</td>\n      <td>100.000000</td>\n      <td>8.700000</td>\n      <td>13.000000</td>\n      <td>6.000000</td>\n      <td>...</td>\n      <td>1.000000</td>\n      <td>1.000000</td>\n      <td>1.000000</td>\n      <td>1.000000</td>\n      <td>1.000000</td>\n      <td>1.000000</td>\n      <td>1.000000</td>\n      <td>1.000000</td>\n      <td>1.000000</td>\n      <td>7.500000e+07</td>\n    </tr>\n  </tbody>\n</table>\n<p>8 rows × 150 columns</p>\n</div>"
     },
     "execution_count": 21,
     "metadata": {},
     "output_type": "execute_result"
    }
   ],
   "source": [
    "df = pd.read_parquet(ruta_archivo_guardado, engine='pyarrow')\n",
    "df.describe()"
   ],
   "metadata": {
    "collapsed": false,
    "ExecuteTime": {
     "end_time": "2024-04-16T21:22:06.553601800Z",
     "start_time": "2024-04-16T21:22:06.346367Z"
    }
   },
   "id": "f5dde0af3008cf8e"
  },
  {
   "cell_type": "code",
   "execution_count": 22,
   "outputs": [],
   "source": [
    "X = df.iloc[:, :-1]\n",
    "y = df.iloc[:, -1]\n",
    "\n",
    "# Partición de datos\n",
    "RANDOM_STATE = 83\n",
    "X_train, X_test, y_train, y_test = train_test_split(X, y, test_size=0.3, random_state=RANDOM_STATE)"
   ],
   "metadata": {
    "collapsed": false,
    "ExecuteTime": {
     "end_time": "2024-04-16T21:22:07.683848300Z",
     "start_time": "2024-04-16T21:22:07.673615Z"
    }
   },
   "id": "db2659c36345a697"
  },
  {
   "cell_type": "code",
   "execution_count": 23,
   "outputs": [
    {
     "data": {
      "text/plain": "<Experiment: artifact_location='mlflow-artifacts:/3', creation_time=1713193978222, experiment_id='3', last_update_time=1713193978222, lifecycle_stage='active', name='regresion_lineal', tags={}>"
     },
     "execution_count": 23,
     "metadata": {},
     "output_type": "execute_result"
    }
   ],
   "source": [
    "# Establecer la URI de la base de datos SQLite y configuración de MLflow\n",
    "os.environ['MLFLOW_TRACKING_URI'] = 'sqlite:///mlruns.db'\n",
    "mlflow.set_tracking_uri(\"http://127.0.0.1:5000\")\n",
    "mlflow.set_experiment(\"regresion_lineal\")"
   ],
   "metadata": {
    "collapsed": false,
    "ExecuteTime": {
     "end_time": "2024-04-16T21:22:09.081553600Z",
     "start_time": "2024-04-16T21:22:09.053591500Z"
    }
   },
   "id": "87d8eecf9d5726d0"
  },
  {
   "cell_type": "markdown",
   "source": [
    "# Selección con MRMR"
   ],
   "metadata": {
    "collapsed": false
   },
   "id": "f2a0389ef976ad29"
  },
  {
   "cell_type": "code",
   "execution_count": 28,
   "outputs": [
    {
     "name": "stderr",
     "output_type": "stream",
     "text": [
      "100%|██████████| 1/1 [00:00<00:00, 66.68it/s]\n"
     ]
    },
    {
     "name": "stdout",
     "output_type": "stream",
     "text": [
      "Iteration 1 - Train MAE: 3005460.6803, Test MAE: 3034502.7757\n"
     ]
    },
    {
     "name": "stderr",
     "output_type": "stream",
     "text": [
      "100%|██████████| 2/2 [00:00<00:00, 33.41it/s]\n"
     ]
    },
    {
     "name": "stdout",
     "output_type": "stream",
     "text": [
      "Iteration 2 - Train MAE: 3006971.6013, Test MAE: 3032838.2637\n"
     ]
    },
    {
     "name": "stderr",
     "output_type": "stream",
     "text": [
      "100%|██████████| 3/3 [00:00<00:00, 51.64it/s]\n"
     ]
    },
    {
     "name": "stdout",
     "output_type": "stream",
     "text": [
      "Iteration 3 - Train MAE: 3005562.3272, Test MAE: 3033916.9521\n"
     ]
    },
    {
     "name": "stderr",
     "output_type": "stream",
     "text": [
      "100%|██████████| 4/4 [00:00<00:00, 41.32it/s]\n"
     ]
    },
    {
     "name": "stdout",
     "output_type": "stream",
     "text": [
      "Iteration 4 - Train MAE: 3005174.6396, Test MAE: 3033316.4822\n"
     ]
    },
    {
     "name": "stderr",
     "output_type": "stream",
     "text": [
      "100%|██████████| 5/5 [00:00<00:00, 42.10it/s]\n"
     ]
    },
    {
     "name": "stdout",
     "output_type": "stream",
     "text": [
      "Iteration 5 - Train MAE: 3006192.9105, Test MAE: 3025738.6261\n"
     ]
    },
    {
     "name": "stderr",
     "output_type": "stream",
     "text": [
      "100%|██████████| 6/6 [00:00<00:00, 40.46it/s]\n"
     ]
    },
    {
     "name": "stdout",
     "output_type": "stream",
     "text": [
      "Iteration 6 - Train MAE: 3004677.2483, Test MAE: 3043658.0273\n"
     ]
    },
    {
     "name": "stderr",
     "output_type": "stream",
     "text": [
      "100%|██████████| 7/7 [00:00<00:00, 39.28it/s]\n"
     ]
    },
    {
     "name": "stdout",
     "output_type": "stream",
     "text": [
      "Iteration 7 - Train MAE: 3004383.5081, Test MAE: 3043961.7150\n"
     ]
    },
    {
     "name": "stderr",
     "output_type": "stream",
     "text": [
      "100%|██████████| 8/8 [00:00<00:00, 40.68it/s]\n"
     ]
    },
    {
     "name": "stdout",
     "output_type": "stream",
     "text": [
      "Iteration 8 - Train MAE: 3004094.6897, Test MAE: 3042912.5372\n"
     ]
    },
    {
     "name": "stderr",
     "output_type": "stream",
     "text": [
      "100%|██████████| 9/9 [00:00<00:00, 42.06it/s]\n"
     ]
    },
    {
     "name": "stdout",
     "output_type": "stream",
     "text": [
      "Iteration 9 - Train MAE: 3004844.7819, Test MAE: 3043823.9397\n"
     ]
    },
    {
     "name": "stderr",
     "output_type": "stream",
     "text": [
      "100%|██████████| 10/10 [00:00<00:00, 33.62it/s]\n"
     ]
    },
    {
     "name": "stdout",
     "output_type": "stream",
     "text": [
      "Iteration 10 - Train MAE: 3001665.7752, Test MAE: 3036329.1402\n"
     ]
    },
    {
     "name": "stderr",
     "output_type": "stream",
     "text": [
      "100%|██████████| 11/11 [00:00<00:00, 34.98it/s]\n"
     ]
    },
    {
     "name": "stdout",
     "output_type": "stream",
     "text": [
      "Iteration 11 - Train MAE: 3002239.4084, Test MAE: 3039270.7211\n"
     ]
    },
    {
     "name": "stderr",
     "output_type": "stream",
     "text": [
      "100%|██████████| 12/12 [00:00<00:00, 34.45it/s]\n"
     ]
    },
    {
     "name": "stdout",
     "output_type": "stream",
     "text": [
      "Iteration 12 - Train MAE: 2997983.9458, Test MAE: 3037997.7062\n"
     ]
    },
    {
     "name": "stderr",
     "output_type": "stream",
     "text": [
      "100%|██████████| 13/13 [00:00<00:00, 33.27it/s]\n"
     ]
    },
    {
     "name": "stdout",
     "output_type": "stream",
     "text": [
      "Iteration 13 - Train MAE: 2998131.9306, Test MAE: 3037355.2049\n"
     ]
    },
    {
     "name": "stderr",
     "output_type": "stream",
     "text": [
      "100%|██████████| 14/14 [00:00<00:00, 34.39it/s]\n"
     ]
    },
    {
     "name": "stdout",
     "output_type": "stream",
     "text": [
      "Iteration 14 - Train MAE: 2997982.8886, Test MAE: 3036747.3833\n"
     ]
    },
    {
     "name": "stderr",
     "output_type": "stream",
     "text": [
      "100%|██████████| 15/15 [00:00<00:00, 33.73it/s]\n"
     ]
    },
    {
     "name": "stdout",
     "output_type": "stream",
     "text": [
      "Iteration 15 - Train MAE: 2995510.3296, Test MAE: 3029318.0088\n"
     ]
    },
    {
     "name": "stderr",
     "output_type": "stream",
     "text": [
      "100%|██████████| 16/16 [00:00<00:00, 34.31it/s]\n"
     ]
    },
    {
     "name": "stdout",
     "output_type": "stream",
     "text": [
      "Iteration 16 - Train MAE: 2995117.5063, Test MAE: 3032067.7841\n"
     ]
    },
    {
     "name": "stderr",
     "output_type": "stream",
     "text": [
      "100%|██████████| 17/17 [00:00<00:00, 35.09it/s]\n"
     ]
    },
    {
     "name": "stdout",
     "output_type": "stream",
     "text": [
      "Iteration 17 - Train MAE: 2927492.9041, Test MAE: 2956767.2838\n"
     ]
    },
    {
     "name": "stderr",
     "output_type": "stream",
     "text": [
      "100%|██████████| 18/18 [00:00<00:00, 35.39it/s]\n"
     ]
    },
    {
     "name": "stdout",
     "output_type": "stream",
     "text": [
      "Iteration 18 - Train MAE: 2927388.9371, Test MAE: 2956327.2488\n"
     ]
    },
    {
     "name": "stderr",
     "output_type": "stream",
     "text": [
      "100%|██████████| 19/19 [00:00<00:00, 35.29it/s]\n"
     ]
    },
    {
     "name": "stdout",
     "output_type": "stream",
     "text": [
      "Iteration 19 - Train MAE: 2927020.6005, Test MAE: 2956307.7117\n"
     ]
    },
    {
     "name": "stderr",
     "output_type": "stream",
     "text": [
      "100%|██████████| 20/20 [00:00<00:00, 35.47it/s]\n"
     ]
    },
    {
     "name": "stdout",
     "output_type": "stream",
     "text": [
      "Iteration 20 - Train MAE: 2927606.2654, Test MAE: 2956744.2067\n"
     ]
    },
    {
     "name": "stderr",
     "output_type": "stream",
     "text": [
      "100%|██████████| 21/21 [00:00<00:00, 35.65it/s]\n"
     ]
    },
    {
     "name": "stdout",
     "output_type": "stream",
     "text": [
      "Iteration 21 - Train MAE: 2931142.9022, Test MAE: 2961178.8461\n"
     ]
    },
    {
     "name": "stderr",
     "output_type": "stream",
     "text": [
      "100%|██████████| 22/22 [00:00<00:00, 35.33it/s]\n"
     ]
    },
    {
     "name": "stdout",
     "output_type": "stream",
     "text": [
      "Iteration 22 - Train MAE: 2927959.0483, Test MAE: 2967838.1242\n"
     ]
    },
    {
     "name": "stderr",
     "output_type": "stream",
     "text": [
      "100%|██████████| 23/23 [00:00<00:00, 36.86it/s]\n"
     ]
    },
    {
     "name": "stdout",
     "output_type": "stream",
     "text": [
      "Iteration 23 - Train MAE: 2928155.3420, Test MAE: 2968024.6816\n"
     ]
    },
    {
     "name": "stderr",
     "output_type": "stream",
     "text": [
      "100%|██████████| 24/24 [00:00<00:00, 36.51it/s]\n"
     ]
    },
    {
     "name": "stdout",
     "output_type": "stream",
     "text": [
      "Iteration 24 - Train MAE: 2928581.4276, Test MAE: 2966118.0911\n"
     ]
    },
    {
     "name": "stderr",
     "output_type": "stream",
     "text": [
      "100%|██████████| 25/25 [00:00<00:00, 34.62it/s]\n"
     ]
    },
    {
     "name": "stdout",
     "output_type": "stream",
     "text": [
      "Iteration 25 - Train MAE: 2883707.1969, Test MAE: 2968672.7058\n"
     ]
    },
    {
     "name": "stderr",
     "output_type": "stream",
     "text": [
      "100%|██████████| 26/26 [00:00<00:00, 37.28it/s]\n"
     ]
    },
    {
     "name": "stdout",
     "output_type": "stream",
     "text": [
      "Iteration 26 - Train MAE: 2884670.2817, Test MAE: 2968680.6075\n"
     ]
    },
    {
     "name": "stderr",
     "output_type": "stream",
     "text": [
      "100%|██████████| 27/27 [00:00<00:00, 36.19it/s]\n"
     ]
    },
    {
     "name": "stdout",
     "output_type": "stream",
     "text": [
      "Iteration 27 - Train MAE: 2889827.8871, Test MAE: 2975995.0292\n"
     ]
    },
    {
     "name": "stderr",
     "output_type": "stream",
     "text": [
      "100%|██████████| 28/28 [00:00<00:00, 36.72it/s]\n"
     ]
    },
    {
     "name": "stdout",
     "output_type": "stream",
     "text": [
      "Iteration 28 - Train MAE: 2888033.8138, Test MAE: 2975075.9517\n"
     ]
    },
    {
     "name": "stderr",
     "output_type": "stream",
     "text": [
      "100%|██████████| 29/29 [00:00<00:00, 34.66it/s]\n"
     ]
    },
    {
     "name": "stdout",
     "output_type": "stream",
     "text": [
      "Iteration 29 - Train MAE: 2887298.0318, Test MAE: 2978007.7010\n"
     ]
    },
    {
     "name": "stderr",
     "output_type": "stream",
     "text": [
      "100%|██████████| 30/30 [00:00<00:00, 35.06it/s]\n"
     ]
    },
    {
     "name": "stdout",
     "output_type": "stream",
     "text": [
      "Iteration 30 - Train MAE: 2886698.5130, Test MAE: 2978237.4233\n"
     ]
    },
    {
     "name": "stderr",
     "output_type": "stream",
     "text": [
      "100%|██████████| 31/31 [00:01<00:00, 27.37it/s]\n"
     ]
    },
    {
     "name": "stdout",
     "output_type": "stream",
     "text": [
      "Iteration 31 - Train MAE: 2886375.6032, Test MAE: 2976011.6260\n"
     ]
    },
    {
     "name": "stderr",
     "output_type": "stream",
     "text": [
      "100%|██████████| 32/32 [00:01<00:00, 31.62it/s]\n"
     ]
    },
    {
     "name": "stdout",
     "output_type": "stream",
     "text": [
      "Iteration 32 - Train MAE: 2884835.7100, Test MAE: 2975336.9349\n"
     ]
    },
    {
     "name": "stderr",
     "output_type": "stream",
     "text": [
      "100%|██████████| 33/33 [00:01<00:00, 29.34it/s]\n"
     ]
    },
    {
     "name": "stdout",
     "output_type": "stream",
     "text": [
      "Iteration 33 - Train MAE: 2883542.9789, Test MAE: 2973840.1030\n"
     ]
    },
    {
     "name": "stderr",
     "output_type": "stream",
     "text": [
      "100%|██████████| 34/34 [00:01<00:00, 30.39it/s]\n"
     ]
    },
    {
     "name": "stdout",
     "output_type": "stream",
     "text": [
      "Iteration 34 - Train MAE: 2883510.5453, Test MAE: 2973940.0339\n"
     ]
    },
    {
     "name": "stderr",
     "output_type": "stream",
     "text": [
      "100%|██████████| 35/35 [00:01<00:00, 32.93it/s]\n"
     ]
    },
    {
     "name": "stdout",
     "output_type": "stream",
     "text": [
      "Iteration 35 - Train MAE: 2882651.3510, Test MAE: 2974420.1951\n"
     ]
    },
    {
     "name": "stderr",
     "output_type": "stream",
     "text": [
      "100%|██████████| 36/36 [00:01<00:00, 25.98it/s]\n"
     ]
    },
    {
     "name": "stdout",
     "output_type": "stream",
     "text": [
      "Iteration 36 - Train MAE: 2882666.6282, Test MAE: 2974431.3468\n"
     ]
    },
    {
     "name": "stderr",
     "output_type": "stream",
     "text": [
      "100%|██████████| 37/37 [00:01<00:00, 26.51it/s]\n"
     ]
    },
    {
     "name": "stdout",
     "output_type": "stream",
     "text": [
      "Iteration 37 - Train MAE: 2853282.7265, Test MAE: 2996687.3831\n"
     ]
    },
    {
     "name": "stderr",
     "output_type": "stream",
     "text": [
      "100%|██████████| 38/38 [00:01<00:00, 28.32it/s]\n"
     ]
    },
    {
     "name": "stdout",
     "output_type": "stream",
     "text": [
      "Iteration 38 - Train MAE: 2853506.4375, Test MAE: 2999500.0144\n"
     ]
    },
    {
     "name": "stderr",
     "output_type": "stream",
     "text": [
      "100%|██████████| 39/39 [00:01<00:00, 25.29it/s]\n"
     ]
    },
    {
     "name": "stdout",
     "output_type": "stream",
     "text": [
      "Iteration 39 - Train MAE: 2840299.1946, Test MAE: 3014452.8231\n"
     ]
    },
    {
     "name": "stderr",
     "output_type": "stream",
     "text": [
      "100%|██████████| 40/40 [00:01<00:00, 32.06it/s]\n"
     ]
    },
    {
     "name": "stdout",
     "output_type": "stream",
     "text": [
      "Iteration 40 - Train MAE: 2841803.0486, Test MAE: 3014038.1707\n"
     ]
    },
    {
     "name": "stderr",
     "output_type": "stream",
     "text": [
      "100%|██████████| 41/41 [00:01<00:00, 37.57it/s]\n"
     ]
    },
    {
     "name": "stdout",
     "output_type": "stream",
     "text": [
      "Iteration 41 - Train MAE: 2841814.5201, Test MAE: 3013937.3570\n"
     ]
    },
    {
     "name": "stderr",
     "output_type": "stream",
     "text": [
      "100%|██████████| 42/42 [00:01<00:00, 26.38it/s]\n"
     ]
    },
    {
     "name": "stdout",
     "output_type": "stream",
     "text": [
      "Iteration 42 - Train MAE: 2866383.6496, Test MAE: 2980171.4230\n"
     ]
    },
    {
     "name": "stderr",
     "output_type": "stream",
     "text": [
      "100%|██████████| 43/43 [00:01<00:00, 34.40it/s]\n"
     ]
    },
    {
     "name": "stdout",
     "output_type": "stream",
     "text": [
      "Iteration 43 - Train MAE: 2866914.5337, Test MAE: 2981386.7829\n"
     ]
    },
    {
     "name": "stderr",
     "output_type": "stream",
     "text": [
      "100%|██████████| 44/44 [00:02<00:00, 19.45it/s]\n"
     ]
    },
    {
     "name": "stdout",
     "output_type": "stream",
     "text": [
      "Iteration 44 - Train MAE: 2867753.0882, Test MAE: 2981747.1574\n"
     ]
    },
    {
     "name": "stderr",
     "output_type": "stream",
     "text": [
      "100%|██████████| 45/45 [00:01<00:00, 33.09it/s]\n"
     ]
    },
    {
     "name": "stdout",
     "output_type": "stream",
     "text": [
      "Iteration 45 - Train MAE: 2867825.0968, Test MAE: 2981373.2635\n"
     ]
    },
    {
     "name": "stderr",
     "output_type": "stream",
     "text": [
      "100%|██████████| 46/46 [00:01<00:00, 34.95it/s]\n"
     ]
    },
    {
     "name": "stdout",
     "output_type": "stream",
     "text": [
      "Iteration 46 - Train MAE: 2867926.5032, Test MAE: 2981498.7694\n"
     ]
    },
    {
     "name": "stderr",
     "output_type": "stream",
     "text": [
      "100%|██████████| 47/47 [00:01<00:00, 35.09it/s]\n"
     ]
    },
    {
     "name": "stdout",
     "output_type": "stream",
     "text": [
      "Iteration 47 - Train MAE: 2871712.4932, Test MAE: 3008274.8160\n"
     ]
    },
    {
     "name": "stderr",
     "output_type": "stream",
     "text": [
      "100%|██████████| 48/48 [00:01<00:00, 35.84it/s]\n"
     ]
    },
    {
     "name": "stdout",
     "output_type": "stream",
     "text": [
      "Iteration 48 - Train MAE: 2872968.0802, Test MAE: 3010831.3691\n"
     ]
    },
    {
     "name": "stderr",
     "output_type": "stream",
     "text": [
      "100%|██████████| 49/49 [00:01<00:00, 34.76it/s]\n"
     ]
    },
    {
     "name": "stdout",
     "output_type": "stream",
     "text": [
      "Iteration 49 - Train MAE: 2873115.1890, Test MAE: 3011571.5465\n"
     ]
    },
    {
     "name": "stderr",
     "output_type": "stream",
     "text": [
      "100%|██████████| 50/50 [00:01<00:00, 34.99it/s]\n"
     ]
    },
    {
     "name": "stdout",
     "output_type": "stream",
     "text": [
      "Iteration 50 - Train MAE: 2870142.8972, Test MAE: 3004251.7869\n"
     ]
    },
    {
     "name": "stderr",
     "output_type": "stream",
     "text": [
      "100%|██████████| 51/51 [00:01<00:00, 37.36it/s]\n"
     ]
    },
    {
     "name": "stdout",
     "output_type": "stream",
     "text": [
      "Iteration 51 - Train MAE: 2870194.2409, Test MAE: 3004715.9491\n"
     ]
    },
    {
     "name": "stderr",
     "output_type": "stream",
     "text": [
      "100%|██████████| 52/52 [00:01<00:00, 37.79it/s]\n"
     ]
    },
    {
     "name": "stdout",
     "output_type": "stream",
     "text": [
      "Iteration 52 - Train MAE: 2869842.5786, Test MAE: 3003955.3469\n"
     ]
    },
    {
     "name": "stderr",
     "output_type": "stream",
     "text": [
      "100%|██████████| 53/53 [00:01<00:00, 39.47it/s]\n"
     ]
    },
    {
     "name": "stdout",
     "output_type": "stream",
     "text": [
      "Iteration 53 - Train MAE: 2861937.8290, Test MAE: 3002964.6710\n"
     ]
    },
    {
     "name": "stderr",
     "output_type": "stream",
     "text": [
      "100%|██████████| 54/54 [00:01<00:00, 33.75it/s]\n"
     ]
    },
    {
     "name": "stdout",
     "output_type": "stream",
     "text": [
      "Iteration 54 - Train MAE: 2861630.5782, Test MAE: 3002576.6253\n"
     ]
    },
    {
     "name": "stderr",
     "output_type": "stream",
     "text": [
      "100%|██████████| 55/55 [00:01<00:00, 37.77it/s]\n"
     ]
    },
    {
     "name": "stdout",
     "output_type": "stream",
     "text": [
      "Iteration 55 - Train MAE: 2862560.1240, Test MAE: 3002420.6308\n"
     ]
    },
    {
     "name": "stderr",
     "output_type": "stream",
     "text": [
      "100%|██████████| 56/56 [00:01<00:00, 32.97it/s]\n"
     ]
    },
    {
     "name": "stdout",
     "output_type": "stream",
     "text": [
      "Iteration 56 - Train MAE: 2863280.1507, Test MAE: 3004256.5195\n"
     ]
    },
    {
     "name": "stderr",
     "output_type": "stream",
     "text": [
      "100%|██████████| 57/57 [00:01<00:00, 37.91it/s]\n"
     ]
    },
    {
     "name": "stdout",
     "output_type": "stream",
     "text": [
      "Iteration 57 - Train MAE: 2860578.2075, Test MAE: 3001333.3934\n"
     ]
    },
    {
     "name": "stderr",
     "output_type": "stream",
     "text": [
      "100%|██████████| 58/58 [00:01<00:00, 37.89it/s]\n"
     ]
    },
    {
     "name": "stdout",
     "output_type": "stream",
     "text": [
      "Iteration 58 - Train MAE: 2809723.6763, Test MAE: 2952179.6766\n"
     ]
    },
    {
     "name": "stderr",
     "output_type": "stream",
     "text": [
      "100%|██████████| 59/59 [00:01<00:00, 37.47it/s]\n"
     ]
    },
    {
     "name": "stdout",
     "output_type": "stream",
     "text": [
      "Iteration 59 - Train MAE: 2814322.1397, Test MAE: 2958423.1360\n"
     ]
    },
    {
     "name": "stderr",
     "output_type": "stream",
     "text": [
      "100%|██████████| 60/60 [00:01<00:00, 35.69it/s]\n"
     ]
    },
    {
     "name": "stdout",
     "output_type": "stream",
     "text": [
      "Iteration 60 - Train MAE: 2819391.9834, Test MAE: 2948715.5570\n"
     ]
    },
    {
     "name": "stderr",
     "output_type": "stream",
     "text": [
      "100%|██████████| 61/61 [00:01<00:00, 41.78it/s]\n"
     ]
    },
    {
     "name": "stdout",
     "output_type": "stream",
     "text": [
      "Iteration 61 - Train MAE: 2818897.9805, Test MAE: 2948965.7046\n"
     ]
    },
    {
     "name": "stderr",
     "output_type": "stream",
     "text": [
      "100%|██████████| 62/62 [00:01<00:00, 37.93it/s]\n"
     ]
    },
    {
     "name": "stdout",
     "output_type": "stream",
     "text": [
      "Iteration 62 - Train MAE: 2814027.8161, Test MAE: 2929905.5460\n"
     ]
    },
    {
     "name": "stderr",
     "output_type": "stream",
     "text": [
      "100%|██████████| 63/63 [00:01<00:00, 42.03it/s]\n"
     ]
    },
    {
     "name": "stdout",
     "output_type": "stream",
     "text": [
      "Iteration 63 - Train MAE: 2814035.6825, Test MAE: 2931223.7339\n"
     ]
    },
    {
     "name": "stderr",
     "output_type": "stream",
     "text": [
      "100%|██████████| 64/64 [00:01<00:00, 42.78it/s]\n"
     ]
    },
    {
     "name": "stdout",
     "output_type": "stream",
     "text": [
      "Iteration 64 - Train MAE: 2823083.9153, Test MAE: 2945403.4744\n"
     ]
    },
    {
     "name": "stderr",
     "output_type": "stream",
     "text": [
      "100%|██████████| 65/65 [00:01<00:00, 43.51it/s]\n"
     ]
    },
    {
     "name": "stdout",
     "output_type": "stream",
     "text": [
      "Iteration 65 - Train MAE: 2826364.2115, Test MAE: 2952056.6748\n"
     ]
    },
    {
     "name": "stderr",
     "output_type": "stream",
     "text": [
      "100%|██████████| 66/66 [00:01<00:00, 41.48it/s]\n"
     ]
    },
    {
     "name": "stdout",
     "output_type": "stream",
     "text": [
      "Iteration 66 - Train MAE: 2829713.4144, Test MAE: 2974220.7666\n"
     ]
    },
    {
     "name": "stderr",
     "output_type": "stream",
     "text": [
      "100%|██████████| 67/67 [00:01<00:00, 41.45it/s]\n"
     ]
    },
    {
     "name": "stdout",
     "output_type": "stream",
     "text": [
      "Iteration 67 - Train MAE: 2819161.3335, Test MAE: 2911454.9184\n"
     ]
    },
    {
     "name": "stderr",
     "output_type": "stream",
     "text": [
      "100%|██████████| 68/68 [00:01<00:00, 42.78it/s]\n"
     ]
    },
    {
     "name": "stdout",
     "output_type": "stream",
     "text": [
      "Iteration 68 - Train MAE: 2813399.4907, Test MAE: 2914175.4689\n"
     ]
    },
    {
     "name": "stderr",
     "output_type": "stream",
     "text": [
      "100%|██████████| 69/69 [00:01<00:00, 41.38it/s]\n"
     ]
    },
    {
     "name": "stdout",
     "output_type": "stream",
     "text": [
      "Iteration 69 - Train MAE: 2812544.9729, Test MAE: 2912145.8925\n"
     ]
    },
    {
     "name": "stderr",
     "output_type": "stream",
     "text": [
      "100%|██████████| 70/70 [00:01<00:00, 42.82it/s]\n"
     ]
    },
    {
     "name": "stdout",
     "output_type": "stream",
     "text": [
      "Iteration 70 - Train MAE: 2811541.9573, Test MAE: 2907147.6289\n"
     ]
    },
    {
     "name": "stderr",
     "output_type": "stream",
     "text": [
      "100%|██████████| 71/71 [00:01<00:00, 40.24it/s]\n"
     ]
    },
    {
     "name": "stdout",
     "output_type": "stream",
     "text": [
      "Iteration 71 - Train MAE: 2808339.3233, Test MAE: 2907383.7577\n"
     ]
    },
    {
     "name": "stderr",
     "output_type": "stream",
     "text": [
      "100%|██████████| 72/72 [00:01<00:00, 46.20it/s]\n"
     ]
    },
    {
     "name": "stdout",
     "output_type": "stream",
     "text": [
      "Iteration 72 - Train MAE: 2807912.2890, Test MAE: 2908125.6983\n"
     ]
    },
    {
     "name": "stderr",
     "output_type": "stream",
     "text": [
      "100%|██████████| 73/73 [00:01<00:00, 47.06it/s]\n"
     ]
    },
    {
     "name": "stdout",
     "output_type": "stream",
     "text": [
      "Iteration 73 - Train MAE: 2812421.4548, Test MAE: 2907496.9338\n"
     ]
    },
    {
     "name": "stderr",
     "output_type": "stream",
     "text": [
      "100%|██████████| 74/74 [00:01<00:00, 46.55it/s]\n"
     ]
    },
    {
     "name": "stdout",
     "output_type": "stream",
     "text": [
      "Iteration 74 - Train MAE: 2793105.3967, Test MAE: 2888220.7186\n"
     ]
    },
    {
     "name": "stderr",
     "output_type": "stream",
     "text": [
      "100%|██████████| 75/75 [00:01<00:00, 46.92it/s]\n"
     ]
    },
    {
     "name": "stdout",
     "output_type": "stream",
     "text": [
      "Iteration 75 - Train MAE: 2793562.0275, Test MAE: 2890864.7739\n"
     ]
    },
    {
     "name": "stderr",
     "output_type": "stream",
     "text": [
      "100%|██████████| 76/76 [00:02<00:00, 28.32it/s]\n"
     ]
    },
    {
     "name": "stdout",
     "output_type": "stream",
     "text": [
      "Iteration 76 - Train MAE: 2790783.2800, Test MAE: 2883779.4275\n"
     ]
    },
    {
     "name": "stderr",
     "output_type": "stream",
     "text": [
      "100%|██████████| 77/77 [00:01<00:00, 46.19it/s]\n"
     ]
    },
    {
     "name": "stdout",
     "output_type": "stream",
     "text": [
      "Iteration 77 - Train MAE: 2789661.8401, Test MAE: 2886280.0420\n"
     ]
    },
    {
     "name": "stderr",
     "output_type": "stream",
     "text": [
      "100%|██████████| 78/78 [00:01<00:00, 48.81it/s]\n"
     ]
    },
    {
     "name": "stdout",
     "output_type": "stream",
     "text": [
      "Iteration 78 - Train MAE: 2788726.0677, Test MAE: 2888951.0040\n"
     ]
    },
    {
     "name": "stderr",
     "output_type": "stream",
     "text": [
      "100%|██████████| 79/79 [00:01<00:00, 47.98it/s]\n"
     ]
    },
    {
     "name": "stdout",
     "output_type": "stream",
     "text": [
      "Iteration 79 - Train MAE: 2783911.8259, Test MAE: 2881126.1956\n"
     ]
    },
    {
     "name": "stderr",
     "output_type": "stream",
     "text": [
      "100%|██████████| 80/80 [00:01<00:00, 46.14it/s]\n"
     ]
    },
    {
     "name": "stdout",
     "output_type": "stream",
     "text": [
      "Iteration 80 - Train MAE: 2782230.3021, Test MAE: 2885670.7328\n"
     ]
    },
    {
     "name": "stderr",
     "output_type": "stream",
     "text": [
      "100%|██████████| 81/81 [00:01<00:00, 45.75it/s]\n"
     ]
    },
    {
     "name": "stdout",
     "output_type": "stream",
     "text": [
      "Iteration 81 - Train MAE: 2783135.0438, Test MAE: 2889025.2274\n"
     ]
    },
    {
     "name": "stderr",
     "output_type": "stream",
     "text": [
      "100%|██████████| 82/82 [00:01<00:00, 41.07it/s]\n"
     ]
    },
    {
     "name": "stdout",
     "output_type": "stream",
     "text": [
      "Iteration 82 - Train MAE: 2779198.5543, Test MAE: 2886143.4021\n"
     ]
    },
    {
     "name": "stderr",
     "output_type": "stream",
     "text": [
      "100%|██████████| 83/83 [00:02<00:00, 40.75it/s]\n"
     ]
    },
    {
     "name": "stdout",
     "output_type": "stream",
     "text": [
      "Iteration 83 - Train MAE: 2779019.7935, Test MAE: 2886168.8280\n"
     ]
    },
    {
     "name": "stderr",
     "output_type": "stream",
     "text": [
      "100%|██████████| 84/84 [00:02<00:00, 39.86it/s]\n"
     ]
    },
    {
     "name": "stdout",
     "output_type": "stream",
     "text": [
      "Iteration 84 - Train MAE: 2779394.3161, Test MAE: 2886536.4493\n"
     ]
    },
    {
     "name": "stderr",
     "output_type": "stream",
     "text": [
      "100%|██████████| 85/85 [00:02<00:00, 40.94it/s]\n"
     ]
    },
    {
     "name": "stdout",
     "output_type": "stream",
     "text": [
      "Iteration 85 - Train MAE: 2779217.7023, Test MAE: 2886294.8471\n"
     ]
    },
    {
     "name": "stderr",
     "output_type": "stream",
     "text": [
      "100%|██████████| 86/86 [00:02<00:00, 39.13it/s]\n"
     ]
    },
    {
     "name": "stdout",
     "output_type": "stream",
     "text": [
      "Iteration 86 - Train MAE: 2779705.2463, Test MAE: 2881755.0068\n"
     ]
    },
    {
     "name": "stderr",
     "output_type": "stream",
     "text": [
      "100%|██████████| 87/87 [00:02<00:00, 37.90it/s]\n"
     ]
    },
    {
     "name": "stdout",
     "output_type": "stream",
     "text": [
      "Iteration 87 - Train MAE: 2779191.1542, Test MAE: 2881724.8722\n"
     ]
    },
    {
     "name": "stderr",
     "output_type": "stream",
     "text": [
      "100%|██████████| 88/88 [00:02<00:00, 39.20it/s]\n"
     ]
    },
    {
     "name": "stdout",
     "output_type": "stream",
     "text": [
      "Iteration 88 - Train MAE: 2775922.5641, Test MAE: 2880595.5378\n"
     ]
    },
    {
     "name": "stderr",
     "output_type": "stream",
     "text": [
      "100%|██████████| 89/89 [00:02<00:00, 39.65it/s]\n"
     ]
    },
    {
     "name": "stdout",
     "output_type": "stream",
     "text": [
      "Iteration 89 - Train MAE: 2776462.4025, Test MAE: 2883274.2324\n"
     ]
    },
    {
     "name": "stderr",
     "output_type": "stream",
     "text": [
      "100%|██████████| 90/90 [00:02<00:00, 44.52it/s]\n"
     ]
    },
    {
     "name": "stdout",
     "output_type": "stream",
     "text": [
      "Iteration 90 - Train MAE: 2780392.6875, Test MAE: 2880159.9917\n"
     ]
    },
    {
     "name": "stderr",
     "output_type": "stream",
     "text": [
      "100%|██████████| 91/91 [00:01<00:00, 47.18it/s]\n"
     ]
    },
    {
     "name": "stdout",
     "output_type": "stream",
     "text": [
      "Iteration 91 - Train MAE: 2780144.4225, Test MAE: 2873758.5120\n"
     ]
    },
    {
     "name": "stderr",
     "output_type": "stream",
     "text": [
      "100%|██████████| 92/92 [00:01<00:00, 46.46it/s]\n"
     ]
    },
    {
     "name": "stdout",
     "output_type": "stream",
     "text": [
      "Iteration 92 - Train MAE: 2770637.3408, Test MAE: 2876669.2055\n"
     ]
    },
    {
     "name": "stderr",
     "output_type": "stream",
     "text": [
      "100%|██████████| 93/93 [00:02<00:00, 40.84it/s]\n"
     ]
    },
    {
     "name": "stdout",
     "output_type": "stream",
     "text": [
      "Iteration 93 - Train MAE: 2771091.9880, Test MAE: 2877239.3157\n"
     ]
    },
    {
     "name": "stderr",
     "output_type": "stream",
     "text": [
      "100%|██████████| 94/94 [00:02<00:00, 40.66it/s]\n"
     ]
    },
    {
     "name": "stdout",
     "output_type": "stream",
     "text": [
      "Iteration 94 - Train MAE: 2771373.7812, Test MAE: 2880146.0110\n"
     ]
    },
    {
     "name": "stderr",
     "output_type": "stream",
     "text": [
      "100%|██████████| 95/95 [00:02<00:00, 40.27it/s]\n"
     ]
    },
    {
     "name": "stdout",
     "output_type": "stream",
     "text": [
      "Iteration 95 - Train MAE: 2770085.9480, Test MAE: 2881040.9807\n"
     ]
    },
    {
     "name": "stderr",
     "output_type": "stream",
     "text": [
      "100%|██████████| 96/96 [00:02<00:00, 43.38it/s]\n"
     ]
    },
    {
     "name": "stdout",
     "output_type": "stream",
     "text": [
      "Iteration 96 - Train MAE: 2769084.2394, Test MAE: 2881357.8202\n"
     ]
    },
    {
     "name": "stderr",
     "output_type": "stream",
     "text": [
      "100%|██████████| 97/97 [00:02<00:00, 47.65it/s]\n"
     ]
    },
    {
     "name": "stdout",
     "output_type": "stream",
     "text": [
      "Iteration 97 - Train MAE: 2769456.0921, Test MAE: 2881315.9117\n"
     ]
    },
    {
     "name": "stderr",
     "output_type": "stream",
     "text": [
      "100%|██████████| 98/98 [00:03<00:00, 32.25it/s]\n"
     ]
    },
    {
     "name": "stdout",
     "output_type": "stream",
     "text": [
      "Iteration 98 - Train MAE: 2768988.4839, Test MAE: 2880991.6388\n"
     ]
    },
    {
     "name": "stderr",
     "output_type": "stream",
     "text": [
      "100%|██████████| 99/99 [00:02<00:00, 40.74it/s]\n"
     ]
    },
    {
     "name": "stdout",
     "output_type": "stream",
     "text": [
      "Iteration 99 - Train MAE: 2769538.3623, Test MAE: 2879249.2767\n"
     ]
    },
    {
     "name": "stderr",
     "output_type": "stream",
     "text": [
      "100%|██████████| 100/100 [00:02<00:00, 42.40it/s]\n"
     ]
    },
    {
     "name": "stdout",
     "output_type": "stream",
     "text": [
      "Iteration 100 - Train MAE: 2769537.8373, Test MAE: 2879026.5043\n"
     ]
    },
    {
     "name": "stderr",
     "output_type": "stream",
     "text": [
      "100%|██████████| 101/101 [00:02<00:00, 40.15it/s]\n"
     ]
    },
    {
     "name": "stdout",
     "output_type": "stream",
     "text": [
      "Iteration 101 - Train MAE: 2743181.1344, Test MAE: 2902131.3602\n"
     ]
    },
    {
     "name": "stderr",
     "output_type": "stream",
     "text": [
      "100%|██████████| 102/102 [00:02<00:00, 45.94it/s]\n"
     ]
    },
    {
     "name": "stdout",
     "output_type": "stream",
     "text": [
      "Iteration 102 - Train MAE: 2742404.6837, Test MAE: 2899381.8741\n"
     ]
    },
    {
     "name": "stderr",
     "output_type": "stream",
     "text": [
      "100%|██████████| 103/103 [00:02<00:00, 44.81it/s]\n"
     ]
    },
    {
     "name": "stdout",
     "output_type": "stream",
     "text": [
      "Iteration 103 - Train MAE: 2742552.5523, Test MAE: 2899342.3883\n"
     ]
    },
    {
     "name": "stderr",
     "output_type": "stream",
     "text": [
      "100%|██████████| 104/104 [00:02<00:00, 47.44it/s]\n"
     ]
    },
    {
     "name": "stdout",
     "output_type": "stream",
     "text": [
      "Iteration 104 - Train MAE: 2738681.8522, Test MAE: 2906418.7498\n"
     ]
    },
    {
     "name": "stderr",
     "output_type": "stream",
     "text": [
      "100%|██████████| 105/105 [00:02<00:00, 45.46it/s]\n"
     ]
    },
    {
     "name": "stdout",
     "output_type": "stream",
     "text": [
      "Iteration 105 - Train MAE: 2736474.4650, Test MAE: 2912559.0042\n"
     ]
    },
    {
     "name": "stderr",
     "output_type": "stream",
     "text": [
      "100%|██████████| 106/106 [00:02<00:00, 44.90it/s]\n"
     ]
    },
    {
     "name": "stdout",
     "output_type": "stream",
     "text": [
      "Iteration 106 - Train MAE: 2737101.1043, Test MAE: 2920660.9348\n"
     ]
    },
    {
     "name": "stderr",
     "output_type": "stream",
     "text": [
      "100%|██████████| 107/107 [00:02<00:00, 42.06it/s]\n"
     ]
    },
    {
     "name": "stdout",
     "output_type": "stream",
     "text": [
      "Iteration 107 - Train MAE: 2737052.5713, Test MAE: 2924358.9437\n"
     ]
    },
    {
     "name": "stderr",
     "output_type": "stream",
     "text": [
      "100%|██████████| 108/108 [00:02<00:00, 40.01it/s]\n"
     ]
    },
    {
     "name": "stdout",
     "output_type": "stream",
     "text": [
      "Iteration 108 - Train MAE: 2744297.1782, Test MAE: 2908413.1762\n"
     ]
    },
    {
     "name": "stderr",
     "output_type": "stream",
     "text": [
      "100%|██████████| 109/109 [00:02<00:00, 40.48it/s]\n"
     ]
    },
    {
     "name": "stdout",
     "output_type": "stream",
     "text": [
      "Iteration 109 - Train MAE: 2744850.9780, Test MAE: 2912658.4673\n"
     ]
    },
    {
     "name": "stderr",
     "output_type": "stream",
     "text": [
      "100%|██████████| 110/110 [00:02<00:00, 38.04it/s]\n"
     ]
    },
    {
     "name": "stdout",
     "output_type": "stream",
     "text": [
      "Iteration 110 - Train MAE: 2743435.3748, Test MAE: 2918928.3570\n"
     ]
    },
    {
     "name": "stderr",
     "output_type": "stream",
     "text": [
      "100%|██████████| 111/111 [00:02<00:00, 42.18it/s]\n"
     ]
    },
    {
     "name": "stdout",
     "output_type": "stream",
     "text": [
      "Iteration 111 - Train MAE: 2743553.1195, Test MAE: 2919857.4451\n"
     ]
    },
    {
     "name": "stderr",
     "output_type": "stream",
     "text": [
      "100%|██████████| 112/112 [00:02<00:00, 44.65it/s]\n"
     ]
    },
    {
     "name": "stdout",
     "output_type": "stream",
     "text": [
      "Iteration 112 - Train MAE: 2741168.7914, Test MAE: 2918627.1059\n"
     ]
    },
    {
     "name": "stderr",
     "output_type": "stream",
     "text": [
      "100%|██████████| 113/113 [00:02<00:00, 45.17it/s]\n"
     ]
    },
    {
     "name": "stdout",
     "output_type": "stream",
     "text": [
      "Iteration 113 - Train MAE: 2740275.6441, Test MAE: 2917626.4656\n"
     ]
    },
    {
     "name": "stderr",
     "output_type": "stream",
     "text": [
      "100%|██████████| 114/114 [00:02<00:00, 44.43it/s]\n"
     ]
    },
    {
     "name": "stdout",
     "output_type": "stream",
     "text": [
      "Iteration 114 - Train MAE: 2741486.8834, Test MAE: 2918832.1974\n"
     ]
    },
    {
     "name": "stderr",
     "output_type": "stream",
     "text": [
      "100%|██████████| 115/115 [00:02<00:00, 45.26it/s]\n"
     ]
    },
    {
     "name": "stdout",
     "output_type": "stream",
     "text": [
      "Iteration 115 - Train MAE: 2742945.5665, Test MAE: 2925640.7808\n"
     ]
    },
    {
     "name": "stderr",
     "output_type": "stream",
     "text": [
      "100%|██████████| 116/116 [00:02<00:00, 45.24it/s]\n"
     ]
    },
    {
     "name": "stdout",
     "output_type": "stream",
     "text": [
      "Iteration 116 - Train MAE: 2742939.4362, Test MAE: 2925527.8113\n"
     ]
    },
    {
     "name": "stderr",
     "output_type": "stream",
     "text": [
      "100%|██████████| 117/117 [00:03<00:00, 37.81it/s]\n"
     ]
    },
    {
     "name": "stdout",
     "output_type": "stream",
     "text": [
      "Iteration 117 - Train MAE: 2739820.2884, Test MAE: 2929263.0756\n"
     ]
    },
    {
     "name": "stderr",
     "output_type": "stream",
     "text": [
      "100%|██████████| 118/118 [00:02<00:00, 46.86it/s]\n"
     ]
    },
    {
     "name": "stdout",
     "output_type": "stream",
     "text": [
      "Iteration 118 - Train MAE: 2740259.3057, Test MAE: 2925171.8868\n"
     ]
    },
    {
     "name": "stderr",
     "output_type": "stream",
     "text": [
      "100%|██████████| 119/119 [00:03<00:00, 38.34it/s]\n"
     ]
    },
    {
     "name": "stdout",
     "output_type": "stream",
     "text": [
      "Iteration 119 - Train MAE: 2740280.8302, Test MAE: 2925501.6031\n"
     ]
    },
    {
     "name": "stderr",
     "output_type": "stream",
     "text": [
      "100%|██████████| 120/120 [00:02<00:00, 41.39it/s]\n"
     ]
    },
    {
     "name": "stdout",
     "output_type": "stream",
     "text": [
      "Iteration 120 - Train MAE: 2739168.4521, Test MAE: 2922916.3014\n"
     ]
    },
    {
     "name": "stderr",
     "output_type": "stream",
     "text": [
      "100%|██████████| 121/121 [00:02<00:00, 45.71it/s]\n"
     ]
    },
    {
     "name": "stdout",
     "output_type": "stream",
     "text": [
      "Iteration 121 - Train MAE: 2735419.2678, Test MAE: 2934058.4342\n"
     ]
    },
    {
     "name": "stderr",
     "output_type": "stream",
     "text": [
      "100%|██████████| 122/122 [00:02<00:00, 44.08it/s]\n"
     ]
    },
    {
     "name": "stdout",
     "output_type": "stream",
     "text": [
      "Iteration 122 - Train MAE: 2734748.6066, Test MAE: 2934439.0083\n"
     ]
    },
    {
     "name": "stderr",
     "output_type": "stream",
     "text": [
      "100%|██████████| 123/123 [00:02<00:00, 46.53it/s]\n"
     ]
    },
    {
     "name": "stdout",
     "output_type": "stream",
     "text": [
      "Iteration 123 - Train MAE: 2734299.6891, Test MAE: 2937466.9632\n"
     ]
    },
    {
     "name": "stderr",
     "output_type": "stream",
     "text": [
      "100%|██████████| 124/124 [00:02<00:00, 42.51it/s]\n"
     ]
    },
    {
     "name": "stdout",
     "output_type": "stream",
     "text": [
      "Iteration 124 - Train MAE: 2733927.7322, Test MAE: 2937976.6869\n"
     ]
    },
    {
     "name": "stderr",
     "output_type": "stream",
     "text": [
      "100%|██████████| 125/125 [00:03<00:00, 37.57it/s]\n"
     ]
    },
    {
     "name": "stdout",
     "output_type": "stream",
     "text": [
      "Iteration 125 - Train MAE: 2736029.8247, Test MAE: 2945896.2449\n"
     ]
    },
    {
     "name": "stderr",
     "output_type": "stream",
     "text": [
      "100%|██████████| 126/126 [00:03<00:00, 40.88it/s]\n"
     ]
    },
    {
     "name": "stdout",
     "output_type": "stream",
     "text": [
      "Iteration 126 - Train MAE: 2736502.2570, Test MAE: 2960554.8609\n"
     ]
    },
    {
     "name": "stderr",
     "output_type": "stream",
     "text": [
      "100%|██████████| 127/127 [00:02<00:00, 44.50it/s]\n"
     ]
    },
    {
     "name": "stdout",
     "output_type": "stream",
     "text": [
      "Iteration 127 - Train MAE: 2734421.9093, Test MAE: 2961493.2432\n"
     ]
    },
    {
     "name": "stderr",
     "output_type": "stream",
     "text": [
      "100%|██████████| 128/128 [00:03<00:00, 42.28it/s]\n"
     ]
    },
    {
     "name": "stdout",
     "output_type": "stream",
     "text": [
      "Iteration 128 - Train MAE: 2732654.7122, Test MAE: 2961688.8016\n"
     ]
    },
    {
     "name": "stderr",
     "output_type": "stream",
     "text": [
      "100%|██████████| 129/129 [00:03<00:00, 42.43it/s]\n"
     ]
    },
    {
     "name": "stdout",
     "output_type": "stream",
     "text": [
      "Iteration 129 - Train MAE: 2731664.4097, Test MAE: 2966869.8956\n"
     ]
    },
    {
     "name": "stderr",
     "output_type": "stream",
     "text": [
      "100%|██████████| 130/130 [00:03<00:00, 39.97it/s]\n"
     ]
    },
    {
     "name": "stdout",
     "output_type": "stream",
     "text": [
      "Iteration 130 - Train MAE: 2731440.3359, Test MAE: 2966875.1352\n"
     ]
    },
    {
     "name": "stderr",
     "output_type": "stream",
     "text": [
      "100%|██████████| 131/131 [00:03<00:00, 39.37it/s]\n"
     ]
    },
    {
     "name": "stdout",
     "output_type": "stream",
     "text": [
      "Iteration 131 - Train MAE: 2731731.8317, Test MAE: 2966808.7907\n"
     ]
    },
    {
     "name": "stderr",
     "output_type": "stream",
     "text": [
      "100%|██████████| 132/132 [00:03<00:00, 35.62it/s]\n"
     ]
    },
    {
     "name": "stdout",
     "output_type": "stream",
     "text": [
      "Iteration 132 - Train MAE: 2730566.3822, Test MAE: 2977341.7994\n"
     ]
    },
    {
     "name": "stderr",
     "output_type": "stream",
     "text": [
      "100%|██████████| 133/133 [00:03<00:00, 36.30it/s]\n"
     ]
    },
    {
     "name": "stdout",
     "output_type": "stream",
     "text": [
      "Iteration 133 - Train MAE: 2730974.5220, Test MAE: 2977264.4007\n"
     ]
    },
    {
     "name": "stderr",
     "output_type": "stream",
     "text": [
      "100%|██████████| 134/134 [00:03<00:00, 40.81it/s]\n"
     ]
    },
    {
     "name": "stdout",
     "output_type": "stream",
     "text": [
      "Iteration 134 - Train MAE: 2731248.0650, Test MAE: 2981210.6207\n"
     ]
    },
    {
     "name": "stderr",
     "output_type": "stream",
     "text": [
      "100%|██████████| 135/135 [00:03<00:00, 34.88it/s]\n"
     ]
    },
    {
     "name": "stdout",
     "output_type": "stream",
     "text": [
      "Iteration 135 - Train MAE: 2731745.0994, Test MAE: 2973600.0798\n"
     ]
    },
    {
     "name": "stderr",
     "output_type": "stream",
     "text": [
      "100%|██████████| 136/136 [00:03<00:00, 42.72it/s]\n"
     ]
    },
    {
     "name": "stdout",
     "output_type": "stream",
     "text": [
      "Iteration 136 - Train MAE: 2731745.0993, Test MAE: 2973600.0784\n"
     ]
    },
    {
     "name": "stderr",
     "output_type": "stream",
     "text": [
      "100%|██████████| 137/137 [00:04<00:00, 33.11it/s]\n"
     ]
    },
    {
     "name": "stdout",
     "output_type": "stream",
     "text": [
      "Iteration 137 - Train MAE: 2732388.0244, Test MAE: 2974395.9853\n"
     ]
    },
    {
     "name": "stderr",
     "output_type": "stream",
     "text": [
      "100%|██████████| 138/138 [00:02<00:00, 51.44it/s]\n"
     ]
    },
    {
     "name": "stdout",
     "output_type": "stream",
     "text": [
      "Iteration 138 - Train MAE: 2733651.3033, Test MAE: 2975780.1739\n"
     ]
    },
    {
     "name": "stderr",
     "output_type": "stream",
     "text": [
      "100%|██████████| 139/139 [00:02<00:00, 52.52it/s]\n"
     ]
    },
    {
     "name": "stdout",
     "output_type": "stream",
     "text": [
      "Iteration 139 - Train MAE: 2742552.1773, Test MAE: 2978096.0291\n"
     ]
    },
    {
     "name": "stderr",
     "output_type": "stream",
     "text": [
      "100%|██████████| 140/140 [00:02<00:00, 50.45it/s]\n"
     ]
    },
    {
     "name": "stdout",
     "output_type": "stream",
     "text": [
      "Iteration 140 - Train MAE: 2742532.3689, Test MAE: 442804767.8781\n"
     ]
    },
    {
     "name": "stderr",
     "output_type": "stream",
     "text": [
      "100%|██████████| 141/141 [00:03<00:00, 42.04it/s]\n"
     ]
    },
    {
     "name": "stdout",
     "output_type": "stream",
     "text": [
      "Iteration 141 - Train MAE: 2738593.4496, Test MAE: 406275280.5022\n"
     ]
    },
    {
     "name": "stderr",
     "output_type": "stream",
     "text": [
      "100%|██████████| 142/142 [00:03<00:00, 35.82it/s]\n"
     ]
    },
    {
     "name": "stdout",
     "output_type": "stream",
     "text": [
      "Iteration 142 - Train MAE: 2738067.4885, Test MAE: 450983979.8358\n"
     ]
    },
    {
     "name": "stderr",
     "output_type": "stream",
     "text": [
      "100%|██████████| 143/143 [00:10<00:00, 13.79it/s]\n"
     ]
    },
    {
     "name": "stdout",
     "output_type": "stream",
     "text": [
      "Iteration 143 - Train MAE: 2737004.7403, Test MAE: 440010325.6062\n"
     ]
    },
    {
     "name": "stderr",
     "output_type": "stream",
     "text": [
      "100%|██████████| 144/144 [00:04<00:00, 31.09it/s]\n"
     ]
    },
    {
     "name": "stdout",
     "output_type": "stream",
     "text": [
      "Iteration 144 - Train MAE: 2739490.2673, Test MAE: 435109602.5503\n"
     ]
    },
    {
     "name": "stderr",
     "output_type": "stream",
     "text": [
      "100%|██████████| 145/145 [00:05<00:00, 28.12it/s]\n"
     ]
    },
    {
     "name": "stdout",
     "output_type": "stream",
     "text": [
      "Iteration 145 - Train MAE: 2739529.8302, Test MAE: 447083050.4814\n"
     ]
    },
    {
     "name": "stderr",
     "output_type": "stream",
     "text": [
      "100%|██████████| 146/146 [00:07<00:00, 19.61it/s]\n"
     ]
    },
    {
     "name": "stdout",
     "output_type": "stream",
     "text": [
      "Iteration 146 - Train MAE: 2739728.9496, Test MAE: 432623045.0300\n"
     ]
    },
    {
     "name": "stderr",
     "output_type": "stream",
     "text": [
      "100%|██████████| 147/147 [00:05<00:00, 27.01it/s]\n"
     ]
    },
    {
     "name": "stdout",
     "output_type": "stream",
     "text": [
      "Iteration 147 - Train MAE: 2739831.8987, Test MAE: 406951362.9915\n"
     ]
    },
    {
     "name": "stderr",
     "output_type": "stream",
     "text": [
      "100%|██████████| 147/147 [00:05<00:00, 27.33it/s]\n"
     ]
    },
    {
     "name": "stdout",
     "output_type": "stream",
     "text": [
      "Iteration 148 - Train MAE: 2739831.8987, Test MAE: 406951362.9915\n"
     ]
    },
    {
     "name": "stderr",
     "output_type": "stream",
     "text": [
      "100%|██████████| 147/147 [00:05<00:00, 24.79it/s]\n"
     ]
    },
    {
     "name": "stdout",
     "output_type": "stream",
     "text": [
      "Iteration 149 - Train MAE: 2739831.8987, Test MAE: 406951362.9915\n"
     ]
    },
    {
     "data": {
      "text/plain": "<Figure size 640x480 with 1 Axes>",
      "image/png": "[encoded data removed]"
     },
     "metadata": {},
     "output_type": "display_data"
    },
    {
     "name": "stdout",
     "output_type": "stream",
     "text": [
      "17 selected features: ['1_año_anterior', 'nationality_Denmark', 'nationality_Poland', 'nationality_Costa Rica', 'nationality_Mexico', 'nationality_Guinea', 'nationality_Zambia', 'nationality_Greece', 'nationality_Montenegro', 'nationality_Nigeria', 'nationality_Slovakia', 'Año_natural', 'nationality_England', 'nationality_Armenia', 'nationality_Norway', 'nationality_Dominican Republic', '2_año_anterior']\n",
      "MAE with 17 features: 2956767.283751456\n"
     ]
    }
   ],
   "source": [
    "\n",
    "# Iniciar el registro de la ejecución en MLflow\n",
    "with mlflow.start_run(run_name=\"MRMR Feature Selection\"):\n",
    "\n",
    "    # Definir la función para calcular el MRMR\n",
    "    def calculate_mrmr_features(X, y, K):\n",
    "        selected_features = mrmr_classif(X=X, y=y, K=K)\n",
    "        return selected_features\n",
    "    \n",
    "    # Definir el rango de características que deseamos considerar\n",
    "    feature_range = range(1, len(X.columns) + 1)\n",
    "    \n",
    "    # Listas para almacenar las métricas\n",
    "    train_maes = []\n",
    "    test_maes = []\n",
    "    num_features_list = []\n",
    "    \n",
    "    # Variables para almacenar las 17 características y su MAE correspondiente\n",
    "    selected_features_17 = None\n",
    "    mae_17 = None\n",
    "    \n",
    "    # Iterar sobre todas las combinaciones de características\n",
    "    for num_features in feature_range:\n",
    "        # Calcular las características seleccionadas usando MRMR\n",
    "        selected_features = calculate_mrmr_features(X_train, y_train, num_features)\n",
    "        \n",
    "        # Seleccionar las columnas correspondientes en X_train y X_test\n",
    "        X_train_selected = X_train[selected_features]\n",
    "        X_test_selected = X_test[selected_features]\n",
    "        \n",
    "        # Entrenar el modelo de regresión lineal\n",
    "        model = LinearRegression()\n",
    "        model.fit(X_train_selected, y_train)\n",
    "    \n",
    "        # Realizar predicciones en el conjunto de entrenamiento y de prueba\n",
    "        y_pred_train = model.predict(X_train_selected)\n",
    "        y_pred_test = model.predict(X_test_selected)\n",
    "        \n",
    "        # Calcular el error absoluto medio (MAE) para evaluar el modelo en ambos conjuntos\n",
    "        train_mae = mean_absolute_error(y_train, y_pred_train)\n",
    "        test_mae = mean_absolute_error(y_test, y_pred_test)\n",
    "        \n",
    "        # Almacenar las métricas y el número de características\n",
    "        train_maes.append(train_mae)\n",
    "        test_maes.append(test_mae)\n",
    "        num_features_list.append(num_features)\n",
    "        \n",
    "        # Imprimir el MAE en cada iteración\n",
    "        print(f\"Iteration {num_features} - Train MAE: {train_mae:.4f}, Test MAE: {test_mae:.4f}\")\n",
    "        \n",
    "        # Registrar el MAE en MLflow\n",
    "        mlflow.log_metric(f\"train_mae_{num_features}\", train_mae)\n",
    "        mlflow.log_metric(f\"test_mae_{num_features}\", test_mae)\n",
    "        \n",
    "        # Verificar si se han encontrado las 17 características\n",
    "        if num_features == 17:\n",
    "            selected_features_17 = selected_features\n",
    "            mae_17 = test_mae\n",
    "    \n",
    "    # Graficar los resultados\n",
    "    plt.plot(num_features_list, train_maes, label='Train MAE')\n",
    "    plt.plot(num_features_list, test_maes, label='Test MAE')\n",
    "    plt.xlabel('Number of Features')\n",
    "    plt.ylabel('Mean Absolute Error (MAE)')\n",
    "    plt.title('MAE vs. Number of Features')\n",
    "    plt.legend()\n",
    "    plt.show()\n",
    "    \n",
    "    # Imprimir las 17 características seleccionadas y su MAE correspondiente\n",
    "    if selected_features_17 is not None:\n",
    "        mlflow.log_param(\"selected_features_17\", selected_features_17)\n",
    "        print(\"17 selected features:\", selected_features_17)\n",
    "        print(\"MAE with 17 features:\", mae_17)"
   ],
   "metadata": {
    "collapsed": false,
    "ExecuteTime": {
     "end_time": "2024-04-16T21:29:55.454416500Z",
     "start_time": "2024-04-16T21:23:39.311942900Z"
    }
   },
   "id": "57971647318e331b"
  },
  {
   "cell_type": "code",
   "execution_count": 29,
   "outputs": [
    {
     "name": "stdout",
     "output_type": "stream",
     "text": [
      "Selected features with 9 features: ['Mins' 'Assists' 'MotM' 'Titularidades' 'Equipo_pos' '1_año_anterior'\n",
      " '2_año_anterior' '3_año_anterior' '4_año_anterior']\n",
      "Selected features with 17 features: ['Mins' 'Goals' 'Assists' 'SpG' 'MotM' 'KeyP' 'OffDrb' 'AvgP'\n",
      " 'Titularidades' 'Equipo_pos' '1_año_anterior' '2_año_anterior'\n",
      " '3_año_anterior' '4_año_anterior' '5_año_anterior' 'Equipo_FC Barcelona'\n",
      " 'Equipo_Real Madrid']\n",
      "Best number of features: 9\n"
     ]
    },
    {
     "data": {
      "text/plain": "<Figure size 640x480 with 1 Axes>",
      "image/png": "[encoded data removed]"
     },
     "metadata": {},
     "output_type": "display_data"
    },
    {
     "data": {
      "text/plain": "<Figure size 640x480 with 0 Axes>"
     },
     "metadata": {},
     "output_type": "display_data"
    }
   ],
   "source": [
    "import mlflow\n",
    "from sklearn.feature_selection import f_regression, SelectKBest\n",
    "from sklearn.model_selection import train_test_split\n",
    "from sklearn.linear_model import LinearRegression\n",
    "from sklearn.metrics import mean_absolute_error\n",
    "import numpy as np\n",
    "import matplotlib.pyplot as plt\n",
    "\n",
    "# Iniciar el registro de la ejecución en MLflow\n",
    "with mlflow.start_run(run_name=\"KBest Feature Selection\"):\n",
    "\n",
    "    # Definir el rango de características que deseamos considerar\n",
    "    feature_range = range(1, len(X.columns) + 1)\n",
    "    \n",
    "    # Listas para almacenar las métricas\n",
    "    train_maes = []\n",
    "    test_maes = []\n",
    "    \n",
    "    # Iterar sobre todas las combinaciones de características\n",
    "    for num_features in feature_range:\n",
    "        # Seleccionar las mejores k características\n",
    "        selector = SelectKBest(score_func=f_regression, k=num_features)\n",
    "        X_train_selected = selector.fit_transform(X_train, y_train)\n",
    "        X_test_selected = selector.transform(X_test)\n",
    "        \n",
    "        # Entrenar un modelo de regresión lineal con las características seleccionadas\n",
    "        model = LinearRegression()\n",
    "        model.fit(X_train_selected, y_train)\n",
    "    \n",
    "        # Realizar predicciones en el conjunto de prueba\n",
    "        y_pred_train = model.predict(X_train_selected)\n",
    "        y_pred_test = model.predict(X_test_selected)\n",
    "        \n",
    "        # Calcular el error absoluto medio (MAE) para evaluar el modelo en ambos conjuntos\n",
    "        train_mae = mean_absolute_error(y_train, y_pred_train)\n",
    "        test_mae = mean_absolute_error(y_test, y_pred_test)\n",
    "        \n",
    "        # Almacenar las métricas\n",
    "        train_maes.append(train_mae)\n",
    "        test_maes.append(test_mae)\n",
    "        \n",
    "        # Registrar los MAE en MLflow para cada iteración\n",
    "        mlflow.log_metric(f\"train_mae_{num_features}\", train_mae)\n",
    "        mlflow.log_metric(f\"test_mae_{num_features}\", test_mae)\n",
    "        \n",
    "        # Verificar si se han encontrado las 9 características\n",
    "        if num_features == 9:\n",
    "            # Obtener las características seleccionadas\n",
    "            selected_features_9 = np.array(X.columns)[selector.get_support()]\n",
    "            print(f\"Selected features with {num_features} features:\", selected_features_9)\n",
    "            # Registrar las características seleccionadas en MLflow\n",
    "            mlflow.log_param(\"selected_features_9\", selected_features_9)\n",
    "            \n",
    "        # Verificar si se han encontrado las 17 características\n",
    "        if num_features == 17:\n",
    "            # Obtener las características seleccionadas\n",
    "            selected_features_17 = np.array(X.columns)[selector.get_support()]\n",
    "            print(f\"Selected features with {num_features} features:\", selected_features_17)\n",
    "            # Registrar las características seleccionadas en MLflow\n",
    "            mlflow.log_param(\"selected_features_17\", selected_features_17)\n",
    "    \n",
    "    # Encontrar el número de características que produce el menor error absoluto medio en el conjunto de prueba\n",
    "    best_num_features = feature_range[np.argmin(test_maes)]\n",
    "    print(\"Best number of features:\", best_num_features)\n",
    "    \n",
    "    # Graficar los resultados\n",
    "    plt.plot(feature_range, train_maes, label='Train MAE')\n",
    "    plt.plot(feature_range, test_maes, label='Test MAE')\n",
    "    plt.scatter(17, test_maes[16], color='red', label='Test 17')\n",
    "    plt.scatter(9, test_maes[8], color='green', label='Test 9')\n",
    "    plt.scatter(best_num_features, min(test_maes), color='red', label='Best Test MAE (9)')\n",
    "    plt.xlabel('Number of Features')\n",
    "    plt.ylabel('Mean Absolute Error (MAE)')\n",
    "    plt.title('MAE vs. Number of Features')\n",
    "    plt.legend()\n",
    "    plt.show()\n",
    "    image_path = \"grafica_selección_variables.png\"\n",
    "    plt.savefig(image_path)\n",
    "    mlflow.log_artifact(image_path, artifact_path=\"grafica seleccion variables\")\n"
   ],
   "metadata": {
    "collapsed": false,
    "ExecuteTime": {
     "end_time": "2024-04-16T21:30:43.614750900Z",
     "start_time": "2024-04-16T21:30:33.496992300Z"
    }
   },
   "id": "e5d0ae8be52e77c0"
  },
  {
   "cell_type": "code",
   "execution_count": null,
   "outputs": [],
   "source": [],
   "metadata": {
    "collapsed": false
   },
   "id": "fc2907af90df0fe0"
  }
 ],
 "metadata": {
  "kernelspec": {
   "display_name": "Python 3",
   "language": "python",
   "name": "python3"
  },
  "language_info": {
   "codemirror_mode": {
    "name": "ipython",
    "version": 2
   },
   "file_extension": ".py",
   "mimetype": "text/x-python",
   "name": "python",
   "nbconvert_exporter": "python",
   "pygments_lexer": "ipython2",
   "version": "2.7.6"
  }
 },
 "nbformat": 4,
 "nbformat_minor": 5
}
