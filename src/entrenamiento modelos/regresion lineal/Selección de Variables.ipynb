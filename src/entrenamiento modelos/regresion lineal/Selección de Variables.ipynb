{
 "cells": [
  {
   "cell_type": "code",
   "execution_count": 15,
   "outputs": [],
   "source": [
    "from sklearn.linear_model import LinearRegression\n",
    "from sklearn.metrics import mean_absolute_error\n",
    "import mlflow\n",
    "from mrmr import mrmr_classif\n",
    "import os\n",
    "import matplotlib.pyplot as plt\n",
    "import preprocesamiento_datos"
   ],
   "metadata": {
    "collapsed": false,
    "ExecuteTime": {
     "end_time": "2024-04-28T10:45:54.047687200Z",
     "start_time": "2024-04-28T10:45:54.037068900Z"
    }
   },
   "id": "58acfc764c602a3"
  },
  {
   "cell_type": "code",
   "execution_count": 16,
   "outputs": [
    {
     "data": {
      "text/plain": "<Experiment: artifact_location='mlflow-artifacts:/3', creation_time=1713193978222, experiment_id='3', last_update_time=1713193978222, lifecycle_stage='active', name='regresion_lineal', tags={}>"
     },
     "execution_count": 16,
     "metadata": {},
     "output_type": "execute_result"
    }
   ],
   "source": [
    "# Establecer la URI de la base de datos SQLite y configuración de MLflow\n",
    "os.environ['MLFLOW_TRACKING_URI'] = 'sqlite:///mlruns.db'\n",
    "mlflow.set_tracking_uri(\"http://127.0.0.1:5000\")\n",
    "mlflow.set_experiment(\"regresion_lineal\")"
   ],
   "metadata": {
    "collapsed": false,
    "ExecuteTime": {
     "end_time": "2024-04-28T10:45:54.766297200Z",
     "start_time": "2024-04-28T10:45:54.740053500Z"
    }
   },
   "id": "87d8eecf9d5726d0"
  },
  {
   "cell_type": "markdown",
   "source": [
    "# Selección con MRMR"
   ],
   "metadata": {
    "collapsed": false
   },
   "id": "f2a0389ef976ad29"
  },
  {
   "cell_type": "code",
   "execution_count": 12,
   "outputs": [
    {
     "name": "stdout",
     "output_type": "stream",
     "text": [
      "Archivo Datos_la_liga_preparados_entrenamiento.parquet guardado en: ../Downloads\\Datos_la_liga_preparados_entrenamiento.parquet\n"
     ]
    },
    {
     "name": "stderr",
     "output_type": "stream",
     "text": [
      "100%|██████████| 1/1 [00:00<00:00, 333.12it/s]\n"
     ]
    },
    {
     "name": "stdout",
     "output_type": "stream",
     "text": [
      " 1 - Train MAE: 8363393.3741, Test MAE: 7513191.0601\n",
      "1\n",
      "7513191.060135548\n"
     ]
    },
    {
     "name": "stderr",
     "output_type": "stream",
     "text": [
      "100%|██████████| 2/2 [00:00<00:00, 63.62it/s]\n"
     ]
    },
    {
     "name": "stdout",
     "output_type": "stream",
     "text": [
      " 2 - Train MAE: 2960235.9527, Test MAE: 3025043.3376\n",
      "2\n",
      "3025043.3375628283\n"
     ]
    },
    {
     "name": "stderr",
     "output_type": "stream",
     "text": [
      "100%|██████████| 3/3 [00:00<00:00, 79.07it/s]\n"
     ]
    },
    {
     "name": "stdout",
     "output_type": "stream",
     "text": [
      " 3 - Train MAE: 2958785.0049, Test MAE: 3026768.9314\n",
      "2\n",
      "3025043.3375628283\n"
     ]
    },
    {
     "name": "stderr",
     "output_type": "stream",
     "text": [
      "100%|██████████| 4/4 [00:00<00:00, 60.85it/s]\n"
     ]
    },
    {
     "name": "stdout",
     "output_type": "stream",
     "text": [
      " 4 - Train MAE: 2956291.6562, Test MAE: 3027524.7721\n",
      "2\n",
      "3025043.3375628283\n"
     ]
    },
    {
     "name": "stderr",
     "output_type": "stream",
     "text": [
      "100%|██████████| 5/5 [00:00<00:00, 53.67it/s]\n"
     ]
    },
    {
     "name": "stdout",
     "output_type": "stream",
     "text": [
      " 5 - Train MAE: 2954389.1959, Test MAE: 3031946.7437\n",
      "2\n",
      "3025043.3375628283\n"
     ]
    },
    {
     "name": "stderr",
     "output_type": "stream",
     "text": [
      "100%|██████████| 6/6 [00:00<00:00, 55.65it/s]\n"
     ]
    },
    {
     "name": "stdout",
     "output_type": "stream",
     "text": [
      " 6 - Train MAE: 2954575.0621, Test MAE: 3035559.1477\n",
      "2\n",
      "3025043.3375628283\n"
     ]
    },
    {
     "name": "stderr",
     "output_type": "stream",
     "text": [
      "100%|██████████| 7/7 [00:00<00:00, 51.62it/s]\n"
     ]
    },
    {
     "name": "stdout",
     "output_type": "stream",
     "text": [
      " 7 - Train MAE: 2952354.2612, Test MAE: 3043540.9918\n",
      "2\n",
      "3025043.3375628283\n"
     ]
    },
    {
     "name": "stderr",
     "output_type": "stream",
     "text": [
      "100%|██████████| 8/8 [00:00<00:00, 46.52it/s]\n"
     ]
    },
    {
     "name": "stdout",
     "output_type": "stream",
     "text": [
      " 8 - Train MAE: 2952099.0170, Test MAE: 3043854.5142\n",
      "2\n",
      "3025043.3375628283\n"
     ]
    },
    {
     "name": "stderr",
     "output_type": "stream",
     "text": [
      "100%|██████████| 9/9 [00:00<00:00, 51.79it/s]\n"
     ]
    },
    {
     "name": "stdout",
     "output_type": "stream",
     "text": [
      " 9 - Train MAE: 2951522.3529, Test MAE: 3044847.9099\n",
      "2\n",
      "3025043.3375628283\n"
     ]
    },
    {
     "name": "stderr",
     "output_type": "stream",
     "text": [
      "100%|██████████| 10/10 [00:00<00:00, 46.24it/s]\n"
     ]
    },
    {
     "name": "stdout",
     "output_type": "stream",
     "text": [
      " 10 - Train MAE: 2949589.8917, Test MAE: 3044611.7213\n",
      "2\n",
      "3025043.3375628283\n"
     ]
    },
    {
     "name": "stderr",
     "output_type": "stream",
     "text": [
      "100%|██████████| 11/11 [00:00<00:00, 43.81it/s]\n"
     ]
    },
    {
     "name": "stdout",
     "output_type": "stream",
     "text": [
      " 11 - Train MAE: 2946457.2345, Test MAE: 3060006.5438\n",
      "2\n",
      "3025043.3375628283\n"
     ]
    },
    {
     "name": "stderr",
     "output_type": "stream",
     "text": [
      "100%|██████████| 12/12 [00:00<00:00, 46.61it/s]\n"
     ]
    },
    {
     "name": "stdout",
     "output_type": "stream",
     "text": [
      " 12 - Train MAE: 2918505.1348, Test MAE: 3071950.7901\n",
      "2\n",
      "3025043.3375628283\n"
     ]
    },
    {
     "name": "stderr",
     "output_type": "stream",
     "text": [
      "100%|██████████| 13/13 [00:00<00:00, 45.16it/s]\n"
     ]
    },
    {
     "name": "stdout",
     "output_type": "stream",
     "text": [
      " 13 - Train MAE: 2918566.4863, Test MAE: 3072212.9979\n",
      "2\n",
      "3025043.3375628283\n"
     ]
    },
    {
     "name": "stderr",
     "output_type": "stream",
     "text": [
      "100%|██████████| 14/14 [00:00<00:00, 52.32it/s]\n"
     ]
    },
    {
     "name": "stdout",
     "output_type": "stream",
     "text": [
      " 14 - Train MAE: 2917936.3937, Test MAE: 3072960.9660\n",
      "2\n",
      "3025043.3375628283\n"
     ]
    },
    {
     "name": "stderr",
     "output_type": "stream",
     "text": [
      "100%|██████████| 15/15 [00:00<00:00, 47.30it/s]\n"
     ]
    },
    {
     "name": "stdout",
     "output_type": "stream",
     "text": [
      " 15 - Train MAE: 2917456.1407, Test MAE: 3073371.7005\n",
      "2\n",
      "3025043.3375628283\n"
     ]
    },
    {
     "name": "stderr",
     "output_type": "stream",
     "text": [
      "100%|██████████| 16/16 [00:00<00:00, 51.22it/s]\n"
     ]
    },
    {
     "name": "stdout",
     "output_type": "stream",
     "text": [
      " 16 - Train MAE: 2903034.9000, Test MAE: 3101132.7884\n",
      "2\n",
      "3025043.3375628283\n"
     ]
    },
    {
     "name": "stderr",
     "output_type": "stream",
     "text": [
      "100%|██████████| 17/17 [00:00<00:00, 48.18it/s]\n"
     ]
    },
    {
     "name": "stdout",
     "output_type": "stream",
     "text": [
      " 17 - Train MAE: 2896207.0904, Test MAE: 3101720.5628\n",
      "2\n",
      "3025043.3375628283\n"
     ]
    },
    {
     "name": "stderr",
     "output_type": "stream",
     "text": [
      "100%|██████████| 18/18 [00:00<00:00, 46.25it/s]\n"
     ]
    },
    {
     "name": "stdout",
     "output_type": "stream",
     "text": [
      " 18 - Train MAE: 2892590.0090, Test MAE: 3118690.5838\n",
      "2\n",
      "3025043.3375628283\n"
     ]
    },
    {
     "name": "stderr",
     "output_type": "stream",
     "text": [
      "100%|██████████| 19/19 [00:00<00:00, 46.96it/s]\n"
     ]
    },
    {
     "name": "stdout",
     "output_type": "stream",
     "text": [
      " 19 - Train MAE: 2892590.3769, Test MAE: 3122305.5850\n",
      "2\n",
      "3025043.3375628283\n"
     ]
    },
    {
     "name": "stderr",
     "output_type": "stream",
     "text": [
      "100%|██████████| 20/20 [00:00<00:00, 54.48it/s]\n"
     ]
    },
    {
     "name": "stdout",
     "output_type": "stream",
     "text": [
      " 20 - Train MAE: 2904706.0771, Test MAE: 3135576.5867\n",
      "2\n",
      "3025043.3375628283\n"
     ]
    },
    {
     "name": "stderr",
     "output_type": "stream",
     "text": [
      "100%|██████████| 21/21 [00:00<00:00, 55.82it/s]\n"
     ]
    },
    {
     "name": "stdout",
     "output_type": "stream",
     "text": [
      " 21 - Train MAE: 2904470.7473, Test MAE: 3137825.7748\n",
      "2\n",
      "3025043.3375628283\n"
     ]
    },
    {
     "name": "stderr",
     "output_type": "stream",
     "text": [
      "100%|██████████| 22/22 [00:00<00:00, 53.06it/s]\n"
     ]
    },
    {
     "name": "stdout",
     "output_type": "stream",
     "text": [
      " 22 - Train MAE: 2904723.3577, Test MAE: 3138178.9441\n",
      "2\n",
      "3025043.3375628283\n"
     ]
    },
    {
     "name": "stderr",
     "output_type": "stream",
     "text": [
      "100%|██████████| 23/23 [00:00<00:00, 56.18it/s]\n"
     ]
    },
    {
     "name": "stdout",
     "output_type": "stream",
     "text": [
      " 23 - Train MAE: 2906380.6702, Test MAE: 3136367.8609\n",
      "2\n",
      "3025043.3375628283\n"
     ]
    },
    {
     "name": "stderr",
     "output_type": "stream",
     "text": [
      "100%|██████████| 24/24 [00:00<00:00, 58.60it/s]\n"
     ]
    },
    {
     "name": "stdout",
     "output_type": "stream",
     "text": [
      " 24 - Train MAE: 2852311.2414, Test MAE: 3033318.2658\n",
      "2\n",
      "3025043.3375628283\n"
     ]
    },
    {
     "name": "stderr",
     "output_type": "stream",
     "text": [
      "100%|██████████| 25/25 [00:00<00:00, 53.51it/s]\n"
     ]
    },
    {
     "name": "stdout",
     "output_type": "stream",
     "text": [
      " 25 - Train MAE: 2851740.3919, Test MAE: 3034812.5362\n",
      "2\n",
      "3025043.3375628283\n"
     ]
    },
    {
     "name": "stderr",
     "output_type": "stream",
     "text": [
      "100%|██████████| 26/26 [00:00<00:00, 58.80it/s]\n"
     ]
    },
    {
     "name": "stdout",
     "output_type": "stream",
     "text": [
      " 26 - Train MAE: 2837415.3700, Test MAE: 3037409.0041\n",
      "2\n",
      "3025043.3375628283\n"
     ]
    },
    {
     "name": "stderr",
     "output_type": "stream",
     "text": [
      "100%|██████████| 27/27 [00:00<00:00, 52.45it/s]\n"
     ]
    },
    {
     "name": "stdout",
     "output_type": "stream",
     "text": [
      " 27 - Train MAE: 2837565.2420, Test MAE: 3034732.6647\n",
      "2\n",
      "3025043.3375628283\n"
     ]
    },
    {
     "name": "stderr",
     "output_type": "stream",
     "text": [
      "100%|██████████| 28/28 [00:00<00:00, 55.45it/s]\n"
     ]
    },
    {
     "name": "stdout",
     "output_type": "stream",
     "text": [
      " 28 - Train MAE: 2837387.7041, Test MAE: 3030015.9169\n",
      "2\n",
      "3025043.3375628283\n"
     ]
    },
    {
     "name": "stderr",
     "output_type": "stream",
     "text": [
      "100%|██████████| 29/29 [00:00<00:00, 43.30it/s]\n"
     ]
    },
    {
     "name": "stdout",
     "output_type": "stream",
     "text": [
      " 29 - Train MAE: 2849912.5944, Test MAE: 3050729.9556\n",
      "2\n",
      "3025043.3375628283\n"
     ]
    },
    {
     "name": "stderr",
     "output_type": "stream",
     "text": [
      "100%|██████████| 30/30 [00:00<00:00, 55.41it/s]\n"
     ]
    },
    {
     "name": "stdout",
     "output_type": "stream",
     "text": [
      " 30 - Train MAE: 2849853.5567, Test MAE: 3050813.9670\n",
      "2\n",
      "3025043.3375628283\n"
     ]
    },
    {
     "name": "stderr",
     "output_type": "stream",
     "text": [
      "100%|██████████| 31/31 [00:00<00:00, 54.96it/s]\n"
     ]
    },
    {
     "name": "stdout",
     "output_type": "stream",
     "text": [
      " 31 - Train MAE: 2849198.7721, Test MAE: 3053782.4875\n",
      "2\n",
      "3025043.3375628283\n"
     ]
    },
    {
     "name": "stderr",
     "output_type": "stream",
     "text": [
      "100%|██████████| 32/32 [00:00<00:00, 57.83it/s]\n"
     ]
    },
    {
     "name": "stdout",
     "output_type": "stream",
     "text": [
      " 32 - Train MAE: 2848457.2472, Test MAE: 3054782.4665\n",
      "2\n",
      "3025043.3375628283\n"
     ]
    },
    {
     "name": "stderr",
     "output_type": "stream",
     "text": [
      "100%|██████████| 33/33 [00:00<00:00, 57.83it/s]\n"
     ]
    },
    {
     "name": "stdout",
     "output_type": "stream",
     "text": [
      " 33 - Train MAE: 2850559.5203, Test MAE: 3046485.6334\n",
      "2\n",
      "3025043.3375628283\n"
     ]
    },
    {
     "name": "stderr",
     "output_type": "stream",
     "text": [
      "100%|██████████| 34/34 [00:00<00:00, 56.80it/s]\n"
     ]
    },
    {
     "name": "stdout",
     "output_type": "stream",
     "text": [
      " 34 - Train MAE: 2851072.7770, Test MAE: 3046019.3674\n",
      "2\n",
      "3025043.3375628283\n"
     ]
    },
    {
     "name": "stderr",
     "output_type": "stream",
     "text": [
      "100%|██████████| 35/35 [00:00<00:00, 56.28it/s]\n"
     ]
    },
    {
     "name": "stdout",
     "output_type": "stream",
     "text": [
      " 35 - Train MAE: 2851529.4765, Test MAE: 3046442.1646\n",
      "2\n",
      "3025043.3375628283\n"
     ]
    },
    {
     "name": "stderr",
     "output_type": "stream",
     "text": [
      "100%|██████████| 36/36 [00:00<00:00, 55.73it/s]\n"
     ]
    },
    {
     "name": "stdout",
     "output_type": "stream",
     "text": [
      " 36 - Train MAE: 2850737.9151, Test MAE: 3047899.8921\n",
      "2\n",
      "3025043.3375628283\n"
     ]
    },
    {
     "name": "stderr",
     "output_type": "stream",
     "text": [
      "100%|██████████| 37/37 [00:00<00:00, 57.02it/s]\n"
     ]
    },
    {
     "name": "stdout",
     "output_type": "stream",
     "text": [
      " 37 - Train MAE: 2846722.9801, Test MAE: 3058351.2733\n",
      "2\n",
      "3025043.3375628283\n"
     ]
    },
    {
     "name": "stderr",
     "output_type": "stream",
     "text": [
      "100%|██████████| 38/38 [00:00<00:00, 52.75it/s]\n"
     ]
    },
    {
     "name": "stdout",
     "output_type": "stream",
     "text": [
      " 38 - Train MAE: 2841175.9492, Test MAE: 3062193.7581\n",
      "2\n",
      "3025043.3375628283\n"
     ]
    },
    {
     "name": "stderr",
     "output_type": "stream",
     "text": [
      "100%|██████████| 39/39 [00:00<00:00, 45.79it/s]\n"
     ]
    },
    {
     "name": "stdout",
     "output_type": "stream",
     "text": [
      " 39 - Train MAE: 2840661.8121, Test MAE: 3062770.0181\n",
      "2\n",
      "3025043.3375628283\n"
     ]
    },
    {
     "name": "stderr",
     "output_type": "stream",
     "text": [
      "100%|██████████| 40/40 [00:00<00:00, 47.37it/s]\n"
     ]
    },
    {
     "name": "stdout",
     "output_type": "stream",
     "text": [
      " 40 - Train MAE: 2816791.9923, Test MAE: 3115586.1845\n",
      "2\n",
      "3025043.3375628283\n"
     ]
    },
    {
     "name": "stderr",
     "output_type": "stream",
     "text": [
      "100%|██████████| 41/41 [00:00<00:00, 46.87it/s]\n"
     ]
    },
    {
     "name": "stdout",
     "output_type": "stream",
     "text": [
      " 41 - Train MAE: 2816429.9859, Test MAE: 3116006.5934\n",
      "2\n",
      "3025043.3375628283\n"
     ]
    },
    {
     "name": "stderr",
     "output_type": "stream",
     "text": [
      "100%|██████████| 42/42 [00:00<00:00, 47.00it/s]\n"
     ]
    },
    {
     "name": "stdout",
     "output_type": "stream",
     "text": [
      " 42 - Train MAE: 2816380.6198, Test MAE: 3116208.4638\n",
      "2\n",
      "3025043.3375628283\n"
     ]
    },
    {
     "name": "stderr",
     "output_type": "stream",
     "text": [
      "100%|██████████| 43/43 [00:00<00:00, 50.56it/s]\n"
     ]
    },
    {
     "name": "stdout",
     "output_type": "stream",
     "text": [
      " 43 - Train MAE: 2815546.9104, Test MAE: 3121294.9601\n",
      "2\n",
      "3025043.3375628283\n"
     ]
    },
    {
     "name": "stderr",
     "output_type": "stream",
     "text": [
      "100%|██████████| 44/44 [00:00<00:00, 50.22it/s]\n"
     ]
    },
    {
     "name": "stdout",
     "output_type": "stream",
     "text": [
      " 44 - Train MAE: 2797156.2387, Test MAE: 3122410.0422\n",
      "2\n",
      "3025043.3375628283\n"
     ]
    },
    {
     "name": "stderr",
     "output_type": "stream",
     "text": [
      "100%|██████████| 45/45 [00:00<00:00, 58.94it/s]\n"
     ]
    },
    {
     "name": "stdout",
     "output_type": "stream",
     "text": [
      " 45 - Train MAE: 2787163.9657, Test MAE: 3122227.8619\n",
      "2\n",
      "3025043.3375628283\n"
     ]
    },
    {
     "name": "stderr",
     "output_type": "stream",
     "text": [
      "100%|██████████| 46/46 [00:00<00:00, 55.14it/s]\n"
     ]
    },
    {
     "name": "stdout",
     "output_type": "stream",
     "text": [
      " 46 - Train MAE: 2782879.8377, Test MAE: 3135194.7101\n",
      "2\n",
      "3025043.3375628283\n"
     ]
    },
    {
     "name": "stderr",
     "output_type": "stream",
     "text": [
      "100%|██████████| 47/47 [00:00<00:00, 56.36it/s]\n"
     ]
    },
    {
     "name": "stdout",
     "output_type": "stream",
     "text": [
      " 47 - Train MAE: 2746045.0286, Test MAE: 2922583.3605\n",
      "47\n",
      "2922583.3604718405\n"
     ]
    },
    {
     "name": "stderr",
     "output_type": "stream",
     "text": [
      "100%|██████████| 48/48 [00:00<00:00, 56.85it/s]\n"
     ]
    },
    {
     "name": "stdout",
     "output_type": "stream",
     "text": [
      " 48 - Train MAE: 2745708.4724, Test MAE: 2936608.9968\n",
      "47\n",
      "2922583.3604718405\n"
     ]
    },
    {
     "name": "stderr",
     "output_type": "stream",
     "text": [
      "100%|██████████| 49/49 [00:00<00:00, 58.05it/s]\n"
     ]
    },
    {
     "name": "stdout",
     "output_type": "stream",
     "text": [
      " 49 - Train MAE: 2743437.9161, Test MAE: 2961065.5847\n",
      "47\n",
      "2922583.3604718405\n"
     ]
    },
    {
     "name": "stderr",
     "output_type": "stream",
     "text": [
      "100%|██████████| 50/50 [00:01<00:00, 49.53it/s]\n"
     ]
    },
    {
     "name": "stdout",
     "output_type": "stream",
     "text": [
      " 50 - Train MAE: 2739432.6976, Test MAE: 2973671.8240\n",
      "47\n",
      "2922583.3604718405\n"
     ]
    },
    {
     "name": "stderr",
     "output_type": "stream",
     "text": [
      "100%|██████████| 51/51 [00:01<00:00, 43.01it/s]\n"
     ]
    },
    {
     "name": "stdout",
     "output_type": "stream",
     "text": [
      " 51 - Train MAE: 2738391.5444, Test MAE: 2970860.3919\n",
      "47\n",
      "2922583.3604718405\n"
     ]
    },
    {
     "name": "stderr",
     "output_type": "stream",
     "text": [
      "100%|██████████| 52/52 [00:00<00:00, 57.00it/s]\n"
     ]
    },
    {
     "name": "stdout",
     "output_type": "stream",
     "text": [
      " 52 - Train MAE: 2744577.3701, Test MAE: 2967574.0685\n",
      "47\n",
      "2922583.3604718405\n"
     ]
    },
    {
     "name": "stderr",
     "output_type": "stream",
     "text": [
      "100%|██████████| 53/53 [00:00<00:00, 55.49it/s]\n"
     ]
    },
    {
     "name": "stdout",
     "output_type": "stream",
     "text": [
      " 53 - Train MAE: 2770775.6344, Test MAE: 2953881.1951\n",
      "47\n",
      "2922583.3604718405\n"
     ]
    },
    {
     "name": "stderr",
     "output_type": "stream",
     "text": [
      "100%|██████████| 54/54 [00:00<00:00, 55.23it/s]\n"
     ]
    },
    {
     "name": "stdout",
     "output_type": "stream",
     "text": [
      " 54 - Train MAE: 2731502.2925, Test MAE: 2889183.9062\n",
      "54\n",
      "2889183.906231675\n"
     ]
    },
    {
     "name": "stderr",
     "output_type": "stream",
     "text": [
      "100%|██████████| 55/55 [00:00<00:00, 57.57it/s]\n"
     ]
    },
    {
     "name": "stdout",
     "output_type": "stream",
     "text": [
      " 55 - Train MAE: 2731070.5636, Test MAE: 2889170.0189\n",
      "55\n",
      "2889170.0188612216\n"
     ]
    },
    {
     "name": "stderr",
     "output_type": "stream",
     "text": [
      "100%|██████████| 56/56 [00:01<00:00, 55.03it/s]\n"
     ]
    },
    {
     "name": "stdout",
     "output_type": "stream",
     "text": [
      " 56 - Train MAE: 2731347.7644, Test MAE: 2889404.1091\n",
      "55\n",
      "2889170.0188612216\n"
     ]
    },
    {
     "name": "stderr",
     "output_type": "stream",
     "text": [
      "100%|██████████| 57/57 [00:01<00:00, 53.72it/s]\n"
     ]
    },
    {
     "name": "stdout",
     "output_type": "stream",
     "text": [
      " 57 - Train MAE: 2728489.3972, Test MAE: 2895581.6286\n",
      "55\n",
      "2889170.0188612216\n"
     ]
    },
    {
     "name": "stderr",
     "output_type": "stream",
     "text": [
      "100%|██████████| 58/58 [00:01<00:00, 51.01it/s]\n"
     ]
    },
    {
     "name": "stdout",
     "output_type": "stream",
     "text": [
      " 58 - Train MAE: 2743843.0884, Test MAE: 2920661.1111\n",
      "55\n",
      "2889170.0188612216\n"
     ]
    },
    {
     "name": "stderr",
     "output_type": "stream",
     "text": [
      "100%|██████████| 59/59 [00:01<00:00, 54.52it/s]\n"
     ]
    },
    {
     "name": "stdout",
     "output_type": "stream",
     "text": [
      " 59 - Train MAE: 2704080.1181, Test MAE: 2954648.9013\n",
      "55\n",
      "2889170.0188612216\n"
     ]
    },
    {
     "name": "stderr",
     "output_type": "stream",
     "text": [
      "100%|██████████| 60/60 [00:01<00:00, 56.50it/s]\n"
     ]
    },
    {
     "name": "stdout",
     "output_type": "stream",
     "text": [
      " 60 - Train MAE: 2688427.9916, Test MAE: 2993390.4191\n",
      "55\n",
      "2889170.0188612216\n"
     ]
    },
    {
     "name": "stderr",
     "output_type": "stream",
     "text": [
      "100%|██████████| 61/61 [00:01<00:00, 55.02it/s]\n"
     ]
    },
    {
     "name": "stdout",
     "output_type": "stream",
     "text": [
      " 61 - Train MAE: 2688395.0280, Test MAE: 3019795.2017\n",
      "55\n",
      "2889170.0188612216\n"
     ]
    },
    {
     "name": "stderr",
     "output_type": "stream",
     "text": [
      "100%|██████████| 62/62 [00:01<00:00, 58.06it/s]\n"
     ]
    },
    {
     "name": "stdout",
     "output_type": "stream",
     "text": [
      " 62 - Train MAE: 2689663.9498, Test MAE: 3024095.7149\n",
      "55\n",
      "2889170.0188612216\n"
     ]
    },
    {
     "name": "stderr",
     "output_type": "stream",
     "text": [
      "100%|██████████| 63/63 [00:01<00:00, 50.38it/s]\n"
     ]
    },
    {
     "name": "stdout",
     "output_type": "stream",
     "text": [
      " 63 - Train MAE: 2689981.3946, Test MAE: 3023209.5204\n",
      "55\n",
      "2889170.0188612216\n"
     ]
    },
    {
     "name": "stderr",
     "output_type": "stream",
     "text": [
      "100%|██████████| 64/64 [00:01<00:00, 52.01it/s]\n"
     ]
    },
    {
     "name": "stdout",
     "output_type": "stream",
     "text": [
      " 64 - Train MAE: 2691307.5499, Test MAE: 3024781.8095\n",
      "55\n",
      "2889170.0188612216\n"
     ]
    },
    {
     "name": "stderr",
     "output_type": "stream",
     "text": [
      "100%|██████████| 65/65 [00:01<00:00, 54.83it/s]\n"
     ]
    },
    {
     "name": "stdout",
     "output_type": "stream",
     "text": [
      " 65 - Train MAE: 2684678.2491, Test MAE: 3034183.1737\n",
      "55\n",
      "2889170.0188612216\n"
     ]
    },
    {
     "name": "stderr",
     "output_type": "stream",
     "text": [
      "100%|██████████| 66/66 [00:01<00:00, 53.86it/s]\n"
     ]
    },
    {
     "name": "stdout",
     "output_type": "stream",
     "text": [
      " 66 - Train MAE: 2684921.6539, Test MAE: 3039134.9495\n",
      "55\n",
      "2889170.0188612216\n"
     ]
    },
    {
     "name": "stderr",
     "output_type": "stream",
     "text": [
      "100%|██████████| 67/67 [00:01<00:00, 54.11it/s]\n"
     ]
    },
    {
     "name": "stdout",
     "output_type": "stream",
     "text": [
      " 67 - Train MAE: 2680274.6089, Test MAE: 3066043.3487\n",
      "55\n",
      "2889170.0188612216\n"
     ]
    },
    {
     "name": "stderr",
     "output_type": "stream",
     "text": [
      "100%|██████████| 68/68 [00:01<00:00, 56.50it/s]\n"
     ]
    },
    {
     "name": "stdout",
     "output_type": "stream",
     "text": [
      " 68 - Train MAE: 2679684.3358, Test MAE: 3066805.7266\n",
      "55\n",
      "2889170.0188612216\n"
     ]
    },
    {
     "name": "stderr",
     "output_type": "stream",
     "text": [
      "100%|██████████| 69/69 [00:01<00:00, 56.68it/s]\n"
     ]
    },
    {
     "name": "stdout",
     "output_type": "stream",
     "text": [
      " 69 - Train MAE: 2669035.6666, Test MAE: 3059876.0263\n",
      "55\n",
      "2889170.0188612216\n"
     ]
    },
    {
     "name": "stderr",
     "output_type": "stream",
     "text": [
      "100%|██████████| 70/70 [00:01<00:00, 56.04it/s]\n"
     ]
    },
    {
     "name": "stdout",
     "output_type": "stream",
     "text": [
      " 70 - Train MAE: 2655796.4987, Test MAE: 3052947.8324\n",
      "55\n",
      "2889170.0188612216\n"
     ]
    },
    {
     "name": "stderr",
     "output_type": "stream",
     "text": [
      "100%|██████████| 71/71 [00:01<00:00, 59.15it/s]\n"
     ]
    },
    {
     "name": "stdout",
     "output_type": "stream",
     "text": [
      " 71 - Train MAE: 2654299.9179, Test MAE: 3050474.9436\n",
      "55\n",
      "2889170.0188612216\n"
     ]
    },
    {
     "name": "stderr",
     "output_type": "stream",
     "text": [
      "100%|██████████| 72/72 [00:01<00:00, 51.46it/s]\n"
     ]
    },
    {
     "name": "stdout",
     "output_type": "stream",
     "text": [
      " 72 - Train MAE: 2652702.0027, Test MAE: 3049306.2325\n",
      "55\n",
      "2889170.0188612216\n"
     ]
    },
    {
     "name": "stderr",
     "output_type": "stream",
     "text": [
      "100%|██████████| 73/73 [00:01<00:00, 45.87it/s]\n"
     ]
    },
    {
     "name": "stdout",
     "output_type": "stream",
     "text": [
      " 73 - Train MAE: 2663154.4341, Test MAE: 3063322.1022\n",
      "55\n",
      "2889170.0188612216\n"
     ]
    },
    {
     "name": "stderr",
     "output_type": "stream",
     "text": [
      "100%|██████████| 74/74 [00:01<00:00, 57.02it/s]\n"
     ]
    },
    {
     "name": "stdout",
     "output_type": "stream",
     "text": [
      " 74 - Train MAE: 2664412.8431, Test MAE: 3063276.3088\n",
      "55\n",
      "2889170.0188612216\n"
     ]
    },
    {
     "name": "stderr",
     "output_type": "stream",
     "text": [
      "100%|██████████| 75/75 [00:01<00:00, 57.63it/s]\n"
     ]
    },
    {
     "name": "stdout",
     "output_type": "stream",
     "text": [
      " 75 - Train MAE: 2665774.3082, Test MAE: 3063250.1981\n",
      "55\n",
      "2889170.0188612216\n"
     ]
    },
    {
     "name": "stderr",
     "output_type": "stream",
     "text": [
      "100%|██████████| 76/76 [00:01<00:00, 57.88it/s]\n"
     ]
    },
    {
     "name": "stdout",
     "output_type": "stream",
     "text": [
      " 76 - Train MAE: 2666503.7652, Test MAE: 3068261.7046\n",
      "55\n",
      "2889170.0188612216\n"
     ]
    },
    {
     "name": "stderr",
     "output_type": "stream",
     "text": [
      "100%|██████████| 77/77 [00:01<00:00, 57.36it/s]\n"
     ]
    },
    {
     "name": "stdout",
     "output_type": "stream",
     "text": [
      " 77 - Train MAE: 2666257.0826, Test MAE: 3068017.8873\n",
      "55\n",
      "2889170.0188612216\n"
     ]
    },
    {
     "name": "stderr",
     "output_type": "stream",
     "text": [
      "100%|██████████| 78/78 [00:01<00:00, 58.00it/s]\n"
     ]
    },
    {
     "name": "stdout",
     "output_type": "stream",
     "text": [
      " 78 - Train MAE: 2668297.6773, Test MAE: 3077904.5900\n",
      "55\n",
      "2889170.0188612216\n"
     ]
    },
    {
     "name": "stderr",
     "output_type": "stream",
     "text": [
      "100%|██████████| 79/79 [00:01<00:00, 58.03it/s]\n"
     ]
    },
    {
     "name": "stdout",
     "output_type": "stream",
     "text": [
      " 79 - Train MAE: 2663102.6007, Test MAE: 3109125.2859\n",
      "55\n",
      "2889170.0188612216\n"
     ]
    },
    {
     "name": "stderr",
     "output_type": "stream",
     "text": [
      "100%|██████████| 80/80 [00:01<00:00, 58.73it/s]\n"
     ]
    },
    {
     "name": "stdout",
     "output_type": "stream",
     "text": [
      " 80 - Train MAE: 2662832.3215, Test MAE: 3108277.9829\n",
      "55\n",
      "2889170.0188612216\n"
     ]
    },
    {
     "name": "stderr",
     "output_type": "stream",
     "text": [
      "100%|██████████| 81/81 [00:01<00:00, 57.99it/s]\n"
     ]
    },
    {
     "name": "stdout",
     "output_type": "stream",
     "text": [
      " 81 - Train MAE: 2662078.2978, Test MAE: 3111928.6983\n",
      "55\n",
      "2889170.0188612216\n"
     ]
    },
    {
     "name": "stderr",
     "output_type": "stream",
     "text": [
      "100%|██████████| 82/82 [00:01<00:00, 55.72it/s]\n"
     ]
    },
    {
     "name": "stdout",
     "output_type": "stream",
     "text": [
      " 82 - Train MAE: 2649124.5335, Test MAE: 3104934.0225\n",
      "55\n",
      "2889170.0188612216\n"
     ]
    },
    {
     "name": "stderr",
     "output_type": "stream",
     "text": [
      "100%|██████████| 83/83 [00:01<00:00, 56.52it/s]\n"
     ]
    },
    {
     "name": "stdout",
     "output_type": "stream",
     "text": [
      " 83 - Train MAE: 2649669.1916, Test MAE: 3102129.3267\n",
      "55\n",
      "2889170.0188612216\n"
     ]
    },
    {
     "name": "stderr",
     "output_type": "stream",
     "text": [
      "100%|██████████| 84/84 [00:01<00:00, 48.61it/s]\n"
     ]
    },
    {
     "name": "stdout",
     "output_type": "stream",
     "text": [
      " 84 - Train MAE: 2641519.9018, Test MAE: 3100798.8410\n",
      "55\n",
      "2889170.0188612216\n"
     ]
    },
    {
     "name": "stderr",
     "output_type": "stream",
     "text": [
      "100%|██████████| 85/85 [00:01<00:00, 57.51it/s]\n"
     ]
    },
    {
     "name": "stdout",
     "output_type": "stream",
     "text": [
      " 85 - Train MAE: 2642907.6542, Test MAE: 3096522.5053\n",
      "55\n",
      "2889170.0188612216\n"
     ]
    },
    {
     "name": "stderr",
     "output_type": "stream",
     "text": [
      "100%|██████████| 86/86 [00:01<00:00, 56.97it/s]\n"
     ]
    },
    {
     "name": "stdout",
     "output_type": "stream",
     "text": [
      " 86 - Train MAE: 2642794.4801, Test MAE: 3096382.4019\n",
      "55\n",
      "2889170.0188612216\n"
     ]
    },
    {
     "name": "stderr",
     "output_type": "stream",
     "text": [
      "100%|██████████| 87/87 [00:01<00:00, 56.99it/s]\n"
     ]
    },
    {
     "name": "stdout",
     "output_type": "stream",
     "text": [
      " 87 - Train MAE: 2637099.1766, Test MAE: 3059717.8775\n",
      "55\n",
      "2889170.0188612216\n"
     ]
    },
    {
     "name": "stderr",
     "output_type": "stream",
     "text": [
      "100%|██████████| 88/88 [00:01<00:00, 58.00it/s]\n"
     ]
    },
    {
     "name": "stdout",
     "output_type": "stream",
     "text": [
      " 88 - Train MAE: 2636524.2246, Test MAE: 3065449.4732\n",
      "55\n",
      "2889170.0188612216\n"
     ]
    },
    {
     "name": "stderr",
     "output_type": "stream",
     "text": [
      "100%|██████████| 89/89 [00:01<00:00, 55.98it/s]\n"
     ]
    },
    {
     "name": "stdout",
     "output_type": "stream",
     "text": [
      " 89 - Train MAE: 2628327.9571, Test MAE: 3057497.5890\n",
      "55\n",
      "2889170.0188612216\n"
     ]
    },
    {
     "name": "stderr",
     "output_type": "stream",
     "text": [
      "100%|██████████| 90/90 [00:01<00:00, 58.26it/s]\n"
     ]
    },
    {
     "name": "stdout",
     "output_type": "stream",
     "text": [
      " 90 - Train MAE: 2626897.5703, Test MAE: 3055065.8722\n",
      "55\n",
      "2889170.0188612216\n"
     ]
    },
    {
     "name": "stderr",
     "output_type": "stream",
     "text": [
      "100%|██████████| 91/91 [00:01<00:00, 56.34it/s]\n"
     ]
    },
    {
     "name": "stdout",
     "output_type": "stream",
     "text": [
      " 91 - Train MAE: 2627101.7580, Test MAE: 3053053.5162\n",
      "55\n",
      "2889170.0188612216\n"
     ]
    },
    {
     "name": "stderr",
     "output_type": "stream",
     "text": [
      "100%|██████████| 92/92 [00:01<00:00, 57.02it/s]\n"
     ]
    },
    {
     "name": "stdout",
     "output_type": "stream",
     "text": [
      " 92 - Train MAE: 2602990.7544, Test MAE: 3054288.9350\n",
      "55\n",
      "2889170.0188612216\n"
     ]
    },
    {
     "name": "stderr",
     "output_type": "stream",
     "text": [
      "100%|██████████| 93/93 [00:01<00:00, 52.76it/s]\n"
     ]
    },
    {
     "name": "stdout",
     "output_type": "stream",
     "text": [
      " 93 - Train MAE: 2600048.8470, Test MAE: 3066679.0840\n",
      "55\n",
      "2889170.0188612216\n"
     ]
    },
    {
     "name": "stderr",
     "output_type": "stream",
     "text": [
      "100%|██████████| 94/94 [00:01<00:00, 50.29it/s]\n"
     ]
    },
    {
     "name": "stdout",
     "output_type": "stream",
     "text": [
      " 94 - Train MAE: 2600072.4086, Test MAE: 3066705.4858\n",
      "55\n",
      "2889170.0188612216\n"
     ]
    },
    {
     "name": "stderr",
     "output_type": "stream",
     "text": [
      "100%|██████████| 95/95 [00:01<00:00, 51.30it/s]\n"
     ]
    },
    {
     "name": "stdout",
     "output_type": "stream",
     "text": [
      " 95 - Train MAE: 2599084.8899, Test MAE: 3074564.2923\n",
      "55\n",
      "2889170.0188612216\n"
     ]
    },
    {
     "name": "stderr",
     "output_type": "stream",
     "text": [
      "100%|██████████| 96/96 [00:01<00:00, 56.61it/s]\n"
     ]
    },
    {
     "name": "stdout",
     "output_type": "stream",
     "text": [
      " 96 - Train MAE: 2596369.2196, Test MAE: 3062426.3307\n",
      "55\n",
      "2889170.0188612216\n"
     ]
    },
    {
     "name": "stderr",
     "output_type": "stream",
     "text": [
      "100%|██████████| 97/97 [00:01<00:00, 56.74it/s]\n"
     ]
    },
    {
     "name": "stdout",
     "output_type": "stream",
     "text": [
      " 97 - Train MAE: 2590556.6881, Test MAE: 3043532.0572\n",
      "55\n",
      "2889170.0188612216\n"
     ]
    },
    {
     "name": "stderr",
     "output_type": "stream",
     "text": [
      "100%|██████████| 98/98 [00:01<00:00, 56.61it/s]\n"
     ]
    },
    {
     "name": "stdout",
     "output_type": "stream",
     "text": [
      " 98 - Train MAE: 2592734.8587, Test MAE: 3052495.9654\n",
      "55\n",
      "2889170.0188612216\n"
     ]
    },
    {
     "name": "stderr",
     "output_type": "stream",
     "text": [
      "100%|██████████| 99/99 [00:01<00:00, 57.40it/s]\n"
     ]
    },
    {
     "name": "stdout",
     "output_type": "stream",
     "text": [
      " 99 - Train MAE: 2592600.3385, Test MAE: 3054268.6890\n",
      "55\n",
      "2889170.0188612216\n"
     ]
    },
    {
     "name": "stderr",
     "output_type": "stream",
     "text": [
      "100%|██████████| 100/100 [00:01<00:00, 54.76it/s]\n"
     ]
    },
    {
     "name": "stdout",
     "output_type": "stream",
     "text": [
      " 100 - Train MAE: 2596599.6113, Test MAE: 3063163.2655\n",
      "55\n",
      "2889170.0188612216\n"
     ]
    },
    {
     "name": "stderr",
     "output_type": "stream",
     "text": [
      "100%|██████████| 101/101 [00:01<00:00, 54.34it/s]\n"
     ]
    },
    {
     "name": "stdout",
     "output_type": "stream",
     "text": [
      " 101 - Train MAE: 2597893.3297, Test MAE: 3058783.7949\n",
      "55\n",
      "2889170.0188612216\n"
     ]
    },
    {
     "name": "stderr",
     "output_type": "stream",
     "text": [
      "100%|██████████| 102/102 [00:01<00:00, 53.53it/s]\n"
     ]
    },
    {
     "name": "stdout",
     "output_type": "stream",
     "text": [
      " 102 - Train MAE: 2596087.0215, Test MAE: 3061935.4211\n",
      "55\n",
      "2889170.0188612216\n"
     ]
    },
    {
     "name": "stderr",
     "output_type": "stream",
     "text": [
      "100%|██████████| 103/103 [00:01<00:00, 56.64it/s]\n"
     ]
    },
    {
     "name": "stdout",
     "output_type": "stream",
     "text": [
      " 103 - Train MAE: 2596733.0711, Test MAE: 3062176.9535\n",
      "55\n",
      "2889170.0188612216\n"
     ]
    },
    {
     "name": "stderr",
     "output_type": "stream",
     "text": [
      "100%|██████████| 104/104 [00:01<00:00, 55.71it/s]\n"
     ]
    },
    {
     "name": "stdout",
     "output_type": "stream",
     "text": [
      " 104 - Train MAE: 2595963.6166, Test MAE: 3071025.9249\n",
      "55\n",
      "2889170.0188612216\n"
     ]
    },
    {
     "name": "stderr",
     "output_type": "stream",
     "text": [
      "100%|██████████| 105/105 [00:01<00:00, 56.51it/s]\n"
     ]
    },
    {
     "name": "stdout",
     "output_type": "stream",
     "text": [
      " 105 - Train MAE: 2596374.0595, Test MAE: 3072025.5318\n",
      "55\n",
      "2889170.0188612216\n"
     ]
    },
    {
     "name": "stderr",
     "output_type": "stream",
     "text": [
      "100%|██████████| 106/106 [00:01<00:00, 56.36it/s]\n"
     ]
    },
    {
     "name": "stdout",
     "output_type": "stream",
     "text": [
      " 106 - Train MAE: 2598734.9544, Test MAE: 3079098.3923\n",
      "55\n",
      "2889170.0188612216\n"
     ]
    },
    {
     "name": "stderr",
     "output_type": "stream",
     "text": [
      "100%|██████████| 107/107 [00:01<00:00, 56.20it/s]\n"
     ]
    },
    {
     "name": "stdout",
     "output_type": "stream",
     "text": [
      " 107 - Train MAE: 2597874.1881, Test MAE: 3076788.1664\n",
      "55\n",
      "2889170.0188612216\n"
     ]
    },
    {
     "name": "stderr",
     "output_type": "stream",
     "text": [
      "100%|██████████| 108/108 [00:01<00:00, 56.18it/s]\n"
     ]
    },
    {
     "name": "stdout",
     "output_type": "stream",
     "text": [
      " 108 - Train MAE: 2601868.6034, Test MAE: 3078461.1493\n",
      "55\n",
      "2889170.0188612216\n"
     ]
    },
    {
     "name": "stderr",
     "output_type": "stream",
     "text": [
      "100%|██████████| 109/109 [00:02<00:00, 54.46it/s]\n"
     ]
    },
    {
     "name": "stdout",
     "output_type": "stream",
     "text": [
      " 109 - Train MAE: 2603452.0635, Test MAE: 3075450.9012\n",
      "55\n",
      "2889170.0188612216\n"
     ]
    },
    {
     "name": "stderr",
     "output_type": "stream",
     "text": [
      "100%|██████████| 110/110 [00:01<00:00, 56.44it/s]\n"
     ]
    },
    {
     "name": "stdout",
     "output_type": "stream",
     "text": [
      " 110 - Train MAE: 2602595.7871, Test MAE: 3085180.0168\n",
      "55\n",
      "2889170.0188612216\n"
     ]
    },
    {
     "name": "stderr",
     "output_type": "stream",
     "text": [
      "100%|██████████| 111/111 [00:02<00:00, 54.86it/s]\n"
     ]
    },
    {
     "name": "stdout",
     "output_type": "stream",
     "text": [
      " 111 - Train MAE: 2600370.3394, Test MAE: 3094397.8714\n",
      "55\n",
      "2889170.0188612216\n"
     ]
    },
    {
     "name": "stderr",
     "output_type": "stream",
     "text": [
      "100%|██████████| 112/112 [00:02<00:00, 55.78it/s]\n"
     ]
    },
    {
     "name": "stdout",
     "output_type": "stream",
     "text": [
      " 112 - Train MAE: 2599118.0431, Test MAE: 3072940.8738\n",
      "55\n",
      "2889170.0188612216\n"
     ]
    },
    {
     "name": "stderr",
     "output_type": "stream",
     "text": [
      "100%|██████████| 113/113 [00:02<00:00, 56.03it/s]\n"
     ]
    },
    {
     "name": "stdout",
     "output_type": "stream",
     "text": [
      " 113 - Train MAE: 2598806.0494, Test MAE: 3078590.0624\n",
      "55\n",
      "2889170.0188612216\n"
     ]
    },
    {
     "name": "stderr",
     "output_type": "stream",
     "text": [
      "100%|██████████| 114/114 [00:02<00:00, 56.77it/s]\n"
     ]
    },
    {
     "name": "stdout",
     "output_type": "stream",
     "text": [
      " 114 - Train MAE: 2593406.1863, Test MAE: 3089952.6662\n",
      "55\n",
      "2889170.0188612216\n"
     ]
    },
    {
     "name": "stderr",
     "output_type": "stream",
     "text": [
      "100%|██████████| 115/115 [00:02<00:00, 53.64it/s]\n"
     ]
    },
    {
     "name": "stdout",
     "output_type": "stream",
     "text": [
      " 115 - Train MAE: 2599320.3136, Test MAE: 3105936.8531\n",
      "55\n",
      "2889170.0188612216\n"
     ]
    },
    {
     "name": "stderr",
     "output_type": "stream",
     "text": [
      "100%|██████████| 116/116 [00:02<00:00, 52.89it/s]\n"
     ]
    },
    {
     "name": "stdout",
     "output_type": "stream",
     "text": [
      " 116 - Train MAE: 2599208.0626, Test MAE: 3105893.2905\n",
      "55\n",
      "2889170.0188612216\n"
     ]
    },
    {
     "name": "stderr",
     "output_type": "stream",
     "text": [
      "100%|██████████| 117/117 [00:02<00:00, 53.66it/s]\n"
     ]
    },
    {
     "name": "stdout",
     "output_type": "stream",
     "text": [
      " 117 - Train MAE: 2599208.0626, Test MAE: 3108795.0195\n",
      "55\n",
      "2889170.0188612216\n"
     ]
    },
    {
     "name": "stderr",
     "output_type": "stream",
     "text": [
      "100%|██████████| 118/118 [00:02<00:00, 56.97it/s]\n"
     ]
    },
    {
     "name": "stdout",
     "output_type": "stream",
     "text": [
      " 118 - Train MAE: 2599208.0626, Test MAE: 3110423.7381\n",
      "55\n",
      "2889170.0188612216\n"
     ]
    },
    {
     "name": "stderr",
     "output_type": "stream",
     "text": [
      "100%|██████████| 119/119 [00:02<00:00, 56.83it/s]\n"
     ]
    },
    {
     "name": "stdout",
     "output_type": "stream",
     "text": [
      " 119 - Train MAE: 2598796.9778, Test MAE: 3105077.4205\n",
      "55\n",
      "2889170.0188612216\n"
     ]
    },
    {
     "name": "stderr",
     "output_type": "stream",
     "text": [
      "100%|██████████| 120/120 [00:02<00:00, 56.04it/s]\n"
     ]
    },
    {
     "name": "stdout",
     "output_type": "stream",
     "text": [
      " 120 - Train MAE: 2597415.9438, Test MAE: 3101647.6835\n",
      "55\n",
      "2889170.0188612216\n"
     ]
    },
    {
     "name": "stderr",
     "output_type": "stream",
     "text": [
      "100%|██████████| 121/121 [00:02<00:00, 57.03it/s]\n"
     ]
    },
    {
     "name": "stdout",
     "output_type": "stream",
     "text": [
      " 121 - Train MAE: 2597587.9613, Test MAE: 3103274.7468\n",
      "55\n",
      "2889170.0188612216\n"
     ]
    },
    {
     "name": "stderr",
     "output_type": "stream",
     "text": [
      "100%|██████████| 122/122 [00:02<00:00, 57.29it/s]\n"
     ]
    },
    {
     "name": "stdout",
     "output_type": "stream",
     "text": [
      " 122 - Train MAE: 2600033.1220, Test MAE: 3092330.5092\n",
      "55\n",
      "2889170.0188612216\n"
     ]
    },
    {
     "name": "stderr",
     "output_type": "stream",
     "text": [
      "100%|██████████| 123/123 [00:02<00:00, 51.62it/s]\n"
     ]
    },
    {
     "name": "stdout",
     "output_type": "stream",
     "text": [
      " 123 - Train MAE: 2601419.0859, Test MAE: 3113531.8661\n",
      "55\n",
      "2889170.0188612216\n"
     ]
    },
    {
     "name": "stderr",
     "output_type": "stream",
     "text": [
      "100%|██████████| 124/124 [00:02<00:00, 42.81it/s]\n"
     ]
    },
    {
     "name": "stdout",
     "output_type": "stream",
     "text": [
      " 124 - Train MAE: 2604558.3817, Test MAE: 3120380.2858\n",
      "55\n",
      "2889170.0188612216\n"
     ]
    },
    {
     "name": "stderr",
     "output_type": "stream",
     "text": [
      "100%|██████████| 125/125 [00:02<00:00, 41.91it/s]\n"
     ]
    },
    {
     "name": "stdout",
     "output_type": "stream",
     "text": [
      " 125 - Train MAE: 2607807.9404, Test MAE: 3119690.3042\n",
      "55\n",
      "2889170.0188612216\n"
     ]
    },
    {
     "name": "stderr",
     "output_type": "stream",
     "text": [
      "100%|██████████| 126/126 [00:04<00:00, 29.23it/s]\n"
     ]
    },
    {
     "name": "stdout",
     "output_type": "stream",
     "text": [
      " 126 - Train MAE: 2607826.7775, Test MAE: 3119702.2535\n",
      "55\n",
      "2889170.0188612216\n"
     ]
    },
    {
     "name": "stderr",
     "output_type": "stream",
     "text": [
      "100%|██████████| 127/127 [00:04<00:00, 29.89it/s]\n"
     ]
    },
    {
     "name": "stdout",
     "output_type": "stream",
     "text": [
      " 127 - Train MAE: 2607917.3220, Test MAE: 3119837.7624\n",
      "55\n",
      "2889170.0188612216\n"
     ]
    },
    {
     "name": "stderr",
     "output_type": "stream",
     "text": [
      "100%|██████████| 128/128 [00:04<00:00, 26.83it/s]\n"
     ]
    },
    {
     "name": "stdout",
     "output_type": "stream",
     "text": [
      " 128 - Train MAE: 2609003.3496, Test MAE: 3114038.4914\n",
      "55\n",
      "2889170.0188612216\n"
     ]
    },
    {
     "name": "stderr",
     "output_type": "stream",
     "text": [
      "100%|██████████| 129/129 [00:04<00:00, 26.53it/s]\n"
     ]
    },
    {
     "name": "stdout",
     "output_type": "stream",
     "text": [
      " 129 - Train MAE: 2609003.3496, Test MAE: 3114038.4914\n",
      "55\n",
      "2889170.0188612216\n"
     ]
    },
    {
     "name": "stderr",
     "output_type": "stream",
     "text": [
      "100%|██████████| 129/129 [00:04<00:00, 26.77it/s]\n"
     ]
    },
    {
     "name": "stdout",
     "output_type": "stream",
     "text": [
      " 130 - Train MAE: 2609003.3496, Test MAE: 3114038.4914\n",
      "55\n",
      "2889170.0188612216\n"
     ]
    },
    {
     "name": "stderr",
     "output_type": "stream",
     "text": [
      "100%|██████████| 129/129 [00:04<00:00, 27.38it/s]\n"
     ]
    },
    {
     "name": "stdout",
     "output_type": "stream",
     "text": [
      " 131 - Train MAE: 2609003.3496, Test MAE: 3114038.4914\n",
      "55\n",
      "2889170.0188612216\n"
     ]
    },
    {
     "name": "stderr",
     "output_type": "stream",
     "text": [
      "100%|██████████| 129/129 [00:04<00:00, 27.53it/s]\n"
     ]
    },
    {
     "name": "stdout",
     "output_type": "stream",
     "text": [
      " 132 - Train MAE: 2609003.3496, Test MAE: 3114038.4914\n",
      "55\n",
      "2889170.0188612216\n"
     ]
    },
    {
     "name": "stderr",
     "output_type": "stream",
     "text": [
      "100%|██████████| 129/129 [00:04<00:00, 28.26it/s]\n"
     ]
    },
    {
     "name": "stdout",
     "output_type": "stream",
     "text": [
      " 133 - Train MAE: 2609003.3496, Test MAE: 3114038.4914\n",
      "55\n",
      "2889170.0188612216\n"
     ]
    },
    {
     "name": "stderr",
     "output_type": "stream",
     "text": [
      "100%|██████████| 129/129 [00:04<00:00, 28.01it/s]\n"
     ]
    },
    {
     "name": "stdout",
     "output_type": "stream",
     "text": [
      " 134 - Train MAE: 2609003.3496, Test MAE: 3114038.4914\n",
      "55\n",
      "2889170.0188612216\n"
     ]
    },
    {
     "name": "stderr",
     "output_type": "stream",
     "text": [
      "100%|██████████| 129/129 [00:05<00:00, 23.56it/s]\n"
     ]
    },
    {
     "name": "stdout",
     "output_type": "stream",
     "text": [
      " 135 - Train MAE: 2609003.3496, Test MAE: 3114038.4914\n",
      "55\n",
      "2889170.0188612216\n"
     ]
    },
    {
     "name": "stderr",
     "output_type": "stream",
     "text": [
      "100%|██████████| 129/129 [00:04<00:00, 27.26it/s]\n"
     ]
    },
    {
     "name": "stdout",
     "output_type": "stream",
     "text": [
      " 136 - Train MAE: 2609003.3496, Test MAE: 3114038.4914\n",
      "55\n",
      "2889170.0188612216\n"
     ]
    },
    {
     "name": "stderr",
     "output_type": "stream",
     "text": [
      "100%|██████████| 129/129 [00:04<00:00, 26.76it/s]\n"
     ]
    },
    {
     "name": "stdout",
     "output_type": "stream",
     "text": [
      " 137 - Train MAE: 2609003.3496, Test MAE: 3114038.4914\n",
      "55\n",
      "2889170.0188612216\n"
     ]
    },
    {
     "name": "stderr",
     "output_type": "stream",
     "text": [
      "100%|██████████| 129/129 [00:05<00:00, 25.60it/s]\n"
     ]
    },
    {
     "name": "stdout",
     "output_type": "stream",
     "text": [
      " 138 - Train MAE: 2609003.3496, Test MAE: 3114038.4914\n",
      "55\n",
      "2889170.0188612216\n"
     ]
    },
    {
     "name": "stderr",
     "output_type": "stream",
     "text": [
      "100%|██████████| 129/129 [00:04<00:00, 25.88it/s]\n"
     ]
    },
    {
     "name": "stdout",
     "output_type": "stream",
     "text": [
      " 139 - Train MAE: 2609003.3496, Test MAE: 3114038.4914\n",
      "55\n",
      "2889170.0188612216\n"
     ]
    },
    {
     "name": "stderr",
     "output_type": "stream",
     "text": [
      "100%|██████████| 129/129 [00:04<00:00, 27.32it/s]\n"
     ]
    },
    {
     "name": "stdout",
     "output_type": "stream",
     "text": [
      " 140 - Train MAE: 2609003.3496, Test MAE: 3114038.4914\n",
      "55\n",
      "2889170.0188612216\n"
     ]
    },
    {
     "name": "stderr",
     "output_type": "stream",
     "text": [
      "100%|██████████| 129/129 [00:04<00:00, 27.19it/s]\n"
     ]
    },
    {
     "name": "stdout",
     "output_type": "stream",
     "text": [
      " 141 - Train MAE: 2609003.3496, Test MAE: 3114038.4914\n",
      "55\n",
      "2889170.0188612216\n"
     ]
    },
    {
     "name": "stderr",
     "output_type": "stream",
     "text": [
      "100%|██████████| 129/129 [00:04<00:00, 27.13it/s]\n"
     ]
    },
    {
     "name": "stdout",
     "output_type": "stream",
     "text": [
      " 142 - Train MAE: 2609003.3496, Test MAE: 3114038.4914\n",
      "55\n",
      "2889170.0188612216\n"
     ]
    },
    {
     "name": "stderr",
     "output_type": "stream",
     "text": [
      "100%|██████████| 129/129 [00:04<00:00, 27.68it/s]\n"
     ]
    },
    {
     "name": "stdout",
     "output_type": "stream",
     "text": [
      " 143 - Train MAE: 2609003.3496, Test MAE: 3114038.4914\n",
      "55\n",
      "2889170.0188612216\n"
     ]
    },
    {
     "name": "stderr",
     "output_type": "stream",
     "text": [
      "100%|██████████| 129/129 [00:04<00:00, 27.26it/s]\n"
     ]
    },
    {
     "name": "stdout",
     "output_type": "stream",
     "text": [
      " 144 - Train MAE: 2609003.3496, Test MAE: 3114038.4914\n",
      "55\n",
      "2889170.0188612216\n"
     ]
    },
    {
     "name": "stderr",
     "output_type": "stream",
     "text": [
      "100%|██████████| 129/129 [00:04<00:00, 27.99it/s]\n"
     ]
    },
    {
     "name": "stdout",
     "output_type": "stream",
     "text": [
      " 145 - Train MAE: 2609003.3496, Test MAE: 3114038.4914\n",
      "55\n",
      "2889170.0188612216\n"
     ]
    },
    {
     "name": "stderr",
     "output_type": "stream",
     "text": [
      "100%|██████████| 129/129 [00:04<00:00, 27.65it/s]\n"
     ]
    },
    {
     "name": "stdout",
     "output_type": "stream",
     "text": [
      " 146 - Train MAE: 2609003.3496, Test MAE: 3114038.4914\n",
      "55\n",
      "2889170.0188612216\n"
     ]
    },
    {
     "name": "stderr",
     "output_type": "stream",
     "text": [
      "100%|██████████| 129/129 [00:04<00:00, 27.85it/s]\n"
     ]
    },
    {
     "name": "stdout",
     "output_type": "stream",
     "text": [
      " 147 - Train MAE: 2609003.3496, Test MAE: 3114038.4914\n",
      "55\n",
      "2889170.0188612216\n"
     ]
    },
    {
     "name": "stderr",
     "output_type": "stream",
     "text": [
      "100%|██████████| 129/129 [00:04<00:00, 27.32it/s]\n"
     ]
    },
    {
     "name": "stdout",
     "output_type": "stream",
     "text": [
      " 148 - Train MAE: 2609003.3496, Test MAE: 3114038.4914\n",
      "55\n",
      "2889170.0188612216\n"
     ]
    },
    {
     "data": {
      "text/plain": "<Figure size 640x480 with 1 Axes>",
      "image/png": "[encoded data removed]"
     },
     "metadata": {},
     "output_type": "display_data"
    }
   ],
   "source": [
    "# Iniciar el registro de la ejecución en MLflow\n",
    "with mlflow.start_run(run_name=\"MRMR Feature Selection\"):\n",
    "    import numpy as np\n",
    "    # Obtener los datos preprocesados\n",
    "    X_train, X_val, X_test, y_train, y_val, y_test, RANDOM_STATE = preprocesamiento_datos.preprocesamiento(False,[], False)\n",
    "    \n",
    "    # Definir la función para calcular el MRMR\n",
    "    def calculate_mrmr_features(X, y, K):\n",
    "        selected_features = mrmr_classif(X=X, y=y, K=K)\n",
    "        return selected_features\n",
    "    \n",
    "    # Definir el rango de características que deseamos considerar\n",
    "    feature_range = range(1, len(X_train.columns) + 1)\n",
    "    \n",
    "    # Listas para almacenar las métricas\n",
    "    train_maes = []\n",
    "    test_maes = []\n",
    "    num_features_list = []\n",
    "    \n",
    "    # Variables para almacenar las 17 características y su MAE correspondiente\n",
    "    selected_features_17 = None\n",
    "    mae_17 = None\n",
    "    \n",
    "    # Iterar sobre todas las combinaciones de características\n",
    "    for num_features in feature_range:\n",
    "        # Calcular las características seleccionadas usando MRMR\n",
    "        selected_features = calculate_mrmr_features(X_train, y_train, num_features)\n",
    "        \n",
    "        # Seleccionar las columnas correspondientes en X_train y X_test\n",
    "        X_train_selected = X_train[selected_features]\n",
    "        X_test_selected = X_test[selected_features]\n",
    "        \n",
    "        # Entrenar el modelo de regresión lineal\n",
    "        model = LinearRegression()\n",
    "        model.fit(X_train_selected, y_train)\n",
    "    \n",
    "        # Realizar predicciones en el conjunto de entrenamiento y de prueba\n",
    "        y_pred_train = model.predict(X_train_selected)\n",
    "        y_pred_test = model.predict(X_test_selected)\n",
    "        \n",
    "        # Calcular el error absoluto medio (MAE) para evaluar el modelo en ambos conjuntos\n",
    "        train_mae = mean_absolute_error(y_train, y_pred_train)\n",
    "        test_mae = mean_absolute_error(y_test, y_pred_test)\n",
    "        \n",
    "        # Almacenar las métricas y el número de características\n",
    "        train_maes.append(train_mae)\n",
    "        test_maes.append(test_mae)\n",
    "        num_features_list.append(num_features)\n",
    "        \n",
    "        # Imprimir el MAE en cada iteración\n",
    "        print(f\" {num_features} - Train MAE: {train_mae:.4f}, Test MAE: {test_mae:.4f}\")\n",
    "        \n",
    "        # Registrar el MAE en MLflow\n",
    "        mlflow.log_metric(f\"train_mae_{num_features}\", train_mae)\n",
    "        mlflow.log_metric(f\"test_mae_{num_features}\", test_mae)\n",
    "        print(feature_range[np.argmin(test_maes)])\n",
    "        print(min(test_maes))\n",
    "    # Graficar los resultados\n",
    "    plt.plot(num_features_list, train_maes, label='Train MAE')\n",
    "    plt.plot(num_features_list, test_maes, label='Test MAE')\n",
    "    plt.xlabel('Number of Features')\n",
    "    plt.ylabel('Mean Absolute Error (MAE)')\n",
    "    plt.title('MAE vs. Number of Features')\n",
    "    plt.legend()\n",
    "    plt.show()"
   ],
   "metadata": {
    "collapsed": false,
    "ExecuteTime": {
     "end_time": "2024-04-28T10:43:33.514260400Z",
     "start_time": "2024-04-28T10:37:18.813496700Z"
    }
   },
   "id": "57971647318e331b"
  },
  {
   "cell_type": "code",
   "execution_count": 18,
   "outputs": [
    {
     "name": "stdout",
     "output_type": "stream",
     "text": [
      "Archivo Datos_la_liga_preparados_entrenamiento.parquet guardado en: ../Downloads\\Datos_la_liga_preparados_entrenamiento.parquet\n",
      "Selected features with 9 features: ['Mins' 'AvgP' 'Titularidades' 'Equipo_pos' '1_año_anterior'\n",
      " '2_año_anterior' '3_año_anterior' '4_año_anterior' '5_año_anterior']\n",
      "Selected features with 12 features: ['Mins' 'Assists' 'MotM' 'AvgP' 'Titularidades' 'Equipo_pos'\n",
      " '1_año_anterior' '2_año_anterior' '3_año_anterior' '4_año_anterior'\n",
      " '5_año_anterior' 'Equipo_Real Madrid']\n",
      "Selected features with 17 features: ['Mins' 'Goals' 'Assists' 'SpG' 'MotM' 'KeyP' 'OffDrb' 'AvgP'\n",
      " 'Titularidades' 'Equipo_pos' '1_año_anterior' '2_año_anterior'\n",
      " '3_año_anterior' '4_año_anterior' '5_año_anterior' 'Equipo_FC Barcelona'\n",
      " 'Equipo_Real Madrid']\n",
      "Selected features with 20 features: ['Mins' 'Goals' 'Assists' 'SpG' 'PS%' 'MotM' 'KeyP' 'OffDrb' 'AvgP' 'ThrB'\n",
      " 'Titularidades' 'Equipo_pos' '1_año_anterior' '2_año_anterior'\n",
      " '3_año_anterior' '4_año_anterior' '5_año_anterior' 'Equipo_FC Barcelona'\n",
      " 'Equipo_Real Madrid' 'nationality_Germany']\n",
      "Best number of features: 20\n"
     ]
    },
    {
     "data": {
      "text/plain": "<Figure size 640x480 with 1 Axes>",
      "image/png": "[encoded data removed]"
     },
     "metadata": {},
     "output_type": "display_data"
    },
    {
     "data": {
      "text/plain": "<Figure size 640x480 with 0 Axes>"
     },
     "metadata": {},
     "output_type": "display_data"
    }
   ],
   "source": [
    "import mlflow\n",
    "from sklearn.feature_selection import f_regression, SelectKBest\n",
    "from sklearn.model_selection import train_test_split\n",
    "from sklearn.linear_model import LinearRegression\n",
    "from sklearn.metrics import mean_absolute_error\n",
    "import numpy as np\n",
    "import matplotlib.pyplot as plt\n",
    "\n",
    "# Iniciar el registro de la ejecución en MLflow\n",
    "with mlflow.start_run(run_name=\"KBest Feature Selection\"):\n",
    "\n",
    "    # Obtener los datos preprocesados\n",
    "    X_train, X_val, X_test, y_train, y_val, y_test, RANDOM_STATE = preprocesamiento_datos.preprocesamiento(False,[], False)\n",
    "    \n",
    "    # Definir el rango de características que deseamos considerar\n",
    "    feature_range = range(1, 100)\n",
    "    \n",
    "    # Listas para almacenar las métricas\n",
    "    train_maes = []\n",
    "    test_maes = []\n",
    "    \n",
    "    # Iterar sobre todas las combinaciones de características\n",
    "    for num_features in feature_range:\n",
    "        # Seleccionar las mejores k características\n",
    "        selector = SelectKBest(score_func=f_regression, k=num_features)\n",
    "        X_train_selected = selector.fit_transform(X_train, y_train)\n",
    "        X_test_selected = selector.transform(X_test)\n",
    "        \n",
    "        # Entrenar un modelo de regresión lineal con las características seleccionadas\n",
    "        model = LinearRegression()\n",
    "        model.fit(X_train_selected, y_train)\n",
    "    \n",
    "        # Realizar predicciones en el conjunto de prueba\n",
    "        y_pred_train = model.predict(X_train_selected)\n",
    "        y_pred_test = model.predict(X_test_selected)\n",
    "        \n",
    "        # Calcular el error absoluto medio (MAE) para evaluar el modelo en ambos conjuntos\n",
    "        train_mae = mean_absolute_error(y_train, y_pred_train)\n",
    "        test_mae = mean_absolute_error(y_test, y_pred_test)\n",
    "        \n",
    "        # Almacenar las métricas\n",
    "        train_maes.append(train_mae)\n",
    "        test_maes.append(test_mae)\n",
    "        \n",
    "        # Registrar los MAE en MLflow para cada iteración\n",
    "        mlflow.log_metric(f\"train_mae_{num_features}\", train_mae)\n",
    "        mlflow.log_metric(f\"test_mae_{num_features}\", test_mae)\n",
    "        \n",
    "        # Verificar si se han encontrado las 9 características\n",
    "        if num_features == 9:\n",
    "            # Obtener las características seleccionadas\n",
    "            selected_features_9 = np.array(X_train.columns)[selector.get_support()]\n",
    "            print(f\"Selected features with {num_features} features:\", selected_features_9)\n",
    "            # Registrar las características seleccionadas en MLflow\n",
    "            mlflow.log_param(\"selected_features_9\", selected_features_9)\n",
    "        \n",
    "        if num_features == 12:\n",
    "            # Obtener las características seleccionadas\n",
    "            selected_features_12 = np.array(X_train.columns)[selector.get_support()]\n",
    "            print(f\"Selected features with {num_features} features:\", selected_features_12)\n",
    "            # Registrar las características seleccionadas en MLflow\n",
    "            mlflow.log_param(\"selected_features_12\", selected_features_12)\n",
    "        # Verificar si se han encontrado las 17 características\n",
    "        if num_features == 17:\n",
    "            # Obtener las características seleccionadas\n",
    "            selected_features_17 = np.array(X_train.columns)[selector.get_support()]\n",
    "            print(f\"Selected features with {num_features} features:\", selected_features_17)\n",
    "            # Registrar las características seleccionadas en MLflow\n",
    "            mlflow.log_param(\"selected_features_17\", selected_features_17)\n",
    "            \n",
    "        if num_features == 20:\n",
    "            # Obtener las características seleccionadas\n",
    "            selected_features_20 = np.array(X_train.columns)[selector.get_support()]\n",
    "            print(f\"Selected features with {num_features} features:\", selected_features_20)\n",
    "            # Registrar las características seleccionadas en MLflow\n",
    "            mlflow.log_param(\"selected_features_20\", selected_features_20)\n",
    "    \n",
    "    # Encontrar el número de características que produce el menor error absoluto medio en el conjunto de prueba\n",
    "    best_num_features = feature_range[np.argmin(test_maes)]\n",
    "    print(\"Best number of features:\", best_num_features)\n",
    "    \n",
    "    # Graficar los resultados\n",
    "    plt.plot(feature_range, train_maes, label='Train MAE')\n",
    "    plt.plot(feature_range, test_maes, label='Test MAE')\n",
    "    plt.scatter(17, test_maes[16], color='green', label='Test 17')\n",
    "    plt.scatter(9, test_maes[8], color='green', label='Test 9')\n",
    "    plt.scatter(12, test_maes[11], color='green', label='Test 12')\n",
    "    plt.scatter(best_num_features, min(test_maes), color='red', label='Best Test MAE (20)')\n",
    "    plt.xlabel('Number of Features')\n",
    "    plt.ylabel('Mean Absolute Error (MAE)')\n",
    "    plt.title('MAE vs. Number of Features')\n",
    "    plt.legend()\n",
    "    plt.show()\n",
    "    image_path = \"grafica_selección_variables.png\"\n",
    "    plt.savefig(image_path)\n",
    "    mlflow.log_artifact(image_path, artifact_path=\"grafica seleccion variables\")"
   ],
   "metadata": {
    "collapsed": false,
    "ExecuteTime": {
     "end_time": "2024-04-28T10:46:50.617407800Z",
     "start_time": "2024-04-28T10:46:42.589583500Z"
    }
   },
   "id": "e5d0ae8be52e77c0"
  },
  {
   "cell_type": "markdown",
   "source": [
    "# Separado en posiciones"
   ],
   "metadata": {
    "collapsed": false
   },
   "id": "b431d31dd8dac0fb"
  },
  {
   "cell_type": "code",
   "execution_count": 19,
   "outputs": [
    {
     "name": "stdout",
     "output_type": "stream",
     "text": [
      "Archivo Datos_la_liga_preparados_entrenamiento.parquet guardado en: ../Downloads\\Datos_la_liga_preparados_entrenamiento.parquet\n",
      "defensas: Mejor k = 2, Mean Absolute Error en validación: 2329616.9548635134\n",
      "defensas: Mean Absolute Error en prueba: 2387188.352701865\n",
      "porteros: Mejor k = 1, Mean Absolute Error en validación: 2995563.342763367\n",
      "porteros: Mean Absolute Error en prueba: 1911311.0835787451\n",
      "mediocampistas: Mejor k = 4, Mean Absolute Error en validación: 3003232.008301105\n",
      "mediocampistas: Mean Absolute Error en prueba: 3127964.94996276\n",
      "delanteros: Mejor k = 5, Mean Absolute Error en validación: 2879996.438919664\n",
      "delanteros: Mean Absolute Error en prueba: 2965614.5357839367\n"
     ]
    }
   ],
   "source": [
    "from sklearn.feature_selection import f_regression, SelectKBest\n",
    "X_train, X_val, X_test, y_train, y_val, y_test, RANDOM_STATE = preprocesamiento_datos.preprocesamiento(False,[], False)\n",
    "\n",
    "defensas_cols = [\n",
    "    'position_Centre-Back', 'position_Left-Back', 'position_Right-Back'\n",
    "]\n",
    "porteros_cols = ['position_Goalkeeper']\n",
    "medio_cols = [\n",
    "    'position_Attacking Midfield', 'position_Central Midfield', 'position_Defensive Midfield', \n",
    "    'position_Left Midfield', 'position_Centre-Forward'\n",
    "]\n",
    "delanteros_cols = [\n",
    "    'position_Centre-Forward', 'position_Second Striker', 'position_Right Winger','position_Left Winger'\n",
    "]\n",
    "\n",
    "def filtrar_posiciones(X, y, posiciones):\n",
    "    # Filtra las filas donde alguna de las posiciones es 1\n",
    "    mask = X[posiciones].sum(axis=1) > 0\n",
    "    return X[mask], y[mask]\n",
    "\n",
    "# Filtrar y dividir para defensas\n",
    "X_train_defensas, y_train_defensas = filtrar_posiciones(X_train, y_train, defensas_cols)\n",
    "X_val_defensas, y_val_defensas = filtrar_posiciones(X_val, y_val, defensas_cols)\n",
    "X_test_defensas, y_test_defensas = filtrar_posiciones(X_test, y_test, defensas_cols)\n",
    "\n",
    "# Filtrar y dividir para porteros\n",
    "X_train_porteros, y_train_porteros = filtrar_posiciones(X_train, y_train, porteros_cols)\n",
    "X_val_porteros, y_val_porteros = filtrar_posiciones(X_val, y_val, porteros_cols)\n",
    "X_test_porteros, y_test_porteros = filtrar_posiciones(X_test, y_test, porteros_cols)\n",
    "\n",
    "# Filtrar y dividir para mediocampistas\n",
    "X_train_medio, y_train_medio = filtrar_posiciones(X_train, y_train, medio_cols)\n",
    "X_val_medio, y_val_medio = filtrar_posiciones(X_val, y_val, medio_cols)\n",
    "X_test_medio, y_test_medio = filtrar_posiciones(X_test, y_test, medio_cols)\n",
    "\n",
    "# Filtrar y dividir para delanteros\n",
    "X_train_delanteros, y_train_delanteros = filtrar_posiciones(X_train, y_train, delanteros_cols)\n",
    "X_val_delanteros, y_val_delanteros = filtrar_posiciones(X_val, y_val, delanteros_cols)\n",
    "X_test_delanteros, y_test_delanteros = filtrar_posiciones(X_test, y_test, delanteros_cols)\n",
    "\n",
    "\n",
    "import mlflow\n",
    "import mlflow.sklearn\n",
    "from sklearn.linear_model import LinearRegression\n",
    "from sklearn.metrics import mean_absolute_error\n",
    "\n",
    "def entrenar_evaluar_modelo_regresion_kbest(X_train, y_train, X_val, y_val, X_test, y_test, position_name, k_range):\n",
    "    best_k = 0\n",
    "    best_mae_val = float('inf')\n",
    "    best_mae_test = float('inf')\n",
    "    best_model = None\n",
    "    \n",
    "    with mlflow.start_run(run_name=position_name):\n",
    "        for k in k_range:\n",
    "            # Selección de características\n",
    "            selector = SelectKBest(score_func=f_regression, k=k)\n",
    "            X_train_kbest = selector.fit_transform(X_train, y_train)\n",
    "            X_val_kbest = selector.transform(X_val)\n",
    "            X_test_kbest = selector.transform(X_test)\n",
    "\n",
    "            # Entrenar modelo\n",
    "            modelo = LinearRegression()\n",
    "            modelo.fit(X_train_kbest, y_train)\n",
    "\n",
    "            # Predecir en conjunto de validación\n",
    "            predicciones_val = modelo.predict(X_val_kbest)\n",
    "            predicciones_test = modelo.predict(X_test_kbest)\n",
    "\n",
    "            # Calcular error absoluto medio en conjunto de validación\n",
    "            mae_val = mean_absolute_error(y_val, predicciones_val)\n",
    "\n",
    "            # Actualizar mejor modelo si se encuentra un nuevo mínimo MAE en validación\n",
    "            if mae_val < best_mae_val:\n",
    "                best_mae_val = mae_val\n",
    "                best_mae_test = mean_absolute_error(y_test, predicciones_test)\n",
    "                best_k = k\n",
    "                best_model = modelo\n",
    "\n",
    "        # Registrar métricas y modelo en MLflow\n",
    "        mlflow.log_param(\"best_k\", best_k)\n",
    "        mlflow.log_metric(\"best_mean_absolute_error_validation\", best_mae_val)\n",
    "        mlflow.log_metric(\"best_mean_absolute_error_test\", best_mae_test)\n",
    "        mlflow.sklearn.log_model(best_model, \"best_model\")\n",
    "        \n",
    "        print(f\"{position_name}: Mejor k = {best_k}, Mean Absolute Error en validación:\", best_mae_val)\n",
    "        print(f\"{position_name}: Mean Absolute Error en prueba:\", best_mae_test)\n",
    "\n",
    "        \n",
    "# Rango de k para la selección de características\n",
    "k_range = range(1, 31)\n",
    "\n",
    "# Entrenar y evaluar modelo de defensas con k mejores características\n",
    "entrenar_evaluar_modelo_regresion_kbest(X_train_defensas, y_train_defensas, X_val_defensas, y_val_defensas, X_test_defensas, y_test_defensas, \"defensas\", k_range)\n",
    "\n",
    "# Entrenar y evaluar modelo de porteros con k mejores características\n",
    "entrenar_evaluar_modelo_regresion_kbest(X_train_porteros, y_train_porteros, X_val_porteros, y_val_porteros, X_test_porteros, y_test_porteros, \"porteros\", k_range)\n",
    "\n",
    "# Entrenar y evaluar modelo de mediocampistas con k mejores características\n",
    "entrenar_evaluar_modelo_regresion_kbest(X_train_medio, y_train_medio, X_val_medio, y_val_medio, X_test_medio, y_test_medio, \"mediocampistas\", k_range)\n",
    "\n",
    "# Entrenar y evaluar modelo de delanteros con k mejores características\n",
    "entrenar_evaluar_modelo_regresion_kbest(X_train_delanteros, y_train_delanteros, X_val_delanteros, y_val_delanteros, X_test_delanteros, y_test_delanteros, \"delanteros\", k_range)"
   ],
   "metadata": {
    "collapsed": false,
    "ExecuteTime": {
     "end_time": "2024-04-28T10:48:19.251196800Z",
     "start_time": "2024-04-28T10:48:07.305643300Z"
    }
   },
   "id": "6a22b982eeee1936"
  },
  {
   "cell_type": "markdown",
   "source": [
    "# Completo por posiciones"
   ],
   "metadata": {
    "collapsed": false
   },
   "id": "bc560123abb20ea7"
  },
  {
   "cell_type": "code",
   "execution_count": 21,
   "outputs": [
    {
     "name": "stdout",
     "output_type": "stream",
     "text": [
      "Archivo Datos_la_liga_preparados_entrenamiento.parquet guardado en: ../Downloads\\Datos_la_liga_preparados_entrenamiento.parquet\n",
      "Archivo Datos_la_liga_preparados_entrenamiento.parquet guardado en: ../Downloads\\Datos_la_liga_preparados_entrenamiento.parquet\n",
      "['Mins', 'Goals', 'Assists', 'SpG', 'PS%', 'MotM', 'KeyP', 'OffDrb', 'AvgP', 'ThrB', 'Titularidades', 'Equipo_pos', '1_año_anterior', '2_año_anterior', '3_año_anterior', '4_año_anterior', '5_año_anterior', 'Equipo_FC Barcelona', 'Equipo_Real Madrid', 'nationality_Germany']\n",
      "Test MAE: 2564070.2922655987\n",
      "Defensas: 2263098.1744297557\n",
      "Delanteros: 2376611.7409486934\n",
      "Mediocampistas: 3369311.471848605\n",
      "Porteros: 2247259.7818353404\n"
     ]
    }
   ],
   "source": [
    "from sklearn.linear_model import LinearRegression\n",
    "from sklearn.metrics import mean_absolute_error\n",
    "import mlflow\n",
    "import preprocesamiento_datos\n",
    "import pandas as pd\n",
    "import numpy as np\n",
    "\n",
    "X_train_completo, X_val_completo, X_test_completo, y_train_completo, y_val_completo, y_test_completo, RANDOM_STATE = preprocesamiento_datos.preprocesamiento(False,[], False)\n",
    "# Obtener los datos preprocesados\n",
    "X_train, X_val, X_test, y_train, y_val, y_test, RANDOM_STATE = preprocesamiento_datos.preprocesamiento(False,['Mins', 'Goals', 'Assists', 'SpG', 'PS%', 'MotM', 'KeyP', 'OffDrb', 'AvgP', 'ThrB','Titularidades', 'Equipo_pos', '1_año_anterior', '2_año_anterior', '3_año_anterior', '4_año_anterior', '5_año_anterior', 'Equipo_FC Barcelona', 'Equipo_Real Madrid', 'nationality_Germany'], True)\n",
    "\n",
    "# Crear el modelo de regresión lineal\n",
    "model = LinearRegression()\n",
    "\n",
    "# Entrenar el modelo con los datos de entrenamiento\n",
    "model.fit(X_train, y_train)\n",
    "\n",
    "# Realizar predicciones en el conjunto de validación\n",
    "y_val_pred = model.predict(X_val)\n",
    "\n",
    "# Calcular el error absoluto medio en el conjunto de validación\n",
    "val_mae = mean_absolute_error(y_val, y_val_pred)\n",
    "\n",
    "# Iniciar el registro de la ejecución en MLflow\n",
    "with mlflow.start_run(run_name=\"COMPLETO EN POSICIONES\"):\n",
    "    # Registrar el error absoluto medio en el conjunto de validación en MLflow\n",
    "    mlflow.log_metric(\"val_mae\", val_mae)\n",
    "\n",
    "    # Entrenar el modelo final con todos los datos de entrenamiento y validación\n",
    "    X_train_final = np.concatenate((X_train, X_val))\n",
    "    y_train_final = np.concatenate((y_train, y_val))\n",
    "    model.fit(X_train_final, y_train_final)\n",
    "\n",
    "    # Realizar predicciones en el conjunto de prueba\n",
    "    y_test_pred = model.predict(X_test)\n",
    "    \n",
    "    # Calcular el error absoluto medio en el conjunto de prueba\n",
    "    test_mae = mean_absolute_error(y_test, y_test_pred)\n",
    "\n",
    "    # Registrar el error absoluto medio en el conjunto de prueba en MLflow\n",
    "    mlflow.log_metric(\"test_mae\", test_mae)\n",
    "    print(\"Test MAE:\", test_mae)\n",
    "    \n",
    "    # Calcular medias por grupos de posiciones\n",
    "    li = []\n",
    "    posiciones = ['Left-Back', 'Centre-Back', 'Defensive Midfield',\n",
    "       'Centre-Forward','Second Striker','Right Winger', 'Left Winger','Central Midfield', \n",
    "       'Attacking Midfield', 'Right-Back',\n",
    "       'Left Midfield', 'Goalkeeper']\n",
    "    \n",
    "    # Crear DataFrame para comparar predicciones vs. valores reales\n",
    "    pred_vs_real = pd.DataFrame({'y_test': y_test, 'y_pred_rf': y_test_pred, 'dif': abs(y_test-y_test_pred)})\n",
    "    \n",
    "    for p in posiciones:\n",
    "        # Filtrar datos por posición\n",
    "        solo_posicion = pred_vs_real[X_test_completo['position_' + p] == 1]\n",
    "        # Calcular el error medio absoluto para esta posición\n",
    "        mean_dif = np.mean(solo_posicion['dif'])\n",
    "        li.append(mean_dif)\n",
    "    \n",
    "    # Calcular medias de errores para cada posición\n",
    "    mean_defenders = np.mean(li[0:3])\n",
    "    mean_strikers = np.mean(li[3:7])\n",
    "    mean_goalkeepers = li[11]\n",
    "    mean_midfielders = 4 * test_mae - (mean_defenders + mean_strikers + mean_goalkeepers)\n",
    "    \n",
    "    print('Defensas:', mean_defenders)\n",
    "    print('Delanteros:', mean_strikers)\n",
    "    print('Mediocampistas:', mean_midfielders)\n",
    "    print('Porteros:', mean_goalkeepers)\n",
    "    \n",
    "    # Guardar las métricas específicas en MLflow\n",
    "    mlflow.log_metric(\"mean_error_defenders\", mean_defenders)\n",
    "    mlflow.log_metric(\"mean_error_strikers\", mean_strikers)\n",
    "    mlflow.log_metric(\"mean_error_midfielders\", mean_midfielders)\n",
    "    mlflow.log_metric(\"mean_error_goalkeepers\", mean_goalkeepers)"
   ],
   "metadata": {
    "collapsed": false,
    "ExecuteTime": {
     "end_time": "2024-04-28T10:50:09.779813300Z",
     "start_time": "2024-04-28T10:50:06.214711100Z"
    }
   },
   "id": "5008622b0c76098f"
  },
  {
   "cell_type": "markdown",
   "source": [
    "# COMPLETO POR PRECIO"
   ],
   "metadata": {
    "collapsed": false
   },
   "id": "13eb624c712193e"
  },
  {
   "cell_type": "code",
   "execution_count": 22,
   "outputs": [
    {
     "name": "stdout",
     "output_type": "stream",
     "text": [
      "Archivo Datos_la_liga_preparados_entrenamiento.parquet guardado en: ../Downloads\\Datos_la_liga_preparados_entrenamiento.parquet\n",
      "['Mins', 'Goals', 'Assists', 'SpG', 'MotM', 'KeyP', 'OffDrb', 'AvgP', 'Titularidades', 'Equipo_pos', '1_año_anterior', '2_año_anterior', '3_año_anterior', '4_año_anterior', '5_año_anterior', 'Equipo_FC Barcelona', 'Equipo_Real Madrid']\n",
      "Test MAE: 2565384.4021002166\n",
      "Rango de precios 0.0M-1.0M: 752134.419875454\n",
      "Rango de precios 1.0M-5.0M: 1173293.526770147\n",
      "Rango de precios 5.0M-10.0M: 2141189.5850945795\n",
      "Rango de precios 10.0M-20.0M: 3258661.693341575\n",
      "Rango de precios 20.0M-40.0M: 6934176.4262952935\n",
      "Rango de precios 40.0M-80.0M: 16864778.969188973\n"
     ]
    }
   ],
   "source": [
    "from sklearn.linear_model import LinearRegression\n",
    "from sklearn.metrics import mean_absolute_error\n",
    "import mlflow\n",
    "import preprocesamiento_datos\n",
    "import pandas as pd\n",
    "import numpy as np\n",
    "\n",
    "# Obtener los datos preprocesados\n",
    "X_train, X_val, X_test, y_train, y_val, y_test, RANDOM_STATE = preprocesamiento_datos.preprocesamiento(False,['Mins', 'Goals', 'Assists', 'SpG', 'MotM', 'KeyP', 'OffDrb', 'AvgP', 'Titularidades', 'Equipo_pos', '1_año_anterior', '2_año_anterior', '3_año_anterior', '4_año_anterior', '5_año_anterior', 'Equipo_FC Barcelona', 'Equipo_Real Madrid'], True)\n",
    "\n",
    "# Crear el modelo de regresión lineal\n",
    "model = LinearRegression()\n",
    "\n",
    "# Entrenar el modelo con los datos de entrenamiento\n",
    "model.fit(X_train, y_train)\n",
    "\n",
    "# Realizar predicciones en el conjunto de validación\n",
    "y_val_pred = model.predict(X_val)\n",
    "\n",
    "# Calcular el error absoluto medio en el conjunto de validación\n",
    "val_mae = mean_absolute_error(y_val, y_val_pred)\n",
    "\n",
    "# Iniciar el registro de la ejecución en MLflow\n",
    "with mlflow.start_run(run_name=\"COMPLETO POR PRECIO\"):\n",
    "    # Registrar el error absoluto medio en el conjunto de validación en MLflow\n",
    "    mlflow.log_metric(\"val_mae\", val_mae)\n",
    "\n",
    "    # Entrenar el modelo final con todos los datos de entrenamiento y validación\n",
    "    X_train_final = np.concatenate((X_train, X_val))\n",
    "    y_train_final = np.concatenate((y_train, y_val))\n",
    "    model.fit(X_train_final, y_train_final)\n",
    "\n",
    "    # Realizar predicciones en el conjunto de prueba\n",
    "    y_test_pred = model.predict(X_test)\n",
    "    \n",
    "    # Calcular el error absoluto medio en el conjunto de prueba\n",
    "    test_mae = mean_absolute_error(y_test, y_test_pred)\n",
    "\n",
    "    # Registrar el error absoluto medio en el conjunto de prueba en MLflow\n",
    "    mlflow.log_metric(\"test_mae\", test_mae)\n",
    "    print(\"Test MAE:\", test_mae)\n",
    "    \n",
    "    # Crear DataFrame para comparar predicciones vs. valores reales\n",
    "    pred_vs_real = pd.DataFrame({'y_test': y_test, 'y_pred_rf': abs(y_test_pred), 'dif': abs(y_test-abs(y_test_pred))})\n",
    "    \n",
    "    # Definir los rangos de precios\n",
    "    rangos_precios = [(0, 1000000), (1000000, 5000000), (5000000, 10000000), (10000000, 20000000), (20000000, 40000000), (40000000, 80000000)]\n",
    "\n",
    "    # Calcular el error medio absoluto para cada rango de precios\n",
    "    error_rango = []\n",
    "    for rango in rangos_precios:\n",
    "        # Seleccionar las filas donde y_test entra dentro de cada intervalo\n",
    "        pred_vs_real_rango = pred_vs_real[(pred_vs_real['y_test'] >= rango[0]) & (pred_vs_real['y_test'] < rango[1])]\n",
    "        # Calcular la media de las diferencias para el intervalo actual\n",
    "        mean_dif = pred_vs_real_rango['dif'].mean()\n",
    "        error_rango.append(mean_dif)\n",
    "        # Imprimir y registrar el error medio absoluto para el intervalo actual\n",
    "        print(f'Rango de precios {rango[0]/1000000}M-{rango[1]/1000000}M: {mean_dif}')\n",
    "        mlflow.log_metric(f\"error_rango_{rango[0]/1000000}M_{rango[1]/1000000}M\", mean_dif)\n"
   ],
   "metadata": {
    "collapsed": false,
    "ExecuteTime": {
     "end_time": "2024-04-28T10:50:58.505670100Z",
     "start_time": "2024-04-28T10:50:56.523214800Z"
    }
   },
   "id": "6b7d138a9e9f600a"
  }
 ],
 "metadata": {
  "kernelspec": {
   "display_name": "Python 3",
   "language": "python",
   "name": "python3"
  },
  "language_info": {
   "codemirror_mode": {
    "name": "ipython",
    "version": 2
   },
   "file_extension": ".py",
   "mimetype": "text/x-python",
   "name": "python",
   "nbconvert_exporter": "python",
   "pygments_lexer": "ipython2",
   "version": "2.7.6"
  }
 },
 "nbformat": 4,
 "nbformat_minor": 5
}
