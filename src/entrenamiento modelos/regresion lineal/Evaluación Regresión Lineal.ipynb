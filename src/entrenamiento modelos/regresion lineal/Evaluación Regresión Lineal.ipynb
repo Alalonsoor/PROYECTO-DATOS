{
 "cells": [
  {
   "cell_type": "code",
   "execution_count": 1,
   "outputs": [],
   "source": [
    "import numpy as np\n",
    "from sklearn.model_selection import train_test_split\n",
    "from sklearn.preprocessing import StandardScaler\n",
    "from sklearn.metrics import max_error, r2_score, mean_absolute_error\n",
    "import mlflow\n",
    "import os"
   ],
   "metadata": {
    "collapsed": false,
    "ExecuteTime": {
     "end_time": "2024-04-24T18:49:18.510180400Z",
     "start_time": "2024-04-24T18:49:16.014813700Z"
    }
   },
   "id": "c8061e3a0a0f188d"
  },
  {
   "cell_type": "code",
   "execution_count": 2,
   "outputs": [
    {
     "data": {
      "text/plain": "<Experiment: artifact_location='mlflow-artifacts:/3', creation_time=1713193978222, experiment_id='3', last_update_time=1713193978222, lifecycle_stage='active', name='regresion_lineal', tags={}>"
     },
     "execution_count": 2,
     "metadata": {},
     "output_type": "execute_result"
    }
   ],
   "source": [
    "# Establecer la URI de la base de datos SQLite y configuración de MLflow\n",
    "os.environ['MLFLOW_TRACKING_URI'] = 'sqlite:///mlruns.db'\n",
    "mlflow.set_tracking_uri(\"http://127.0.0.1:5000\")\n",
    "mlflow.set_experiment(\"regresion_lineal\")"
   ],
   "metadata": {
    "collapsed": false,
    "ExecuteTime": {
     "end_time": "2024-04-24T18:49:21.434186300Z",
     "start_time": "2024-04-24T18:49:20.030919500Z"
    }
   },
   "id": "7e71ee4e02e6e491"
  },
  {
   "cell_type": "markdown",
   "source": [
    "# Con 9 Variables"
   ],
   "metadata": {
    "collapsed": false
   },
   "id": "62b11c22ba2bbd19"
  },
  {
   "cell_type": "code",
   "execution_count": 4,
   "outputs": [
    {
     "name": "stdout",
     "output_type": "stream",
     "text": [
      "Archivo Datos_la_liga_preparados_entrenamiento.parquet guardado en: ../Downloads\\Datos_la_liga_preparados_entrenamiento.parquet\n",
      "['Mins', 'Assists', 'MotM', 'Titularidades', 'Equipo_pos', '1_año_anterior', '2_año_anterior', '3_año_anterior', '4_año_anterior']\n",
      "Test MAE: 2650291.98615693\n"
     ]
    },
    {
     "name": "stderr",
     "output_type": "stream",
     "text": [
      "C:\\Users\\Usuario\\Documents\\Alvaro\\Carrera\\2-Segundo\\Primer cuatrimetre\\Fundamentos de la Inteligencia Artificial\\PycharmProjects\\proyecto\\Lib\\site-packages\\sklearn\\base.py:486: UserWarning: X has feature names, but LinearRegression was fitted without feature names\n",
      "  warnings.warn(\n"
     ]
    }
   ],
   "source": [
    "from sklearn.linear_model import LinearRegression\n",
    "from sklearn.metrics import mean_absolute_error\n",
    "import mlflow\n",
    "import preprocesamiento_datos\n",
    "\n",
    "# Obtener los datos preprocesados\n",
    "X_train, X_val, X_test, y_train, y_val, y_test = preprocesamiento_datos.preprocesamiento(False,['Mins', 'Assists' ,'MotM', 'Titularidades', 'Equipo_pos', '1_año_anterior',\n",
    " '2_año_anterior', '3_año_anterior', '4_año_anterior'], True)\n",
    "# Crear el modelo de regresión lineal\n",
    "model = LinearRegression()\n",
    "\n",
    "# Entrenar el modelo con los datos de entrenamiento\n",
    "model.fit(X_train, y_train)\n",
    "\n",
    "# Realizar predicciones en el conjunto de validación\n",
    "y_val_pred = model.predict(X_val)\n",
    "\n",
    "# Calcular el error absoluto medio en el conjunto de validación\n",
    "val_mae = mean_absolute_error(y_val, y_val_pred)\n",
    "\n",
    "# Iniciar el registro de la ejecución en MLflow\n",
    "with mlflow.start_run(run_name=\"MODEL WITH FEATURE SELECTION\"):\n",
    "    # Registrar el error absoluto medio en el conjunto de validación en MLflow\n",
    "    mlflow.log_metric(\"val_mae\", val_mae)\n",
    "\n",
    "    # Entrenar el modelo final con todos los datos de entrenamiento y validación\n",
    "    X_train_final = np.concatenate((X_train, X_val))\n",
    "    y_train_final = np.concatenate((y_train, y_val))\n",
    "    model.fit(X_train_final, y_train_final)\n",
    "\n",
    "    # Realizar predicciones en el conjunto de prueba\n",
    "    y_test_pred = model.predict(X_test)\n",
    "    \n",
    "    # Calcular el error absoluto medio en el conjunto de prueba\n",
    "    test_mae = mean_absolute_error(y_test, y_test_pred)\n",
    "\n",
    "    # Registrar el error absoluto medio en el conjunto de prueba en MLflow\n",
    "    mlflow.log_metric(\"test_mae\", test_mae)\n",
    "    print(\"Test MAE:\", test_mae)\n"
   ],
   "metadata": {
    "collapsed": false,
    "ExecuteTime": {
     "end_time": "2024-04-24T19:07:33.141493900Z",
     "start_time": "2024-04-24T19:07:31.161327200Z"
    }
   },
   "id": "63e395fc191c3db3"
  },
  {
   "cell_type": "markdown",
   "source": [
    "# Con 17 Variables"
   ],
   "metadata": {
    "collapsed": false,
    "ExecuteTime": {
     "end_time": "2024-04-24T14:13:52.789862600Z",
     "start_time": "2024-04-24T14:13:52.715250400Z"
    }
   },
   "id": "6af364e9b1a33e6d"
  },
  {
   "cell_type": "code",
   "execution_count": 5,
   "outputs": [
    {
     "name": "stdout",
     "output_type": "stream",
     "text": [
      "Archivo Datos_la_liga_preparados_entrenamiento.parquet guardado en: ../Downloads\\Datos_la_liga_preparados_entrenamiento.parquet\n",
      "['Mins', 'Goals', 'Assists', 'SpG', 'MotM', 'KeyP', 'OffDrb', 'AvgP', 'Titularidades', 'Equipo_pos', '1_año_anterior', '2_año_anterior', '3_año_anterior', '4_año_anterior', '5_año_anterior', 'Equipo_FC Barcelona', 'Equipo_Real Madrid']\n",
      "Test MAE: 2565384.4021002166\n"
     ]
    },
    {
     "name": "stderr",
     "output_type": "stream",
     "text": [
      "C:\\Users\\Usuario\\Documents\\Alvaro\\Carrera\\2-Segundo\\Primer cuatrimetre\\Fundamentos de la Inteligencia Artificial\\PycharmProjects\\proyecto\\Lib\\site-packages\\sklearn\\base.py:486: UserWarning: X has feature names, but LinearRegression was fitted without feature names\n",
      "  warnings.warn(\n"
     ]
    }
   ],
   "source": [
    "from sklearn.linear_model import LinearRegression\n",
    "from sklearn.metrics import mean_absolute_error\n",
    "import mlflow\n",
    "import preprocesamiento_datos\n",
    "\n",
    "# Obtener los datos preprocesados\n",
    "X_train, X_val, X_test, y_train, y_val, y_test = preprocesamiento_datos.preprocesamiento(False,['Mins', 'Goals', 'Assists', 'SpG', 'MotM', 'KeyP', 'OffDrb', 'AvgP', 'Titularidades', 'Equipo_pos', '1_año_anterior', '2_año_anterior', '3_año_anterior', '4_año_anterior', '5_año_anterior', 'Equipo_FC Barcelona', 'Equipo_Real Madrid'], True)\n",
    "# Crear el modelo de regresión lineal\n",
    "model = LinearRegression()\n",
    "\n",
    "# Entrenar el modelo con los datos de entrenamiento\n",
    "model.fit(X_train, y_train)\n",
    "\n",
    "# Realizar predicciones en el conjunto de validación\n",
    "y_val_pred = model.predict(X_val)\n",
    "\n",
    "# Calcular el error absoluto medio en el conjunto de validación\n",
    "val_mae = mean_absolute_error(y_val, y_val_pred)\n",
    "\n",
    "# Iniciar el registro de la ejecución en MLflow\n",
    "with mlflow.start_run(run_name=\"MODEL 17 FEATURES\"):\n",
    "    # Registrar el error absoluto medio en el conjunto de validación en MLflow\n",
    "    mlflow.log_metric(\"val_mae\", val_mae)\n",
    "\n",
    "    # Entrenar el modelo final con todos los datos de entrenamiento y validación\n",
    "    X_train_final = np.concatenate((X_train, X_val))\n",
    "    y_train_final = np.concatenate((y_train, y_val))\n",
    "    model.fit(X_train_final, y_train_final)\n",
    "\n",
    "    # Realizar predicciones en el conjunto de prueba\n",
    "    y_test_pred = model.predict(X_test)\n",
    "    \n",
    "    # Calcular el error absoluto medio en el conjunto de prueba\n",
    "    test_mae = mean_absolute_error(y_test, y_test_pred)\n",
    "\n",
    "    # Registrar el error absoluto medio en el conjunto de prueba en MLflow\n",
    "    mlflow.log_metric(\"test_mae\", test_mae)\n",
    "    print(\"Test MAE:\", test_mae)\n"
   ],
   "metadata": {
    "collapsed": false,
    "ExecuteTime": {
     "end_time": "2024-04-24T19:11:37.159640500Z",
     "start_time": "2024-04-24T19:11:35.415171Z"
    }
   },
   "id": "de7d26d061d8f87f"
  },
  {
   "cell_type": "markdown",
   "source": [
    "# 20 Variables"
   ],
   "metadata": {
    "collapsed": false
   },
   "id": "babb5c6ba1e24ef8"
  },
  {
   "cell_type": "code",
   "execution_count": 7,
   "outputs": [
    {
     "name": "stdout",
     "output_type": "stream",
     "text": [
      "Archivo Datos_la_liga_preparados_entrenamiento.parquet guardado en: ../Downloads\\Datos_la_liga_preparados_entrenamiento.parquet\n",
      "['Mins', 'Goals', 'Assists', 'SpG', 'PS%', 'MotM', 'KeyP', 'OffDrb', 'AvgP', 'ThrB', 'Titularidades', 'Equipo_pos', '1_año_anterior', '2_año_anterior', '3_año_anterior', '4_año_anterior', '5_año_anterior', 'Equipo_FC Barcelona', 'Equipo_Real Madrid', 'nationality_Germany']\n",
      "Test MAE: 2564070.2923099305\n"
     ]
    },
    {
     "name": "stderr",
     "output_type": "stream",
     "text": [
      "C:\\Users\\Usuario\\Documents\\Alvaro\\Carrera\\2-Segundo\\Primer cuatrimetre\\Fundamentos de la Inteligencia Artificial\\PycharmProjects\\proyecto\\Lib\\site-packages\\sklearn\\base.py:486: UserWarning: X has feature names, but LinearRegression was fitted without feature names\n",
      "  warnings.warn(\n"
     ]
    }
   ],
   "source": [
    "from sklearn.linear_model import LinearRegression\n",
    "from sklearn.metrics import mean_absolute_error\n",
    "import mlflow\n",
    "import preprocesamiento_datos\n",
    "\n",
    "# Obtener los datos preprocesados\n",
    "X_train, X_val, X_test, y_train, y_val, y_test = preprocesamiento_datos.preprocesamiento(True,['Mins', 'Goals', 'Assists', 'SpG', 'PS%', 'MotM', 'KeyP', 'OffDrb', 'AvgP', 'ThrB', 'Titularidades', 'Equipo_pos', '1_año_anterior', '2_año_anterior', '3_año_anterior', '4_año_anterior', '5_año_anterior', 'Equipo_FC Barcelona', 'Equipo_Real Madrid', 'nationality_Germany'], True)\n",
    "# Crear el modelo de regresión lineal\n",
    "model = LinearRegression()\n",
    "\n",
    "# Entrenar el modelo con los datos de entrenamiento\n",
    "model.fit(X_train, y_train)\n",
    "\n",
    "# Realizar predicciones en el conjunto de validación\n",
    "y_val_pred = model.predict(X_val)\n",
    "\n",
    "# Calcular el error absoluto medio en el conjunto de validación\n",
    "val_mae = mean_absolute_error(y_val, y_val_pred)\n",
    "\n",
    "# Iniciar el registro de la ejecución en MLflow\n",
    "with mlflow.start_run(run_name=\"FINAL MODEL FEATURE SELECTION\"):\n",
    "    # Registrar el error absoluto medio en el conjunto de validación en MLflow\n",
    "    mlflow.log_metric(\"val_mae\", val_mae)\n",
    "\n",
    "    # Entrenar el modelo final con todos los datos de entrenamiento y validación\n",
    "    X_train_final = np.concatenate((X_train, X_val))\n",
    "    y_train_final = np.concatenate((y_train, y_val))\n",
    "    model.fit(X_train_final, y_train_final)\n",
    "\n",
    "    # Realizar predicciones en el conjunto de prueba\n",
    "    y_test_pred = model.predict(X_test)\n",
    "    \n",
    "    # Calcular el error absoluto medio en el conjunto de prueba\n",
    "    test_mae = mean_absolute_error(y_test, y_test_pred)\n",
    "\n",
    "    # Registrar el error absoluto medio en el conjunto de prueba en MLflow\n",
    "    mlflow.log_metric(\"test_mae\", test_mae)\n",
    "    print(\"Test MAE:\", test_mae)\n"
   ],
   "metadata": {
    "collapsed": false,
    "ExecuteTime": {
     "end_time": "2024-04-24T20:02:49.398172600Z",
     "start_time": "2024-04-24T20:02:47.747093600Z"
    }
   },
   "id": "445b69b091b8f730"
  },
  {
   "cell_type": "code",
   "execution_count": 16,
   "outputs": [
    {
     "data": {
      "text/plain": "Mins                       int64\nGoals                      int64\nAssists                    int64\nYel                        int64\nRed                        int64\n                          ...   \nnationality_Venezuela    float64\nnationality_Wales        float64\nnationality_Zambia       float64\nnationality_Zimbabwe     float64\nmarketValue              float64\nLength: 150, dtype: object"
     },
     "execution_count": 16,
     "metadata": {},
     "output_type": "execute_result"
    }
   ],
   "source": [
    "from sklearn.linear_model import LinearRegression\n",
    "from sklearn.metrics import mean_absolute_error\n",
    "import mlflow\n",
    "import preprocesamiento_datos\n",
    "\n",
    "# Obtener los datos preprocesados\n",
    "X_train, X_val, X_test, y_train, y_val, y_test = preprocesamiento_datos.preprocesamiento(False,['Mins', 'Assists' ,'MotM', 'Titularidades', 'Equipo_pos', '1_año_anterior',\n",
    " '2_año_anterior', '3_año_anterior', '4_año_anterior'], True)\n",
    "# Crear el modelo de regresión lineal\n",
    "model = LinearRegression()\n",
    "\n",
    "# Entrenar el modelo con los datos de entrenamiento\n",
    "model.fit(X_train, y_train)\n",
    "\n",
    "# Realizar predicciones en el conjunto de validación\n",
    "y_val_pred = model.predict(X_val)\n",
    "\n",
    "# Calcular el error absoluto medio en el conjunto de validación\n",
    "val_mae = mean_absolute_error(y_val, y_val_pred)\n",
    "\n",
    "# Iniciar el registro de la ejecución en MLflow\n",
    "with mlflow.start_run(run_name=\"FINAL MODEL WITH FEATURE SELECTION\"):\n",
    "    # Registrar el error absoluto medio en el conjunto de validación en MLflow\n",
    "    mlflow.log_metric(\"val_mae\", val_mae)\n",
    "\n",
    "    # Entrenar el modelo final con todos los datos de entrenamiento y validación\n",
    "    X_train_final = np.concatenate((X_train, X_val))\n",
    "    y_train_final = np.concatenate((y_train, y_val))\n",
    "    model.fit(X_train_final, y_train_final)\n",
    "\n",
    "    # Realizar predicciones en el conjunto de prueba\n",
    "    y_test_pred = model.predict(X_test)\n",
    "    \n",
    "    # Calcular el error absoluto medio en el conjunto de prueba\n",
    "    test_mae = mean_absolute_error(y_test, y_test_pred)\n",
    "\n",
    "    # Registrar el error absoluto medio en el conjunto de prueba en MLflow\n",
    "    mlflow.log_metric(\"test_mae\", test_mae)\n",
    "    print(\"Test MAE:\", test_mae)\n"
   ],
   "metadata": {
    "collapsed": false,
    "ExecuteTime": {
     "end_time": "2024-04-24T13:38:58.941918400Z",
     "start_time": "2024-04-24T13:38:58.909085100Z"
    }
   },
   "id": "692df6c1af9ca173"
  }
 ],
 "metadata": {
  "kernelspec": {
   "display_name": "Python 3",
   "language": "python",
   "name": "python3"
  },
  "language_info": {
   "codemirror_mode": {
    "name": "ipython",
    "version": 2
   },
   "file_extension": ".py",
   "mimetype": "text/x-python",
   "name": "python",
   "nbconvert_exporter": "python",
   "pygments_lexer": "ipython2",
   "version": "2.7.6"
  }
 },
 "nbformat": 4,
 "nbformat_minor": 5
}
