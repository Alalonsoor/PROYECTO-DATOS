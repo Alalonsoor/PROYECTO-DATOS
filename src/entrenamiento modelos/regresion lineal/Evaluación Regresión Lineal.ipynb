{
 "cells": [
  {
   "cell_type": "code",
   "execution_count": 2,
   "outputs": [],
   "source": [
    "import numpy as np\n",
    "import mlflow\n",
    "import os"
   ],
   "metadata": {
    "collapsed": false,
    "ExecuteTime": {
     "end_time": "2024-05-07T21:07:19.571719100Z",
     "start_time": "2024-05-07T21:07:17.483086700Z"
    }
   },
   "id": "c8061e3a0a0f188d"
  },
  {
   "cell_type": "code",
   "execution_count": 3,
   "outputs": [
    {
     "data": {
      "text/plain": "<Experiment: artifact_location='mlflow-artifacts:/3', creation_time=1713193978222, experiment_id='3', last_update_time=1713193978222, lifecycle_stage='active', name='regresion_lineal', tags={}>"
     },
     "execution_count": 3,
     "metadata": {},
     "output_type": "execute_result"
    }
   ],
   "source": [
    "# Establecer la URI de la base de datos SQLite y configuración de MLflow\n",
    "os.environ['MLFLOW_TRACKING_URI'] = 'sqlite:///mlruns.db'\n",
    "mlflow.set_tracking_uri(\"http://127.0.0.1:5000\")\n",
    "mlflow.set_experiment(\"regresion_lineal\")"
   ],
   "metadata": {
    "collapsed": false,
    "ExecuteTime": {
     "end_time": "2024-05-07T21:07:20.267523900Z",
     "start_time": "2024-05-07T21:07:20.182424800Z"
    }
   },
   "id": "7e71ee4e02e6e491"
  },
  {
   "cell_type": "markdown",
   "source": [
    "# Con 19 Variables sin offdrb"
   ],
   "metadata": {
    "collapsed": false,
    "ExecuteTime": {
     "end_time": "2024-04-24T14:13:52.789862600Z",
     "start_time": "2024-04-24T14:13:52.715250400Z"
    }
   },
   "id": "6af364e9b1a33e6d"
  },
  {
   "cell_type": "code",
   "execution_count": 4,
   "outputs": [
    {
     "name": "stdout",
     "output_type": "stream",
     "text": [
      "Test MAE: 2658272.751551002\n"
     ]
    }
   ],
   "source": [
    "from sklearn.linear_model import LinearRegression\n",
    "from sklearn.metrics import mean_absolute_error\n",
    "import mlflow\n",
    "import preprocesamiento_datos\n",
    "\n",
    "# Obtener los datos preprocesados\n",
    "X_train, X_val, X_test, y_train, y_val, y_test,RANDOM_STATE = preprocesamiento_datos.preprocesamiento(False,['Mins', 'Goals', 'Assists', 'SpG', 'PS%', 'MotM', 'KeyP', 'AvgP', 'ThrB', 'Titularidades', 'Equipo_pos', '1_año_anterior', '2_año_anterior', '3_año_anterior', '4_año_anterior', '5_año_anterior', 'Equipo_FC Barcelona', 'Equipo_Real Madrid', 'nationality_Germany'], True)\n",
    "# Crear el modelo de regresión lineal\n",
    "model = LinearRegression()\n",
    "\n",
    "# Entrenar el modelo con los datos de entrenamiento\n",
    "model.fit(X_train, y_train)\n",
    "\n",
    "# Realizar predicciones en el conjunto de validación\n",
    "y_val_pred = model.predict(X_val)\n",
    "\n",
    "# Calcular el error absoluto medio en el conjunto de validación\n",
    "val_mae = mean_absolute_error(y_val, y_val_pred)\n",
    "\n",
    "# Iniciar el registro de la ejecución en MLflow\n",
    "with mlflow.start_run(run_name=\"MODELO FINAL ESCALADO\"):\n",
    "    # Registrar el error absoluto medio en el conjunto de validación en MLflow\n",
    "    mlflow.log_metric(\"val_mae\", val_mae)\n",
    "    from sklearn.metrics import r2_score\n",
    "    import numpy as np\n",
    "    # Número de muestras en el conjunto de prueba\n",
    "    n_samples = len(y_test)\n",
    "    \n",
    "    # Entrenar el modelo final con todos los datos de entrenamiento y validación\n",
    "    X_train_final = np.concatenate((X_train, X_val))\n",
    "    y_train_final = np.concatenate((y_train, y_val))\n",
    "    model.fit(X_train_final, y_train_final)\n",
    "\n",
    "    # Realizar predicciones en el conjunto de prueba\n",
    "    y_test_pred = model.predict(X_test)\n",
    "    \n",
    "    # Calcular el error absoluto medio en el conjunto de prueba\n",
    "    test_mae = mean_absolute_error(y_test, y_test_pred)\n",
    "\n",
    "    # Registrar el error absoluto medio en el conjunto de prueba en MLflow\n",
    "    mlflow.log_metric(\"test_mae\", test_mae)\n",
    "    print(\"Test MAE:\", test_mae)\n",
    "    "
   ],
   "metadata": {
    "collapsed": false,
    "ExecuteTime": {
     "end_time": "2024-05-07T21:07:22.773802700Z",
     "start_time": "2024-05-07T21:07:22.345671900Z"
    }
   },
   "id": "251b0de6a1802c09"
  },
  {
   "cell_type": "markdown",
   "source": [
    "# 20 Variables Con OffDRB"
   ],
   "metadata": {
    "collapsed": false
   },
   "id": "babb5c6ba1e24ef8"
  },
  {
   "cell_type": "code",
   "execution_count": 5,
   "outputs": [
    {
     "name": "stdout",
     "output_type": "stream",
     "text": [
      "Test MAE: 2564070.2922655987\n"
     ]
    }
   ],
   "source": [
    "from sklearn.linear_model import LinearRegression\n",
    "from sklearn.metrics import mean_absolute_error\n",
    "import mlflow\n",
    "import preprocesamiento_datos\n",
    "\n",
    "# Obtener los datos preprocesados\n",
    "X_train, X_val, X_test, y_train, y_val, y_test,RANDOM_STATE = preprocesamiento_datos.preprocesamiento(False,['Mins', 'Goals', 'Assists', 'SpG', 'PS%', 'MotM', 'KeyP', 'OffDrb', 'AvgP', 'ThrB', 'Titularidades', 'Equipo_pos', '1_año_anterior', '2_año_anterior', '3_año_anterior', '4_año_anterior', '5_año_anterior', 'Equipo_FC Barcelona', 'Equipo_Real Madrid', 'nationality_Germany'], True)\n",
    "# Crear el modelo de regresión lineal\n",
    "model = LinearRegression()\n",
    "\n",
    "# Entrenar el modelo con los datos de entrenamiento\n",
    "model.fit(X_train, y_train)\n",
    "\n",
    "# Realizar predicciones en el conjunto de validación\n",
    "y_val_pred = model.predict(X_val)\n",
    "\n",
    "# Calcular el error absoluto medio en el conjunto de validación\n",
    "val_mae = mean_absolute_error(y_val, y_val_pred)\n",
    "\n",
    "# Iniciar el registro de la ejecución en MLflow\n",
    "with mlflow.start_run(run_name=\"MODELO FINAL ESCALADO\"):\n",
    "    # Registrar el error absoluto medio en el conjunto de validación en MLflow\n",
    "    mlflow.log_metric(\"val_mae\", val_mae)\n",
    "    from sklearn.metrics import r2_score\n",
    "    import numpy as np\n",
    "\n",
    "    # Número de muestras en el conjunto de prueba\n",
    "    n_samples = len(y_test)\n",
    "    \n",
    "    # Entrenar el modelo final con todos los datos de entrenamiento y validación\n",
    "    X_train_final = np.concatenate((X_train, X_val))\n",
    "    y_train_final = np.concatenate((y_train, y_val))\n",
    "    model.fit(X_train_final, y_train_final)\n",
    "\n",
    "    # Realizar predicciones en el conjunto de prueba\n",
    "    y_test_pred = model.predict(X_test)\n",
    "    \n",
    "    # Calcular el error absoluto medio en el conjunto de prueba\n",
    "    test_mae = mean_absolute_error(y_test, y_test_pred)\n",
    "\n",
    "    # Registrar el error absoluto medio en el conjunto de prueba en MLflow\n",
    "    mlflow.log_metric(\"test_mae\", test_mae)\n",
    "    print(\"Test MAE:\", test_mae)"
   ],
   "metadata": {
    "collapsed": false,
    "ExecuteTime": {
     "end_time": "2024-05-07T21:09:32.883542Z",
     "start_time": "2024-05-07T21:09:32.809996Z"
    }
   },
   "id": "de48dbaa6a90c3e2"
  },
  {
   "cell_type": "markdown",
   "source": [
    "# Modelo Completo"
   ],
   "metadata": {
    "collapsed": false
   },
   "id": "f130c8e555a7c4bd"
  },
  {
   "cell_type": "code",
   "execution_count": 21,
   "outputs": [
    {
     "name": "stdout",
     "output_type": "stream",
     "text": [
      "Archivo Datos_la_liga_preparados_entrenamiento.parquet guardado en: ../Downloads\\Datos_la_liga_preparados_entrenamiento.parquet\n",
      "Test MAE: 2865652.999008513\n"
     ]
    },
    {
     "name": "stderr",
     "output_type": "stream",
     "text": [
      "C:\\Users\\Usuario\\Documents\\Alvaro\\Carrera\\2-Segundo\\Primer cuatrimetre\\Fundamentos de la Inteligencia Artificial\\PycharmProjects\\proyecto\\Lib\\site-packages\\sklearn\\base.py:486: UserWarning: X has feature names, but LinearRegression was fitted without feature names\n",
      "  warnings.warn(\n"
     ]
    }
   ],
   "source": [
    "from sklearn.linear_model import LinearRegression\n",
    "from sklearn.metrics import mean_absolute_error\n",
    "import mlflow\n",
    "import preprocesamiento_datos\n",
    "\n",
    "# Obtener los datos preprocesados\n",
    "X_train, X_val, X_test, y_train, y_val, y_test = preprocesamiento_datos.preprocesamiento(False,[], False)\n",
    "# Crear el modelo de regresión lineal\n",
    "model = LinearRegression()\n",
    "\n",
    "# Entrenar el modelo con los datos de entrenamiento\n",
    "model.fit(X_train, y_train)\n",
    "\n",
    "# Realizar predicciones en el conjunto de validación\n",
    "y_val_pred = model.predict(X_val)\n",
    "\n",
    "# Calcular el error absoluto medio en el conjunto de validación\n",
    "val_mae = mean_absolute_error(y_val, y_val_pred)\n",
    "\n",
    "# Iniciar el registro de la ejecución en MLflow\n",
    "with mlflow.start_run(run_name=\"MODELO CON TODAS LAS VARIABLES\"):\n",
    "    # Registrar el error absoluto medio en el conjunto de validación en MLflow\n",
    "    mlflow.log_metric(\"val_mae\", val_mae)\n",
    "\n",
    "    # Entrenar el modelo final con todos los datos de entrenamiento y validación\n",
    "    X_train_final = np.concatenate((X_train, X_val))\n",
    "    y_train_final = np.concatenate((y_train, y_val))\n",
    "    model.fit(X_train_final, y_train_final)\n",
    "\n",
    "    # Realizar predicciones en el conjunto de prueba\n",
    "    y_test_pred = model.predict(X_test)\n",
    "    \n",
    "    # Calcular el error absoluto medio en el conjunto de prueba\n",
    "    test_mae = mean_absolute_error(y_test, y_test_pred)\n",
    "\n",
    "    # Registrar el error absoluto medio en el conjunto de prueba en MLflow\n",
    "    mlflow.log_metric(\"test_mae\", test_mae)\n",
    "    print(\"Test MAE:\", test_mae)"
   ],
   "metadata": {
    "collapsed": false,
    "ExecuteTime": {
     "end_time": "2024-04-28T11:18:05.263586Z",
     "start_time": "2024-04-28T11:18:03.481115100Z"
    }
   },
   "id": "47099c51f9ce1fee"
  }
 ],
 "metadata": {
  "kernelspec": {
   "display_name": "Python 3",
   "language": "python",
   "name": "python3"
  },
  "language_info": {
   "codemirror_mode": {
    "name": "ipython",
    "version": 2
   },
   "file_extension": ".py",
   "mimetype": "text/x-python",
   "name": "python",
   "nbconvert_exporter": "python",
   "pygments_lexer": "ipython2",
   "version": "2.7.6"
  }
 },
 "nbformat": 4,
 "nbformat_minor": 5
}
