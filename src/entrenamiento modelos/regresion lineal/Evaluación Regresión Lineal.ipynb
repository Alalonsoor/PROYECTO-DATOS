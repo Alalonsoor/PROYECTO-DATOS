{
 "cells": [
  {
   "cell_type": "code",
   "execution_count": 31,
   "outputs": [],
   "source": [
    "import pandas as pd\n",
    "import numpy as np\n",
    "from sklearn.model_selection import train_test_split, cross_validate\n",
    "from sklearn.linear_model import LinearRegression\n",
    "from sklearn.preprocessing import StandardScaler\n",
    "from sklearn.metrics import max_error, r2_score, mean_absolute_error\n",
    "import mlflow\n",
    "import os"
   ],
   "metadata": {
    "collapsed": false,
    "ExecuteTime": {
     "end_time": "2024-04-16T22:56:16.188275500Z",
     "start_time": "2024-04-16T22:56:16.185251100Z"
    }
   },
   "id": "c8061e3a0a0f188d"
  },
  {
   "cell_type": "code",
   "execution_count": 32,
   "outputs": [],
   "source": [
    "\"\"\"\n",
    "Descarga de Archivos desde Google Drive sin Autenticación\n",
    "\n",
    "Este script permite descargar archivos específicos desde Google Drive directamente a una ubicación local,\n",
    "utilizando el ID de Google Drive del archivo (el archivo debe ser accesible para cualquier persona que tenga la URL).\n",
    "\n",
    "El script procesa un archivo de texto ('archivos_info.txt') que contiene las IDs de Google Drive de los archivos,\n",
    "los nombres con los que se desean guardar localmente, y las rutas locales de almacenamiento, todo separado por comas.\n",
    "\n",
    "Formato esperado de 'archivos_info.txt':\n",
    "ID_de_Google_Drive,Nombre_Archivo_Local,Ruta_Local\n",
    "\n",
    "Ejemplo:\n",
    "1hGvKmNAkK...,mi_archivo.txt,./descargas\n",
    "\n",
    "Requisitos:\n",
    "- Módulo 'requests' instalado en el entorno Python donde se ejecute este script.\n",
    "\n",
    "\n",
    "\n",
    "\"\"\"\n",
    "\n",
    "import requests\n",
    "import os\n",
    "\n",
    "\n",
    "def descargar_archivo_directo(id_archivo, directorio_destino, archivo_destino):\n",
    "    \"\"\"\n",
    "    Descarga un archivo directamente desde Google Drive y lo guarda localmente.\n",
    "\n",
    "    Parámetros:\n",
    "    - id_archivo (str): ID del archivo en Google Drive.\n",
    "    - directorio_destino (str): Ruta del directorio local donde se guardará el archivo.\n",
    "    - archivo_destino (str): Nombre deseado para el archivo en local\n",
    "\n",
    "    Devuelve:\n",
    "    - archivo_destino (str): Nombre del archivo guardado.\n",
    "    - ruta_completa (str): Ruta completa del archivo guardado.\n",
    "    \"\"\"\n",
    "    # Construye la URL de descarga directa utilizando el ID del archivo\n",
    "    url = f\"https://drive.google.com/uc?export=download&id={id_archivo}\"\n",
    "\n",
    "    # Realiza la petición HTTP GET para descargar el archivo\n",
    "    respuesta = requests.get(url, allow_redirects=True)\n",
    "\n",
    "    # Comprueba que el directorio destino existe, si no, lo crea\n",
    "    os.makedirs(directorio_destino, exist_ok=True)\n",
    "\n",
    "    # Construye la ruta completa donde se guardará el archivo en local\n",
    "    ruta_completa = os.path.join(directorio_destino, archivo_destino)\n",
    "\n",
    "    # Guarda el contenido del archivo descargado en local\n",
    "    with open(ruta_completa, 'wb') as archivo:\n",
    "        archivo.write(respuesta.content)\n",
    "\n",
    "\n",
    "    return archivo_destino, ruta_completa\n",
    "\n",
    "\n",
    "def procesar_archivo_info(ruta_archivo_info):\n",
    "    \"\"\"\n",
    "    Procesa un archivo de texto que contiene información sobre los archivos a descargar.\n",
    "\n",
    "    Parámetros:\n",
    "    - ruta_archivo_info (str): Ruta del archivo de texto que contiene los IDs de Google Drive,\n",
    "                               los nombres de los archivos locales y las rutas locales.\n",
    "\n",
    "    Devuelve:\n",
    "    - Una lista de tuplas con el ID de Google Drive, el nombre local del archivo, y la ruta local.\n",
    "    \"\"\"\n",
    "    archivos_info = []\n",
    "    with open(ruta_archivo_info, 'r') as archivo:\n",
    "        for linea in archivo:\n",
    "            id_archivo, nombre_archivo, directorio_destino = linea.strip().split(',')\n",
    "            archivos_info.append((id_archivo, nombre_archivo, directorio_destino))\n",
    "    return archivos_info\n"
   ],
   "metadata": {
    "collapsed": false,
    "ExecuteTime": {
     "end_time": "2024-04-16T22:56:17.100006900Z",
     "start_time": "2024-04-16T22:56:17.096999200Z"
    }
   },
   "id": "initial_id"
  },
  {
   "cell_type": "code",
   "execution_count": 33,
   "outputs": [
    {
     "name": "stdout",
     "output_type": "stream",
     "text": [
      "Archivo datos_preparados_solo_entr.parquet guardado en: ../Downloads\\datos_preparados_solo_entr.parquet\n"
     ]
    }
   ],
   "source": [
    "# Ruta al archivo que contiene la información de los archivos a descargar\n",
    "ruta_archivo_info = \"..\\info_archivos_GDrive_solo_entr.txt\"\n",
    "\n",
    "# Obtenemos la lista con la info de los archivos del fichero\n",
    "archivos_a_descargar = procesar_archivo_info(ruta_archivo_info)\n",
    "\n",
    "# Descargamos cada archivo de la lista\n",
    "for id_archivo, nombre_archivo, directorio_destino in archivos_a_descargar:\n",
    "    nombre_archivo_descargado, ruta_archivo_guardado = descargar_archivo_directo(id_archivo, directorio_destino, nombre_archivo)\n",
    "    print(f\"Archivo {nombre_archivo_descargado} guardado en: {ruta_archivo_guardado}\")"
   ],
   "metadata": {
    "collapsed": false,
    "ExecuteTime": {
     "end_time": "2024-04-16T22:56:19.981881800Z",
     "start_time": "2024-04-16T22:56:18.431345900Z"
    }
   },
   "id": "8da4af30721e4d4e"
  },
  {
   "cell_type": "code",
   "execution_count": 34,
   "outputs": [
    {
     "data": {
      "text/plain": "              Mins        Goals      Assists          Yel          Red  \\\ncount  2251.000000  2251.000000  2251.000000  2251.000000  2251.000000   \nmean   1271.695691     1.564638     1.063527     3.069303     0.168814   \nstd     969.241058     2.906800     1.737932     2.958017     0.430942   \nmin       1.000000     0.000000     0.000000     0.000000     0.000000   \n25%     360.500000     0.000000     0.000000     1.000000     0.000000   \n50%    1157.000000     0.000000     0.000000     2.000000     0.000000   \n75%    2040.500000     2.000000     2.000000     5.000000     0.000000   \nmax    3420.000000    27.000000    16.000000    15.000000     3.000000   \n\n               SpG          PS%   AerialsWon         MotM      Tackles  ...  \\\ncount  2251.000000  2251.000000  2251.000000  2251.000000  2251.000000  ...   \nmean      0.629276    76.128387     0.946246     0.622834     0.882719  ...   \nstd       0.604061    13.308598     0.962542     1.244505     0.693640  ...   \nmin       0.000000     0.000000     0.000000     0.000000     0.000000  ...   \n25%       0.200000    70.950000     0.300000     0.000000     0.400000  ...   \n50%       0.500000    78.300000     0.700000     0.000000     0.800000  ...   \n75%       0.900000    84.200000     1.300000     1.000000     1.300000  ...   \nmax       4.500000   100.000000     8.700000    13.000000     6.000000  ...   \n\n       nationality_The Gambia  nationality_Türkiye  nationality_Ukraine  \\\ncount             2251.000000          2251.000000          2251.000000   \nmean                 0.000444             0.002665             0.001333   \nstd                  0.021077             0.051571             0.036490   \nmin                  0.000000             0.000000             0.000000   \n25%                  0.000000             0.000000             0.000000   \n50%                  0.000000             0.000000             0.000000   \n75%                  0.000000             0.000000             0.000000   \nmax                  1.000000             1.000000             1.000000   \n\n       nationality_United States  nationality_Uruguay  nationality_Venezuela  \\\ncount                2251.000000          2251.000000            2251.000000   \nmean                    0.003554             0.028432               0.003998   \nstd                     0.059522             0.166240               0.063119   \nmin                     0.000000             0.000000               0.000000   \n25%                     0.000000             0.000000               0.000000   \n50%                     0.000000             0.000000               0.000000   \n75%                     0.000000             0.000000               0.000000   \nmax                     1.000000             1.000000               1.000000   \n\n       nationality_Wales  nationality_Zambia  nationality_Zimbabwe  \\\ncount        2251.000000         2251.000000           2251.000000   \nmean            0.000888            0.000444              0.000444   \nstd             0.029801            0.021077              0.021077   \nmin             0.000000            0.000000              0.000000   \n25%             0.000000            0.000000              0.000000   \n50%             0.000000            0.000000              0.000000   \n75%             0.000000            0.000000              0.000000   \nmax             1.000000            1.000000              1.000000   \n\n        marketValue  \ncount  2.251000e+03  \nmean   8.160329e+06  \nstd    1.188624e+07  \nmin    2.500000e+04  \n25%    1.500000e+06  \n50%    3.000000e+06  \n75%    9.500000e+06  \nmax    7.500000e+07  \n\n[8 rows x 150 columns]",
      "text/html": "<div>\n<style scoped>\n    .dataframe tbody tr th:only-of-type {\n        vertical-align: middle;\n    }\n\n    .dataframe tbody tr th {\n        vertical-align: top;\n    }\n\n    .dataframe thead th {\n        text-align: right;\n    }\n</style>\n<table border=\"1\" class=\"dataframe\">\n  <thead>\n    <tr style=\"text-align: right;\">\n      <th></th>\n      <th>Mins</th>\n      <th>Goals</th>\n      <th>Assists</th>\n      <th>Yel</th>\n      <th>Red</th>\n      <th>SpG</th>\n      <th>PS%</th>\n      <th>AerialsWon</th>\n      <th>MotM</th>\n      <th>Tackles</th>\n      <th>...</th>\n      <th>nationality_The Gambia</th>\n      <th>nationality_Türkiye</th>\n      <th>nationality_Ukraine</th>\n      <th>nationality_United States</th>\n      <th>nationality_Uruguay</th>\n      <th>nationality_Venezuela</th>\n      <th>nationality_Wales</th>\n      <th>nationality_Zambia</th>\n      <th>nationality_Zimbabwe</th>\n      <th>marketValue</th>\n    </tr>\n  </thead>\n  <tbody>\n    <tr>\n      <th>count</th>\n      <td>2251.000000</td>\n      <td>2251.000000</td>\n      <td>2251.000000</td>\n      <td>2251.000000</td>\n      <td>2251.000000</td>\n      <td>2251.000000</td>\n      <td>2251.000000</td>\n      <td>2251.000000</td>\n      <td>2251.000000</td>\n      <td>2251.000000</td>\n      <td>...</td>\n      <td>2251.000000</td>\n      <td>2251.000000</td>\n      <td>2251.000000</td>\n      <td>2251.000000</td>\n      <td>2251.000000</td>\n      <td>2251.000000</td>\n      <td>2251.000000</td>\n      <td>2251.000000</td>\n      <td>2251.000000</td>\n      <td>2.251000e+03</td>\n    </tr>\n    <tr>\n      <th>mean</th>\n      <td>1271.695691</td>\n      <td>1.564638</td>\n      <td>1.063527</td>\n      <td>3.069303</td>\n      <td>0.168814</td>\n      <td>0.629276</td>\n      <td>76.128387</td>\n      <td>0.946246</td>\n      <td>0.622834</td>\n      <td>0.882719</td>\n      <td>...</td>\n      <td>0.000444</td>\n      <td>0.002665</td>\n      <td>0.001333</td>\n      <td>0.003554</td>\n      <td>0.028432</td>\n      <td>0.003998</td>\n      <td>0.000888</td>\n      <td>0.000444</td>\n      <td>0.000444</td>\n      <td>8.160329e+06</td>\n    </tr>\n    <tr>\n      <th>std</th>\n      <td>969.241058</td>\n      <td>2.906800</td>\n      <td>1.737932</td>\n      <td>2.958017</td>\n      <td>0.430942</td>\n      <td>0.604061</td>\n      <td>13.308598</td>\n      <td>0.962542</td>\n      <td>1.244505</td>\n      <td>0.693640</td>\n      <td>...</td>\n      <td>0.021077</td>\n      <td>0.051571</td>\n      <td>0.036490</td>\n      <td>0.059522</td>\n      <td>0.166240</td>\n      <td>0.063119</td>\n      <td>0.029801</td>\n      <td>0.021077</td>\n      <td>0.021077</td>\n      <td>1.188624e+07</td>\n    </tr>\n    <tr>\n      <th>min</th>\n      <td>1.000000</td>\n      <td>0.000000</td>\n      <td>0.000000</td>\n      <td>0.000000</td>\n      <td>0.000000</td>\n      <td>0.000000</td>\n      <td>0.000000</td>\n      <td>0.000000</td>\n      <td>0.000000</td>\n      <td>0.000000</td>\n      <td>...</td>\n      <td>0.000000</td>\n      <td>0.000000</td>\n      <td>0.000000</td>\n      <td>0.000000</td>\n      <td>0.000000</td>\n      <td>0.000000</td>\n      <td>0.000000</td>\n      <td>0.000000</td>\n      <td>0.000000</td>\n      <td>2.500000e+04</td>\n    </tr>\n    <tr>\n      <th>25%</th>\n      <td>360.500000</td>\n      <td>0.000000</td>\n      <td>0.000000</td>\n      <td>1.000000</td>\n      <td>0.000000</td>\n      <td>0.200000</td>\n      <td>70.950000</td>\n      <td>0.300000</td>\n      <td>0.000000</td>\n      <td>0.400000</td>\n      <td>...</td>\n      <td>0.000000</td>\n      <td>0.000000</td>\n      <td>0.000000</td>\n      <td>0.000000</td>\n      <td>0.000000</td>\n      <td>0.000000</td>\n      <td>0.000000</td>\n      <td>0.000000</td>\n      <td>0.000000</td>\n      <td>1.500000e+06</td>\n    </tr>\n    <tr>\n      <th>50%</th>\n      <td>1157.000000</td>\n      <td>0.000000</td>\n      <td>0.000000</td>\n      <td>2.000000</td>\n      <td>0.000000</td>\n      <td>0.500000</td>\n      <td>78.300000</td>\n      <td>0.700000</td>\n      <td>0.000000</td>\n      <td>0.800000</td>\n      <td>...</td>\n      <td>0.000000</td>\n      <td>0.000000</td>\n      <td>0.000000</td>\n      <td>0.000000</td>\n      <td>0.000000</td>\n      <td>0.000000</td>\n      <td>0.000000</td>\n      <td>0.000000</td>\n      <td>0.000000</td>\n      <td>3.000000e+06</td>\n    </tr>\n    <tr>\n      <th>75%</th>\n      <td>2040.500000</td>\n      <td>2.000000</td>\n      <td>2.000000</td>\n      <td>5.000000</td>\n      <td>0.000000</td>\n      <td>0.900000</td>\n      <td>84.200000</td>\n      <td>1.300000</td>\n      <td>1.000000</td>\n      <td>1.300000</td>\n      <td>...</td>\n      <td>0.000000</td>\n      <td>0.000000</td>\n      <td>0.000000</td>\n      <td>0.000000</td>\n      <td>0.000000</td>\n      <td>0.000000</td>\n      <td>0.000000</td>\n      <td>0.000000</td>\n      <td>0.000000</td>\n      <td>9.500000e+06</td>\n    </tr>\n    <tr>\n      <th>max</th>\n      <td>3420.000000</td>\n      <td>27.000000</td>\n      <td>16.000000</td>\n      <td>15.000000</td>\n      <td>3.000000</td>\n      <td>4.500000</td>\n      <td>100.000000</td>\n      <td>8.700000</td>\n      <td>13.000000</td>\n      <td>6.000000</td>\n      <td>...</td>\n      <td>1.000000</td>\n      <td>1.000000</td>\n      <td>1.000000</td>\n      <td>1.000000</td>\n      <td>1.000000</td>\n      <td>1.000000</td>\n      <td>1.000000</td>\n      <td>1.000000</td>\n      <td>1.000000</td>\n      <td>7.500000e+07</td>\n    </tr>\n  </tbody>\n</table>\n<p>8 rows × 150 columns</p>\n</div>"
     },
     "execution_count": 34,
     "metadata": {},
     "output_type": "execute_result"
    }
   ],
   "source": [
    "df = pd.read_parquet(ruta_archivo_guardado, engine='pyarrow')\n",
    "df.describe()"
   ],
   "metadata": {
    "collapsed": false,
    "ExecuteTime": {
     "end_time": "2024-04-16T22:56:20.806318400Z",
     "start_time": "2024-04-16T22:56:20.539058400Z"
    }
   },
   "id": "c03757818b348b79"
  },
  {
   "cell_type": "code",
   "execution_count": 35,
   "outputs": [
    {
     "data": {
      "text/plain": "<Experiment: artifact_location='mlflow-artifacts:/3', creation_time=1713193978222, experiment_id='3', last_update_time=1713193978222, lifecycle_stage='active', name='regresion_lineal', tags={}>"
     },
     "execution_count": 35,
     "metadata": {},
     "output_type": "execute_result"
    }
   ],
   "source": [
    "# Establecer la URI de la base de datos SQLite y configuración de MLflow\n",
    "os.environ['MLFLOW_TRACKING_URI'] = 'sqlite:///mlruns.db'\n",
    "mlflow.set_tracking_uri(\"http://127.0.0.1:5000\")\n",
    "mlflow.set_experiment(\"regresion_lineal\")"
   ],
   "metadata": {
    "collapsed": false,
    "ExecuteTime": {
     "end_time": "2024-04-16T22:56:21.453147300Z",
     "start_time": "2024-04-16T22:56:21.422076700Z"
    }
   },
   "id": "7e71ee4e02e6e491"
  },
  {
   "cell_type": "markdown",
   "source": [
    "# Con Variables Elegidas"
   ],
   "metadata": {
    "collapsed": false
   },
   "id": "62b11c22ba2bbd19"
  },
  {
   "cell_type": "code",
   "execution_count": 36,
   "outputs": [
    {
     "name": "stdout",
     "output_type": "stream",
     "text": [
      "Mean Train MAE across folds: 2815439.949276029\n",
      "Mean Validation MAE across folds: 2848775.3199543413\n",
      "Test R^2 adjusted: 0.820062930230275\n",
      "Test MAE: 2787930.650162342\n"
     ]
    }
   ],
   "source": [
    "from sklearn.model_selection import cross_validate\n",
    "from sklearn.linear_model import LinearRegression\n",
    "from sklearn.metrics import mean_absolute_error\n",
    "import mlflow\n",
    "\n",
    "X = df[['Mins', 'Assists' ,'MotM', 'Titularidades', 'Equipo_pos', '1_año_anterior',\n",
    " '2_año_anterior', '3_año_anterior', '4_año_anterior']]\n",
    "Y = df.iloc[:, -1]\n",
    "\n",
    "# Partición de datos\n",
    "RANDOM_STATE = 83\n",
    "X_train, X_test, y_train, y_test = train_test_split(X, Y, test_size=0.3, random_state=RANDOM_STATE)\n",
    "# Crear el modelo de regresión lineal\n",
    "model = LinearRegression()\n",
    "\n",
    "# Realizar validación cruzada con 10 folds\n",
    "cv_results = cross_validate(model, X_train, y_train, scoring='neg_mean_absolute_error', cv=10, return_train_score=True)\n",
    "\n",
    "# Extraer los resultados de la validación cruzada\n",
    "train_mae_scores = -cv_results['train_score']\n",
    "val_mae_scores = -cv_results['test_score']\n",
    "\n",
    "# Calcular el error absoluto medio promedio en entrenamiento y validación\n",
    "mean_train_mae = np.mean(train_mae_scores)\n",
    "mean_val_mae = np.mean(val_mae_scores)\n",
    "\n",
    "# Iniciar el registro de la ejecución en MLflow\n",
    "with mlflow.start_run(run_name=\"FINAL MODEL WITH FEATURE SELECTION\"):\n",
    "    # Registrar los resultados de cada capa de la validación cruzada en MLflow\n",
    "    for i, (train_score, val_score) in enumerate(zip(train_mae_scores, val_mae_scores), start=1):\n",
    "        mlflow.log_metric(f\"train_mae_fold_{i}\", train_score)\n",
    "        mlflow.log_metric(f\"val_mae_fold_{i}\", val_score)\n",
    "\n",
    "    # Calcular la media de los resultados de validación\n",
    "    mean_val_mae_cv = np.mean(val_mae_scores)\n",
    "\n",
    "    # Registrar la media de los resultados de validación en MLflow\n",
    "    mlflow.log_metric(\"mean_val_mae_cv\", mean_val_mae_cv)\n",
    "\n",
    "    print(\"Mean Train MAE across folds:\", mean_train_mae)\n",
    "    print(\"Mean Validation MAE across folds:\", mean_val_mae_cv)\n",
    "\n",
    "    # Entrenar el modelo final con todos los datos de entrenamiento\n",
    "    model.fit(X_train, y_train)\n",
    "\n",
    "    # Realizar predicciones en el conjunto de prueba\n",
    "    y_test_pred = model.predict(X_test)\n",
    "    # Calcular el coeficiente de determinación (R^2) en el conjunto de prueba\n",
    "    r2 = r2_score(y_test, y_test_pred)\n",
    "    \n",
    "    # Calcular el número de observaciones y características\n",
    "    n = X_test.shape[0]\n",
    "    p = X_test.shape[1]\n",
    "    \n",
    "    # Calcular el R^2 ajustado\n",
    "    r2_adjusted = 1 - ((1 - r2) * (n - 1) / (n - p - 1))\n",
    "\n",
    "\n",
    "\n",
    "    # Calcular el MAE en el conjunto de prueba\n",
    "    test_mae = mean_absolute_error(y_test, y_test_pred)\n",
    "\n",
    "    # Registrar el MAE en el conjunto de prueba en MLflow\n",
    "    mlflow.log_metric(\"test_mae\", test_mae)\n",
    "        \n",
    "    # Registrar el R^2 ajustado en MLflow\n",
    "    mlflow.log_metric(\"test_r2_adjusted\", r2_adjusted)\n",
    "    print(\"Test R^2 adjusted:\", r2_adjusted)\n",
    "    mlflow.log_params({\n",
    "        \"features_selected\": ['Mins', 'Assists', 'MotM', 'Titularidades', 'Equipo_pos', '1_año_anterior', '2_año_anterior', '3_año_anterior', '4_año_anterior']\n",
    "    })\n",
    "    print(\"Test MAE:\", test_mae)"
   ],
   "metadata": {
    "collapsed": false,
    "ExecuteTime": {
     "end_time": "2024-04-16T22:56:23.703066300Z",
     "start_time": "2024-04-16T22:56:23.044683800Z"
    }
   },
   "id": "63e395fc191c3db3"
  },
  {
   "cell_type": "markdown",
   "source": [
    "# Sin Seleccion de Atributos"
   ],
   "metadata": {
    "collapsed": false
   },
   "id": "6af364e9b1a33e6d"
  },
  {
   "cell_type": "code",
   "execution_count": 37,
   "outputs": [
    {
     "name": "stdout",
     "output_type": "stream",
     "text": [
      "Mean Train MAE across folds: 2735563.2582674064\n",
      "Mean Validation MAE across folds: 3075473.9950745413\n",
      "Test MAE: 3015336.5134360217\n"
     ]
    }
   ],
   "source": [
    "from sklearn.model_selection import cross_validate\n",
    "from sklearn.linear_model import LinearRegression\n",
    "from sklearn.metrics import mean_absolute_error\n",
    "import mlflow\n",
    "\n",
    "X = df.iloc[:, :-1]\n",
    "Y = df.iloc[:, -1]\n",
    "\n",
    "# Partición de datos\n",
    "RANDOM_STATE = 83\n",
    "X_train, X_test, y_train, y_test = train_test_split(X, Y, test_size=0.3, random_state=RANDOM_STATE)\n",
    "\n",
    "# Crear el modelo de regresión lineal\n",
    "model = LinearRegression()\n",
    "\n",
    "# Realizar validación cruzada con 10 folds\n",
    "cv_results = cross_validate(model, X_train, y_train, scoring='neg_mean_absolute_error', cv=10, return_train_score=True)\n",
    "\n",
    "# Extraer los resultados de la validación cruzada\n",
    "train_mae_scores = -cv_results['train_score']\n",
    "val_mae_scores = -cv_results['test_score']\n",
    "\n",
    "# Calcular el error absoluto medio promedio en entrenamiento y validación\n",
    "mean_train_mae = np.mean(train_mae_scores)\n",
    "mean_val_mae = np.mean(val_mae_scores)\n",
    "\n",
    "# Iniciar el registro de la ejecución en MLflow\n",
    "with mlflow.start_run(run_name=\"EVALUACIÓN CON TODAS LAS VARIABLES\"):\n",
    "    # Registrar los resultados de cada capa de la validación cruzada en MLflow\n",
    "    for i, (train_score, val_score) in enumerate(zip(train_mae_scores, val_mae_scores), start=1):\n",
    "        mlflow.log_metric(f\"train_mae_fold_{i}\", train_score)\n",
    "        mlflow.log_metric(f\"val_mae_fold_{i}\", val_score)\n",
    "\n",
    "    # Calcular la media de los resultados de entrenamiento y validación\n",
    "    mean_train_mae_cv = np.mean(train_mae_scores)\n",
    "    mean_val_mae_cv = np.mean(val_mae_scores)\n",
    "\n",
    "    # Registrar la media de los resultados de entrenamiento y validación en MLflow\n",
    "    mlflow.log_metric(\"mean_train_mae_cv\", mean_train_mae_cv)\n",
    "    mlflow.log_metric(\"mean_val_mae_cv\", mean_val_mae_cv)\n",
    "\n",
    "    print(\"Mean Train MAE across folds:\", mean_train_mae_cv)\n",
    "    print(\"Mean Validation MAE across folds:\", mean_val_mae_cv)\n",
    "\n",
    "    # Entrenar el modelo final con todos los datos de entrenamiento\n",
    "    model.fit(X_train, y_train)\n",
    "\n",
    "    # Realizar predicciones en el conjunto de prueba\n",
    "    y_test_pred = model.predict(X_test)\n",
    "\n",
    "    # Calcular el MAE en el conjunto de prueba\n",
    "    test_mae = mean_absolute_error(y_test, y_test_pred)\n",
    "\n",
    "    # Registrar el MAE en el conjunto de prueba en MLflow\n",
    "    mlflow.log_metric(\"test_mae\", test_mae)\n",
    "\n",
    "    print(\"Test MAE:\", test_mae)\n"
   ],
   "metadata": {
    "collapsed": false,
    "ExecuteTime": {
     "end_time": "2024-04-16T22:56:27.093554400Z",
     "start_time": "2024-04-16T22:56:26.464210700Z"
    }
   },
   "id": "de7d26d061d8f87f"
  }
 ],
 "metadata": {
  "kernelspec": {
   "display_name": "Python 3",
   "language": "python",
   "name": "python3"
  },
  "language_info": {
   "codemirror_mode": {
    "name": "ipython",
    "version": 2
   },
   "file_extension": ".py",
   "mimetype": "text/x-python",
   "name": "python",
   "nbconvert_exporter": "python",
   "pygments_lexer": "ipython2",
   "version": "2.7.6"
  }
 },
 "nbformat": 4,
 "nbformat_minor": 5
}
