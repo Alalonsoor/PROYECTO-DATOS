{
 "cells": [
  {
   "cell_type": "code",
   "execution_count": null,
   "id": "ae35ee26",
   "metadata": {},
   "outputs": [],
   "source": [
    "api_url = \"http://localhost:8000\"\n",
    "la_liga_id = \"ES1\"\n",
    "\n",
    "# Obtener los clubes de LaLiga\n",
    "clubs_url = f\"{api_url}/competitions/{la_liga_id}/clubs\"\n",
    "response_clubs = requests.get(clubs_url)\n",
    "clubs_data = response_clubs.json()\n",
    "\n",
    "df_players = pd.DataFrame()\n",
    "\n",
    "for club in clubs_data.get(\"clubs\", []):\n",
    "    club_id = club.get(\"id\")\n",
    "    \n",
    "    # Obtener los jugadores del club para una temporada específica (reemplaza \"temporada_actual\" con el valor correcto)\n",
    "    players_url = f\"{api_url}/clubs/{club_id}/players?season_id=2022\"\n",
    "    response_players = requests.get(players_url)\n",
    "    players_data = response_players.json()\n",
    "    \n",
    "    # Agregar datos de jugadores al DataFrame\n",
    "    df_players = df_players.append(players_data.get(\"players\", []), ignore_index=True)\n",
    "df_players"
   ]
  }
 ],
 "metadata": {
  "kernelspec": {
   "display_name": "Python 3 (ipykernel)",
   "language": "python",
   "name": "python3"
  },
  "language_info": {
   "codemirror_mode": {
    "name": "ipython",
    "version": 3
   },
   "file_extension": ".py",
   "mimetype": "text/x-python",
   "name": "python",
   "nbconvert_exporter": "python",
   "pygments_lexer": "ipython3",
   "version": "3.9.13"
  }
 },
 "nbformat": 4,
 "nbformat_minor": 5
}
